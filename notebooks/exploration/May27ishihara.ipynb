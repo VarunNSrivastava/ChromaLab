{
 "cells": [
  {
   "cell_type": "code",
   "execution_count": 1,
   "id": "73e2c029",
   "metadata": {},
   "outputs": [],
   "source": [
    "import csv\n",
    "import numpy as np\n",
    "import matplotlib.pyplot as plt\n",
    "import numpy.typing as npt\n",
    "import torch as th"
   ]
  },
  {
   "cell_type": "code",
   "execution_count": 2,
   "id": "bcb35f3e",
   "metadata": {},
   "outputs": [],
   "source": [
    "from tqdm.notebook import tqdm"
   ]
  },
  {
   "cell_type": "code",
   "execution_count": 3,
   "id": "24e449f3",
   "metadata": {},
   "outputs": [],
   "source": [
    "from chromalab.observer import Observer, Cone\n",
    "from chromalab.inks import Neugebauer, InkGamut, CellNeugebauer, Pigment, InkLibrary\n",
    "from chromalab.spectra import Spectra, Illuminant"
   ]
  },
  {
   "cell_type": "code",
   "execution_count": 4,
   "id": "439f2715",
   "metadata": {},
   "outputs": [],
   "source": [
    "wavelengths1 = np.arange(390, 701, 1)\n",
    "wavelengths10 = np.arange(400, 701, 10)"
   ]
  },
  {
   "cell_type": "code",
   "execution_count": 5,
   "id": "3906834d",
   "metadata": {},
   "outputs": [],
   "source": [
    "wavelengths4 = np.arange(380, 781, 4)"
   ]
  },
  {
   "cell_type": "code",
   "execution_count": 6,
   "id": "627d15b9",
   "metadata": {},
   "outputs": [],
   "source": [
    "%load_ext autoreload\n",
    "%autoreload 2"
   ]
  },
  {
   "cell_type": "code",
   "execution_count": 7,
   "id": "ec43aaff",
   "metadata": {},
   "outputs": [],
   "source": [
    "elevator_illuminant = Spectra(data=np.load(f'../data/illuminants/elevator.npy'),wavelengths=wavelengths4)\\\n",
    ".interpolate_values(wavelengths10)"
   ]
  },
  {
   "cell_type": "code",
   "execution_count": 8,
   "id": "c79d4260",
   "metadata": {},
   "outputs": [],
   "source": [
    "s_m530_m533_q545_q547_l555_559 = Observer([Cone.s_cone(), Cone.cone(530), Cone.cone(533),\\\n",
    "                                           Cone.cone(545), Cone.cone(547), Cone.cone(555), Cone.cone(559)],\n",
    "                                         illuminant=elevator_illuminant)"
   ]
  },
  {
   "cell_type": "code",
   "execution_count": 44,
   "id": "ee51ba06",
   "metadata": {},
   "outputs": [],
   "source": [
    "ishihara = {}\n",
    "with open(f'../data/nix/28ishi.csv') as csvf:\n",
    "    spamreader = csv.reader(csvf, delimiter=';')\n",
    "    for i, row in enumerate(spamreader):\n",
    "        if i < 4: continue            \n",
    "        name = row[4]\n",
    "        color_data = np.array(row[33:],dtype=float)\n",
    "        spectra = Spectra(data=color_data, wavelengths=wavelengths10)\n",
    "        ishihara[name] = spectra\n",
    "with open(f'../data/nix/26.csv') as csvf:\n",
    "    spamreader = csv.reader(csvf, delimiter=';')\n",
    "    for i, row in enumerate(spamreader):\n",
    "        if i < 4: continue            \n",
    "        name = row[4]\n",
    "        color_data = np.array(row[33:],dtype=float)\n",
    "        spectra = Spectra(data=color_data, wavelengths=wavelengths10)\n",
    "        ishihara[name] = spectra"
   ]
  },
  {
   "cell_type": "code",
   "execution_count": 45,
   "id": "d35d5fe4",
   "metadata": {},
   "outputs": [
    {
     "data": {
      "text/plain": [
       "{'H-in': <chromalab.spectra.Spectra at 0x2a811ff50>,\n",
       " 'H-out': <chromalab.spectra.Spectra at 0x2a811f5d0>,\n",
       " 'G-in': <chromalab.spectra.Spectra at 0x296af3cd0>,\n",
       " 'G-out': <chromalab.spectra.Spectra at 0x296af3990>,\n",
       " 'J-in': <chromalab.spectra.Spectra at 0x296af2d90>,\n",
       " 'J-out': <chromalab.spectra.Spectra at 0x296af3c10>,\n",
       " 'D-in': <chromalab.spectra.Spectra at 0x296af2fd0>,\n",
       " 'D-out': <chromalab.spectra.Spectra at 0x296af2290>,\n",
       " 'F-in': <chromalab.spectra.Spectra at 0x296af3290>,\n",
       " 'F-out': <chromalab.spectra.Spectra at 0x296af24d0>,\n",
       " 'I-in': <chromalab.spectra.Spectra at 0x296af1dd0>,\n",
       " 'I-out': <chromalab.spectra.Spectra at 0x296af34d0>,\n",
       " 'K-in': <chromalab.spectra.Spectra at 0x296af2810>,\n",
       " 'K-out': <chromalab.spectra.Spectra at 0x296af35d0>,\n",
       " 'C-in': <chromalab.spectra.Spectra at 0x296af3d50>,\n",
       " 'C-out': <chromalab.spectra.Spectra at 0x296af3a90>,\n",
       " 'B-in': <chromalab.spectra.Spectra at 0x296af3190>,\n",
       " 'B-out': <chromalab.spectra.Spectra at 0x296af3d10>,\n",
       " 'E-out': <chromalab.spectra.Spectra at 0x295c0bdd0>,\n",
       " 'E-in': <chromalab.spectra.Spectra at 0x295b70950>,\n",
       " 'L-out': <chromalab.spectra.Spectra at 0x295cd1890>,\n",
       " 'L-in': <chromalab.spectra.Spectra at 0x296abea10>,\n",
       " 'A-out': <chromalab.spectra.Spectra at 0x2a811fed0>,\n",
       " 'A-in': <chromalab.spectra.Spectra at 0x296abe650>}"
      ]
     },
     "execution_count": 45,
     "metadata": {},
     "output_type": "execute_result"
    }
   ],
   "source": [
    "ishihara"
   ]
  },
  {
   "cell_type": "code",
   "execution_count": 55,
   "id": "95e57750",
   "metadata": {},
   "outputs": [
    {
     "name": "stdout",
     "output_type": "stream",
     "text": [
      "name \t  S\t  M530\t M533\tQ545   Q547   L555   L559       sum\n",
      "A \t [ 0.015  0.008  0.009  0.009  0.008  0.004  0.002]\t0.01\n",
      "L \t [ 0.022  0.023  0.024  0.025  0.024  0.02   0.018]\t0.041\n",
      "E \t [ 0.061  0.014  0.016  0.017  0.017  0.013  0.011]\t0.025\n",
      "B \t [ 0.     0.032  0.03   0.029  0.03   0.034  0.036]\t0.068\n",
      "C \t [ 0.009  0.007  0.006  0.004  0.004  0.006  0.008]\t0.015\n",
      "G \t [ 0.021  0.025  0.028  0.033  0.033  0.032  0.031]\t0.056\n",
      "K \t [ 0.026  0.018  0.02   0.025  0.025  0.024  0.023]\t0.041\n",
      "D \t [ 0.039  0.028  0.03   0.034  0.034  0.033  0.032]\t0.06\n",
      "J \t [ 0.028  0.027  0.029  0.033  0.033  0.032  0.031]\t0.058\n",
      "H \t [ 0.011  0.013  0.015  0.019  0.02   0.019  0.018]\t0.031\n",
      "I \t [ 0.024  0.009  0.007  0.003  0.003  0.004  0.005]\t0.014\n",
      "F \t [ 0.022  0.009  0.011  0.015  0.015  0.014  0.012]\t0.021\n"
     ]
    },
    {
     "data": {
      "text/plain": [
       "<matplotlib.collections.PathCollection at 0x2a824f950>"
      ]
     },
     "execution_count": 55,
     "metadata": {},
     "output_type": "execute_result"
    },
    {
     "data": {
      "image/png": "[encoded data removed]",
      "text/plain": [
       "<Figure size 640x480 with 1 Axes>"
      ]
     },
     "metadata": {},
     "output_type": "display_data"
    }
   ],
   "source": [
    "print(\"name\", \"\\t\", \" S\\t  M530\\t M533\\tQ545   Q547   L555   L559       sum\")\n",
    "items = list(ishihara.items())\n",
    "\n",
    "name_stim = {}\n",
    "for i in range(0, len(items) - 1, 2):\n",
    "    key0, value0 = items[i]\n",
    "    key1, value1 = items[i + 1]\n",
    "    stim0 = s_m530_m533_q545_q547_l555_559.observe(value0)\n",
    "    stim1 = s_m530_m533_q545_q547_l555_559.observe(value1)\n",
    "    \n",
    "    \n",
    "    delta = np.round(np.abs(stim1 - stim0),3)\n",
    "    name_stim[key0[0]] = delta\n",
    "    \n",
    "    \n",
    "xs = []\n",
    "ys = []\n",
    "for i, letter in enumerate([\"A\", \"L\", \"E\", \"B\", \"C\", \"G\", \"K\", \"D\", \"J\", \"H\", \"I\", \"F\"]):\n",
    "    delta = name_stim[letter]\n",
    "    \n",
    "    print(letter, \"\\t\", delta, end=\"\\t\")\n",
    "    print(delta[1] + delta[-1])\n",
    "    xs.append(i)\n",
    "    ys.append(delta[0] + delta[1] + delta[-1])\n",
    "    \n",
    "plt.scatter(xs,ys)\n"
   ]
  },
  {
   "cell_type": "code",
   "execution_count": 56,
   "id": "a7e97929",
   "metadata": {},
   "outputs": [
    {
     "data": {
      "text/plain": [
       "array([[ 1.        , -0.01509893],\n",
       "       [-0.01509893,  1.        ]])"
      ]
     },
     "execution_count": 56,
     "metadata": {},
     "output_type": "execute_result"
    }
   ],
   "source": [
    "np.corrcoef(xs,ys)"
   ]
  },
  {
   "cell_type": "code",
   "execution_count": null,
   "id": "243ba5db",
   "metadata": {},
   "outputs": [],
   "source": []
  }
 ],
 "metadata": {
  "kernelspec": {
   "display_name": "chromalab",
   "language": "python",
   "name": "chromalab"
  },
  "language_info": {
   "codemirror_mode": {
    "name": "ipython",
    "version": 3
   },
   "file_extension": ".py",
   "mimetype": "text/x-python",
   "name": "python",
   "nbconvert_exporter": "python",
   "pygments_lexer": "ipython3",
   "version": "3.11.6"
  },
  "toc": {
   "base_numbering": 1,
   "nav_menu": {},
   "number_sections": true,
   "sideBar": true,
   "skip_h1_title": false,
   "title_cell": "Table of Contents",
   "title_sidebar": "Contents",
   "toc_cell": false,
   "toc_position": {},
   "toc_section_display": true,
   "toc_window_display": false
  }
 },
 "nbformat": 4,
 "nbformat_minor": 5
}

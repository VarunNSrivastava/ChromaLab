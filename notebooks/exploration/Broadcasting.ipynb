{
 "cells": [
  {
   "cell_type": "code",
   "execution_count": 8,
   "id": "add71b61",
   "metadata": {},
   "outputs": [],
   "source": [
    "from chromalab.observer import Observer, Cone\n",
    "from chromalab.inks import Neugebauer, InkGamut, CellNeugebauer, Pigment\n",
    "from chromalab.spectra import Spectra, Illuminant"
   ]
  },
  {
   "cell_type": "code",
   "execution_count": 1,
   "id": "e436b84a",
   "metadata": {},
   "outputs": [],
   "source": [
    "import numpy as np\n",
    "from time import perf_counter"
   ]
  },
  {
   "cell_type": "code",
   "execution_count": 9,
   "id": "b1c8f826",
   "metadata": {},
   "outputs": [],
   "source": [
    "%load_ext autoreload\n",
    "%autoreload 2"
   ]
  },
  {
   "cell_type": "code",
   "execution_count": 2,
   "id": "5a4c87c9",
   "metadata": {},
   "outputs": [],
   "source": [
    "n = 4"
   ]
  },
  {
   "cell_type": "code",
   "execution_count": 3,
   "id": "f299ea7b",
   "metadata": {},
   "outputs": [],
   "source": [
    "W = []\n",
    "for i in range(0, 2 ** n):\n",
    "    binary_str = format(i, f'0{n}b')\n",
    "    w = tuple(map(lambda x: int(x), binary_str))\n",
    "    W.append(w)\n",
    "W = np.array(W)\n",
    "W_expanded = W[np.newaxis, :, :]  # Shape: 1 x 16 x 4"
   ]
  },
  {
   "cell_type": "code",
   "execution_count": 4,
   "id": "b768636c",
   "metadata": {},
   "outputs": [],
   "source": [
    "def time_operation(K):\n",
    "    X = np.random.rand(K, 4)\n",
    "    X_expanded = X[:, np.newaxis, :]  # Shape: K x 1 x 4\n",
    "\n",
    "    start = perf_counter()\n",
    "    result = X_expanded * W_expanded\n",
    "    end = perf_counter()\n",
    "\n",
    "    elapsed_time = end - start\n",
    "    return elapsed_time"
   ]
  },
  {
   "cell_type": "code",
   "execution_count": 7,
   "id": "907df783",
   "metadata": {},
   "outputs": [
    {
     "name": "stdout",
     "output_type": "stream",
     "text": [
      "Time for K=1.000000e+00: 0.000045 seconds. Total of 4.500e-05 ops/s\n",
      "Time for K=1.000000e+01: 0.000185 seconds. Total of 1.845e-05 ops/s\n",
      "Time for K=1.000000e+02: 0.000087 seconds. Total of 8.738e-07 ops/s\n",
      "Time for K=1.000000e+05: 0.028223 seconds. Total of 2.822e-07 ops/s\n",
      "Time for K=1.000000e+06: 0.200950 seconds. Total of 2.010e-07 ops/s\n",
      "Time for K=1.000000e+07: 1.969377 seconds. Total of 1.969e-07 ops/s\n",
      "Time for K=1.000000e+08: 36.440734 seconds. Total of 3.644e-07 ops/s\n"
     ]
    }
   ],
   "source": [
    "for K in [1, 10, 100, 10e4, 10e5, 10e6,10e7]:\n",
    "    elapsed_time = time_operation(int(K))\n",
    "    print(f\"Time for K={int(K):e}: {elapsed_time:.6f} seconds. Total of {elapsed_time / K:.3e} ops/s\")"
   ]
  },
  {
   "cell_type": "markdown",
   "id": "a3db2f4c",
   "metadata": {},
   "source": [
    "batch size of about 100 seems optimal. what do with information..?"
   ]
  },
  {
   "cell_type": "markdown",
   "id": "b1f867b9",
   "metadata": {},
   "source": [
    "## batch mix"
   ]
  },
  {
   "cell_type": "code",
   "execution_count": 12,
   "id": "78693e8a",
   "metadata": {},
   "outputs": [],
   "source": [
    "import csv\n",
    "import numpy as np\n",
    "import matplotlib.pyplot as plt\n",
    "import numpy.typing as npt\n",
    "import torch as th"
   ]
  },
  {
   "cell_type": "code",
   "execution_count": 13,
   "id": "b5bd482d",
   "metadata": {},
   "outputs": [],
   "source": [
    "wavelengths1 = np.arange(390, 701, 1)\n",
    "wavelengths10 = np.arange(400, 701, 10)"
   ]
  },
  {
   "cell_type": "code",
   "execution_count": 21,
   "id": "5b93fd9e",
   "metadata": {},
   "outputs": [],
   "source": [
    "cmy_primaries_dict = {}\n",
    "\n",
    "primary_fns = [\n",
    "    \"000\",\n",
    "    \"001\",\n",
    "    \"010\",\n",
    "    \"100\",\n",
    "    \"011\",\n",
    "    \"110\",\n",
    "    \"101\",\n",
    "    \"111\",\n",
    "]\n",
    "\n",
    "for fn in primary_fns:\n",
    "    with open(f'../data/nix/PrintColors/{fn}.csv') as csvf:\n",
    "        spamreader = csv.reader(csvf, delimiter=';')\n",
    "        for i, row in enumerate(spamreader):\n",
    "            if i == 4:\n",
    "                color_data = np.array(row[33:],dtype=float)\n",
    "                spectra = Spectra(data=color_data, wavelengths=wavelengths10)\n",
    "                cmy_primaries_dict[fn] = spectra"
   ]
  },
  {
   "cell_type": "code",
   "execution_count": 22,
   "id": "387e15df",
   "metadata": {},
   "outputs": [
    {
     "data": {
      "text/plain": [
       "<chromalab.inks.Neugebauer at 0x28abfac90>"
      ]
     },
     "execution_count": 22,
     "metadata": {},
     "output_type": "execute_result"
    }
   ],
   "source": [
    "Neugebauer(cmy_primaries_dict)"
   ]
  },
  {
   "cell_type": "code",
   "execution_count": 25,
   "id": "cf2d35e8",
   "metadata": {},
   "outputs": [],
   "source": [
    "neug = Neugebauer(cmy_primaries_dict)"
   ]
  },
  {
   "cell_type": "code",
   "execution_count": 64,
   "id": "efce45bc",
   "metadata": {},
   "outputs": [],
   "source": [
    "def time_batch_mix(K):\n",
    "    X = np.random.rand(K,3)\n",
    "    start = perf_counter()\n",
    "    for x in X:\n",
    "        o = neug.mix(x)\n",
    "    elapsed_1 = perf_counter() - start\n",
    "    start = perf_counter()\n",
    "    print(neug.batch_mix(X).shape)\n",
    "    elapsed_2 = perf_counter() - start\n",
    "    return elapsed_1, elapsed_2"
   ]
  },
  {
   "cell_type": "code",
   "execution_count": 65,
   "id": "365ccdb6",
   "metadata": {},
   "outputs": [
    {
     "name": "stdout",
     "output_type": "stream",
     "text": [
      "(1, 31)\n",
      "Time for K=1.000000e+00: 0.000071 \t 0.000086\n",
      "(10, 31)\n",
      "Time for K=1.000000e+01: 0.000141 \t 0.000034\n",
      "(100, 31)\n",
      "Time for K=1.000000e+02: 0.001183 \t 0.000502\n",
      "(100000, 31)\n",
      "Time for K=1.000000e+05: 0.739053 \t 0.061277\n"
     ]
    }
   ],
   "source": [
    "for K in [1, 10, 100, 10e4]:\n",
    "    e1, e2 = time_batch_mix(int(K))\n",
    "    print(f\"Time for K={int(K):e}: {e1:.6f} \\t {e2:.6f}\")"
   ]
  },
  {
   "cell_type": "code",
   "execution_count": 36,
   "id": "edf824ff",
   "metadata": {},
   "outputs": [],
   "source": []
  },
  {
   "cell_type": "code",
   "execution_count": 43,
   "id": "f1116ce0",
   "metadata": {},
   "outputs": [
    {
     "data": {
      "text/plain": [
       "(8, 3)"
      ]
     },
     "execution_count": 43,
     "metadata": {},
     "output_type": "execute_result"
    }
   ],
   "source": [
    "neug.weights_array.shape"
   ]
  },
  {
   "cell_type": "code",
   "execution_count": 60,
   "id": "2a698622",
   "metadata": {
    "code_folding": []
   },
   "outputs": [],
   "source": [
    "a = np.random.rand(100, 3, 1)"
   ]
  },
  {
   "cell_type": "code",
   "execution_count": 51,
   "id": "68dbee4a",
   "metadata": {},
   "outputs": [],
   "source": [
    "Y2 = neug.batch_mix(X)"
   ]
  },
  {
   "cell_type": "code",
   "execution_count": 52,
   "id": "64a71920",
   "metadata": {},
   "outputs": [
    {
     "data": {
      "text/plain": [
       "(100, 31)"
      ]
     },
     "execution_count": 52,
     "metadata": {},
     "output_type": "execute_result"
    }
   ],
   "source": [
    "Y1.shape"
   ]
  },
  {
   "cell_type": "code",
   "execution_count": 53,
   "id": "f0e152ab",
   "metadata": {},
   "outputs": [
    {
     "data": {
      "text/plain": [
       "(100, 31)"
      ]
     },
     "execution_count": 53,
     "metadata": {},
     "output_type": "execute_result"
    }
   ],
   "source": [
    "Y2.shape"
   ]
  },
  {
   "cell_type": "code",
   "execution_count": 54,
   "id": "ff662e40",
   "metadata": {},
   "outputs": [
    {
     "data": {
      "text/plain": [
       "True"
      ]
     },
     "execution_count": 54,
     "metadata": {},
     "output_type": "execute_result"
    }
   ],
   "source": [
    "np.allclose(Y1, Y2)"
   ]
  },
  {
   "cell_type": "markdown",
   "id": "f514f49c",
   "metadata": {},
   "source": [
    "## batch point cloud gen"
   ]
  },
  {
   "cell_type": "code",
   "execution_count": 69,
   "id": "01e569c4",
   "metadata": {},
   "outputs": [],
   "source": [
    "trichromat = Observer.trichromat()"
   ]
  },
  {
   "cell_type": "code",
   "execution_count": 67,
   "id": "2ed83156",
   "metadata": {},
   "outputs": [],
   "source": [
    "gamut = InkGamut(neug)"
   ]
  },
  {
   "cell_type": "code",
   "execution_count": 80,
   "id": "1fad560a",
   "metadata": {
    "scrolled": true
   },
   "outputs": [
    {
     "name": "stdout",
     "output_type": "stream",
     "text": [
      "10 \t 2.827317374991253\n",
      "100 \t 1.0229483749717474\n",
      "10000.0 \t 1.4325280420016497\n",
      "100000.0 \t 1.2117704160045832\n",
      "1000000.0 \t 1.1843599590938538\n"
     ]
    }
   ],
   "source": [
    "for K in [10, 100, 1e4, 1e5, 1e6]:\n",
    "    t0 = perf_counter()\n",
    "    gamut.get_point_cloud(trichromat, stepsize=0.01, batch_size=K, verbose=False)\n",
    "    print(K, \"\\t\", perf_counter() - t0)"
   ]
  },
  {
   "cell_type": "code",
   "execution_count": 85,
   "id": "a51fd50e",
   "metadata": {},
   "outputs": [
    {
     "name": "stderr",
     "output_type": "stream",
     "text": [
      "Generating point cloud: 104it [00:01, 60.96it/s]                                                                                                                                              \n"
     ]
    },
    {
     "name": "stdout",
     "output_type": "stream",
     "text": [
      "(1030301, 3)\n",
      "10000.0 \t 1.7456060419790447\n"
     ]
    },
    {
     "name": "stderr",
     "output_type": "stream",
     "text": [
      "Generating point cloud: 11it [00:01,  7.75it/s]                                                                                                                                               \n"
     ]
    },
    {
     "name": "stdout",
     "output_type": "stream",
     "text": [
      "(1030301, 3)\n",
      "100000.0 \t 1.4561074590310454\n"
     ]
    },
    {
     "name": "stderr",
     "output_type": "stream",
     "text": [
      "Generating point cloud: 2it [00:01,  1.79it/s]                                                                                                                                                \n"
     ]
    },
    {
     "name": "stdout",
     "output_type": "stream",
     "text": [
      "(1030301, 3)\n",
      "1000000.0 \t 1.1283836250659078\n"
     ]
    },
    {
     "name": "stderr",
     "output_type": "stream",
     "text": [
      "Generating point cloud: 1it [00:01,  1.05s/it]                                                                                                                                                "
     ]
    },
    {
     "name": "stdout",
     "output_type": "stream",
     "text": [
      "(1030301, 3)\n",
      "10000000.0 \t 1.0714638330973685\n"
     ]
    },
    {
     "name": "stderr",
     "output_type": "stream",
     "text": [
      "\n"
     ]
    }
   ],
   "source": [
    "for K in [1e4, 1e5, 1e6, 1e7]:\n",
    "    t0 = perf_counter()\n",
    "    a, _ = gamut.get_point_cloud(trichromat, stepsize=0.01, batch_size=K, verbose=True)\n",
    "    print(a.shape)\n",
    "    print(K, \"\\t\", perf_counter() - t0)"
   ]
  },
  {
   "cell_type": "code",
   "execution_count": 88,
   "id": "047b3c7a",
   "metadata": {},
   "outputs": [
    {
     "name": "stderr",
     "output_type": "stream",
     "text": [
      "Generating point cloud: 1it [00:00, 356.26it/s]\n"
     ]
    }
   ],
   "source": [
    "points, _ = gamut.get_point_cloud(trichromat)"
   ]
  },
  {
   "cell_type": "code",
   "execution_count": 120,
   "id": "a97ddf8a",
   "metadata": {},
   "outputs": [],
   "source": [
    "random_column = np.random.rand(points.shape[0], 1)\n",
    "points4 = np.hstack((points, 0.001 * random_column))"
   ]
  },
  {
   "cell_type": "code",
   "execution_count": 121,
   "id": "d6ffd4fb",
   "metadata": {},
   "outputs": [
    {
     "data": {
      "text/plain": [
       "array([ 0.21066414,  0.11139065,  0.02356711,  0.00028971])"
      ]
     },
     "execution_count": 121,
     "metadata": {},
     "output_type": "execute_result"
    }
   ],
   "source": [
    "from sklearn.decomposition import PCA\n",
    "pca = PCA(n_components=4)\n",
    "pca.fit(points4)\n",
    "np.sqrt(pca.explained_variance_)"
   ]
  },
  {
   "cell_type": "code",
   "execution_count": null,
   "id": "af314d87",
   "metadata": {},
   "outputs": [],
   "source": [
    "trichromat"
   ]
  },
  {
   "cell_type": "code",
   "execution_count": null,
   "id": "63b16b5d",
   "metadata": {},
   "outputs": [],
   "source": []
  }
 ],
 "metadata": {
  "kernelspec": {
   "display_name": "chromalab",
   "language": "python",
   "name": "chromalab"
  },
  "language_info": {
   "codemirror_mode": {
    "name": "ipython",
    "version": 3
   },
   "file_extension": ".py",
   "mimetype": "text/x-python",
   "name": "python",
   "nbconvert_exporter": "python",
   "pygments_lexer": "ipython3",
   "version": "3.11.6"
  },
  "toc": {
   "base_numbering": 1,
   "nav_menu": {},
   "number_sections": true,
   "sideBar": true,
   "skip_h1_title": false,
   "title_cell": "Table of Contents",
   "title_sidebar": "Contents",
   "toc_cell": false,
   "toc_position": {
    "height": "calc(100% - 180px)",
    "left": "10px",
    "top": "150px",
    "width": "345.594px"
   },
   "toc_section_display": true,
   "toc_window_display": true
  }
 },
 "nbformat": 4,
 "nbformat_minor": 5
}

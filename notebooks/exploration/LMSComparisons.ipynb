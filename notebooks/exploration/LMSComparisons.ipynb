{
 "cells": [
  {
   "cell_type": "code",
   "execution_count": 1,
   "id": "d7cc347d",
   "metadata": {},
   "outputs": [],
   "source": [
    "import csv\n",
    "import numpy as np\n",
    "from spectra import Spectra, Pigment\n",
    "import matplotlib.pyplot as plt\n",
    "import numpy.typing as npt\n",
    "import torch as th"
   ]
  },
  {
   "cell_type": "code",
   "execution_count": 2,
   "id": "f3d3bf82",
   "metadata": {},
   "outputs": [],
   "source": [
    "from observer import Observer, Cone\n",
    "from inks import Neugebauer, InkGamut, find_best_ns, CellNeugebauer"
   ]
  },
  {
   "cell_type": "code",
   "execution_count": 3,
   "id": "0ae3c6df",
   "metadata": {},
   "outputs": [],
   "source": [
    "import colour\n",
    "colour_d65 = colour.SDS_ILLUMINANTS.get('D65')\n",
    "d65 = Spectra(data=colour_d65.values / np.max(colour_d65.values), wavelengths=colour_d65.wavelengths)"
   ]
  },
  {
   "cell_type": "code",
   "execution_count": 12,
   "id": "4f5097b9",
   "metadata": {},
   "outputs": [
    {
     "data": {
      "image/png": "[encoded data removed]",
      "text/plain": [
       "<Figure size 640x480 with 1 Axes>"
      ]
     },
     "metadata": {},
     "output_type": "display_data"
    }
   ],
   "source": [
    "Cone.s_cone().plot()"
   ]
  },
  {
   "cell_type": "code",
   "execution_count": 4,
   "id": "d0df9917",
   "metadata": {},
   "outputs": [],
   "source": [
    "wavelengths1 = np.arange(390, 701, 1)\n",
    "wavelengths10 = np.arange(400, 701, 10)\n",
    "trichromat = Observer.trichromat(illuminant=d65)\n",
    "tetrachromat = Observer.tetrachromat(illuminant=d65)"
   ]
  },
  {
   "cell_type": "code",
   "execution_count": 5,
   "id": "2555138f",
   "metadata": {},
   "outputs": [],
   "source": [
    "cijk = {}\n",
    "with open(f'010624.csv') as csvf:\n",
    "    spamreader = csv.reader(csvf, delimiter=';')\n",
    "    for i, row in enumerate(spamreader):\n",
    "        if i < 4: continue\n",
    "        if row[2] != \"CIJK\": continue\n",
    "            \n",
    "        name = row[4]\n",
    "        color_data = np.array(row[33:],dtype=float)\n",
    "        spectra = Spectra(data=color_data, wavelengths=wavelengths10)\n",
    "\n",
    "        cijk[name] = spectra"
   ]
  },
  {
   "cell_type": "markdown",
   "id": "da5e9046",
   "metadata": {},
   "source": [
    "our "
   ]
  },
  {
   "cell_type": "code",
   "execution_count": 6,
   "id": "3d9a6d3f",
   "metadata": {},
   "outputs": [
    {
     "data": {
      "text/plain": [
       "array([ 0.29939459,  0.2635604 ,  0.27407844,  0.29817291])"
      ]
     },
     "execution_count": 6,
     "metadata": {},
     "output_type": "execute_result"
    }
   ],
   "source": [
    "tetrachromat.observe(cijk[\"1111\"])"
   ]
  },
  {
   "cell_type": "code",
   "execution_count": 7,
   "id": "86e74e6c",
   "metadata": {},
   "outputs": [],
   "source": [
    "xyz = cijk[\"1111\"].to_xyz()"
   ]
  },
  {
   "cell_type": "code",
   "execution_count": 8,
   "id": "dffc2616",
   "metadata": {},
   "outputs": [],
   "source": [
    "XYZ_to_LMS = np.array([\n",
    "    [0.4002, 0.7076, -0.0808],\n",
    "    [-0.2263, 1.1653, 0.0457],\n",
    "    [0, 0, 0.9182]\n",
    "])"
   ]
  },
  {
   "cell_type": "code",
   "execution_count": 9,
   "id": "44ce897c",
   "metadata": {},
   "outputs": [
    {
     "data": {
      "text/plain": [
       "array([ 0.2741328 ,  0.23822425,  0.27685381])"
      ]
     },
     "execution_count": 9,
     "metadata": {},
     "output_type": "execute_result"
    }
   ],
   "source": [
    "xyz"
   ]
  },
  {
   "cell_type": "code",
   "execution_count": 10,
   "id": "f52bf942",
   "metadata": {},
   "outputs": [
    {
     "data": {
      "text/plain": [
       "array([ 0.25590564,  0.22821868,  0.25420717])"
      ]
     },
     "execution_count": 10,
     "metadata": {},
     "output_type": "execute_result"
    }
   ],
   "source": [
    "XYZ_to_LMS @ xyz"
   ]
  },
  {
   "cell_type": "code",
   "execution_count": null,
   "id": "3c7ec847",
   "metadata": {},
   "outputs": [],
   "source": []
  }
 ],
 "metadata": {
  "kernelspec": {
   "display_name": "mixing",
   "language": "python",
   "name": "mixing"
  },
  "language_info": {
   "codemirror_mode": {
    "name": "ipython",
    "version": 3
   },
   "file_extension": ".py",
   "mimetype": "text/x-python",
   "name": "python",
   "nbconvert_exporter": "python",
   "pygments_lexer": "ipython3",
   "version": "3.11.6"
  },
  "toc": {
   "base_numbering": 1,
   "nav_menu": {},
   "number_sections": true,
   "sideBar": true,
   "skip_h1_title": false,
   "title_cell": "Table of Contents",
   "title_sidebar": "Contents",
   "toc_cell": false,
   "toc_position": {},
   "toc_section_display": true,
   "toc_window_display": false
  }
 },
 "nbformat": 4,
 "nbformat_minor": 5
}

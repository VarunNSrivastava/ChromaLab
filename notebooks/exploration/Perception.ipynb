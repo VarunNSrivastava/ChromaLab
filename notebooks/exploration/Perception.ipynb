{
 "cells": [
  {
   "cell_type": "markdown",
   "id": "ad54bb8d",
   "metadata": {},
   "source": [
    "# What does a 0.02, 0.04, 0.12 distance in Q activation look like?\n"
   ]
  },
  {
   "cell_type": "markdown",
   "id": "ec8adad6",
   "metadata": {},
   "source": [
    "via wikipedia: https://en.wikipedia.org/wiki/LMS_color_space#XYZ_to_LMS"
   ]
  },
  {
   "cell_type": "code",
   "execution_count": 16,
   "id": "274d557d",
   "metadata": {},
   "outputs": [],
   "source": [
    "import numpy as np\n",
    "from numpy.linalg import inv"
   ]
  },
  {
   "cell_type": "code",
   "execution_count": 4,
   "id": "7d8a097e",
   "metadata": {},
   "outputs": [],
   "source": [
    "XYZ_TO_LMS = np.array([\n",
    "    [0.38971, 0.68898, -0.07868],\n",
    "    [-0.22981, 1.18340, 0.0461],\n",
    "    [0, 0, 1]\n",
    "])"
   ]
  },
  {
   "cell_type": "code",
   "execution_count": 5,
   "id": "0d67c127",
   "metadata": {},
   "outputs": [],
   "source": [
    "XYZ_TO_RGB = np.array([\n",
    "    [0.8951, 0.2664, -0.1614],\n",
    "    [-0.7502, 1.7135, 0.0367],\n",
    "    [0.0389, -0.0685, 1.0296]\n",
    "])"
   ]
  },
  {
   "cell_type": "code",
   "execution_count": 6,
   "id": "ec2dec06",
   "metadata": {},
   "outputs": [],
   "source": [
    "lms1 = np.array([0.7882, 0.6189, 0.6248])"
   ]
  },
  {
   "cell_type": "code",
   "execution_count": 25,
   "id": "b9675c91",
   "metadata": {},
   "outputs": [],
   "source": [
    "lms2 = np.array([0.7882, 0.6189 - 0.02, 0.6248])"
   ]
  },
  {
   "cell_type": "code",
   "execution_count": 26,
   "id": "2aca1a9b",
   "metadata": {},
   "outputs": [],
   "source": [
    "rgb1 = XYZ_TO_RGB @ inv(XYZ_TO_LMS) @ lms1"
   ]
  },
  {
   "cell_type": "code",
   "execution_count": 27,
   "id": "bcc0f6b7",
   "metadata": {},
   "outputs": [
    {
     "data": {
      "text/plain": [
       "array([0.92510683, 0.48359712, 0.63328215])"
      ]
     },
     "execution_count": 27,
     "metadata": {},
     "output_type": "execute_result"
    }
   ],
   "source": [
    "rgb1"
   ]
  },
  {
   "cell_type": "code",
   "execution_count": 28,
   "id": "7e97d45b",
   "metadata": {},
   "outputs": [],
   "source": [
    "rgb2 = XYZ_TO_RGB @ inv(XYZ_TO_LMS) @ lms2"
   ]
  },
  {
   "cell_type": "code",
   "execution_count": 29,
   "id": "fc308378",
   "metadata": {},
   "outputs": [
    {
     "data": {
      "text/plain": [
       "array([0.94166447, 0.44535312, 0.63500918])"
      ]
     },
     "execution_count": 29,
     "metadata": {},
     "output_type": "execute_result"
    }
   ],
   "source": [
    "rgb2"
   ]
  },
  {
   "cell_type": "code",
   "execution_count": 33,
   "id": "1a898e70",
   "metadata": {},
   "outputs": [],
   "source": [
    "LMS_TO_RGB = XYZ_TO_RGB @ inv(XYZ_TO_LMS)"
   ]
  },
  {
   "cell_type": "code",
   "execution_count": 30,
   "id": "3fb0c9dc",
   "metadata": {},
   "outputs": [],
   "source": [
    "import matplotlib.pyplot as plt"
   ]
  },
  {
   "cell_type": "code",
   "execution_count": 31,
   "id": "bb6af8a1",
   "metadata": {},
   "outputs": [
    {
     "data": {
      "image/png": "[encoded data removed]",
      "text/plain": [
       "<Figure size 640x480 with 1 Axes>"
      ]
     },
     "metadata": {},
     "output_type": "display_data"
    }
   ],
   "source": [
    "fig, ax = plt.subplots()\n",
    "ax.set_xlim([0, 2])\n",
    "rect = plt.Rectangle((0, 0), 1, 1, linewidth=1, edgecolor='none', facecolor=rgb1)\n",
    "ax.add_patch(rect)\n",
    "rect2 = plt.Rectangle((1,0), 1, 1, linewidth=1, edgecolor='none', facecolor=rgb2)\n",
    "ax.add_patch(rect2)\n",
    "\n",
    "plt.show()"
   ]
  },
  {
   "cell_type": "code",
   "execution_count": 36,
   "id": "34e45aea",
   "metadata": {},
   "outputs": [],
   "source": [
    "olo = np.array([0, 1, 0])"
   ]
  },
  {
   "cell_type": "code",
   "execution_count": 34,
   "id": "95714b9c",
   "metadata": {},
   "outputs": [
    {
     "data": {
      "text/plain": [
       "array([2, 5, 5])"
      ]
     },
     "execution_count": 34,
     "metadata": {},
     "output_type": "execute_result"
    }
   ],
   "source": [
    "[0,1,0] + np.array([2,4,5])"
   ]
  },
  {
   "cell_type": "code",
   "execution_count": 80,
   "id": "f40bc629",
   "metadata": {},
   "outputs": [],
   "source": [
    "pairs001 = [(LMS_TO_RGB @ rgb, LMS_TO_RGB @ (rgb - 0.01 * olo)) for rgb in [\n",
    "    [0.5, 0.5, 0.7],\n",
    "    [0.75, 0.65, 0.55]\n",
    "]]"
   ]
  },
  {
   "cell_type": "code",
   "execution_count": 75,
   "id": "d0958434",
   "metadata": {},
   "outputs": [],
   "source": [
    "pairs002 = [(LMS_TO_RGB @ rgb, LMS_TO_RGB @ (rgb - 0.02 * olo)) for rgb in [\n",
    "    [0.5, 0.5, 0.7],\n",
    "    [0.75, 0.65, 0.55]\n",
    "]]"
   ]
  },
  {
   "cell_type": "code",
   "execution_count": 76,
   "id": "8a576597",
   "metadata": {},
   "outputs": [
    {
     "data": {
      "text/plain": [
       "[(array([0.50372644, 0.4774619 , 0.70747197]),\n",
       "  array([0.52028408, 0.43921791, 0.70919901])),\n",
       " (array([0.82884335, 0.58206906, 0.55112914]),\n",
       "  array([0.84540099, 0.54382506, 0.55285618]))]"
      ]
     },
     "execution_count": 76,
     "metadata": {},
     "output_type": "execute_result"
    }
   ],
   "source": [
    "pairs"
   ]
  },
  {
   "cell_type": "code",
   "execution_count": 77,
   "id": "cd04ff1b",
   "metadata": {},
   "outputs": [],
   "source": [
    "pairs004 = [(LMS_TO_RGB @ rgb, LMS_TO_RGB @ (rgb - 0.04 * olo)) for rgb in [\n",
    "    [0.5, 0.5, 0.7],\n",
    "    [0.75, 0.65, 0.55]\n",
    "]]"
   ]
  },
  {
   "cell_type": "code",
   "execution_count": 78,
   "id": "bfc75298",
   "metadata": {},
   "outputs": [
    {
     "data": {
      "text/plain": [
       "[(array([0.50372644, 0.4774619 , 0.70747197]),\n",
       "  array([0.53684172, 0.40097391, 0.71092604])),\n",
       " (array([0.82884335, 0.58206906, 0.55112914]),\n",
       "  array([0.86195863, 0.50558107, 0.55458321]))]"
      ]
     },
     "execution_count": 78,
     "metadata": {},
     "output_type": "execute_result"
    }
   ],
   "source": [
    "pairs004"
   ]
  },
  {
   "cell_type": "code",
   "execution_count": 72,
   "id": "81628a5c",
   "metadata": {},
   "outputs": [],
   "source": [
    "def show_confusions(pairs, save=False):\n",
    "    fig, ax = plt.subplots()\n",
    "\n",
    "    ax.set_xlim([0, 2])\n",
    "    ax.set_ylim([0, len(pairs)])\n",
    "\n",
    "    ax.axis('off')\n",
    "\n",
    "    for i, (a,b) in enumerate(pairs):\n",
    "    \n",
    "        rect_a = plt.Rectangle((0, i), 1, 1, linewidth=1, edgecolor='none', facecolor=a)\n",
    "        rect_b = plt.Rectangle((1, i), 1, 1, linewidth=1, edgecolor='none', facecolor=b)\n",
    "\n",
    "        ax.add_patch(rect_a)\n",
    "        ax.add_patch(rect_b)\n",
    "    if save:\n",
    "        fig.savefig(f\"{save}.png\")\n",
    "    plt.show()\n",
    "    "
   ]
  },
  {
   "cell_type": "code",
   "execution_count": 81,
   "id": "7f83c08c",
   "metadata": {},
   "outputs": [
    {
     "data": {
      "image/png": "[encoded data removed]",
      "text/plain": [
       "<Figure size 640x480 with 1 Axes>"
      ]
     },
     "metadata": {},
     "output_type": "display_data"
    }
   ],
   "source": [
    "show_confusions(pairs001, save=\"difference0.01\")"
   ]
  },
  {
   "cell_type": "code",
   "execution_count": 74,
   "id": "a96ecca1",
   "metadata": {},
   "outputs": [
    {
     "data": {
      "image/png": "[encoded data removed]",
      "text/plain": [
       "<Figure size 640x480 with 1 Axes>"
      ]
     },
     "metadata": {},
     "output_type": "display_data"
    }
   ],
   "source": [
    "show_confusions(pairs002, save=\"difference0.02\")"
   ]
  },
  {
   "cell_type": "code",
   "execution_count": 79,
   "id": "05e06cc0",
   "metadata": {},
   "outputs": [
    {
     "data": {
      "image/png": "[encoded data removed]",
      "text/plain": [
       "<Figure size 640x480 with 1 Axes>"
      ]
     },
     "metadata": {},
     "output_type": "display_data"
    }
   ],
   "source": [
    "show_confusions(pairs004, save=\"difference0.04\")"
   ]
  },
  {
   "cell_type": "code",
   "execution_count": 82,
   "id": "7794eb23",
   "metadata": {},
   "outputs": [],
   "source": [
    "pairs012 = [(LMS_TO_RGB @ rgb, LMS_TO_RGB @ (rgb - 0.12 * olo)) for rgb in [\n",
    "    [0.5, 0.5, 0.7],\n",
    "    [0.75, 0.65, 0.55]\n",
    "]]"
   ]
  },
  {
   "cell_type": "code",
   "execution_count": 83,
   "id": "680cbdef",
   "metadata": {},
   "outputs": [
    {
     "data": {
      "text/plain": [
       "[(array([0.50372644, 0.4774619 , 0.70747197]),\n",
       "  array([0.60307228, 0.24799793, 0.71783419])),\n",
       " (array([0.82884335, 0.58206906, 0.55112914]),\n",
       "  array([0.9281892 , 0.35260508, 0.56149136]))]"
      ]
     },
     "execution_count": 83,
     "metadata": {},
     "output_type": "execute_result"
    }
   ],
   "source": [
    "pairs012"
   ]
  },
  {
   "cell_type": "code",
   "execution_count": 84,
   "id": "287c9da7",
   "metadata": {},
   "outputs": [
    {
     "data": {
      "image/png": "[encoded data removed]",
      "text/plain": [
       "<Figure size 640x480 with 1 Axes>"
      ]
     },
     "metadata": {},
     "output_type": "display_data"
    }
   ],
   "source": [
    "show_confusions(pairs012, save=\"difference0.12\")"
   ]
  },
  {
   "cell_type": "code",
   "execution_count": null,
   "id": "4f0ae824",
   "metadata": {},
   "outputs": [],
   "source": []
  }
 ],
 "metadata": {
  "kernelspec": {
   "display_name": "Python 3 (ipykernel)",
   "language": "python",
   "name": "python3"
  },
  "language_info": {
   "codemirror_mode": {
    "name": "ipython",
    "version": 3
   },
   "file_extension": ".py",
   "mimetype": "text/x-python",
   "name": "python",
   "nbconvert_exporter": "python",
   "pygments_lexer": "ipython3",
   "version": "3.11.6"
  },
  "toc": {
   "base_numbering": 1,
   "nav_menu": {},
   "number_sections": true,
   "sideBar": true,
   "skip_h1_title": false,
   "title_cell": "Table of Contents",
   "title_sidebar": "Contents",
   "toc_cell": false,
   "toc_position": {},
   "toc_section_display": true,
   "toc_window_display": false
  }
 },
 "nbformat": 4,
 "nbformat_minor": 5
}

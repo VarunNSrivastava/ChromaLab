{
 "cells": [
  {
   "cell_type": "code",
   "execution_count": 2,
   "id": "9ca55452",
   "metadata": {},
   "outputs": [],
   "source": [
    "import csv\n",
    "import numpy as np\n",
    "import matplotlib.pyplot as plt\n",
    "import numpy.typing as npt\n",
    "import torch as th"
   ]
  },
  {
   "cell_type": "code",
   "execution_count": 31,
   "id": "2f3cf116",
   "metadata": {},
   "outputs": [],
   "source": [
    "from tqdm.notebook import tqdm"
   ]
  },
  {
   "cell_type": "code",
   "execution_count": 4,
   "id": "e15c6631",
   "metadata": {},
   "outputs": [],
   "source": [
    "from chromalab.observer import Observer, Cone\n",
    "from chromalab.inks import Neugebauer, InkGamut, CellNeugebauer, Pigment, InkLibrary\n",
    "from chromalab.spectra import Spectra, Illuminant"
   ]
  },
  {
   "cell_type": "code",
   "execution_count": 5,
   "id": "c9525a05",
   "metadata": {},
   "outputs": [],
   "source": [
    "wavelengths1 = np.arange(390, 701, 1)\n",
    "wavelengths10 = np.arange(400, 701, 10)"
   ]
  },
  {
   "cell_type": "code",
   "execution_count": 6,
   "id": "cb5dcbac",
   "metadata": {},
   "outputs": [],
   "source": [
    "%load_ext autoreload\n",
    "%autoreload 2"
   ]
  },
  {
   "cell_type": "markdown",
   "id": "004b9dca",
   "metadata": {},
   "source": [
    "## load all inks"
   ]
  },
  {
   "cell_type": "code",
   "execution_count": 7,
   "id": "df62acbc",
   "metadata": {},
   "outputs": [
    {
     "name": "stderr",
     "output_type": "stream",
     "text": [
      "/Users/varun/Documents/Python/ChromaLab/chromalab/spectra.py:35: UserWarning: Data has values not between 0 and 1. Clipping.\n",
      "  warnings.warn(\"Data has values not between 0 and 1. Clipping.\")\n"
     ]
    }
   ],
   "source": [
    "all_inks = {}\n",
    "with open(f'../data/nix/02022024.csv') as csvf:\n",
    "    spamreader = csv.reader(csvf, delimiter=';')\n",
    "    for i, row in enumerate(spamreader):\n",
    "        if i < 4: continue            \n",
    "        name = row[4]\n",
    "        color_data = np.array(row[33:],dtype=float)\n",
    "        spectra = Spectra(data=color_data, wavelengths=wavelengths10)\n",
    "        all_inks[name] = spectra\n",
    "        \n",
    "with open(f'../data/nix/011624.csv') as csvf:\n",
    "    spamreader = csv.reader(csvf, delimiter=';')\n",
    "    for i, row in enumerate(spamreader):\n",
    "        if i < 4: continue            \n",
    "        name = row[4]\n",
    "        color_data = np.array(row[33:],dtype=float)\n",
    "        try:\n",
    "            spectra = Spectra(data=color_data, wavelengths=wavelengths10)\n",
    "        except ValueError:\n",
    "            continue\n",
    "        all_inks[name] = spectra\n",
    "        \n",
    "        \n",
    "with open(f'../data/nix/Inks_all.csv') as csvf:\n",
    "    spamreader = csv.reader(csvf, delimiter=';')\n",
    "    for i, row in enumerate(spamreader):\n",
    "        if i < 4: continue            \n",
    "        name = row[4]\n",
    "        color_data = np.array(row[33:],dtype=float)\n",
    "        spectra = Spectra(data=color_data, wavelengths=wavelengths10)\n",
    "        all_inks[name] = spectra\n",
    "        \n",
    "cmy_primaries_dict = {}\n",
    "primary_fns = [\n",
    "    \"000\",\n",
    "    \"001\",\n",
    "    \"010\",\n",
    "    \"100\",\n",
    "    \"011\",\n",
    "    \"110\",\n",
    "    \"101\",\n",
    "    \"111\",\n",
    "]\n",
    "\n",
    "for fn in primary_fns:\n",
    "    with open(f'../data/nix/PrintColors/{fn}.csv') as csvf:\n",
    "        spamreader = csv.reader(csvf, delimiter=';')\n",
    "        for i, row in enumerate(spamreader):\n",
    "            if i == 4:\n",
    "                color_data = np.array(row[33:],dtype=float)\n",
    "                spectra = Spectra(data=color_data, wavelengths=wavelengths10)\n",
    "                cmy_primaries_dict[fn] = spectra\n",
    "                \n",
    "                \n",
    "all_inks[\"epson cyan\"] = cmy_primaries_dict[\"100\"]\n",
    "all_inks[\"epson magenta\"] = cmy_primaries_dict[\"010\"]\n",
    "all_inks[\"epson yellow\"] = cmy_primaries_dict[\"001\"]\n",
    "paper = cmy_primaries_dict[\"000\"]"
   ]
  },
  {
   "cell_type": "code",
   "execution_count": 8,
   "id": "811ba852",
   "metadata": {},
   "outputs": [],
   "source": [
    "del all_inks[\"Noodlers Firefly\"]\n",
    "del all_inks[\"PR Neon Yellow\"]"
   ]
  },
  {
   "cell_type": "code",
   "execution_count": 9,
   "id": "2b7591b1",
   "metadata": {},
   "outputs": [
    {
     "data": {
      "text/plain": [
       "149"
      ]
     },
     "execution_count": 9,
     "metadata": {},
     "output_type": "execute_result"
    }
   ],
   "source": [
    "len(all_inks)"
   ]
  },
  {
   "cell_type": "code",
   "execution_count": null,
   "id": "7f0e6a98",
   "metadata": {},
   "outputs": [],
   "source": []
  },
  {
   "cell_type": "code",
   "execution_count": 10,
   "id": "898195b9",
   "metadata": {},
   "outputs": [],
   "source": [
    "d65 = Illuminant.get(\"d65\")\n",
    "tetrachromat = Observer.tetrachromat(illuminant=d65, wavelengths=wavelengths10)"
   ]
  },
  {
   "cell_type": "markdown",
   "id": "97123584",
   "metadata": {},
   "source": [
    "## convex hull search"
   ]
  },
  {
   "cell_type": "markdown",
   "id": "7cbe35b6",
   "metadata": {},
   "source": [
    "### smaller library"
   ]
  },
  {
   "cell_type": "code",
   "execution_count": 11,
   "id": "37a0e881",
   "metadata": {},
   "outputs": [],
   "source": [
    "selected_inks = {n: all_inks[n] for n in ['Lamy crystal beryl',\n",
    " 'Vd sea shell shimmer',\n",
    " 'Peach haze D',\n",
    " 'Orange soleil',\n",
    " 'Pink gazelle',\n",
    " 'O pink owl',\n",
    " 'Pw groenmarkt smaragd ',\n",
    " 'Rose cyclamen H',\n",
    " 'Orange D',\n",
    " 'T sea glass',\n",
    " 'Lamy red',\n",
    " 'Pilot blue',\n",
    " 'CT Pastel Yellow',\n",
    " 'Mg turquoise',\n",
    " 'Platinum violet',\n",
    " 'T foxglove',\n",
    " 'Di citrus yellow',\n",
    " 'I tsutsuji ',\n",
    " 'T milky ocean',\n",
    " 'V isabela',\n",
    " 'I fuyu gaki ',\n",
    " 'epson cyan',\n",
    " 'Operation overlord orange N']}"
   ]
  },
  {
   "cell_type": "code",
   "execution_count": 12,
   "id": "024560b8",
   "metadata": {},
   "outputs": [],
   "source": [
    "smaller_library = InkLibrary(selected_inks, paper)"
   ]
  },
  {
   "cell_type": "code",
   "execution_count": 16,
   "id": "1ddcba1b",
   "metadata": {},
   "outputs": [
    {
     "data": {
      "image/png": "[encoded data removed]",
      "text/plain": [
       "<Figure size 640x480 with 1 Axes>"
      ]
     },
     "metadata": {},
     "output_type": "display_data"
    }
   ],
   "source": [
    "all_inks['I tsutsuji '].plot()\n",
    "all_inks['Rose cyclamen H'].plot()"
   ]
  },
  {
   "cell_type": "code",
   "execution_count": 17,
   "id": "53292aff",
   "metadata": {},
   "outputs": [
    {
     "name": "stderr",
     "output_type": "stream",
     "text": [
      "loading km cache: 100%|█████████████| 10879/10879.0 [00:00<00:00, 104762.75it/s]\n",
      "finding best inkset: 100%|█████████████| 8855/8855.0 [00:00<00:00, 14094.51it/s]\n"
     ]
    },
    {
     "data": {
      "text/plain": [
       "[(5.6821540536506245e-05,\n",
       "  ['Lamy red', 'Mg turquoise', 'Platinum violet', 'Di citrus yellow']),\n",
       " (5.5593197411878e-05,\n",
       "  ['Lamy red', 'CT Pastel Yellow', 'Mg turquoise', 'Platinum violet']),\n",
       " (5.447563349533202e-05,\n",
       "  ['Lamy crystal beryl', 'Lamy red', 'Mg turquoise', 'Di citrus yellow']),\n",
       " (5.389014043242459e-05,\n",
       "  ['Rose cyclamen H', 'Lamy red', 'Mg turquoise', 'Di citrus yellow']),\n",
       " (5.3250328755810525e-05,\n",
       "  ['Lamy crystal beryl', 'Lamy red', 'CT Pastel Yellow', 'Mg turquoise']),\n",
       " (5.2678740105677325e-05,\n",
       "  ['Rose cyclamen H', 'Lamy red', 'CT Pastel Yellow', 'Mg turquoise']),\n",
       " (5.148849863427831e-05,\n",
       "  ['Peach haze D', 'CT Pastel Yellow', 'Mg turquoise', 'Platinum violet']),\n",
       " (4.991048424927342e-05,\n",
       "  ['Peach haze D', 'Mg turquoise', 'Platinum violet', 'Di citrus yellow']),\n",
       " (4.9581039566196705e-05,\n",
       "  ['Lamy red', 'Mg turquoise', 'Di citrus yellow', 'I tsutsuji ']),\n",
       " (4.9433592448788e-05,\n",
       "  ['Lamy crystal beryl', 'Peach haze D', 'CT Pastel Yellow', 'Mg turquoise']),\n",
       " (4.8584159878838495e-05,\n",
       "  ['Peach haze D', 'Rose cyclamen H', 'CT Pastel Yellow', 'Mg turquoise']),\n",
       " (4.846974765054788e-05,\n",
       "  ['Lamy red', 'CT Pastel Yellow', 'Mg turquoise', 'I tsutsuji ']),\n",
       " (4.839738020389779e-05,\n",
       "  ['Orange D', 'CT Pastel Yellow', 'Mg turquoise', 'Platinum violet']),\n",
       " (4.773130318263201e-05,\n",
       "  ['Lamy crystal beryl', 'Peach haze D', 'Mg turquoise', 'Di citrus yellow']),\n",
       " (4.752957912961965e-05,\n",
       "  ['Lamy red', 'Platinum violet', 'Di citrus yellow', 'epson cyan']),\n",
       " (4.7488327220668466e-05,\n",
       "  ['Lamy red', 'Pilot blue', 'Platinum violet', 'Di citrus yellow']),\n",
       " (4.6737983319260046e-05,\n",
       "  ['Peach haze D', 'Rose cyclamen H', 'Mg turquoise', 'Di citrus yellow']),\n",
       " (4.632454607387805e-05,\n",
       "  ['Lamy red', 'Pilot blue', 'CT Pastel Yellow', 'Platinum violet']),\n",
       " (4.625223376714998e-05,\n",
       "  ['Lamy crystal beryl', 'Orange D', 'CT Pastel Yellow', 'Mg turquoise']),\n",
       " (4.617589546473527e-05,\n",
       "  ['Lamy red', 'CT Pastel Yellow', 'Platinum violet', 'epson cyan']),\n",
       " (4.559226195669331e-05,\n",
       "  ['Rose cyclamen H', 'Orange D', 'CT Pastel Yellow', 'Mg turquoise']),\n",
       " (4.540288859156719e-05,\n",
       "  ['Lamy crystal beryl', 'Lamy red', 'Pilot blue', 'Di citrus yellow']),\n",
       " (4.534596188174342e-05,\n",
       "  ['Lamy crystal beryl', 'Lamy red', 'Di citrus yellow', 'epson cyan']),\n",
       " (4.520750390451209e-05,\n",
       "  ['Orange D', 'Mg turquoise', 'Platinum violet', 'Di citrus yellow']),\n",
       " (4.453730681558256e-05,\n",
       "  ['Rose cyclamen H', 'Lamy red', 'Pilot blue', 'Di citrus yellow']),\n",
       " (4.447752308218164e-05,\n",
       "  ['Peach haze D', 'CT Pastel Yellow', 'Mg turquoise', 'I tsutsuji ']),\n",
       " (4.432182441341684e-05,\n",
       "  ['Rose cyclamen H', 'Lamy red', 'Di citrus yellow', 'epson cyan']),\n",
       " (4.4018788766874465e-05,\n",
       "  ['Lamy crystal beryl', 'Lamy red', 'Pilot blue', 'CT Pastel Yellow']),\n",
       " (4.39068435582174e-05,\n",
       "  ['Lamy crystal beryl', 'Lamy red', 'CT Pastel Yellow', 'epson cyan']),\n",
       " (4.37636875095249e-05,\n",
       "  ['Pink gazelle', 'Lamy red', 'Mg turquoise', 'Di citrus yellow']),\n",
       " (4.3683572885341415e-05,\n",
       "  ['Orange soleil', 'CT Pastel Yellow', 'Mg turquoise', 'Platinum violet']),\n",
       " (4.331941655747217e-05,\n",
       "  ['O pink owl', 'Lamy red', 'Mg turquoise', 'Di citrus yellow']),\n",
       " (4.316774083164089e-05,\n",
       "  ['Rose cyclamen H', 'Lamy red', 'Pilot blue', 'CT Pastel Yellow']),\n",
       " (4.3133874560770505e-05,\n",
       "  ['Lamy crystal beryl', 'Orange D', 'Mg turquoise', 'Di citrus yellow']),\n",
       " (4.311489999897892e-05,\n",
       "  ['CT Pastel Yellow', 'Mg turquoise', 'Platinum violet', 'I fuyu gaki ']),\n",
       " (4.303726308525206e-05,\n",
       "  ['Pink gazelle', 'Lamy red', 'CT Pastel Yellow', 'Mg turquoise']),\n",
       " (4.300587185494975e-05,\n",
       "  ['Vd sea shell shimmer',\n",
       "   'CT Pastel Yellow',\n",
       "   'Mg turquoise',\n",
       "   'Platinum violet']),\n",
       " (4.2905882730070575e-05,\n",
       "  ['Rose cyclamen H', 'Lamy red', 'CT Pastel Yellow', 'epson cyan']),\n",
       " (4.2683242808246204e-05,\n",
       "  ['Lamy red', 'Pilot blue', 'Di citrus yellow', 'I tsutsuji ']),\n",
       " (4.2673156959558546e-05,\n",
       "  ['Peach haze D', 'Mg turquoise', 'Di citrus yellow', 'I tsutsuji ']),\n",
       " (4.261504327763239e-05,\n",
       "  ['Peach haze D', 'CT Pastel Yellow', 'Platinum violet', 'epson cyan']),\n",
       " (4.2445026417090694e-05,\n",
       "  ['O pink owl', 'Lamy red', 'CT Pastel Yellow', 'Mg turquoise']),\n",
       " (4.2404837734537436e-05,\n",
       "  ['Lamy red', 'Di citrus yellow', 'I tsutsuji ', 'epson cyan']),\n",
       " (4.2340970493412865e-05,\n",
       "  ['Rose cyclamen H', 'Orange D', 'Mg turquoise', 'Di citrus yellow']),\n",
       " (4.2155926449427806e-05,\n",
       "  ['Lamy crystal beryl', 'Orange soleil', 'CT Pastel Yellow', 'Mg turquoise']),\n",
       " (4.175977480490436e-05,\n",
       "  ['Peach haze D', 'Pilot blue', 'CT Pastel Yellow', 'Platinum violet']),\n",
       " (4.1465604575645016e-05,\n",
       "  ['Peach haze D', 'Platinum violet', 'Di citrus yellow', 'epson cyan']),\n",
       " (4.146115483987732e-05,\n",
       "  ['Lamy crystal beryl', 'CT Pastel Yellow', 'Mg turquoise', 'I fuyu gaki ']),\n",
       " (4.140767556336356e-05,\n",
       "  ['Lamy crystal beryl',\n",
       "   'Vd sea shell shimmer',\n",
       "   'CT Pastel Yellow',\n",
       "   'Mg turquoise']),\n",
       " (4.138771113745295e-05,\n",
       "  ['Orange soleil', 'Rose cyclamen H', 'CT Pastel Yellow', 'Mg turquoise']),\n",
       " (4.138209693709352e-05,\n",
       "  ['Lamy red', 'Pilot blue', 'CT Pastel Yellow', 'I tsutsuji ']),\n",
       " (4.1186871260157006e-05,\n",
       "  ['Pw groenmarkt smaragd ',\n",
       "   'Lamy red',\n",
       "   'Platinum violet',\n",
       "   'Di citrus yellow']),\n",
       " (4.106676883754153e-05,\n",
       "  ['Lamy red', 'CT Pastel Yellow', 'I tsutsuji ', 'epson cyan']),\n",
       " (4.105223286571996e-05,\n",
       "  ['Rose cyclamen H', 'CT Pastel Yellow', 'Mg turquoise', 'I fuyu gaki ']),\n",
       " (4.1039497187940576e-05,\n",
       "  ['Lamy crystal beryl', 'Mg turquoise', 'T foxglove', 'Di citrus yellow']),\n",
       " (4.092897564148735e-05,\n",
       "  ['Orange D', 'CT Pastel Yellow', 'Mg turquoise', 'I tsutsuji ']),\n",
       " (4.0881861883522834e-05,\n",
       "  ['Mg turquoise', 'Platinum violet', 'Di citrus yellow', 'I fuyu gaki ']),\n",
       " (4.0762450579213386e-05,\n",
       "  ['Vd sea shell shimmer',\n",
       "   'Rose cyclamen H',\n",
       "   'CT Pastel Yellow',\n",
       "   'Mg turquoise']),\n",
       " (4.072971040580986e-05,\n",
       "  ['Lamy crystal beryl', 'Peach haze D', 'CT Pastel Yellow', 'epson cyan']),\n",
       " (4.0256869021573806e-05,\n",
       "  ['Mg turquoise', 'Platinum violet', 'T foxglove', 'Di citrus yellow']),\n",
       " (4.0183459658068496e-05,\n",
       "  ['Peach haze D', 'Pilot blue', 'Platinum violet', 'Di citrus yellow']),\n",
       " (4.0067952363297424e-05,\n",
       "  ['T sea glass', 'Lamy red', 'Platinum violet', 'Di citrus yellow']),\n",
       " (4.004154282643406e-05,\n",
       "  ['Lamy crystal beryl', 'Peach haze D', 'Pilot blue', 'CT Pastel Yellow']),\n",
       " (4.002137502302016e-05,\n",
       "  ['Lamy crystal beryl',\n",
       "   'Pw groenmarkt smaragd ',\n",
       "   'Lamy red',\n",
       "   'Di citrus yellow']),\n",
       " (4.0011563860204744e-05,\n",
       "  ['Rose cyclamen H', 'Mg turquoise', 'T foxglove', 'Di citrus yellow']),\n",
       " (3.987659803849453e-05,\n",
       "  ['Orange D', 'CT Pastel Yellow', 'Platinum violet', 'epson cyan']),\n",
       " (3.962814399114028e-05,\n",
       "  ['Lamy crystal beryl', 'Peach haze D', 'Di citrus yellow', 'epson cyan']),\n",
       " (3.957832342129376e-05,\n",
       "  ['Pw groenmarkt smaragd ',\n",
       "   'Rose cyclamen H',\n",
       "   'Lamy red',\n",
       "   'Di citrus yellow']),\n",
       " (3.9451886200716386e-05,\n",
       "  ['Peach haze D', 'Rose cyclamen H', 'CT Pastel Yellow', 'epson cyan']),\n",
       " (3.938667432208213e-05,\n",
       "  ['Pw groenmarkt smaragd ',\n",
       "   'Lamy red',\n",
       "   'CT Pastel Yellow',\n",
       "   'Platinum violet']),\n",
       " (3.937081769866041e-05,\n",
       "  ['Lamy crystal beryl', 'Mg turquoise', 'Di citrus yellow', 'I fuyu gaki ']),\n",
       " (3.9259260468995396e-05,\n",
       "  ['Lamy red',\n",
       "   'Mg turquoise',\n",
       "   'Platinum violet',\n",
       "   'Operation overlord orange N']),\n",
       " (3.9194611166835894e-05,\n",
       "  ['Mg turquoise', 'T foxglove', 'Di citrus yellow', 'I tsutsuji ']),\n",
       " (3.9014601241960355e-05,\n",
       "  ['Orange D', 'Pilot blue', 'CT Pastel Yellow', 'Platinum violet']),\n",
       " (3.897329667367704e-05,\n",
       "  ['Rose cyclamen H', 'Mg turquoise', 'Di citrus yellow', 'I fuyu gaki ']),\n",
       " (3.8925555360831484e-05,\n",
       "  ['Lamy crystal beryl', 'T sea glass', 'Lamy red', 'Di citrus yellow']),\n",
       " (3.8886728010916884e-05,\n",
       "  ['Peach haze D', 'Rose cyclamen H', 'Pilot blue', 'CT Pastel Yellow']),\n",
       " (3.881836976890346e-05,\n",
       "  ['Peach haze D', 'O pink owl', 'CT Pastel Yellow', 'Mg turquoise']),\n",
       " (3.862560968082133e-05,\n",
       "  ['Rose cyclamen H', 'T sea glass', 'Lamy red', 'Di citrus yellow']),\n",
       " (3.855349350107156e-05,\n",
       "  ['Lamy crystal beryl', 'Peach haze D', 'Pilot blue', 'Di citrus yellow']),\n",
       " (3.836426425024674e-05,\n",
       "  ['Lamy red', 'Platinum violet', 'Di citrus yellow', 'T milky ocean']),\n",
       " (3.824863487636408e-05,\n",
       "  ['Pink gazelle', 'Lamy red', 'Pilot blue', 'Di citrus yellow']),\n",
       " (3.8235735433075145e-05,\n",
       "  ['Peach haze D', 'Rose cyclamen H', 'Di citrus yellow', 'epson cyan']),\n",
       " (3.817037791048035e-05,\n",
       "  ['T sea glass', 'Lamy red', 'CT Pastel Yellow', 'Platinum violet']),\n",
       " (3.816920181318689e-05,\n",
       "  ['Lamy red', 'CT Pastel Yellow', 'Platinum violet', 'T milky ocean']),\n",
       " (3.8070912186699215e-05,\n",
       "  ['Orange soleil', 'CT Pastel Yellow', 'Mg turquoise', 'I tsutsuji ']),\n",
       " (3.799704697611935e-05,\n",
       "  ['Orange D', 'Mg turquoise', 'Di citrus yellow', 'I tsutsuji ']),\n",
       " (3.798885389006198e-05,\n",
       "  ['Lamy crystal beryl', 'Orange D', 'CT Pastel Yellow', 'epson cyan']),\n",
       " (3.797200304156088e-05,\n",
       "  ['Orange soleil', 'Mg turquoise', 'Platinum violet', 'Di citrus yellow']),\n",
       " (3.787742873995206e-05,\n",
       "  ['Vd sea shell shimmer',\n",
       "   'Mg turquoise',\n",
       "   'Platinum violet',\n",
       "   'Di citrus yellow']),\n",
       " (3.7852304166595823e-05,\n",
       "  ['Pink gazelle', 'Lamy red', 'Di citrus yellow', 'epson cyan']),\n",
       " (3.7783144998672534e-05,\n",
       "  ['Lamy crystal beryl',\n",
       "   'Pw groenmarkt smaragd ',\n",
       "   'Lamy red',\n",
       "   'CT Pastel Yellow']),\n",
       " (3.76972666884007e-05,\n",
       "  ['Lamy crystal beryl', 'Lamy red', 'Di citrus yellow', 'T milky ocean']),\n",
       " (3.7639867467290366e-05,\n",
       "  ['O pink owl', 'Lamy red', 'Pilot blue', 'Di citrus yellow']),\n",
       " (3.7531056667777916e-05,\n",
       "  ['Orange D', 'Platinum violet', 'Di citrus yellow', 'epson cyan']),\n",
       " (3.75143059049133e-05,\n",
       "  ['Rose cyclamen H', 'Lamy red', 'Di citrus yellow', 'T milky ocean']),\n",
       " (3.741161520271753e-05,\n",
       "  ['Lamy crystal beryl', 'Lamy red', 'CT Pastel Yellow', 'T milky ocean']),\n",
       " (3.737755802097433e-05,\n",
       "  ['Lamy crystal beryl', 'Orange D', 'Pilot blue', 'CT Pastel Yellow']),\n",
       " (3.735818683234895e-05,\n",
       "  ['Pw groenmarkt smaragd ',\n",
       "   'Rose cyclamen H',\n",
       "   'Lamy red',\n",
       "   'CT Pastel Yellow']),\n",
       " (3.7288080562031126e-05,\n",
       "  ['Peach haze D', 'Rose cyclamen H', 'Pilot blue', 'Di citrus yellow'])]"
      ]
     },
     "execution_count": 17,
     "metadata": {},
     "output_type": "execute_result"
    }
   ],
   "source": [
    "smaller_library.convex_hull_search(tetrachromat, d65)"
   ]
  },
  {
   "cell_type": "markdown",
   "id": "942a7436",
   "metadata": {},
   "source": [
    "### full library"
   ]
  },
  {
   "cell_type": "code",
   "execution_count": 18,
   "id": "22faa1ba",
   "metadata": {},
   "outputs": [],
   "source": [
    "full_library = InkLibrary(all_inks, paper)"
   ]
  },
  {
   "cell_type": "code",
   "execution_count": 19,
   "id": "2bfb3a61",
   "metadata": {},
   "outputs": [
    {
     "name": "stderr",
     "output_type": "stream",
     "text": [
      "loading km cache: 100%|███████| 20271301/20271301.0 [02:54<00:00, 116333.89it/s]\n",
      "finding best inkset: 100%|█████| 19720001/19720001.0 [20:09<00:00, 16302.85it/s]\n"
     ]
    }
   ],
   "source": [
    "top_volumes_all_inks = full_library.convex_hull_search(tetrachromat, d65)"
   ]
  },
  {
   "cell_type": "code",
   "execution_count": 21,
   "id": "af9c1d9f",
   "metadata": {},
   "outputs": [
    {
     "data": {
      "text/plain": [
       "[(5.76363453483709e-05,\n",
       "  ['Lamy red', 'Di citrus yellow', 'Mv Caribbean ', 'Platinum violet']),\n",
       " (5.6821540536506245e-05,\n",
       "  ['Lamy red', 'Di citrus yellow', 'Mg turquoise', 'Platinum violet']),\n",
       " (5.67708003445065e-05,\n",
       "  ['Lamy red', 'Mv Caribbean ', 'CT Pastel Yellow', 'Platinum violet']),\n",
       " (5.670271589708648e-05,\n",
       "  ['Lamy red', 'Di citrus yellow', 'KWZ turquoise ', 'Platinum violet']),\n",
       " (5.5606003773535686e-05,\n",
       "  ['Lamy red', 'KWZ turquoise ', 'CT Pastel Yellow', 'Platinum violet']),\n",
       " (5.5593197411878e-05,\n",
       "  ['Lamy red', 'Mg turquoise', 'CT Pastel Yellow', 'Platinum violet']),\n",
       " (5.519597716158461e-05,\n",
       "  ['Lamy red', 'Di citrus yellow', 'R torquay', 'Platinum violet']),\n",
       " (5.506262790565694e-05,\n",
       "  ['Lamy crystal beryl', 'Lamy red', 'Di citrus yellow', 'Mv Caribbean ']),\n",
       " (5.447563349533202e-05,\n",
       "  ['Lamy crystal beryl', 'Lamy red', 'Di citrus yellow', 'Mg turquoise']),\n",
       " (5.430681713323858e-05,\n",
       "  ['Lamy red', 'Di citrus yellow', 'Platinum violet', 'Inkbara cyan']),\n",
       " (5.4290656766416103e-05,\n",
       "  ['Lamy crystal beryl', 'Lamy red', 'Mv Caribbean ', 'CT Pastel Yellow']),\n",
       " (5.41329510067108e-05,\n",
       "  ['Lamy red', 'Di citrus yellow', 'Mv Caribbean ', 'Rose cyclamen H']),\n",
       " (5.4098261877325566e-05,\n",
       "  ['Lamy crystal beryl', 'Lamy red', 'Di citrus yellow', 'KWZ turquoise ']),\n",
       " (5.389014043242459e-05,\n",
       "  ['Lamy red', 'Di citrus yellow', 'Mg turquoise', 'Rose cyclamen H']),\n",
       " (5.3856119594812895e-05,\n",
       "  ['Lamy red', 'Di citrus yellow', 'Pw denneweg groen ', 'Platinum violet']),\n",
       " (5.365828689032624e-05,\n",
       "  ['Lamy red', 'R torquay', 'CT Pastel Yellow', 'Platinum violet']),\n",
       " (5.3512396928140847e-05,\n",
       "  ['Mv Caribbean ', 'CT Pastel Yellow', 'Peach haze D', 'Platinum violet']),\n",
       " (5.3286001851383e-05,\n",
       "  ['Lamy red', 'Mv Caribbean ', 'CT Pastel Yellow', 'Rose cyclamen H']),\n",
       " (5.3250328755810525e-05,\n",
       "  ['Lamy crystal beryl', 'Lamy red', 'Mg turquoise', 'CT Pastel Yellow']),\n",
       " (5.3221259139021e-05,\n",
       "  ['Lamy red', 'Di citrus yellow', 'Bleu pervenche h', 'Platinum violet']),\n",
       " (5.3202826360919305e-05,\n",
       "  ['Lamy red', 'Di citrus yellow', 'KWZ turquoise ', 'Rose cyclamen H']),\n",
       " (5.302783027034856e-05,\n",
       "  ['Lamy crystal beryl', 'Lamy red', 'KWZ turquoise ', 'CT Pastel Yellow']),\n",
       " (5.293333930297042e-05,\n",
       "  ['Lamy crystal beryl', 'Lamy red', 'Di citrus yellow', 'R torquay']),\n",
       " (5.2883831859450425e-05,\n",
       "  ['Lamy red', 'Mv Caribbean ', 'Platinum violet', 'Noodler’s yellow']),\n",
       " (5.2705454877836845e-05,\n",
       "  ['Lamy red', 'Di citrus yellow', 'C photon', 'Platinum violet']),\n",
       " (5.2678740105677325e-05,\n",
       "  ['Lamy red', 'Mg turquoise', 'CT Pastel Yellow', 'Rose cyclamen H']),\n",
       " (5.2582435704083116e-05,\n",
       "  ['Lamy crystal beryl',\n",
       "   'Lamy red',\n",
       "   'Di citrus yellow',\n",
       "   'Pw denneweg groen ']),\n",
       " (5.2419614004116506e-05,\n",
       "  ['Lamy red', 'Mv Caribbean ', 'Platinum violet', 'Rokyu moon yellow']),\n",
       " (5.2356508142226286e-05,\n",
       "  ['Lamy crystal beryl', 'Lamy red', 'Di citrus yellow', 'Inkbara cyan']),\n",
       " (5.227186350397206e-05,\n",
       "  ['Lamy red', 'CT Pastel Yellow', 'Platinum violet', 'Inkbara cyan'])]"
      ]
     },
     "execution_count": 21,
     "metadata": {},
     "output_type": "execute_result"
    }
   ],
   "source": [
    "top_volumes_all_inks[:30]"
   ]
  },
  {
   "cell_type": "code",
   "execution_count": 22,
   "id": "0e5ddef8",
   "metadata": {},
   "outputs": [],
   "source": [
    "best_inks = set()\n",
    "for _, inks in top_volumes_all_inks[:60]:\n",
    "    best_inks.update(inks)"
   ]
  },
  {
   "cell_type": "code",
   "execution_count": 23,
   "id": "e427471e",
   "metadata": {},
   "outputs": [
    {
     "data": {
      "text/plain": [
       "24"
      ]
     },
     "execution_count": 23,
     "metadata": {},
     "output_type": "execute_result"
    }
   ],
   "source": [
    "len(best_inks)"
   ]
  },
  {
   "cell_type": "code",
   "execution_count": 24,
   "id": "e2005d1e",
   "metadata": {},
   "outputs": [
    {
     "name": "stdout",
     "output_type": "stream",
     "text": [
      "['Di citrus yellow', 'Mg sapphire', 'Bay state blue', 'Rokyu moon yellow', 'Lamy red', 'Mg turquoise', 'O crystal blue', 'CT Pastel Yellow', 'Mv Caribbean ', 'Lamy crystal beryl', 'Bleu pervenche h', 'V karol ', 'Mv sweet life key lime pie ', 'Platinum violet', 'R torquay', 'Inkbara cyan', 'Peach haze D', 'KWZ turquoise ', 'Rose cyclamen H', 'Vd parrot fish', 'C photon', 'Noodler’s yellow', 'I tsutsuji ', 'Pw denneweg groen ']\n"
     ]
    }
   ],
   "source": [
    "print(list(best_inks))"
   ]
  },
  {
   "cell_type": "code",
   "execution_count": 19,
   "id": "003c680e",
   "metadata": {},
   "outputs": [],
   "source": [
    "potential_spots = ['Bay state blue', 'R torquay', 'W dracula', \n",
    "                   'KWZ turquoise ', 'Pw denneweg groen ', 'I tsutsuji ', \n",
    "                   'Mg turquoise', 'Robert Oster Australian Opal Blue',\n",
    "                  'Vd parrot fish', 'Lamy crystal beryl','C photon',\n",
    "                  'Mv sweet life key lime pie ', 'O crystal blue', \n",
    "                  'Bleu pervenche h', 'Rokyu moon yellow', 'V karol ','Kaweco green'\n",
    "                  ]"
   ]
  },
  {
   "cell_type": "markdown",
   "id": "1c36a614",
   "metadata": {},
   "source": [
    "### is top 6 possible?"
   ]
  },
  {
   "cell_type": "code",
   "execution_count": null,
   "id": "c14b068c",
   "metadata": {},
   "outputs": [],
   "source": [
    "top_volumes_all_inks6 = full_library.convex_hull_search(tetrachromat, d65, k=6)"
   ]
  },
  {
   "cell_type": "markdown",
   "id": "da85d0c6",
   "metadata": {},
   "source": [
    "1,431,727,026 combinations, over one billion, will take 33 hours just to populate the km cache"
   ]
  },
  {
   "cell_type": "code",
   "execution_count": null,
   "id": "3bb6c59a",
   "metadata": {},
   "outputs": [],
   "source": [
    "all_inks[\"epson cyan\"]"
   ]
  },
  {
   "cell_type": "code",
   "execution_count": null,
   "id": "87bd436b",
   "metadata": {},
   "outputs": [],
   "source": [
    "14297000,725"
   ]
  },
  {
   "cell_type": "code",
   "execution_count": null,
   "id": "223af442",
   "metadata": {},
   "outputs": [],
   "source": [
    "for cyan in [\"Mg turquoise\", 'Mv Caribbean ', 'KWZ turquoise ', \"epson cyan\"]:\n",
    "    all_inks[cyan].plot(name=cyan,)\n",
    "    \n",
    "plt.legend()"
   ]
  },
  {
   "cell_type": "markdown",
   "id": "23d43923",
   "metadata": {},
   "source": [
    "## compare new volume to old"
   ]
  },
  {
   "cell_type": "code",
   "execution_count": null,
   "id": "8261f101",
   "metadata": {},
   "outputs": [],
   "source": [
    "from chromalab.inks import load_neugebauer"
   ]
  },
  {
   "cell_type": "code",
   "execution_count": null,
   "id": "28e051a0",
   "metadata": {},
   "outputs": [],
   "source": [
    "og_n = load_neugebauer([\n",
    "    all_inks[\"epson cyan\"],\n",
    "    all_inks[\"Operation overlord orange N\"],\n",
    "    all_inks[\"Platinum violet\"],\n",
    "    all_inks[\"Peach haze D\"]\n",
    "], paper)"
   ]
  },
  {
   "cell_type": "code",
   "execution_count": null,
   "id": "35bcfd6a",
   "metadata": {},
   "outputs": [],
   "source": [
    "og_n.n"
   ]
  },
  {
   "cell_type": "code",
   "execution_count": null,
   "id": "ca5c9124",
   "metadata": {},
   "outputs": [],
   "source": [
    "from scipy.spatial import ConvexHull"
   ]
  },
  {
   "cell_type": "code",
   "execution_count": null,
   "id": "6d9eed87",
   "metadata": {},
   "outputs": [],
   "source": [
    "primaries_array = (og_n.spectras_array ** (50))"
   ]
  },
  {
   "cell_type": "code",
   "execution_count": null,
   "id": "b3590157",
   "metadata": {},
   "outputs": [],
   "source": []
  },
  {
   "cell_type": "code",
   "execution_count": null,
   "id": "30687509",
   "metadata": {},
   "outputs": [],
   "source": []
  },
  {
   "cell_type": "code",
   "execution_count": null,
   "id": "0b11555f",
   "metadata": {},
   "outputs": [],
   "source": []
  },
  {
   "cell_type": "code",
   "execution_count": null,
   "id": "f2ec0bd4",
   "metadata": {},
   "outputs": [],
   "source": [
    "numerator = np.matmul(observe, (primaries_array * illuminant).T)\n",
    "observe_mix = np.divide(numerator, denominator) # 4 x 16\n",
    "vol = ConvexHull(observe_mix.T).volume\n",
    "vol"
   ]
  },
  {
   "cell_type": "code",
   "execution_count": null,
   "id": "47baaddc",
   "metadata": {},
   "outputs": [],
   "source": [
    "7 / 3.15"
   ]
  },
  {
   "cell_type": "code",
   "execution_count": null,
   "id": "34750be4",
   "metadata": {},
   "outputs": [],
   "source": [
    "potential_spots"
   ]
  },
  {
   "cell_type": "markdown",
   "id": "f574077b",
   "metadata": {},
   "source": [
    "## retry 6 ink"
   ]
  },
  {
   "cell_type": "code",
   "execution_count": 25,
   "id": "4e351bb2",
   "metadata": {},
   "outputs": [],
   "source": [
    "illuminant = d65.interpolate_values(wavelengths10).data"
   ]
  },
  {
   "cell_type": "code",
   "execution_count": 26,
   "id": "06332068",
   "metadata": {},
   "outputs": [],
   "source": [
    "observe = tetrachromat.get_sensor_matrix(wavelengths10)"
   ]
  },
  {
   "cell_type": "code",
   "execution_count": 27,
   "id": "b28f525b",
   "metadata": {},
   "outputs": [],
   "source": [
    "denominator = np.matmul(observe, illuminant.T)[:, np.newaxis]"
   ]
  },
  {
   "cell_type": "code",
   "execution_count": 28,
   "id": "63580006",
   "metadata": {},
   "outputs": [],
   "source": [
    "def get_convex_hull_volume(ink_names):\n",
    "    inks = [all_inks[n] for n in ink_names]\n",
    "    neug = load_neugebauer(inks, paper)\n",
    "    primaries_array = (neug.spectras_array ** 50)\n",
    "    \n",
    "    numerator = np.matmul(observe, (primaries_array * illuminant).T)\n",
    "    observe_mix = np.divide(numerator, denominator) # 4 x 16\n",
    "    return ConvexHull(observe_mix.T).volume\n",
    "\n"
   ]
  },
  {
   "cell_type": "code",
   "execution_count": 29,
   "id": "0858fcd1",
   "metadata": {},
   "outputs": [],
   "source": [
    "from itertools import combinations"
   ]
  },
  {
   "cell_type": "code",
   "execution_count": 30,
   "id": "587d9548",
   "metadata": {},
   "outputs": [
    {
     "ename": "NameError",
     "evalue": "name 'potential_spots' is not defined",
     "output_type": "error",
     "traceback": [
      "\u001b[0;31m---------------------------------------------------------------------------\u001b[0m",
      "\u001b[0;31mNameError\u001b[0m                                 Traceback (most recent call last)",
      "Cell \u001b[0;32mIn[30], line 1\u001b[0m\n\u001b[0;32m----> 1\u001b[0m pairs \u001b[38;5;241m=\u001b[39m \u001b[38;5;28mlist\u001b[39m(combinations(\u001b[38;5;28mlist\u001b[39m(potential_spots), \u001b[38;5;241m2\u001b[39m))\n",
      "\u001b[0;31mNameError\u001b[0m: name 'potential_spots' is not defined"
     ]
    }
   ],
   "source": [
    "pairs = list(combinations(list(potential_spots), 2))"
   ]
  },
  {
   "cell_type": "code",
   "execution_count": 21,
   "id": "10925fd2",
   "metadata": {},
   "outputs": [
    {
     "data": {
      "text/plain": [
       "136"
      ]
     },
     "execution_count": 21,
     "metadata": {},
     "output_type": "execute_result"
    }
   ],
   "source": [
    "len(pairs)"
   ]
  },
  {
   "cell_type": "code",
   "execution_count": 22,
   "id": "1ceb6d3b",
   "metadata": {},
   "outputs": [],
   "source": [
    "from tqdm.notebook import tqdm"
   ]
  },
  {
   "cell_type": "code",
   "execution_count": null,
   "id": "9847593b",
   "metadata": {},
   "outputs": [],
   "source": []
  },
  {
   "cell_type": "code",
   "execution_count": 23,
   "id": "661c718d",
   "metadata": {},
   "outputs": [
    {
     "ename": "NameError",
     "evalue": "name 'top_volumes_all_inks' is not defined",
     "output_type": "error",
     "traceback": [
      "\u001b[0;31m---------------------------------------------------------------------------\u001b[0m",
      "\u001b[0;31mNameError\u001b[0m                                 Traceback (most recent call last)",
      "Cell \u001b[0;32mIn[23], line 2\u001b[0m\n\u001b[1;32m      1\u001b[0m top5_scores \u001b[38;5;241m=\u001b[39m []\n\u001b[0;32m----> 2\u001b[0m \u001b[38;5;28;01mfor\u001b[39;00m _, top4 \u001b[38;5;129;01min\u001b[39;00m tqdm(top_volumes_all_inks[:\u001b[38;5;241m10\u001b[39m]):\n\u001b[1;32m      3\u001b[0m     \u001b[38;5;28;01mfor\u001b[39;00m p \u001b[38;5;129;01min\u001b[39;00m tqdm(all_inks\u001b[38;5;241m.\u001b[39mkeys()):\n\u001b[1;32m      4\u001b[0m         top5 \u001b[38;5;241m=\u001b[39m top4 \u001b[38;5;241m+\u001b[39m [p]\n",
      "\u001b[0;31mNameError\u001b[0m: name 'top_volumes_all_inks' is not defined"
     ]
    }
   ],
   "source": [
    "top5_scores = []\n",
    "for _, top4 in tqdm(top_volumes_all_inks[:10]):\n",
    "    for p in tqdm(all_inks.keys()):\n",
    "        top5 = top4 + [p]\n",
    "        score = get_convex_hull_volume(top5)\n",
    "        top5_scores.append((score, top5))"
   ]
  },
  {
   "cell_type": "code",
   "execution_count": null,
   "id": "2791b2b5",
   "metadata": {},
   "outputs": [],
   "source": [
    "top5_scores.sort(reverse=True)\n",
    "top5_scores"
   ]
  },
  {
   "cell_type": "code",
   "execution_count": null,
   "id": "87a13b5c",
   "metadata": {},
   "outputs": [],
   "source": [
    "spot_candidates = set()\n",
    "for _, inks in top5_scores[:100]:\n",
    "    spot_candidates.update(inks)"
   ]
  },
  {
   "cell_type": "code",
   "execution_count": null,
   "id": "d6f7a47a",
   "metadata": {},
   "outputs": [],
   "source": [
    "len(spot_candidates)"
   ]
  },
  {
   "cell_type": "code",
   "execution_count": null,
   "id": "966ebb0a",
   "metadata": {},
   "outputs": [],
   "source": [
    "spot_candidates"
   ]
  },
  {
   "cell_type": "code",
   "execution_count": null,
   "id": "360d9040",
   "metadata": {},
   "outputs": [],
   "source": [
    "spot_candidates.remove(\"Platinum violet\")\n",
    "spot_candidates.remove('Lamy red')\n",
    "spot_candidates.remove('V karol ')"
   ]
  },
  {
   "cell_type": "code",
   "execution_count": null,
   "id": "795bdaff",
   "metadata": {},
   "outputs": [],
   "source": [
    "pairs = list(combinations(list(spot_candidates), 2))"
   ]
  },
  {
   "cell_type": "code",
   "execution_count": null,
   "id": "d225ca4f",
   "metadata": {},
   "outputs": [],
   "source": [
    "len(pairs)"
   ]
  },
  {
   "cell_type": "code",
   "execution_count": null,
   "id": "ac014fe7",
   "metadata": {},
   "outputs": [],
   "source": [
    "top_volumes_all_inks"
   ]
  },
  {
   "cell_type": "code",
   "execution_count": null,
   "id": "e4048cc9",
   "metadata": {
    "code_folding": []
   },
   "outputs": [],
   "source": [
    "top6_scores = []\n",
    "for _, top4 in [[1, ['Lamy red', 'Di citrus yellow','Mg turquoise', 'Platinum violet']]]:\n",
    "    for p in tqdm(pairs):\n",
    "        top6 = top4 + list(p)\n",
    "        score = get_convex_hull_volume(top6)\n",
    "        top6_scores.append((score, top6))"
   ]
  },
  {
   "cell_type": "code",
   "execution_count": null,
   "id": "c1d7829f",
   "metadata": {},
   "outputs": [],
   "source": [
    "top6_scores.sort(reverse=True)"
   ]
  },
  {
   "cell_type": "code",
   "execution_count": null,
   "id": "fd16cb3b",
   "metadata": {},
   "outputs": [],
   "source": [
    "top6_scores"
   ]
  },
  {
   "cell_type": "code",
   "execution_count": null,
   "id": "32416cc3",
   "metadata": {},
   "outputs": [],
   "source": [
    "all_inks[\"Kaweco green\"].plot()"
   ]
  },
  {
   "cell_type": "code",
   "execution_count": null,
   "id": "fc14bc83",
   "metadata": {},
   "outputs": [],
   "source": [
    "all_inks[\"V maskara \"].plot()"
   ]
  },
  {
   "cell_type": "markdown",
   "id": "baf2ecc5",
   "metadata": {},
   "source": [
    "## examine"
   ]
  },
  {
   "cell_type": "code",
   "execution_count": 24,
   "id": "fbf77127",
   "metadata": {},
   "outputs": [],
   "source": [
    "to_examine = [['Lamy red',\n",
    "   'Di citrus yellow',\n",
    "   'Mg turquoise',\n",
    "   'Platinum violet',\n",
    "   'V maskara ',\n",
    "   'Kaweco green'],\n",
    "              ['Lamy red',\n",
    "   'Di citrus yellow',\n",
    "   'Mg turquoise',\n",
    "   'Platinum violet',\n",
    "   'Bay state blue',\n",
    "   'Kaweco green'],\n",
    "              ['Lamy red',\n",
    "   'Di citrus yellow',\n",
    "   'Mg turquoise',\n",
    "   'Platinum violet',\n",
    "   'Bay state blue',\n",
    "   'D ancient copper'],\n",
    "               ['Lamy red',\n",
    "   'Di citrus yellow',\n",
    "   'Mg turquoise',\n",
    "   'Platinum violet',\n",
    "   'V maskara ',\n",
    "   'Bay state blue']\n",
    "             ]"
   ]
  },
  {
   "cell_type": "code",
   "execution_count": 27,
   "id": "8c79fb25",
   "metadata": {},
   "outputs": [
    {
     "name": "stderr",
     "output_type": "stream",
     "text": [
      "Generating point cloud: 858it [06:26,  2.22it/s]                                                                                                                                           \n"
     ]
    },
    {
     "name": "stdout",
     "output_type": "stream",
     "text": [
      "Point cloud generated.\n",
      "Point cloud saved to ../outputs/V_maskara_,Kaweco_green_point_cloud5.\n",
      "maximum distance is 1.5 with percentages (0.95000000000000007, 0.90000000000000002, 0.0, 1.0, 0.0, 0.0) and (0.95000000000000007, 0.20000000000000001, 0.10000000000000001, 0.050000000000000003, 0.15000000000000002, 0.20000000000000001)\n"
     ]
    },
    {
     "name": "stderr",
     "output_type": "stream",
     "text": [
      "Generating point cloud: 858it [06:25,  2.23it/s]                                                                                                                                           \n"
     ]
    },
    {
     "name": "stdout",
     "output_type": "stream",
     "text": [
      "Point cloud generated.\n",
      "Point cloud saved to ../outputs/Bay_state_blue,Kaweco_green_point_cloud5.\n",
      "maximum distance is 1.5 with percentages (0.95000000000000007, 0.90000000000000002, 0.0, 1.0, 0.0, 0.0) and (1.0, 0.25, 0.25, 0.0, 0.050000000000000003, 0.10000000000000001)\n"
     ]
    },
    {
     "name": "stderr",
     "output_type": "stream",
     "text": [
      "Generating point cloud: 858it [06:44,  2.12it/s]                                                                                                                                           \n"
     ]
    },
    {
     "name": "stdout",
     "output_type": "stream",
     "text": [
      "Point cloud generated.\n",
      "Point cloud saved to ../outputs/Bay_state_blue,D_ancient_copper_point_cloud5.\n",
      "maximum distance is 1.5 with percentages (1.0, 0.30000000000000004, 0.0, 0.95000000000000007, 0.0, 0.20000000000000001) and (1.0, 0.050000000000000003, 0.0, 0.0, 0.35000000000000003, 0.050000000000000003)\n"
     ]
    },
    {
     "name": "stderr",
     "output_type": "stream",
     "text": [
      "Generating point cloud: 858it [06:23,  2.24it/s]                                                                                                                                           \n"
     ]
    },
    {
     "name": "stdout",
     "output_type": "stream",
     "text": [
      "Point cloud generated.\n",
      "Point cloud saved to ../outputs/V_maskara_,Bay_state_blue_point_cloud5.\n",
      "maximum distance is 1.5 with percentages (1.0, 0.70000000000000007, 0.0, 1.0, 0.050000000000000003, 0.0) and (1.0, 0.20000000000000001, 0.20000000000000001, 0.0, 0.0, 0.20000000000000001)\n"
     ]
    }
   ],
   "source": [
    "for inkset in to_examine:\n",
    "    g = InkGamut([all_inks[n] for n in inkset], paper, d65)\n",
    "    path = f\"../outputs/{inkset[-2]},{inkset[-1]}\".replace(\" \",\"_\")\n",
    "    g.get_width(tetrachromat, stepsize=0.05, save=path)"
   ]
  },
  {
   "cell_type": "code",
   "execution_count": 28,
   "id": "8412f1e2",
   "metadata": {},
   "outputs": [],
   "source": [
    "for a in ['V_maskara_,Bay_state_blue',\n",
    "          'Bay_state_blue,D_ancient_copper',\n",
    "          'Bay_state_blue,Kaweco_green',\n",
    "          'V_maskara_,Kaweco_green'\n",
    "         ]:\n",
    "    data_pc = np.load(f'../outputs/{a}_point_cloud5.npy')\n",
    "    data_perc = np.load(f'../outputs/{a}_percentages5.npy')\n",
    "    \n",
    "    np.save(f'../outptuts/{a}_point_cloud5.npy', data_pc.astype(np.float16))\n",
    "    np.save(f'../outputs/{a}_percentages5.npy', data_perc.astype(np.float16))"
   ]
  },
  {
   "cell_type": "markdown",
   "id": "a1a7a956",
   "metadata": {},
   "source": [
    "## examining good spots"
   ]
  },
  {
   "cell_type": "code",
   "execution_count": null,
   "id": "77ec6683",
   "metadata": {},
   "outputs": [],
   "source": [
    "all_inks[\"Pw denneweg groen \"].plot()"
   ]
  },
  {
   "cell_type": "code",
   "execution_count": null,
   "id": "fec3b178",
   "metadata": {},
   "outputs": [],
   "source": [
    "all_inks['Bay state blue'].plot()\n",
    "all_inks['V karol '].plot()"
   ]
  },
  {
   "cell_type": "code",
   "execution_count": null,
   "id": "853c797d",
   "metadata": {},
   "outputs": [],
   "source": [
    "for n in ['Lamy red',\n",
    "   'Di citrus yellow',\n",
    "   'Mg turquoise',\n",
    "   'Platinum violet',\n",
    "   'Bay state blue',\n",
    "   'V karol ']:\n",
    "    all_inks[n].plot()"
   ]
  },
  {
   "cell_type": "code",
   "execution_count": null,
   "id": "d6baca5b",
   "metadata": {},
   "outputs": [],
   "source": [
    "for n in ['Lamy red',\n",
    "   'Di citrus yellow',\n",
    "   'Mg turquoise',\n",
    "   'Platinum violet',\n",
    "   ]:\n",
    "    all_inks[n].plot()\n",
    "Cone.m_cone().plot(color='k')\n",
    "Cone.q_cone().plot(color='k')\n",
    "Cone.l_cone().plot(color='k')"
   ]
  },
  {
   "cell_type": "code",
   "execution_count": null,
   "id": "d8955fa6",
   "metadata": {},
   "outputs": [],
   "source": []
  }
 ],
 "metadata": {
  "kernelspec": {
   "display_name": "chromalab",
   "language": "python",
   "name": "chromalab"
  },
  "language_info": {
   "codemirror_mode": {
    "name": "ipython",
    "version": 3
   },
   "file_extension": ".py",
   "mimetype": "text/x-python",
   "name": "python",
   "nbconvert_exporter": "python",
   "pygments_lexer": "ipython3",
   "version": "3.11.6"
  },
  "toc": {
   "base_numbering": 1,
   "nav_menu": {},
   "number_sections": true,
   "sideBar": true,
   "skip_h1_title": false,
   "title_cell": "Table of Contents",
   "title_sidebar": "Contents",
   "toc_cell": false,
   "toc_position": {
    "height": "calc(100% - 180px)",
    "left": "10px",
    "top": "150px",
    "width": "345.594px"
   },
   "toc_section_display": true,
   "toc_window_display": false
  }
 },
 "nbformat": 4,
 "nbformat_minor": 5
}

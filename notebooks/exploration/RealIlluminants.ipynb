{
 "cells": [
  {
   "cell_type": "code",
   "execution_count": 1,
   "id": "055a7f41",
   "metadata": {},
   "outputs": [],
   "source": [
    "import csv\n",
    "import numpy as np\n",
    "import matplotlib.pyplot as plt\n",
    "import numpy.typing as npt\n",
    "import torch as th"
   ]
  },
  {
   "cell_type": "code",
   "execution_count": 2,
   "id": "842cfede",
   "metadata": {},
   "outputs": [
    {
     "ename": "KeyboardInterrupt",
     "evalue": "",
     "output_type": "error",
     "traceback": [
      "\u001b[0;31m---------------------------------------------------------------------------\u001b[0m",
      "\u001b[0;31mKeyboardInterrupt\u001b[0m                         Traceback (most recent call last)",
      "Cell \u001b[0;32mIn[2], line 1\u001b[0m\n\u001b[0;32m----> 1\u001b[0m \u001b[38;5;28;01mfrom\u001b[39;00m \u001b[38;5;21;01mchromalab\u001b[39;00m\u001b[38;5;21;01m.\u001b[39;00m\u001b[38;5;21;01mobserver\u001b[39;00m \u001b[38;5;28;01mimport\u001b[39;00m Observer, Cone\n\u001b[1;32m      2\u001b[0m \u001b[38;5;28;01mfrom\u001b[39;00m \u001b[38;5;21;01mchromalab\u001b[39;00m\u001b[38;5;21;01m.\u001b[39;00m\u001b[38;5;21;01minks\u001b[39;00m \u001b[38;5;28;01mimport\u001b[39;00m Neugebauer, InkGamut, CellNeugebauer, Pigment\n\u001b[1;32m      3\u001b[0m \u001b[38;5;28;01mfrom\u001b[39;00m \u001b[38;5;21;01mchromalab\u001b[39;00m\u001b[38;5;21;01m.\u001b[39;00m\u001b[38;5;21;01mspectra\u001b[39;00m \u001b[38;5;28;01mimport\u001b[39;00m Spectra, Illuminant\n",
      "File \u001b[0;32m~/Documents/Python/ChromaLab/chromalab/observer.py:9\u001b[0m\n\u001b[1;32m      6\u001b[0m \u001b[38;5;28;01mimport\u001b[39;00m \u001b[38;5;21;01mnumpy\u001b[39;00m\u001b[38;5;21;01m.\u001b[39;00m\u001b[38;5;21;01mtyping\u001b[39;00m \u001b[38;5;28;01mas\u001b[39;00m \u001b[38;5;21;01mnpt\u001b[39;00m\n\u001b[1;32m      7\u001b[0m \u001b[38;5;28;01mimport\u001b[39;00m \u001b[38;5;21;01mpandas\u001b[39;00m \u001b[38;5;28;01mas\u001b[39;00m \u001b[38;5;21;01mpd\u001b[39;00m\n\u001b[0;32m----> 9\u001b[0m \u001b[38;5;28;01mfrom\u001b[39;00m \u001b[38;5;21;01m.\u001b[39;00m\u001b[38;5;21;01mspectra\u001b[39;00m \u001b[38;5;28;01mimport\u001b[39;00m Spectra\n\u001b[1;32m     12\u001b[0m \u001b[38;5;28;01mdef\u001b[39;00m \u001b[38;5;21mBaylorNomogram\u001b[39m(wls, lambdaMax: \u001b[38;5;28mint\u001b[39m):\n\u001b[1;32m     13\u001b[0m \u001b[38;5;250m    \u001b[39m\u001b[38;5;124;03m\"\"\"\u001b[39;00m\n\u001b[1;32m     14\u001b[0m \u001b[38;5;124;03m    Baylor, Nunn, and Schnapf, 1987.\u001b[39;00m\n\u001b[1;32m     15\u001b[0m \u001b[38;5;124;03m    \"\"\"\u001b[39;00m\n",
      "File \u001b[0;32m~/Documents/Python/ChromaLab/chromalab/spectra.py:9\u001b[0m\n\u001b[1;32m      5\u001b[0m \u001b[38;5;28;01mimport\u001b[39;00m \u001b[38;5;21;01mnumpy\u001b[39;00m\u001b[38;5;21;01m.\u001b[39;00m\u001b[38;5;21;01mtyping\u001b[39;00m \u001b[38;5;28;01mas\u001b[39;00m \u001b[38;5;21;01mnpt\u001b[39;00m\n\u001b[1;32m      7\u001b[0m \u001b[38;5;28;01mimport\u001b[39;00m \u001b[38;5;21;01mwarnings\u001b[39;00m\n\u001b[0;32m----> 9\u001b[0m \u001b[38;5;28;01mfrom\u001b[39;00m \u001b[38;5;21;01mcolour\u001b[39;00m \u001b[38;5;28;01mimport\u001b[39;00m SDS_ILLUMINANTS, SDS_LIGHT_SOURCES, sd_to_XYZ, XYZ_to_xy, XYZ_to_sRGB, SpectralDistribution, notation\n\u001b[1;32m     12\u001b[0m \u001b[38;5;28;01mclass\u001b[39;00m \u001b[38;5;21;01mSpectra\u001b[39;00m:\n\u001b[1;32m     13\u001b[0m     \u001b[38;5;28;01mdef\u001b[39;00m \u001b[38;5;21m__init__\u001b[39m(\u001b[38;5;28mself\u001b[39m, array: Optional[Union[npt\u001b[38;5;241m.\u001b[39mNDArray]] \u001b[38;5;241m=\u001b[39m \u001b[38;5;28;01mNone\u001b[39;00m,\n\u001b[1;32m     14\u001b[0m                  wavelengths: Optional[npt\u001b[38;5;241m.\u001b[39mNDArray] \u001b[38;5;241m=\u001b[39m \u001b[38;5;28;01mNone\u001b[39;00m, data: Optional[npt\u001b[38;5;241m.\u001b[39mNDArray] \u001b[38;5;241m=\u001b[39m \u001b[38;5;28;01mNone\u001b[39;00m,\n\u001b[1;32m     15\u001b[0m                  normalized: Optional[\u001b[38;5;28mbool\u001b[39m] \u001b[38;5;241m=\u001b[39m \u001b[38;5;28;01mTrue\u001b[39;00m, \u001b[38;5;241m*\u001b[39m\u001b[38;5;241m*\u001b[39mkwargs):\n",
      "File \u001b[0;32m~/.local/lib/python3.11/site-packages/colour/__init__.py:190\u001b[0m\n\u001b[1;32m    141\u001b[0m \u001b[38;5;28;01mfrom\u001b[39;00m \u001b[38;5;21;01m.\u001b[39;00m\u001b[38;5;21;01mblindness\u001b[39;00m \u001b[38;5;28;01mimport\u001b[39;00m (\n\u001b[1;32m    142\u001b[0m     CVD_MATRICES_MACHADO2010,\n\u001b[1;32m    143\u001b[0m     matrix_anomalous_trichromacy_Machado2009,\n\u001b[1;32m    144\u001b[0m     matrix_cvd_Machado2009,\n\u001b[1;32m    145\u001b[0m     msds_cmfs_anomalous_trichromacy_Machado2009,\n\u001b[1;32m    146\u001b[0m )\n\u001b[1;32m    147\u001b[0m \u001b[38;5;28;01mfrom\u001b[39;00m \u001b[38;5;21;01m.\u001b[39;00m\u001b[38;5;21;01mappearance\u001b[39;00m \u001b[38;5;28;01mimport\u001b[39;00m (\n\u001b[1;32m    148\u001b[0m     CAM_Specification_ATD95,\n\u001b[1;32m    149\u001b[0m     CAM_Specification_CAM16,\n\u001b[0;32m   (...)\u001b[0m\n\u001b[1;32m    188\u001b[0m     ZCAM_to_XYZ,\n\u001b[1;32m    189\u001b[0m )\n\u001b[0;32m--> 190\u001b[0m \u001b[38;5;28;01mfrom\u001b[39;00m \u001b[38;5;21;01m.\u001b[39;00m\u001b[38;5;21;01mdifference\u001b[39;00m \u001b[38;5;28;01mimport\u001b[39;00m (\n\u001b[1;32m    191\u001b[0m     DELTA_E_METHODS,\n\u001b[1;32m    192\u001b[0m     delta_E,\n\u001b[1;32m    193\u001b[0m     INDEX_STRESS_METHODS,\n\u001b[1;32m    194\u001b[0m     index_stress,\n\u001b[1;32m    195\u001b[0m )\n\u001b[1;32m    196\u001b[0m \u001b[38;5;28;01mfrom\u001b[39;00m \u001b[38;5;21;01m.\u001b[39;00m\u001b[38;5;21;01mgeometry\u001b[39;00m \u001b[38;5;28;01mimport\u001b[39;00m (\n\u001b[1;32m    197\u001b[0m     PRIMITIVE_METHODS,\n\u001b[1;32m    198\u001b[0m     primitive,\n\u001b[1;32m    199\u001b[0m     PRIMITIVE_VERTICES_METHODS,\n\u001b[1;32m    200\u001b[0m     primitive_vertices,\n\u001b[1;32m    201\u001b[0m )\n\u001b[1;32m    202\u001b[0m \u001b[38;5;28;01mfrom\u001b[39;00m \u001b[38;5;21;01m.\u001b[39;00m\u001b[38;5;21;01mio\u001b[39;00m \u001b[38;5;28;01mimport\u001b[39;00m (\n\u001b[1;32m    203\u001b[0m     Header_IESTM2714,\n\u001b[1;32m    204\u001b[0m     LUT1D,\n\u001b[0;32m   (...)\u001b[0m\n\u001b[1;32m    221\u001b[0m     write_sds_to_csv_file,\n\u001b[1;32m    222\u001b[0m )\n",
      "File \u001b[0;32m~/.local/lib/python3.11/site-packages/colour/difference/__init__.py:54\u001b[0m\n\u001b[1;32m     45\u001b[0m \u001b[38;5;28;01mfrom\u001b[39;00m \u001b[38;5;21;01m.\u001b[39;00m\u001b[38;5;21;01mcam16_ucs\u001b[39;00m \u001b[38;5;28;01mimport\u001b[39;00m delta_E_CAM16LCD, delta_E_CAM16SCD, delta_E_CAM16UCS\n\u001b[1;32m     46\u001b[0m \u001b[38;5;28;01mfrom\u001b[39;00m \u001b[38;5;21;01m.\u001b[39;00m\u001b[38;5;21;01mdelta_e\u001b[39;00m \u001b[38;5;28;01mimport\u001b[39;00m (\n\u001b[1;32m     47\u001b[0m     JND_CIE1976,\n\u001b[1;32m     48\u001b[0m     delta_E_CIE1976,\n\u001b[0;32m   (...)\u001b[0m\n\u001b[1;32m     52\u001b[0m     delta_E_ITP,\n\u001b[1;32m     53\u001b[0m )\n\u001b[0;32m---> 54\u001b[0m \u001b[38;5;28;01mfrom\u001b[39;00m \u001b[38;5;21;01m.\u001b[39;00m\u001b[38;5;21;01mdin99\u001b[39;00m \u001b[38;5;28;01mimport\u001b[39;00m delta_E_DIN99\n\u001b[1;32m     55\u001b[0m \u001b[38;5;28;01mfrom\u001b[39;00m \u001b[38;5;21;01m.\u001b[39;00m\u001b[38;5;21;01mhuang2015\u001b[39;00m \u001b[38;5;28;01mimport\u001b[39;00m power_function_Huang2015\n\u001b[1;32m     56\u001b[0m \u001b[38;5;28;01mfrom\u001b[39;00m \u001b[38;5;21;01m.\u001b[39;00m\u001b[38;5;21;01mstress\u001b[39;00m \u001b[38;5;28;01mimport\u001b[39;00m index_stress_Garcia2007, INDEX_STRESS_METHODS, index_stress\n",
      "File \u001b[0;32m<frozen importlib._bootstrap>:1176\u001b[0m, in \u001b[0;36m_find_and_load\u001b[0;34m(name, import_)\u001b[0m\n",
      "File \u001b[0;32m<frozen importlib._bootstrap>:1147\u001b[0m, in \u001b[0;36m_find_and_load_unlocked\u001b[0;34m(name, import_)\u001b[0m\n",
      "File \u001b[0;32m<frozen importlib._bootstrap>:690\u001b[0m, in \u001b[0;36m_load_unlocked\u001b[0;34m(spec)\u001b[0m\n",
      "File \u001b[0;32m<frozen importlib._bootstrap_external>:936\u001b[0m, in \u001b[0;36mexec_module\u001b[0;34m(self, module)\u001b[0m\n",
      "File \u001b[0;32m<frozen importlib._bootstrap_external>:1032\u001b[0m, in \u001b[0;36mget_code\u001b[0;34m(self, fullname)\u001b[0m\n",
      "File \u001b[0;32m<frozen importlib._bootstrap_external>:1131\u001b[0m, in \u001b[0;36mget_data\u001b[0;34m(self, path)\u001b[0m\n",
      "\u001b[0;31mKeyboardInterrupt\u001b[0m: "
     ]
    }
   ],
   "source": [
    "from chromalab.observer import Observer, Cone\n",
    "from chromalab.inks import Neugebauer, InkGamut, CellNeugebauer, Pigment\n",
    "from chromalab.spectra import Spectra, Illuminant"
   ]
  },
  {
   "cell_type": "code",
   "execution_count": null,
   "id": "a6792543",
   "metadata": {},
   "outputs": [],
   "source": [
    "from chromalab.inks import InkLibrary"
   ]
  },
  {
   "cell_type": "code",
   "execution_count": null,
   "id": "be6b2c5e",
   "metadata": {},
   "outputs": [],
   "source": [
    "%load_ext autoreload\n",
    "%autoreload 2"
   ]
  },
  {
   "cell_type": "code",
   "execution_count": null,
   "id": "fcf3643c",
   "metadata": {
    "scrolled": true
   },
   "outputs": [],
   "source": [
    "wavelengths_strings = np.load(\"../data/pr650_data/elevator_black_wavelengths.npy\")\n",
    "wavelengths = np.array([s.rstrip('.') for s in wavelengths_strings]).astype(int)"
   ]
  },
  {
   "cell_type": "code",
   "execution_count": null,
   "id": "1df0e50d",
   "metadata": {},
   "outputs": [],
   "source": [
    "wavelengths"
   ]
  },
  {
   "cell_type": "code",
   "execution_count": null,
   "id": "bbea55a8",
   "metadata": {},
   "outputs": [],
   "source": [
    "elevator_white = np.load(\"../data/pr650_data/elevator_white_data.npy\").astype(\"float\")\n",
    "elevator_salmon = np.load(\"../data/pr650_data/elevator_salmon_data.npy\").astype(\"float\")\n",
    "elevator_black = np.load(\"../data/pr650_data/elevator_black_data.npy\").astype(\"float\")\n",
    "elevator_orange = np.load(\"../data/pr650_data/elevator_orange_data.npy\").astype(\"float\")"
   ]
  },
  {
   "cell_type": "code",
   "execution_count": null,
   "id": "9b0aa874",
   "metadata": {},
   "outputs": [],
   "source": [
    "elevator_white_spectra = Spectra(wavelengths=wavelengths, data=elevator_white, normalized=False)\n",
    "elevator_salmon_spectra = Spectra(wavelengths=wavelengths, data=elevator_salmon, normalized=False)\n",
    "elevator_black_spectra = Spectra(wavelengths=wavelengths, data=elevator_black, normalized=False)\n",
    "elevator_orange_spectra = Spectra(wavelengths=wavelengths, data=elevator_orange, normalized=False)\n",
    "wall_data_spectra = Spectra(wavelengths=wavelengths, data=wall_data, normalized=False)"
   ]
  },
  {
   "cell_type": "code",
   "execution_count": null,
   "id": "378633f5",
   "metadata": {},
   "outputs": [],
   "source": [
    "wavelengths1 = np.arange(390, 701, 1)\n",
    "wavelengths10 = np.arange(400, 701, 10)"
   ]
  },
  {
   "cell_type": "code",
   "execution_count": null,
   "id": "06620fd0",
   "metadata": {},
   "outputs": [],
   "source": [
    "csv_120224 = {}\n",
    "with open(f'../data/nix/012024.csv') as csvf:\n",
    "    spamreader = csv.reader(csvf, delimiter=';')\n",
    "    for i, row in enumerate(spamreader):\n",
    "        if i >= 4:\n",
    "            name = row[4]\n",
    "            color_data = np.array(row[33:],dtype=float)\n",
    "            spectra = Spectra(data=color_data, wavelengths=wavelengths10)\n",
    "            \n",
    "            csv_120224[name] = spectra"
   ]
  },
  {
   "cell_type": "code",
   "execution_count": null,
   "id": "e61877e6",
   "metadata": {
    "scrolled": true
   },
   "outputs": [],
   "source": [
    "paper = csv_120224[\"00 00 00 00\"]"
   ]
  },
  {
   "cell_type": "code",
   "execution_count": null,
   "id": "cf9c7813",
   "metadata": {},
   "outputs": [],
   "source": [
    "csv_011424 = {}\n",
    "with open(f'../data/nix/011424.csv') as csvf:\n",
    "    spamreader = csv.reader(csvf, delimiter=';')\n",
    "    for i, row in enumerate(spamreader):\n",
    "        if i >= 4:\n",
    "            name = row[4]\n",
    "            color_data = np.array(row[33:],dtype=float)\n",
    "            spectra = Spectra(data=color_data, wavelengths=wavelengths10)\n",
    "            \n",
    "            csv_011424[name] = spectra"
   ]
  },
  {
   "cell_type": "code",
   "execution_count": null,
   "id": "fa7f75c7",
   "metadata": {},
   "outputs": [],
   "source": [
    "csv_011424.keys()"
   ]
  },
  {
   "cell_type": "code",
   "execution_count": null,
   "id": "328bdb77",
   "metadata": {},
   "outputs": [],
   "source": [
    "white = csv_011424[\"White\"]\n",
    "salmon = csv_011424[\"Salmon\"]\n",
    "orange = csv_011424[\"Orange\"]\n",
    "black = csv_011424[\"Black\"]"
   ]
  },
  {
   "cell_type": "code",
   "execution_count": null,
   "id": "63066c57",
   "metadata": {},
   "outputs": [],
   "source": []
  },
  {
   "cell_type": "code",
   "execution_count": null,
   "id": "5915d4bd",
   "metadata": {},
   "outputs": [],
   "source": []
  },
  {
   "cell_type": "code",
   "execution_count": null,
   "id": "e4acad92",
   "metadata": {},
   "outputs": [],
   "source": [
    "elevator_illuminant_measure_white = (elevator_white_spectra / white) \n",
    "elevator_illuminant_measure_black = (elevator_black_spectra / black) \n",
    "elevator_illuminant_measure_orange = (elevator_orange_spectra / orange) \n",
    "elevator_illuminant_measure_salmon = (elevator_salmon_spectra / salmon) "
   ]
  },
  {
   "cell_type": "code",
   "execution_count": null,
   "id": "4095d361",
   "metadata": {},
   "outputs": [],
   "source": [
    "for sample in [a, elevator_illuminant_measure_black]:\n",
    "    (~sample).plot()"
   ]
  },
  {
   "cell_type": "code",
   "execution_count": null,
   "id": "adb2a7e2",
   "metadata": {
    "code_folding": [],
    "scrolled": true
   },
   "outputs": [],
   "source": [
    "for sample in [elevator_illuminant_measure_salmon, elevator_illuminant_measure_orange]:\n",
    "    (~sample).plot()"
   ]
  },
  {
   "cell_type": "code",
   "execution_count": null,
   "id": "61829b6d",
   "metadata": {},
   "outputs": [],
   "source": [
    "elevator_illuminant = ~elevator_illuminant_measure_white"
   ]
  },
  {
   "cell_type": "code",
   "execution_count": null,
   "id": "8db78617",
   "metadata": {},
   "outputs": [],
   "source": [
    "np.save(\"../data/illuminants/elevator\", elevator_illuminant.data)"
   ]
  },
  {
   "cell_type": "code",
   "execution_count": null,
   "id": "879dbb87",
   "metadata": {},
   "outputs": [],
   "source": [
    "wavelengths"
   ]
  },
  {
   "cell_type": "code",
   "execution_count": null,
   "id": "045bb2eb",
   "metadata": {},
   "outputs": [],
   "source": [
    "lobby_white = np.load(\"../data/pr650_data/lobby_white_data.npy\").astype(\"float\")"
   ]
  },
  {
   "cell_type": "code",
   "execution_count": null,
   "id": "aa3a5c9f",
   "metadata": {},
   "outputs": [],
   "source": [
    "lobby_white_spectra = Spectra(wavelengths=wavelengths, data=lobby_white, normalized=False)"
   ]
  },
  {
   "cell_type": "code",
   "execution_count": null,
   "id": "9a944b0a",
   "metadata": {},
   "outputs": [],
   "source": [
    "(~lobby_white_spectra).plot(name=\"lobby\")\n",
    "(~elevator_white_spectra).plot(name=\"elevator\")\n",
    "plt.legend()"
   ]
  },
  {
   "cell_type": "markdown",
   "id": "ceca2ac6",
   "metadata": {},
   "source": [
    "kekkery...."
   ]
  },
  {
   "cell_type": "code",
   "execution_count": null,
   "id": "6e817b4d",
   "metadata": {},
   "outputs": [],
   "source": [
    "from colour import SDS_LIGHT_SOURCES"
   ]
  },
  {
   "cell_type": "code",
   "execution_count": null,
   "id": "0c061d30",
   "metadata": {},
   "outputs": [],
   "source": [
    "wavelengths2 = SDS_LIGHT_SOURCES.get(a).wavelengths"
   ]
  },
  {
   "cell_type": "code",
   "execution_count": null,
   "id": "2035e6e5",
   "metadata": {
    "scrolled": true
   },
   "outputs": [],
   "source": [
    "wavelengths1.shape"
   ]
  },
  {
   "cell_type": "code",
   "execution_count": null,
   "id": "6e8c4c76",
   "metadata": {},
   "outputs": [],
   "source": [
    "light1 = elevator_illuminant.interpolate_values(wavelengths2).data"
   ]
  },
  {
   "cell_type": "code",
   "execution_count": null,
   "id": "e0d5269c",
   "metadata": {},
   "outputs": [],
   "source": [
    "lights = []\n",
    "for a in SDS_LIGHT_SOURCES:\n",
    "    light1 = Illuminant.get(a)\n",
    "    light2 = ~(elevator_illuminant.interpolate_values(light1.wavelengths))\n",
    "    \n",
    "    score = np.sum(np.square(light1.data - light2.data))\n",
    "    lights.append((score, a))\n",
    "lights.sort()\n",
    "lights"
   ]
  },
  {
   "cell_type": "code",
   "execution_count": null,
   "id": "29b70552",
   "metadata": {},
   "outputs": [],
   "source": [
    "wavelengths5 = np.arange(380, 781, 5)"
   ]
  },
  {
   "cell_type": "code",
   "execution_count": null,
   "id": "842d3be2",
   "metadata": {},
   "outputs": [],
   "source": [
    "SDS_LIGHT_SOURCES.get(\"Luxeon WW 2880\").wavelengths"
   ]
  },
  {
   "cell_type": "code",
   "execution_count": null,
   "id": "9eb23460",
   "metadata": {},
   "outputs": [],
   "source": [
    "Illuminant.get('PHOS-2').plot()"
   ]
  },
  {
   "cell_type": "code",
   "execution_count": null,
   "id": "854a6faf",
   "metadata": {},
   "outputs": [],
   "source": [
    "Illuminant.get(\"Luxeon WW 2880\").plot()\n",
    "elevator_illuminant.plot()"
   ]
  }
 ],
 "metadata": {
  "kernelspec": {
   "display_name": "chromalab",
   "language": "python",
   "name": "chromalab"
  },
  "language_info": {
   "codemirror_mode": {
    "name": "ipython",
    "version": 3
   },
   "file_extension": ".py",
   "mimetype": "text/x-python",
   "name": "python",
   "nbconvert_exporter": "python",
   "pygments_lexer": "ipython3",
   "version": "3.11.6"
  },
  "toc": {
   "base_numbering": 1,
   "nav_menu": {},
   "number_sections": true,
   "sideBar": true,
   "skip_h1_title": false,
   "title_cell": "Table of Contents",
   "title_sidebar": "Contents",
   "toc_cell": false,
   "toc_position": {},
   "toc_section_display": true,
   "toc_window_display": false
  }
 },
 "nbformat": 4,
 "nbformat_minor": 5
}

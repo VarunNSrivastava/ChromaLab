{
 "cells": [
  {
   "cell_type": "code",
   "execution_count": 8,
   "id": "3c3f615c",
   "metadata": {},
   "outputs": [],
   "source": [
    "from chromalab.observer import Observer, Cone\n",
    "from chromalab.inks import Neugebauer, InkGamut, CellNeugebauer, Pigment\n",
    "from chromalab.spectra import Spectra, Illuminant"
   ]
  },
  {
   "cell_type": "code",
   "execution_count": 1,
   "id": "0c18823c",
   "metadata": {},
   "outputs": [],
   "source": [
    "import numpy as np\n",
    "from time import perf_counter"
   ]
  },
  {
   "cell_type": "code",
   "execution_count": 9,
   "id": "13d45183",
   "metadata": {},
   "outputs": [],
   "source": [
    "%load_ext autoreload\n",
    "%autoreload 2"
   ]
  },
  {
   "cell_type": "code",
   "execution_count": 2,
   "id": "7018a5ed",
   "metadata": {},
   "outputs": [],
   "source": [
    "n = 4"
   ]
  },
  {
   "cell_type": "code",
   "execution_count": 3,
   "id": "40956b2b",
   "metadata": {},
   "outputs": [],
   "source": [
    "W = []\n",
    "for i in range(0, 2 ** n):\n",
    "    binary_str = format(i, f'0{n}b')\n",
    "    w = tuple(map(lambda x: int(x), binary_str))\n",
    "    W.append(w)\n",
    "W = np.array(W)\n",
    "W_expanded = W[np.newaxis, :, :]  # Shape: 1 x 16 x 4"
   ]
  },
  {
   "cell_type": "code",
   "execution_count": 4,
   "id": "2a86574c",
   "metadata": {},
   "outputs": [],
   "source": [
    "def time_operation(K):\n",
    "    X = np.random.rand(K, 4)\n",
    "    X_expanded = X[:, np.newaxis, :]  # Shape: K x 1 x 4\n",
    "\n",
    "    start = perf_counter()\n",
    "    result = X_expanded * W_expanded\n",
    "    end = perf_counter()\n",
    "\n",
    "    elapsed_time = end - start\n",
    "    return elapsed_time"
   ]
  },
  {
   "cell_type": "code",
   "execution_count": 7,
   "id": "bd50b3a0",
   "metadata": {},
   "outputs": [
    {
     "name": "stdout",
     "output_type": "stream",
     "text": [
      "Time for K=1.000000e+00: 0.000045 seconds. Total of 4.500e-05 ops/s\n",
      "Time for K=1.000000e+01: 0.000185 seconds. Total of 1.845e-05 ops/s\n",
      "Time for K=1.000000e+02: 0.000087 seconds. Total of 8.738e-07 ops/s\n",
      "Time for K=1.000000e+05: 0.028223 seconds. Total of 2.822e-07 ops/s\n",
      "Time for K=1.000000e+06: 0.200950 seconds. Total of 2.010e-07 ops/s\n",
      "Time for K=1.000000e+07: 1.969377 seconds. Total of 1.969e-07 ops/s\n",
      "Time for K=1.000000e+08: 36.440734 seconds. Total of 3.644e-07 ops/s\n"
     ]
    }
   ],
   "source": [
    "for K in [1, 10, 100, 10e4, 10e5, 10e6,10e7]:\n",
    "    elapsed_time = time_operation(int(K))\n",
    "    print(f\"Time for K={int(K):e}: {elapsed_time:.6f} seconds. Total of {elapsed_time / K:.3e} ops/s\")"
   ]
  },
  {
   "cell_type": "markdown",
   "id": "1dfda98f",
   "metadata": {},
   "source": [
    "batch size of about 100 seems optimal. what do with information..?"
   ]
  },
  {
   "cell_type": "markdown",
   "id": "18519826",
   "metadata": {},
   "source": [
    "## batch mix"
   ]
  },
  {
   "cell_type": "code",
   "execution_count": 12,
   "id": "3893963a",
   "metadata": {},
   "outputs": [],
   "source": [
    "import csv\n",
    "import numpy as np\n",
    "import matplotlib.pyplot as plt\n",
    "import numpy.typing as npt\n",
    "import torch as th"
   ]
  },
  {
   "cell_type": "code",
   "execution_count": 13,
   "id": "3e9a6d22",
   "metadata": {},
   "outputs": [],
   "source": [
    "wavelengths1 = np.arange(390, 701, 1)\n",
    "wavelengths10 = np.arange(400, 701, 10)"
   ]
  },
  {
   "cell_type": "code",
   "execution_count": 21,
   "id": "b0642976",
   "metadata": {},
   "outputs": [],
   "source": [
    "cmy_primaries_dict = {}\n",
    "\n",
    "primary_fns = [\n",
    "    \"000\",\n",
    "    \"001\",\n",
    "    \"010\",\n",
    "    \"100\",\n",
    "    \"011\",\n",
    "    \"110\",\n",
    "    \"101\",\n",
    "    \"111\",\n",
    "]\n",
    "\n",
    "for fn in primary_fns:\n",
    "    with open(f'../data/nix/PrintColors/{fn}.csv') as csvf:\n",
    "        spamreader = csv.reader(csvf, delimiter=';')\n",
    "        for i, row in enumerate(spamreader):\n",
    "            if i == 4:\n",
    "                color_data = np.array(row[33:],dtype=float)\n",
    "                spectra = Spectra(data=color_data, wavelengths=wavelengths10)\n",
    "                cmy_primaries_dict[fn] = spectra"
   ]
  },
  {
   "cell_type": "code",
   "execution_count": 19,
   "id": "2b157079",
   "metadata": {},
   "outputs": [
    {
     "ename": "KeyError",
     "evalue": "'Epson C'",
     "output_type": "error",
     "traceback": [
      "\u001b[0;31m---------------------------------------------------------------------------\u001b[0m",
      "\u001b[0;31mKeyError\u001b[0m                                  Traceback (most recent call last)",
      "Cell \u001b[0;32mIn[19], line 1\u001b[0m\n\u001b[0;32m----> 1\u001b[0m cijk_list \u001b[38;5;241m=\u001b[39m [all_inks[\u001b[38;5;124m\"\u001b[39m\u001b[38;5;124mEpson C\u001b[39m\u001b[38;5;124m\"\u001b[39m], all_inks[\u001b[38;5;124m\"\u001b[39m\u001b[38;5;124mPeach haze D\u001b[39m\u001b[38;5;124m\"\u001b[39m],  all_inks[\u001b[38;5;124m\"\u001b[39m\u001b[38;5;124mPlatinum violet\u001b[39m\u001b[38;5;124m\"\u001b[39m], all_inks[\u001b[38;5;124m\"\u001b[39m\u001b[38;5;124mOperation overlord orange N\u001b[39m\u001b[38;5;124m\"\u001b[39m]]\n\u001b[1;32m      2\u001b[0m cijk_gamut \u001b[38;5;241m=\u001b[39m InkGamut(cijk_list, paper\u001b[38;5;241m=\u001b[39mpaper, illuminant\u001b[38;5;241m=\u001b[39md65)\n",
      "\u001b[0;31mKeyError\u001b[0m: 'Epson C'"
     ]
    }
   ],
   "source": [
    "cijk_list = a[all_inks[\"Epson C\"], all_inks[\"Peach haze D\"],  all_inks[\"Platinum violet\"], all_inks[\"Operation overlord orange N\"]]\n",
    "ciajk_gamut = InkGamut(cijk_list, paper=paper, illuminant=d65)"
   ]
  },
  {
   "cell_type": "code",
   "execution_count": null,
   "id": "a89245f9",
   "metadata": {},
   "outputs": [],
   "source": []
  }
 ],
 "metadata": {
  "kernelspec": {
   "display_name": "chromalab",
   "language": "python",
   "name": "chromalab"
  },
  "language_info": {
   "codemirror_mode": {
    "name": "ipython",
    "version": 3
   },
   "file_extension": ".py",
   "mimetype": "text/x-python",
   "name": "python",
   "nbconvert_exporter": "python",
   "pygments_lexer": "ipython3",
   "version": "3.11.6"
  },
  "toc": {
   "base_numbering": 1,
   "nav_menu": {},
   "number_sections": true,
   "sideBar": true,
   "skip_h1_title": false,
   "title_cell": "Table of Contents",
   "title_sidebar": "Contents",
   "toc_cell": false,
   "toc_position": {},
   "toc_section_display": true,
   "toc_window_display": false
  }
 },
 "nbformat": 4,
 "nbformat_minor": 5
}

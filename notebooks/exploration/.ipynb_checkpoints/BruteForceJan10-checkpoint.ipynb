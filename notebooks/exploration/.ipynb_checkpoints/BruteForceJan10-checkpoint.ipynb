{
 "cells": [
  {
   "cell_type": "code",
   "execution_count": 6,
   "id": "32c06590",
   "metadata": {},
   "outputs": [],
   "source": [
    "import csv\n",
    "import numpy as np\n",
    "from spectra import Spectra, Pigment\n",
    "import matplotlib.pyplot as plt\n",
    "import numpy.typing as npt\n",
    "import torch as th"
   ]
  },
  {
   "cell_type": "code",
   "execution_count": 7,
   "id": "14a9d42c",
   "metadata": {},
   "outputs": [],
   "source": [
    "wavelengths1 = np.arange(390, 701, 1)\n",
    "wavelengths10 = np.arange(400, 701, 10)"
   ]
  },
  {
   "cell_type": "code",
   "execution_count": 8,
   "id": "e5cdbc7e",
   "metadata": {},
   "outputs": [],
   "source": [
    "from observer import Observer, Cone\n",
    "from inks import Neugebauer, InkGamut, CellNeugebauer, bucket_points, get_metamers, sort_buckets"
   ]
  },
  {
   "cell_type": "code",
   "execution_count": 9,
   "id": "bbcdedd4",
   "metadata": {},
   "outputs": [],
   "source": [
    "import colour\n",
    "colour_d65 = colour.SDS_ILLUMINANTS.get('D65')\n",
    "d65 = Spectra(data=colour_d65.values / np.max(colour_d65.values), wavelengths=colour_d65.wavelengths)"
   ]
  },
  {
   "cell_type": "code",
   "execution_count": 10,
   "id": "b0920918",
   "metadata": {},
   "outputs": [],
   "source": [
    "tetrachromat_d65 = Observer.neitz_tetrachromat(illuminant=d65)\n",
    "not_neitz_tetrachromat_d65 = Observer.tetrachromat(illuminant=d65)"
   ]
  },
  {
   "cell_type": "code",
   "execution_count": null,
   "id": "53763525",
   "metadata": {},
   "outputs": [],
   "source": []
  },
  {
   "cell_type": "code",
   "execution_count": 15,
   "id": "de990eb9",
   "metadata": {
    "code_folding": []
   },
   "outputs": [
    {
     "data": {
      "text/plain": [
       "[]"
      ]
     },
     "execution_count": 15,
     "metadata": {},
     "output_type": "execute_result"
    }
   ],
   "source": []
  },
  {
   "cell_type": "code",
   "execution_count": 16,
   "id": "06576290",
   "metadata": {},
   "outputs": [],
   "source": [
    "cijk = {}\n",
    "with open(f'010624.csv') as csvf:\n",
    "    spamreader = csv.reader(csvf, delimiter=';')\n",
    "    for i, row in enumerate(spamreader):\n",
    "        if i < 4: continue\n",
    "        if row[2] != \"CIJK\": continue\n",
    "            \n",
    "        name = row[4]\n",
    "        color_data = np.array(row[33:],dtype=float)\n",
    "        spectra = Spectra(data=color_data, wavelengths=wavelengths10)\n",
    "\n",
    "        cijk[name] = spectra"
   ]
  },
  {
   "cell_type": "code",
   "execution_count": 17,
   "id": "1058109f",
   "metadata": {},
   "outputs": [],
   "source": [
    "cijk_neug = CellNeugebauer(cijk)\n",
    "cijk_gamut_d65 = InkGamut(cijk_neug, illuminant=d65)  "
   ]
  },
  {
   "cell_type": "code",
   "execution_count": null,
   "id": "4ca9bd07",
   "metadata": {},
   "outputs": [],
   "source": []
  },
  {
   "cell_type": "code",
   "execution_count": 20,
   "id": "9e0cc53b",
   "metadata": {},
   "outputs": [
    {
     "name": "stdout",
     "output_type": "stream",
     "text": [
      "[ 5.28436807  8.21626942  8.00093046  9.58828847]\n"
     ]
    },
    {
     "name": "stderr",
     "output_type": "stream",
     "text": [
      "Generating Point Cloud: 100%|█████████████| 194481/194481 [00:03<00:00, 53348.99it/s]\n"
     ]
    }
   ],
   "source": [
    "cijk_d65_pc, cijk_d65_perc = cijk_gamut_d65.get_point_cloud(tetrachromat_d65, stepsize=0.05)"
   ]
  },
  {
   "cell_type": "code",
   "execution_count": 22,
   "id": "148e195e",
   "metadata": {},
   "outputs": [
    {
     "name": "stdout",
     "output_type": "stream",
     "text": [
      "[ 5.28436807  8.21626942  8.00093046  9.58828847]\n"
     ]
    },
    {
     "name": "stderr",
     "output_type": "stream",
     "text": [
      "Generating Point Cloud: 100%|█████████████| 194481/194481 [00:03<00:00, 53073.70it/s]\n"
     ]
    },
    {
     "name": "stdout",
     "output_type": "stream",
     "text": [
      "Point cloud generated.\n"
     ]
    }
   ],
   "source": [
    "cijk_gamut_d65_buckets05 = cijk_gamut_d65.get_buckets(tetrachromat_d65, stepsize=0.05)"
   ]
  },
  {
   "cell_type": "code",
   "execution_count": 61,
   "id": "57007696",
   "metadata": {},
   "outputs": [
    {
     "name": "stdout",
     "output_type": "stream",
     "text": [
      "[ 5.28436807  8.21626942  8.00093046  9.58828847]\n"
     ]
    },
    {
     "name": "stderr",
     "output_type": "stream",
     "text": [
      "Generating Point Cloud: 100%|███████████████| 14641/14641 [00:00<00:00, 52621.35it/s]\n"
     ]
    },
    {
     "name": "stdout",
     "output_type": "stream",
     "text": [
      "Point cloud generated.\n"
     ]
    }
   ],
   "source": [
    "cijk_gamut_d65_buckets10 = cijk_gamut_d65.get_buckets(tetrachromat_d65, stepsize=0.1)"
   ]
  },
  {
   "cell_type": "code",
   "execution_count": 30,
   "id": "ce314107",
   "metadata": {},
   "outputs": [],
   "source": [
    "import random"
   ]
  },
  {
   "cell_type": "code",
   "execution_count": 55,
   "id": "a586bc3b",
   "metadata": {},
   "outputs": [
    {
     "name": "stdout",
     "output_type": "stream",
     "text": [
      "0.0399,\t[0.0, 0.0, 65.0, 100.0],\t[25.0, 100.0, 0.0, 50.0]\n",
      "0.0384,\t[0.0, 5.0, 55.0, 95.0],\t[20.0, 95.0, 0.0, 45.0]\n",
      "0.0381,\t[0.0, 0.0, 60.0, 80.0],\t[25.0, 85.0, 0.0, 25.0]\n",
      "0.0379,\t[0.0, 10.0, 55.0, 80.0],\t[20.0, 90.0, 0.0, 15.0]\n",
      "0.0365,\t[0.0, 10.0, 60.0, 75.0],\t[20.0, 90.0, 5.0, 0.0]\n",
      "0.0363,\t[5.0, 10.0, 55.0, 90.0],\t[25.0, 90.0, 0.0, 50.0]\n",
      "0.0361,\t[0.0, 0.0, 60.0, 90.0],\t[20.0, 90.0, 5.0, 45.0]\n"
     ]
    }
   ],
   "source": [
    "\n",
    "for d, (a,b) in cijk_gamut_d65_buckets05[:14]:\n",
    "    if random.random() < 0.5:continue\n",
    "    print(round(d,4), end=\",\\t\")\n",
    "    print([round(1000*_a)/10 for _a in a], tend=\",\\t\")\n",
    "    print([round(1000*_b)/10 for _b in b])"
   ]
  },
  {
   "cell_type": "code",
   "execution_count": null,
   "id": "afcfa8ea",
   "metadata": {},
   "outputs": [],
   "source": []
  },
  {
   "cell_type": "code",
   "execution_count": null,
   "id": "2c02799e",
   "metadata": {},
   "outputs": [],
   "source": []
  },
  {
   "cell_type": "code",
   "execution_count": 56,
   "id": "b55284b2",
   "metadata": {},
   "outputs": [],
   "source": [
    "mets = {}\n",
    "with open(f'011024.csv') as csvf:\n",
    "    spamreader = csv.reader(csvf, delimiter=';')\n",
    "    for i, row in enumerate(spamreader):\n",
    "        if i < 4: continue\n",
    "        if row[2] != \"Candidates\": continue\n",
    "            \n",
    "        name = row[4]\n",
    "        color_data = np.array(row[33:],dtype=float)\n",
    "        spectra = Spectra(data=color_data, wavelengths=wavelengths10)\n",
    "\n",
    "        mets[name] = spectra"
   ]
  },
  {
   "cell_type": "code",
   "execution_count": 60,
   "id": "419faa0c",
   "metadata": {},
   "outputs": [
    {
     "data": {
      "text/plain": [
       "[(array([ 0.21563598,  0.33043611,  0.39737697,  0.435523  ]), '25 100 00 50'),\n",
       " (array([ 0.24275437,  0.35067115,  0.39416441,  0.46808126]), '00 00 65 100'),\n",
       " (array([ 0.25333627,  0.35747972,  0.42215604,  0.45942039]), '25 90 00 50'),\n",
       " (array([ 0.25400682,  0.3688156 ,  0.44151185,  0.48348798]), '20 90 05 45'),\n",
       " (array([ 0.25021517,  0.3698273 ,  0.44306552,  0.48506131]), '20 95 00 45'),\n",
       " (array([ 0.22518172,  0.38112554,  0.42897702,  0.50165627]), '00 05 55 95'),\n",
       " (array([ 0.24739978,  0.38130065,  0.41907936,  0.47867543]), '05 10 55 90'),\n",
       " (array([ 0.27412883,  0.38907791,  0.43196038,  0.50362141]), '00 00 60 90'),\n",
       " (array([ 0.33242622,  0.40053876,  0.46118205,  0.4958956 ]), '25 85 00 25'),\n",
       " (array([ 0.32227529,  0.40310131,  0.47375488,  0.51381137]), '20 90 00 15'),\n",
       " (array([ 0.35959788,  0.4063839 ,  0.47036394,  0.50972415]), '20 90 05 00'),\n",
       " (array([ 0.35155461,  0.42541574,  0.46369069,  0.52937285]), '00 10 60 75'),\n",
       " (array([ 0.33502358,  0.43004286,  0.4699725 ,  0.53759331]), '00 00 60 80'),\n",
       " (array([ 0.32111802,  0.43680592,  0.47820983,  0.54327291]), '00 10 55 80')]"
      ]
     },
     "execution_count": 60,
     "metadata": {},
     "output_type": "execute_result"
    }
   ],
   "source": [
    "data = []\n",
    "for p, spectra in mets.items():\n",
    "    data.append((tetrachromat_d65.observe(spectra), p))\n",
    "\n",
    "data.sort(key=lambda i:i[0][3])\n",
    "data"
   ]
  },
  {
   "cell_type": "code",
   "execution_count": 29,
   "id": "6c5a488e",
   "metadata": {},
   "outputs": [
    {
     "ename": "NameError",
     "evalue": "name 'cijk_gamut_d65_buckets10' is not defined",
     "output_type": "error",
     "traceback": [
      "\u001b[0;31m---------------------------------------------------------------------------\u001b[0m",
      "\u001b[0;31mNameError\u001b[0m                                 Traceback (most recent call last)",
      "Cell \u001b[0;32mIn[29], line 1\u001b[0m\n\u001b[0;32m----> 1\u001b[0m \u001b[38;5;28;01mfor\u001b[39;00m d, (a,b) \u001b[38;5;129;01min\u001b[39;00m cijk_gamut_d65_buckets10[:\u001b[38;5;241m14\u001b[39m]:\n\u001b[1;32m      2\u001b[0m     \u001b[38;5;28mprint\u001b[39m(\u001b[38;5;28mround\u001b[39m(d,\u001b[38;5;241m4\u001b[39m), end\u001b[38;5;241m=\u001b[39m\u001b[38;5;124m\"\u001b[39m\u001b[38;5;124m,\u001b[39m\u001b[38;5;130;01m\\t\u001b[39;00m\u001b[38;5;124m\"\u001b[39m)\n\u001b[1;32m      3\u001b[0m     \u001b[38;5;28mprint\u001b[39m([\u001b[38;5;124mf\u001b[39m\u001b[38;5;124m'\u001b[39m\u001b[38;5;132;01m{\u001b[39;00m\u001b[38;5;28mround\u001b[39m(\u001b[38;5;241m1000\u001b[39m\u001b[38;5;250m \u001b[39m\u001b[38;5;241m*\u001b[39m\u001b[38;5;250m \u001b[39m_a)\u001b[38;5;250m \u001b[39m\u001b[38;5;241m/\u001b[39m\u001b[38;5;250m \u001b[39m\u001b[38;5;241m10\u001b[39m\u001b[38;5;132;01m:\u001b[39;00m\u001b[38;5;124m04.1f\u001b[39m\u001b[38;5;132;01m}\u001b[39;00m\u001b[38;5;124m'\u001b[39m \u001b[38;5;28;01mfor\u001b[39;00m _a \u001b[38;5;129;01min\u001b[39;00m a], end\u001b[38;5;241m=\u001b[39m\u001b[38;5;124m\"\u001b[39m\u001b[38;5;124m,\u001b[39m\u001b[38;5;130;01m\\t\u001b[39;00m\u001b[38;5;124m\"\u001b[39m)\n",
      "\u001b[0;31mNameError\u001b[0m: name 'cijk_gamut_d65_buckets10' is not defined"
     ]
    }
   ],
   "source": [
    "for d, (a,b) in cijk_gamut_d65_buckets10[:14]:\n",
    "    print(round(d,4), end=\",\\t\")\n",
    "    print([f'{round(1000 * _a) / 10:04.1f}' for _a in a], end=\",\\t\")\n",
    "    print([f'{round(1000 * _b) / 10:04.1f}' for _b in b])"
   ]
  },
  {
   "cell_type": "markdown",
   "id": "7d2973f4",
   "metadata": {},
   "source": [
    "`\n",
    "0.0399,\t[0.0, 0.0, 65.0, 100.0],\t[25.0, 100.0, 0.0, 50.0]\n",
    "0.0384,\t[0.0, 5.0, 55.0, 95.0],\t[20.0, 95.0, 0.0, 45.0]\n",
    "0.0381,\t[0.0, 0.0, 60.0, 80.0],\t[25.0, 85.0, 0.0, 25.0]\n",
    "0.0379,\t[0.0, 10.0, 55.0, 80.0],\t[20.0, 90.0, 0.0, 15.0]\n",
    "0.0365,\t[0.0, 10.0, 60.0, 75.0],\t[20.0, 90.0, 5.0, 0.0]\n",
    "0.0363,\t[5.0, 10.0, 55.0, 90.0],\t[25.0, 90.0, 0.0, 50.0]\n",
    "0.0361,\t[0.0, 0.0, 60.0, 90.0],\t[20.0, 90.0, 5.0, 45.0]\n",
    "`"
   ]
  },
  {
   "cell_type": "code",
   "execution_count": 30,
   "id": "845265fe",
   "metadata": {},
   "outputs": [],
   "source": [
    "iter1 = [\n",
    "    [0.0, 0.0, 65.0, 100.0],\n",
    "    [25.0, 100.0, 0.0, 50.0],\n",
    "    [0.0, 5.0, 55.0, 95.0],\n",
    "    [20.0, 95.0, 0.0, 45.0],\n",
    "    [0.0, 0.0, 60.0, 80.0],\n",
    "    [25.0, 85.0, 0.0, 25.0],\n",
    "    [0.0, 10.0, 55.0, 80.0],\n",
    "    [20.0, 90.0, 0.0, 15.0],\n",
    "    [0.0, 10.0, 60.0, 75.0],\n",
    "    [20.0, 90.0, 5.0, 0.0],\n",
    "    [5.0, 10.0, 55.0, 90.0],\n",
    "    [25.0, 90.0, 0.0, 50.0],\n",
    "    [0.0, 0.0, 60.0, 90.0],\n",
    "    [20.0, 90.0, 5.0, 45.0],\n",
    "    ['20.0', '20.0', '60.0', '100.0'],\n",
    "    ['40.0', '100.0', '00.0', '70.0'],\n",
    "    ['00.0', '00.0', '50.0', '70.0'],\n",
    "    ['20.0', '70.0', '00.0', '30.0'],\n",
    "    ['00.0', '10.0', '50.0', '100.0'],\n",
    "    ['20.0', '90.0', '00.0', '80.0'],\n",
    "    ['10.0', '10.0', '70.0', '100.0'],\n",
    "    ['30.0', '100.0', '10.0', '50.0'],\n",
    "    ['20.0', '00.0', '60.0', '70.0'], \n",
    "    ['40.0', '80.0', '00.0', '10.0'],\n",
    "    ['00.0', '20.0', '60.0', '80.0'],\n",
    "    ['20.0', '90.0', '10.0', '20.0'],\n",
    "    ['10.0', '20.0', '80.0', '90.0'],\n",
    "    ['30.0', '100.0', '20.0', '30.0']\n",
    "]"
   ]
  },
  {
   "cell_type": "code",
   "execution_count": 23,
   "id": "16691783",
   "metadata": {},
   "outputs": [
    {
     "data": {
      "text/plain": [
       "[[20, 20, 60, 100],\n",
       " [40, 100, 0, 70],\n",
       " [0, 0, 50, 70],\n",
       " [20, 70, 0, 30],\n",
       " [0, 10, 50, 100],\n",
       " [20, 90, 0, 80],\n",
       " [10, 10, 70, 100],\n",
       " [30, 100, 10, 50],\n",
       " [20, 0, 60, 70],\n",
       " [40, 80, 0, 10],\n",
       " [0, 20, 60, 80],\n",
       " [20, 90, 10, 20],\n",
       " [10, 20, 80, 90],\n",
       " [30, 100, 20, 30]]"
      ]
     },
     "execution_count": 23,
     "metadata": {},
     "output_type": "execute_result"
    }
   ],
   "source": []
  },
  {
   "cell_type": "code",
   "execution_count": 31,
   "id": "81d8a31b",
   "metadata": {},
   "outputs": [],
   "source": [
    "a = [[int(float(x)) for x in p] for p in iter1]"
   ]
  },
  {
   "cell_type": "code",
   "execution_count": 32,
   "id": "5da83584",
   "metadata": {},
   "outputs": [
    {
     "data": {
      "text/plain": [
       "[[0, 0, 65, 100],\n",
       " [25, 100, 0, 50],\n",
       " [0, 5, 55, 95],\n",
       " [20, 95, 0, 45],\n",
       " [0, 0, 60, 80],\n",
       " [25, 85, 0, 25],\n",
       " [0, 10, 55, 80],\n",
       " [20, 90, 0, 15],\n",
       " [0, 10, 60, 75],\n",
       " [20, 90, 5, 0],\n",
       " [5, 10, 55, 90],\n",
       " [25, 90, 0, 50],\n",
       " [0, 0, 60, 90],\n",
       " [20, 90, 5, 45],\n",
       " [20, 20, 60, 100],\n",
       " [40, 100, 0, 70],\n",
       " [0, 0, 50, 70],\n",
       " [20, 70, 0, 30],\n",
       " [0, 10, 50, 100],\n",
       " [20, 90, 0, 80],\n",
       " [10, 10, 70, 100],\n",
       " [30, 100, 10, 50],\n",
       " [20, 0, 60, 70],\n",
       " [40, 80, 0, 10],\n",
       " [0, 20, 60, 80],\n",
       " [20, 90, 10, 20],\n",
       " [10, 20, 80, 90],\n",
       " [30, 100, 20, 30]]"
      ]
     },
     "execution_count": 32,
     "metadata": {},
     "output_type": "execute_result"
    }
   ],
   "source": [
    "a"
   ]
  },
  {
   "cell_type": "code",
   "execution_count": 27,
   "id": "c3316279",
   "metadata": {},
   "outputs": [],
   "source": [
    "np.save(\n",
    "    \"iteration_1\", np.array(a)\n",
    ")"
   ]
  },
  {
   "cell_type": "code",
   "execution_count": 78,
   "id": "c98dda46",
   "metadata": {},
   "outputs": [
    {
     "data": {
      "image/png": "[encoded data removed]",
      "text/plain": [
       "<Figure size 640x480 with 1 Axes>"
      ]
     },
     "metadata": {},
     "output_type": "display_data"
    }
   ],
   "source": [
    "mets[\"00 00 65 100\"].plot()\n",
    "mets[\"25 100 00 50\"].plot()\n",
    "cijk_gamut_d65.get_spectra((0.25, 1, 0, 0.5)).plot(color='yellow')\n",
    "cijk_gamut_d65.get_spectra((0.25, 0.8, 0, 0.5)).plot(color='green')"
   ]
  },
  {
   "cell_type": "code",
   "execution_count": 70,
   "id": "f001a1ec",
   "metadata": {},
   "outputs": [
    {
     "data": {
      "text/plain": [
       "array([ 0.24275437,  0.35067115,  0.39416441,  0.46808126])"
      ]
     },
     "execution_count": 70,
     "metadata": {},
     "output_type": "execute_result"
    }
   ],
   "source": [
    "tetrachromat_d65.observe(mets[\"00 00 65 100\"])"
   ]
  },
  {
   "cell_type": "code",
   "execution_count": 72,
   "id": "e6f14582",
   "metadata": {},
   "outputs": [
    {
     "data": {
      "text/plain": [
       "array([ 0.21563598,  0.33043611,  0.39737697,  0.435523  ])"
      ]
     },
     "execution_count": 72,
     "metadata": {},
     "output_type": "execute_result"
    }
   ],
   "source": [
    "tetrachromat_d65.observe(mets[\"25 100 00 50\"])"
   ]
  },
  {
   "cell_type": "code",
   "execution_count": null,
   "id": "1e061e50",
   "metadata": {},
   "outputs": [],
   "source": []
  },
  {
   "cell_type": "code",
   "execution_count": 11,
   "id": "f211150c",
   "metadata": {},
   "outputs": [],
   "source": [
    "mets = {}\n",
    "with open(f'011024.csv') as csvf:\n",
    "    spamreader = csv.reader(csvf, delimiter=';')\n",
    "    for i, row in enumerate(spamreader):\n",
    "        if i < 4: continue\n",
    "        if row[2] != \"Candidates\": continue\n",
    "            \n",
    "        name = row[4]\n",
    "        color_data = np.array(row[33:],dtype=float)\n",
    "        spectra = Spectra(data=color_data, wavelengths=wavelengths10)\n",
    "\n",
    "        mets[name] = spectra"
   ]
  },
  {
   "cell_type": "code",
   "execution_count": 80,
   "id": "6b9f0ccf",
   "metadata": {},
   "outputs": [
    {
     "data": {
      "text/plain": [
       "[(array([ 0.24253924,  0.24985161,  0.27562422,  0.33258076]), '10 20 80 90'),\n",
       " (array([ 0.20033592,  0.26260919,  0.28536251,  0.33338323]), '20 10 70 100'),\n",
       " (array([ 0.17653494,  0.27922495,  0.32989511,  0.3584985 ]), '40 100 00 70'),\n",
       " (array([ 0.20394111,  0.27844643,  0.30823369,  0.36581493]), '10 10 70 100'),\n",
       " (array([ 0.21146501,  0.28307422,  0.33841695,  0.370289  ]), '30 100 20 30'),\n",
       " (array([ 0.25023332,  0.26709097,  0.30297986,  0.37375032]), '00 20 80 90'),\n",
       " (array([ 0.20611534,  0.31279307,  0.33567722,  0.37793648]), '20 20 60 100'),\n",
       " (array([ 0.18337059,  0.28577305,  0.34686546,  0.3814891 ]), '30 100 10 50'),\n",
       " (array([ 0.24660325,  0.34784781,  0.3915142 ,  0.41787329]), '40 80 00 70'),\n",
       " (array([ 0.37238186,  0.37184211,  0.40972798,  0.43179108]), '40 80 00 10'),\n",
       " (array([ 0.21563598,  0.33043611,  0.39737697,  0.435523  ]), '25 100 00 50'),\n",
       " (array([ 0.32512508,  0.36224516,  0.41033662,  0.44070801]), '30 80 20 30'),\n",
       " (array([ 0.20188455,  0.35387507,  0.38955333,  0.44352716]), '10 10 50 100'),\n",
       " (array([ 0.37268726,  0.3893984 ,  0.40433   ,  0.44654858]), '20 00 60 70'),\n",
       " (array([ 0.30394087,  0.36943664,  0.39745766,  0.44929612]), '10 20 60 80'),\n",
       " (array([ 0.28591167,  0.3663367 ,  0.41877234,  0.45050074]), '30 80 10 50'),\n",
       " (array([ 0.25333627,  0.35747972,  0.42215604,  0.45942039]), '25 90 00 50'),\n",
       " (array([ 0.19089692,  0.35113578,  0.42322559,  0.46681143]), '20 90 00 80'),\n",
       " (array([ 0.24275437,  0.35067115,  0.39416441,  0.46808126]), '00 00 65 100'),\n",
       " (array([ 0.2884234 ,  0.36626469,  0.43520797,  0.4752355 ]), '20 90 10 20'),\n",
       " (array([ 0.24739978,  0.38130065,  0.41907936,  0.47867543]), '05 10 55 90'),\n",
       " (array([ 0.25400682,  0.3688156 ,  0.44151185,  0.48348798]), '20 90 05 45'),\n",
       " (array([ 0.25021517,  0.3698273 ,  0.44306552,  0.48506131]), '20 95 00 45'),\n",
       " (array([ 0.33242622,  0.40053876,  0.46118205,  0.4958956 ]), '25 85 00 25'),\n",
       " (array([ 0.20696244,  0.38398302,  0.4324944 ,  0.5013593 ]), '00 10 50 100'),\n",
       " (array([ 0.22518172,  0.38112554,  0.42897702,  0.50165627]), '00 05 55 95'),\n",
       " (array([ 0.27412883,  0.38907791,  0.43196038,  0.50362141]), '00 00 60 90'),\n",
       " (array([ 0.52377832,  0.47391713,  0.49233147,  0.50807569]), '40 60 00 10'),\n",
       " (array([ 0.35959788,  0.4063839 ,  0.47036394,  0.50972415]), '20 90 05 00'),\n",
       " (array([ 0.32227529,  0.40310131,  0.47375488,  0.51381137]), '20 90 00 15'),\n",
       " (array([ 0.33465863,  0.4190074 ,  0.45739346,  0.51979678]), '00 20 60 80'),\n",
       " (array([ 0.35155461,  0.42541574,  0.46369069,  0.52937285]), '00 10 60 75'),\n",
       " (array([ 0.25249264,  0.43155065,  0.49252738,  0.53157471]), '20 70 00 80'),\n",
       " (array([ 0.33502358,  0.43004286,  0.4699725 ,  0.53759331]), '00 00 60 80'),\n",
       " (array([ 0.32111802,  0.43680592,  0.47820983,  0.54327291]), '00 10 55 80'),\n",
       " (array([ 0.39345141,  0.44597955,  0.48235608,  0.54825252]), '00 00 60 70'),\n",
       " (array([ 0.43789865,  0.47581256,  0.52995017,  0.56489872]), '20 70 10 20'),\n",
       " (array([ 0.42202667,  0.48980816,  0.54602354,  0.57995199]), '20 70 00 30'),\n",
       " (array([ 0.4031343 ,  0.50664863,  0.54531992,  0.60774897]), '00 00 50 70'),\n",
       " (array([ 0.53666844,  0.58686016,  0.62431592,  0.65158401]), '20 50 00 30')]"
      ]
     },
     "execution_count": 80,
     "metadata": {},
     "output_type": "execute_result"
    }
   ],
   "source": [
    "data = []\n",
    "for p, spectra in mets.items():\n",
    "    data.append((tetrachromat_d65.observe(spectra), p))\n",
    "\n",
    "data.sort(key=lambda i:i[0][3])\n",
    "data"
   ]
  },
  {
   "cell_type": "code",
   "execution_count": 148,
   "id": "2b7f5553",
   "metadata": {},
   "outputs": [],
   "source": [
    "from collections import defaultdict\n",
    "import itertools\n",
    "def bucket_points(points, axis=2):\n",
    "    # modifying to have overlapping boxes,\n",
    "    # each point will be in 8 boxes\n",
    "    buckets = defaultdict(list)\n",
    "\n",
    "    for idx, point in enumerate(points):\n",
    "        ranges = [(int(100 * round(p, 2)) - 1, int(100 * round(p, 2))) for i, p in enumerate(point) if i!=axis]\n",
    "        keys = itertools.product(*ranges)\n",
    "\n",
    "        for key in keys:\n",
    "            value = (tuple(point), idx)\n",
    "            buckets[tuple(key)].append(value)\n",
    "            \n",
    "    return buckets"
   ]
  },
  {
   "cell_type": "code",
   "execution_count": 149,
   "id": "ade84da8",
   "metadata": {},
   "outputs": [],
   "source": [
    "met_buckets = bucket_points([d for d, p in data])"
   ]
  },
  {
   "cell_type": "code",
   "execution_count": 151,
   "id": "dd0bce39",
   "metadata": {},
   "outputs": [
    {
     "data": {
      "text/plain": [
       "[(0.03018325933420829, (3, 4)),\n",
       " (0.03018325933420829, (3, 4)),\n",
       " (0.03018325933420829, (3, 4)),\n",
       " (0.03018325933420829, (3, 4)),\n",
       " (0.027991633071981215, (18, 16)),\n",
       " (0.023986160295888015, (20, 22)),\n",
       " (0.023986160295888015, (20, 22)),\n",
       " (0.022432481201150545, (20, 21)),\n",
       " (0.022432481201150545, (20, 21)),\n",
       " (0.012572824545375949, (23, 29)),\n",
       " (0.012572824545375949, (23, 29)),\n",
       " (0.0062818157387249385, (31, 33)),\n",
       " (0.0062818157387249385, (31, 33)),\n",
       " (0.0015536790947374701, (21, 22)),\n",
       " (0.0015536790947374701, (21, 22))]"
      ]
     },
     "execution_count": 151,
     "metadata": {},
     "output_type": "execute_result"
    }
   ],
   "source": [
    "sort_buckets(met_buckets)"
   ]
  },
  {
   "cell_type": "code",
   "execution_count": 152,
   "id": "9ee61b83",
   "metadata": {},
   "outputs": [
    {
     "data": {
      "text/plain": [
       "((array([ 0.20394111,  0.27844643,  0.30823369,  0.36581493]), '10 10 70 100'),\n",
       " (array([ 0.21146501,  0.28307422,  0.33841695,  0.370289  ]), '30 100 20 30'))"
      ]
     },
     "execution_count": 152,
     "metadata": {},
     "output_type": "execute_result"
    }
   ],
   "source": [
    "(data[3], data[4])"
   ]
  },
  {
   "cell_type": "code",
   "execution_count": 153,
   "id": "66234d0e",
   "metadata": {},
   "outputs": [
    {
     "data": {
      "text/plain": [
       "((array([ 0.24275437,  0.35067115,  0.39416441,  0.46808126]), '00 00 65 100'),\n",
       " (array([ 0.25333627,  0.35747972,  0.42215604,  0.45942039]), '25 90 00 50'))"
      ]
     },
     "execution_count": 153,
     "metadata": {},
     "output_type": "execute_result"
    }
   ],
   "source": [
    "(data[18], data[16])"
   ]
  },
  {
   "cell_type": "code",
   "execution_count": 154,
   "id": "57864ffa",
   "metadata": {},
   "outputs": [
    {
     "data": {
      "text/plain": [
       "((array([ 0.24739978,  0.38130065,  0.41907936,  0.47867543]), '05 10 55 90'),\n",
       " (array([ 0.25021517,  0.3698273 ,  0.44306552,  0.48506131]), '20 95 00 45'))"
      ]
     },
     "execution_count": 154,
     "metadata": {},
     "output_type": "execute_result"
    }
   ],
   "source": [
    "(data[20], data[22])"
   ]
  },
  {
   "cell_type": "code",
   "execution_count": 155,
   "id": "ffbd6d73",
   "metadata": {},
   "outputs": [
    {
     "data": {
      "text/plain": [
       "((array([ 0.24739978,  0.38130065,  0.41907936,  0.47867543]), '05 10 55 90'),\n",
       " (array([ 0.25400682,  0.3688156 ,  0.44151185,  0.48348798]), '20 90 05 45'))"
      ]
     },
     "execution_count": 155,
     "metadata": {},
     "output_type": "execute_result"
    }
   ],
   "source": [
    "(data[20], data[21])"
   ]
  },
  {
   "cell_type": "code",
   "execution_count": 13,
   "id": "cfa3a107",
   "metadata": {},
   "outputs": [
    {
     "data": {
      "text/plain": [
       "array([ 0.20394111,  0.27844643,  0.30823369,  0.36581493])"
      ]
     },
     "execution_count": 13,
     "metadata": {},
     "output_type": "execute_result"
    }
   ],
   "source": [
    "not_neitz_tetrachromat_d65.observe(mets[\"10 10 70 100\"])"
   ]
  },
  {
   "cell_type": "code",
   "execution_count": 14,
   "id": "3384e4d5",
   "metadata": {},
   "outputs": [
    {
     "data": {
      "text/plain": [
       "array([ 0.21146501,  0.28307422,  0.33841695,  0.370289  ])"
      ]
     },
     "execution_count": 14,
     "metadata": {},
     "output_type": "execute_result"
    }
   ],
   "source": [
    "not_neitz_tetrachromat_d65.observe(mets[\"30 100 20 30\"])"
   ]
  },
  {
   "cell_type": "code",
   "execution_count": 16,
   "id": "f697c0ad",
   "metadata": {},
   "outputs": [
    {
     "data": {
      "text/plain": [
       "array([ 0.17148516,  0.26750862,  0.28914263,  0.32475766])"
      ]
     },
     "execution_count": 16,
     "metadata": {},
     "output_type": "execute_result"
    }
   ],
   "source": [
    "tetrachromat_d65.observe(mets[\"10 10 70 100\"])"
   ]
  },
  {
   "cell_type": "code",
   "execution_count": 17,
   "id": "b8768842",
   "metadata": {},
   "outputs": [
    {
     "data": {
      "text/plain": [
       "array([ 0.1873056 ,  0.24727078,  0.2820527 ,  0.31810477])"
      ]
     },
     "execution_count": 17,
     "metadata": {},
     "output_type": "execute_result"
    }
   ],
   "source": [
    "tetrachromat_d65.observe(mets[\"30 100 20 30\"])"
   ]
  },
  {
   "cell_type": "code",
   "execution_count": 18,
   "id": "17123995",
   "metadata": {},
   "outputs": [
    {
     "data": {
      "text/plain": [
       "array([ 0.40101835,  0.3478014 ,  0.19015482])"
      ]
     },
     "execution_count": 18,
     "metadata": {},
     "output_type": "execute_result"
    }
   ],
   "source": [
    "mets[\"10 10 50 100\"].to_xyz()"
   ]
  },
  {
   "cell_type": "code",
   "execution_count": 19,
   "id": "e6de6b32",
   "metadata": {},
   "outputs": [
    {
     "data": {
      "text/plain": [
       "array([ 0.35680484,  0.28694963,  0.19523491])"
      ]
     },
     "execution_count": 19,
     "metadata": {},
     "output_type": "execute_result"
    }
   ],
   "source": [
    "mets[\"30 100 20 30\"].to_xyz()"
   ]
  },
  {
   "cell_type": "code",
   "execution_count": null,
   "id": "5983bcb4",
   "metadata": {},
   "outputs": [],
   "source": []
  }
 ],
 "metadata": {
  "kernelspec": {
   "display_name": "mixing",
   "language": "python",
   "name": "mixing"
  },
  "language_info": {
   "codemirror_mode": {
    "name": "ipython",
    "version": 3
   },
   "file_extension": ".py",
   "mimetype": "text/x-python",
   "name": "python",
   "nbconvert_exporter": "python",
   "pygments_lexer": "ipython3",
   "version": "3.11.6"
  },
  "toc": {
   "base_numbering": 1,
   "nav_menu": {},
   "number_sections": true,
   "sideBar": true,
   "skip_h1_title": false,
   "title_cell": "Table of Contents",
   "title_sidebar": "Contents",
   "toc_cell": false,
   "toc_position": {},
   "toc_section_display": true,
   "toc_window_display": false
  }
 },
 "nbformat": 4,
 "nbformat_minor": 5
}

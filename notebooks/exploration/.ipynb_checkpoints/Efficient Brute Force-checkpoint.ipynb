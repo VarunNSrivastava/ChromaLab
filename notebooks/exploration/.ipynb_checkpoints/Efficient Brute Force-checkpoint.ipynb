{
 "cells": [
  {
   "cell_type": "code",
   "execution_count": 1,
   "id": "31555cd4",
   "metadata": {},
   "outputs": [],
   "source": [
    "import csv\n",
    "import numpy as np\n",
    "import matplotlib.pyplot as plt\n",
    "import numpy.typing as npt\n",
    "import torch as th"
   ]
  },
  {
   "cell_type": "code",
   "execution_count": 2,
   "id": "9ea579f4",
   "metadata": {},
   "outputs": [],
   "source": [
    "from chromalab.observer import Observer, Cone\n",
    "from chromalab.inks import Neugebauer, InkGamut, CellNeugebauer, Pigment\n",
    "from chromalab.spectra import Spectra, Illuminant"
   ]
  },
  {
   "cell_type": "code",
   "execution_count": 3,
   "id": "e83d779a",
   "metadata": {},
   "outputs": [],
   "source": [
    "import numpy as np\n",
    "from time import perf_counter"
   ]
  },
  {
   "cell_type": "code",
   "execution_count": 4,
   "id": "b7a7b77e",
   "metadata": {},
   "outputs": [],
   "source": [
    "from tqdm.notebook import tqdm"
   ]
  },
  {
   "cell_type": "code",
   "execution_count": 5,
   "id": "c8b9823c",
   "metadata": {},
   "outputs": [],
   "source": [
    "%load_ext autoreload\n",
    "%autoreload 2"
   ]
  },
  {
   "cell_type": "code",
   "execution_count": 6,
   "id": "1c780286",
   "metadata": {},
   "outputs": [],
   "source": [
    "wavelengths1 = np.arange(390, 701, 1)\n",
    "wavelengths10 = np.arange(400, 701, 10)"
   ]
  },
  {
   "cell_type": "code",
   "execution_count": null,
   "id": "c6901f45",
   "metadata": {},
   "outputs": [],
   "source": [
    "all_inks = {}\n",
    "with open(f'../data/nix/02022024.csv') as csvf:\n",
    "    spamreader = csv.reader(csvf, delimiter=';')\n",
    "    for i, row in enumerate(spamreader):\n",
    "        if i < 4: continue            \n",
    "        name = row[4]\n",
    "        color_data = np.array(row[33:],dtype=float)\n",
    "        spectra = Spectra(data=color_data, wavelengths=wavelengths10)\n",
    "        all_inks[name] = spectra\n",
    "        \n",
    "with open(f'../data/nix/011624.csv') as csvf:\n",
    "    spamreader = csv.reader(csvf, delimiter=';')\n",
    "    for i, row in enumerate(spamreader):\n",
    "        if i < 4: continue            \n",
    "        name = row[4]\n",
    "        color_data = np.array(row[33:],dtype=float)\n",
    "        try:\n",
    "            spectra = Spectra(data=color_data, wavelengths=wavelengths10)\n",
    "        except ValueError:\n",
    "            continue\n",
    "        all_inks[name] = spectra\n",
    "        \n",
    "        \n",
    "with open(f'../data/nix/Inks_all.csv') as csvf:\n",
    "    spamreader = csv.reader(csvf, delimiter=';')\n",
    "    for i, row in enumerate(spamreader):\n",
    "        if i < 4: continue            \n",
    "        name = row[4]\n",
    "        color_data = np.array(row[33:],dtype=float)\n",
    "        spectra = Spectra(data=color_data, wavelengths=wavelengths10)\n",
    "        all_inks[name] = spectra\n",
    "        \n",
    "cmy_primaries_dict = {}\n",
    "primary_fns = [\n",
    "    \"000\",\n",
    "    \"001\",\n",
    "    \"010\",\n",
    "    \"100\",\n",
    "    \"011\",\n",
    "    \"110\",\n",
    "    \"101\",\n",
    "    \"111\",\n",
    "]\n",
    "\n",
    "for fn in primary_fns:\n",
    "    with open(f'../data/nix/PrintColors/{fn}.csv') as csvf:\n",
    "        spamreader = csv.reader(csvf, delimiter=';')\n",
    "        for i, row in enumerate(spamreader):\n",
    "            if i == 4:\n",
    "                color_data = np.array(row[33:],dtype=float)\n",
    "                spectra = Spectra(data=color_data, wavelengths=wavelengths10)\n",
    "                cmy_primaries_dict[fn] = spectra\n",
    "                \n",
    "                \n",
    "all_inks[\"epson cyan\"] = cmy_primaries_dict[\"100\"]\n",
    "all_inks[\"epson magenta\"] = cmy_primaries_dict[\"010\"]\n",
    "all_inks[\"epson yellow\"] = cmy_primaries_dict[\"001\"]\n",
    "paper = cmy_primaries_dict[\"000\"]"
   ]
  },
  {
   "cell_type": "code",
   "execution_count": 7,
   "id": "9eca2dcc",
   "metadata": {},
   "outputs": [
    {
     "name": "stderr",
     "output_type": "stream",
     "text": [
      "/Users/varun/Documents/Python/ChromaLab/chromalab/spectra.py:35: UserWarning: Data has values not between 0 and 1. Clipping.\n",
      "  warnings.warn(\"Data has values not between 0 and 1. Clipping.\")\n"
     ]
    }
   ],
   "source": [
    "all_inks = {}\n",
    "with open(f'../data/nix/02022024.csv') as csvf:\n",
    "    spamreader = csv.reader(csvf, delimiter=';')\n",
    "    for i, row in enumerate(spamreader):\n",
    "        if i < 4: continue            \n",
    "        name = row[4]\n",
    "        color_data = np.array(row[33:],dtype=float)\n",
    "        spectra = Spectra(data=color_data, wavelengths=wavelengths10)\n",
    "\n",
    "        all_inks[name] = spectra\n",
    "        \n",
    "with open(f'../data/nix/011624.csv') as csvf:\n",
    "    spamreader = csv.reader(csvf, delimiter=';')\n",
    "    for i, row in enumerate(spamreader):\n",
    "        if i < 4: continue            \n",
    "        name = row[4]\n",
    "        color_data = np.array(row[33:],dtype=float)\n",
    "        try:\n",
    "            spectra = Spectra(data=color_data, wavelengths=wavelengths10)\n",
    "        except ValueError:\n",
    "            continue\n",
    "\n",
    "        all_inks[name] = spectra\n",
    "        \n",
    "        \n",
    "with open(f'../data/nix/Inks_all.csv') as csvf:\n",
    "    spamreader = csv.reader(csvf, delimiter=';')\n",
    "    for i, row in enumerate(spamreader):\n",
    "        if i < 4: continue            \n",
    "        name = row[4]\n",
    "        color_data = np.array(row[33:],dtype=float)\n",
    "        spectra = Spectra(data=color_data, wavelengths=wavelengths10)\n",
    "\n",
    "        all_inks[name] = spectra\n",
    "        \n",
    "cmy_primaries_dict = {}\n",
    "primary_fns = [\n",
    "    \"000\",\n",
    "    \"001\",\n",
    "    \"010\",\n",
    "    \"100\",\n",
    "    \"011\",\n",
    "    \"110\",\n",
    "    \"101\",\n",
    "    \"111\",\n",
    "]\n",
    "\n",
    "for fn in primary_fns:\n",
    "    with open(f'../data/nix/PrintColors/{fn}.csv') as csvf:\n",
    "        spamreader = csv.reader(csvf, delimiter=';')\n",
    "        for i, row in enumerate(spamreader):\n",
    "            if i == 4:\n",
    "                color_data = np.array(row[33:],dtype=float)\n",
    "                spectra = Spectra(data=color_data, wavelengths=wavelengths10)\n",
    "                cmy_primaries_dict[fn] = spectra\n",
    "                \n",
    "                \n",
    "all_inks[\"epson cyan\"] = cmy_primaries_dict[\"100\"]\n",
    "all_inks[\"epson magenta\"] = cmy_primaries_dict[\"010\"]\n",
    "all_inks[\"epson yellow\"] = cmy_primaries_dict[\"001\"]\n",
    "paper = cmy_primaries_dict[\"000\"]"
   ]
  },
  {
   "cell_type": "markdown",
   "id": "efeed97d",
   "metadata": {},
   "source": [
    "## Testing Kubelka-Munk speed"
   ]
  },
  {
   "cell_type": "code",
   "execution_count": 8,
   "id": "42ec1157",
   "metadata": {},
   "outputs": [
    {
     "data": {
      "text/plain": [
       "151"
      ]
     },
     "execution_count": 8,
     "metadata": {},
     "output_type": "execute_result"
    }
   ],
   "source": [
    "len(all_inks)"
   ]
  },
  {
   "cell_type": "code",
   "execution_count": 9,
   "id": "4d7559b8",
   "metadata": {},
   "outputs": [],
   "source": [
    "from chromalab.inks import load_neugebauer"
   ]
  },
  {
   "cell_type": "code",
   "execution_count": 10,
   "id": "f2cc8761",
   "metadata": {},
   "outputs": [],
   "source": [
    "for key, value in all_inks.items():\n",
    "    all_inks[key] = Pigment(value)"
   ]
  },
  {
   "cell_type": "code",
   "execution_count": 11,
   "id": "ed47bdf9",
   "metadata": {},
   "outputs": [
    {
     "name": "stdout",
     "output_type": "stream",
     "text": [
      "5.5 ms ± 117 µs per loop (mean ± std. dev. of 7 runs, 100 loops each)\n"
     ]
    }
   ],
   "source": [
    "%timeit load_neugebauer(list(all_inks.values())[:4], paper)"
   ]
  },
  {
   "cell_type": "markdown",
   "id": "eafade4b",
   "metadata": {},
   "source": [
    "7.55"
   ]
  },
  {
   "cell_type": "markdown",
   "id": "d95c78d8",
   "metadata": {},
   "source": [
    "## Testing pca speed"
   ]
  },
  {
   "cell_type": "code",
   "execution_count": 12,
   "id": "822f11a9",
   "metadata": {},
   "outputs": [],
   "source": [
    "trichromat = Observer.trichromat()\n",
    "tetrachromat = Observer.tetrachromat()"
   ]
  },
  {
   "cell_type": "code",
   "execution_count": 13,
   "id": "534d4a9f",
   "metadata": {},
   "outputs": [],
   "source": [
    "d65 = Illuminant.get(\"D65\")"
   ]
  },
  {
   "cell_type": "code",
   "execution_count": 14,
   "id": "8ec73000",
   "metadata": {},
   "outputs": [],
   "source": [
    "n = load_neugebauer(list(all_inks.values())[:4], paper)"
   ]
  },
  {
   "cell_type": "code",
   "execution_count": null,
   "id": "9d919d6d",
   "metadata": {},
   "outputs": [],
   "source": []
  },
  {
   "cell_type": "code",
   "execution_count": 15,
   "id": "c8fa05e7",
   "metadata": {},
   "outputs": [],
   "source": [
    "illuminant = d65.interpolate_values(n.wavelengths).data\n",
    "tri_observe = trichromat.get_sensor_matrix(n.wavelengths)\n",
    "tetra_observe = tetrachromat.get_sensor_matrix(n.wavelengths)"
   ]
  },
  {
   "cell_type": "code",
   "execution_count": 16,
   "id": "13da0015",
   "metadata": {},
   "outputs": [
    {
     "name": "stdout",
     "output_type": "stream",
     "text": [
      "1.34 ms ± 24.2 µs per loop (mean ± std. dev. of 7 runs, 1,000 loops each)\n"
     ]
    }
   ],
   "source": [
    "%timeit n.get_pca_size(tri_observe, illuminant)"
   ]
  },
  {
   "cell_type": "code",
   "execution_count": 17,
   "id": "918c457a",
   "metadata": {},
   "outputs": [
    {
     "data": {
      "text/plain": [
       "0.0060253681464107573"
      ]
     },
     "execution_count": 17,
     "metadata": {},
     "output_type": "execute_result"
    }
   ],
   "source": [
    "n.get_pca_size(tri_observe, illuminant)"
   ]
  },
  {
   "cell_type": "code",
   "execution_count": 18,
   "id": "4dfdab0c",
   "metadata": {},
   "outputs": [
    {
     "data": {
      "text/plain": [
       "0.00020695499391558677"
      ]
     },
     "execution_count": 18,
     "metadata": {},
     "output_type": "execute_result"
    }
   ],
   "source": [
    "n.get_pca_size(tetra_observe, illuminant)"
   ]
  },
  {
   "cell_type": "markdown",
   "id": "3f7de9ae",
   "metadata": {},
   "source": [
    "pca is lightning fast, showing that there's actually a bottleneck with kubelka-munk. Look into caching. "
   ]
  },
  {
   "cell_type": "markdown",
   "id": "6e5b2342",
   "metadata": {},
   "source": [
    "## Validating PCA Approach"
   ]
  },
  {
   "cell_type": "code",
   "execution_count": 19,
   "id": "46a265d5",
   "metadata": {},
   "outputs": [],
   "source": [
    "import itertools\n",
    "import heapq"
   ]
  },
  {
   "cell_type": "code",
   "execution_count": 20,
   "id": "2ba011b0",
   "metadata": {},
   "outputs": [
    {
     "name": "stdout",
     "output_type": "stream",
     "text": [
      "(('P balaton kek ', <chromalab.inks.Pigment object at 0x298907210>), ('Pp violet', <chromalab.inks.Pigment object at 0x2987e9fd0>), ('Pp cherry red', <chromalab.inks.Pigment object at 0x29880e9d0>))\n"
     ]
    }
   ],
   "source": [
    "for subset in itertools.combinations(all_inks.items(), 3):\n",
    "    print(subset)\n",
    "    break"
   ]
  },
  {
   "cell_type": "code",
   "execution_count": 21,
   "id": "f6719236",
   "metadata": {},
   "outputs": [],
   "source": [
    "def get_score(ink_subset):\n",
    "    names = [t[0] for t in ink_subset]\n",
    "    n = load_neugebauer([t[1] for t in ink_subset], paper)\n",
    "    return n.get_pca_size(tri_observe, illuminant), names"
   ]
  },
  {
   "cell_type": "code",
   "execution_count": 31,
   "id": "913f8f14",
   "metadata": {},
   "outputs": [
    {
     "data": {
      "application/vnd.jupyter.widget-view+json": {
       "model_id": "bb1c45e331a74e1bba652179d3c9261e",
       "version_major": 2,
       "version_minor": 0
      },
      "text/plain": [
       "  0%|          | 0/562475 [00:00<?, ?it/s]"
      ]
     },
     "metadata": {},
     "output_type": "display_data"
    }
   ],
   "source": [
    "k = 50\n",
    "\n",
    "top_k_scores = []\n",
    "\n",
    "for subset in tqdm(itertools.combinations(all_inks.items(), 3), total=562475):\n",
    "    score, names = get_score(subset)\n",
    "    \n",
    "    if len(top_k_scores) < k:\n",
    "        heapq.heappush(top_k_scores, (score, names))\n",
    "    else:\n",
    "        if score > top_k_scores[0][0]:\n",
    "            heapq.heapreplace(top_k_scores, (score, names))\n"
   ]
  },
  {
   "cell_type": "code",
   "execution_count": 32,
   "id": "b14cddf0",
   "metadata": {},
   "outputs": [
    {
     "data": {
      "text/plain": [
       "[(0.035452347022194353, ['Momo pink', 'Inkbara cyan', 'epson yellow']),\n",
       " (0.035459886512672574, ['Lamy red', 'R sublime', 'Inkbara cyan']),\n",
       " (0.035462413589773416, ['Pw denneweg groen ', 'PR Neon Yellow', 'Momo pink']),\n",
       " (0.035528966430468788, ['Lamy red', 'Pw denneweg groen ', 'I chiku Ria']),\n",
       " (0.035552885164935134, ['Lamy red', 'Pw denneweg groen ', 'epson yellow']),\n",
       " (0.035554396565163099, ['Lamy red', 'I chiku Ria', 'Inkbara cyan']),\n",
       " (0.03550088714727348,\n",
       "  ['KWZ turquoise ', 'PR Neon Yellow', 'Dragon catfish N']),\n",
       " (0.035614206681862132, ['Inkbara yellow', 'Momo pink', 'Inkbara cyan']),\n",
       " (0.035826746622765873,\n",
       "  ['Noodlers Firefly', 'Dragon catfish N', 'Inkbara cyan']),\n",
       " (0.035629490082348433,\n",
       "  ['Lamy red', 'Pw denneweg groen ', 'Platinum Violet2']),\n",
       " (0.035600994964944621,\n",
       "  ['Lamy red', 'Pw denneweg groen ', 'Inkbara danelion']),\n",
       " (0.035662467170686607,\n",
       "  ['Iwi beginning of spring', 'Momo pink', 'Inkbara cyan']),\n",
       " (0.03573011259350288, ['Di citrus yellow', 'Momo pink', 'Inkbara cyan']),\n",
       " (0.035824298816051398,\n",
       "  ['Mv Caribbean ', 'Noodlers Firefly', 'Dragon catfish N']),\n",
       " (0.035961462069609602, ['Momo pink', 'Rokyu moon yellow', 'Inkbara cyan']),\n",
       " (0.035853815020558108,\n",
       "  ['Lamy red', 'Pw denneweg groen ', 'Rokyu moon yellow']),\n",
       " (0.036048238262331521, ['Lamy red', 'O green eagle', 'Inkbara cyan']),\n",
       " (0.036034462419140184,\n",
       "  ['Mv Caribbean ', 'PR Neon Yellow', 'Dragon catfish N']),\n",
       " (0.03604268024708094, ['PR Neon Yellow', 'Dragon catfish N', 'Inkbara cyan']),\n",
       " (0.035733576475582514,\n",
       "  ['Lamy red', 'Mv sweet life key lime pie ', 'Inkbara cyan']),\n",
       " (0.035665032937749933, ['Lamy red', 'C photon', 'Inkbara yellow']),\n",
       " (0.035634350315682434, ['Lamy red', 'KWZ turquoise ', 'PR Neon Yellow']),\n",
       " (0.036017584523762337, ['Lamy red', 'Noodlers Firefly', 'Bleu pervenche h']),\n",
       " (0.035842996399674566, ['Lamy red', 'C photon', 'Iwi beginning of spring']),\n",
       " (0.036366323305371914,\n",
       "  ['Lamy red', 'Iwi beginning of spring', 'Inkbara cyan']),\n",
       " (0.035838287927164807, ['Yellow fire', 'Momo pink', 'Inkbara cyan']),\n",
       " (0.036746970723243504, ['Lamy red', 'Mv Caribbean ', 'Noodlers Firefly']),\n",
       " (0.036268464199100452, ['CT Pastel Yellow', 'Momo pink', 'Inkbara cyan']),\n",
       " (0.035900647865474263,\n",
       "  ['Lamy red', 'Di citrus yellow', 'Pw denneweg groen ']),\n",
       " (0.037292566404139291, ['Lamy red', 'CT Pastel Yellow', 'Inkbara cyan']),\n",
       " (0.037882236444263119, ['Lamy red', 'C photon', 'Noodlers Firefly']),\n",
       " (0.036408771739819983, ['Lamy red', 'Pw denneweg groen ', 'Inkbara yellow']),\n",
       " (0.036589154089526565, ['Lamy red', 'C photon', 'CT Pastel Yellow']),\n",
       " (0.036147295251176999, ['KWZ turquoise ', 'Noodlers Firefly', 'Momo pink']),\n",
       " (0.03626819767886142, ['Lamy red', 'Pw denneweg groen ', 'Sailor pink']),\n",
       " (0.036628147963175435,\n",
       "  ['Lamy red', 'Pw denneweg groen ', 'Iwi beginning of spring']),\n",
       " (0.03654125330106555, ['Lamy red', 'Pw denneweg groen ', 'Momo pink']),\n",
       " (0.036738323375716794, ['Noodlers Firefly', 'Momo pink', 'Inkbara cyan']),\n",
       " (0.037185087666106523, ['Lamy red', 'KWZ turquoise ', 'Noodlers Firefly']),\n",
       " (0.037565550540111479, ['Lamy red', 'C photon', 'PR Neon Yellow']),\n",
       " (0.036125329712573054, ['Lamy red', 'Pw denneweg groen ', 'Yellow fire']),\n",
       " (0.036147802090248121, ['Lamy red', 'Inkbara yellow', 'Inkbara cyan']),\n",
       " (0.03596454271951334, ['KWZ turquoise ', 'PR Neon Yellow', 'Momo pink']),\n",
       " (0.035635872728596543, ['Lamy red', 'Di citrus yellow', 'Inkbara cyan']),\n",
       " (0.037028112425793451, ['PR Neon Yellow', 'Momo pink', 'Inkbara cyan']),\n",
       " (0.038284857183083387, ['Lamy red', 'Pw denneweg groen ', 'PR Neon Yellow']),\n",
       " (0.037284015011158106,\n",
       "  ['Lamy red', 'Pw denneweg groen ', 'CT Pastel Yellow']),\n",
       " (0.039008949583508833, ['Lamy red', 'Noodlers Firefly', 'Inkbara cyan']),\n",
       " (0.038372314983807859, ['Lamy red', 'PR Neon Yellow', 'Inkbara cyan']),\n",
       " (0.038444263655673515,\n",
       "  ['Lamy red', 'Pw denneweg groen ', 'Noodlers Firefly'])]"
      ]
     },
     "execution_count": 32,
     "metadata": {},
     "output_type": "execute_result"
    }
   ],
   "source": [
    "top_k_scores"
   ]
  },
  {
   "cell_type": "markdown",
   "id": "435f2ee2",
   "metadata": {},
   "source": [
    "lol im guessing everything for the top result here is completely wrong. oh well :)"
   ]
  },
  {
   "cell_type": "code",
   "execution_count": null,
   "id": "5894e91e",
   "metadata": {},
   "outputs": [],
   "source": []
  },
  {
   "cell_type": "code",
   "execution_count": 41,
   "id": "73cca091",
   "metadata": {},
   "outputs": [
    {
     "data": {
      "image/png": "[encoded data removed]",
      "text/plain": [
       "<Figure size 640x480 with 1 Axes>"
      ]
     },
     "metadata": {},
     "output_type": "display_data"
    }
   ],
   "source": [
    "for k in ['Lamy red', 'Pw denneweg groen ', 'CT Pastel Yellow']:\n",
    "    all_inks[k].plot()"
   ]
  },
  {
   "cell_type": "code",
   "execution_count": 35,
   "id": "34cfbca7",
   "metadata": {
    "scrolled": true
   },
   "outputs": [
    {
     "data": {
      "image/png": "[encoded data removed]",
      "text/plain": [
       "<Figure size 640x480 with 1 Axes>"
      ]
     },
     "metadata": {},
     "output_type": "display_data"
    }
   ],
   "source": [
    "for k in ['Lamy red', 'Noodlers Firefly', 'Inkbara cyan']:\n",
    "    all_inks[k].plot()"
   ]
  },
  {
   "cell_type": "markdown",
   "id": "0af47981",
   "metadata": {},
   "source": [
    "## Where are the bottlenecks?"
   ]
  },
  {
   "cell_type": "markdown",
   "id": "37b53ea5",
   "metadata": {},
   "source": [
    "The above loop is 21.3ms per iteration. Where is the bottleneck?"
   ]
  },
  {
   "cell_type": "markdown",
   "id": "9b067cef",
   "metadata": {},
   "source": [
    "### Checking the loop, minheap"
   ]
  },
  {
   "cell_type": "code",
   "execution_count": 45,
   "id": "9a1a25c4",
   "metadata": {},
   "outputs": [
    {
     "data": {
      "application/vnd.jupyter.widget-view+json": {
       "model_id": "df240220c7dc4b05a03d910576ccda56",
       "version_major": 2,
       "version_minor": 0
      },
      "text/plain": [
       "  0%|          | 0/562475 [00:00<?, ?it/s]"
      ]
     },
     "metadata": {},
     "output_type": "display_data"
    }
   ],
   "source": [
    "k = 50\n",
    "\n",
    "top_k_scores = []\n",
    "counter = 0\n",
    "\n",
    "for subset in tqdm(itertools.combinations(all_inks.items(), 3), total=562475):\n",
    "    score, names = counter, \"lorem\"\n",
    "    counter += 1\n",
    "    \n",
    "    if len(top_k_scores) < k:\n",
    "        heapq.heappush(top_k_scores, (score, names))\n",
    "    else:\n",
    "        if score > top_k_scores[0][0]:\n",
    "            heapq.heapreplace(top_k_scores, (score, names))"
   ]
  },
  {
   "cell_type": "markdown",
   "id": "fe86ca53",
   "metadata": {},
   "source": [
    "😹 ok clearly not the loop"
   ]
  },
  {
   "cell_type": "markdown",
   "id": "3c3127b6",
   "metadata": {},
   "source": [
    "### checking km"
   ]
  },
  {
   "cell_type": "code",
   "execution_count": null,
   "id": "e5239288",
   "metadata": {},
   "outputs": [],
   "source": [
    "def get_score2(ink_subset):\n",
    "    names = [t[0] for t in ink_subset]\n",
    "    n = load_neugebauer([t[1] for t in ink_subset], paper)\n",
    "    return 0.2, \"lorem\""
   ]
  },
  {
   "cell_type": "code",
   "execution_count": 63,
   "id": "f4f4c590",
   "metadata": {},
   "outputs": [
    {
     "data": {
      "application/vnd.jupyter.widget-view+json": {
       "model_id": "bf183cae6aac4ee3921760cedef2dabe",
       "version_major": 2,
       "version_minor": 0
      },
      "text/plain": [
       "  0%|          | 0/562475 [00:00<?, ?it/s]"
      ]
     },
     "metadata": {},
     "output_type": "display_data"
    }
   ],
   "source": [
    "k = 50\n",
    "\n",
    "top_k_scores = []\n",
    "\n",
    "counter = 0\n",
    "for subset in tqdm(itertools.combinations(all_inks.items(), 3), total=10000):\n",
    "    load_neugebauer([t[1] for t in subset], paper)\n",
    "    \n",
    "    counter += 1\n",
    "    if counter > 10000:\n",
    "        break\n"
   ]
  },
  {
   "cell_type": "markdown",
   "id": "9decf77f",
   "metadata": {},
   "source": [
    "Just load_neugebauer (e.g. kubelka munk) takes some 18ms/iteration. It's worth implementing caching. "
   ]
  },
  {
   "cell_type": "markdown",
   "id": "98ce96f5",
   "metadata": {},
   "source": [
    "### checking neugebauer & pca"
   ]
  },
  {
   "cell_type": "code",
   "execution_count": 59,
   "id": "824f8c96",
   "metadata": {},
   "outputs": [
    {
     "data": {
      "application/vnd.jupyter.widget-view+json": {
       "model_id": "836c95cd63144dbd8825893760531110",
       "version_major": 2,
       "version_minor": 0
      },
      "text/plain": [
       "  0%|          | 0/562475 [00:00<?, ?it/s]"
      ]
     },
     "metadata": {},
     "output_type": "display_data"
    }
   ],
   "source": [
    "k = 50\n",
    "\n",
    "top_k_scores = []\n",
    "\n",
    "counter = 0\n",
    "for subset in tqdm(itertools.combinations(all_inks.items(), 3), total=10000):\n",
    "    n.get_pca_size(tri_observe, illuminant)\n",
    "    counter += 1\n",
    "    if counter > 10000:\n",
    "        break"
   ]
  },
  {
   "cell_type": "markdown",
   "id": "8f7d16c5",
   "metadata": {},
   "source": [
    "Taking about 15ms/iteration"
   ]
  },
  {
   "cell_type": "markdown",
   "id": "ad5f1ab1",
   "metadata": {},
   "source": [
    "hmm.. what going. on?"
   ]
  },
  {
   "cell_type": "code",
   "execution_count": 61,
   "id": "a4a57aaf",
   "metadata": {},
   "outputs": [
    {
     "data": {
      "application/vnd.jupyter.widget-view+json": {
       "model_id": "cc2ea0e0b93f47678151ebde53f7c3fc",
       "version_major": 2,
       "version_minor": 0
      },
      "text/plain": [
       "  0%|          | 0/562475 [00:00<?, ?it/s]"
      ]
     },
     "metadata": {},
     "output_type": "display_data"
    }
   ],
   "source": [
    "k = 50\n",
    "\n",
    "top_k_scores = []\n",
    "\n",
    "counter = 0\n",
    "for subset in tqdm(itertools.combinations(all_inks.items(), 3), total=10000):\n",
    "    score, names = get_score(subset)\n",
    "    \n",
    "    if len(top_k_scores) < k:\n",
    "        heapq.heappush(top_k_scores, (score, names))\n",
    "    else:\n",
    "        if score > top_k_scores[0][0]:\n",
    "            heapq.heapreplace(top_k_scores, (score, names))\n",
    "    counter += 1\n",
    "    if counter > 10000:\n",
    "        break\n"
   ]
  },
  {
   "cell_type": "markdown",
   "id": "42bc6163",
   "metadata": {},
   "source": [
    "get_score is significantly faster than get_pca_size + load_neugebauer times added together"
   ]
  },
  {
   "cell_type": "code",
   "execution_count": 64,
   "id": "9c98f76a",
   "metadata": {},
   "outputs": [
    {
     "data": {
      "application/vnd.jupyter.widget-view+json": {
       "model_id": "846d43ac10cc4f609d308d8941b271a9",
       "version_major": 2,
       "version_minor": 0
      },
      "text/plain": [
       "  0%|          | 0/10000 [00:00<?, ?it/s]"
      ]
     },
     "metadata": {},
     "output_type": "display_data"
    }
   ],
   "source": [
    "k = 50\n",
    "\n",
    "top_k_scores = []\n",
    "\n",
    "counter = 0\n",
    "for subset in tqdm(itertools.combinations(all_inks.items(), 3), total=10000):\n",
    "    load_neugebauer([t[1] for t in subset], paper)\n",
    "    n.get_pca_size(tri_observe, illuminant)\n",
    "\n",
    "    counter += 1\n",
    "    if counter > 10000:\n",
    "        break\n"
   ]
  },
  {
   "cell_type": "markdown",
   "id": "337d5325",
   "metadata": {},
   "source": [
    "get_score is saving an indorinate amoutn of tiem for some reasn,\n",
    "\n",
    "might be because get_score is caching global variables which is reducing acces time.\n",
    "ok. good to kmow. I keepm in mnid. look up gloval variable berry expensz,"
   ]
  },
  {
   "cell_type": "code",
   "execution_count": 69,
   "id": "eebf5753",
   "metadata": {},
   "outputs": [
    {
     "data": {
      "text/plain": [
       "array([ 0.37207186,  0.49639455,  0.64036065,  0.72749877,  0.77095699,\n",
       "        0.79236752,  0.79188955,  0.77118957,  0.73458761,  0.68522728,\n",
       "        0.62440312,  0.5428732 ,  0.45627481,  0.38492423,  0.33016401,\n",
       "        0.29042822,  0.26059863,  0.24449775,  0.23423244,  0.23019238,\n",
       "        0.23056112,  0.23684135,  0.24930641,  0.26623192,  0.28045246,\n",
       "        0.30530405,  0.34285003,  0.39078179,  0.4419319 ,  0.47999141,\n",
       "        0.50371373])"
      ]
     },
     "execution_count": 69,
     "metadata": {},
     "output_type": "execute_result"
    }
   ],
   "source": [
    "all_inks[\"Lamy blue\"].data"
   ]
  },
  {
   "cell_type": "code",
   "execution_count": 72,
   "id": "31a076a8",
   "metadata": {},
   "outputs": [
    {
     "data": {
      "text/plain": [
       "array([ 0.372 ,  0.4963,  0.64  ,  0.7275,  0.771 ,  0.7925,  0.792 ,\n",
       "        0.771 ,  0.7344,  0.685 ,  0.6245,  0.543 ,  0.4563,  0.385 ,\n",
       "        0.33  ,  0.2905,  0.2605,  0.2445,  0.2343,  0.2302,  0.2306,\n",
       "        0.2368,  0.2493,  0.266 ,  0.2805,  0.3054,  0.3428,  0.3909,\n",
       "        0.442 ,  0.48  ,  0.504 ], dtype=float16)"
      ]
     },
     "execution_count": 72,
     "metadata": {},
     "output_type": "execute_result"
    }
   ],
   "source": [
    "all_inks[\"Lamy blue\"].data.astype(np.float16)"
   ]
  },
  {
   "cell_type": "code",
   "execution_count": 74,
   "id": "efb7b5cd",
   "metadata": {},
   "outputs": [
    {
     "data": {
      "image/png": "[encoded data removed]",
      "text/plain": [
       "<Figure size 640x480 with 1 Axes>"
      ]
     },
     "metadata": {},
     "output_type": "display_data"
    }
   ],
   "source": [
    "all_inks[\"Lamy blue\"].plot()\n",
    "Spectra(data=all_inks[\"Lamy blue\"].data.astype(np.float16), wavelengths=wavelengths10).plot()"
   ]
  },
  {
   "cell_type": "markdown",
   "id": "34ce5622",
   "metadata": {},
   "source": [
    "we should be using float 16"
   ]
  },
  {
   "cell_type": "markdown",
   "id": "791af882",
   "metadata": {},
   "source": [
    "## cached pca search"
   ]
  },
  {
   "cell_type": "code",
   "execution_count": 75,
   "id": "42871b05",
   "metadata": {},
   "outputs": [],
   "source": [
    "all_spectras = list(all_inks.values())"
   ]
  },
  {
   "cell_type": "code",
   "execution_count": 107,
   "id": "4a8b0b9f",
   "metadata": {},
   "outputs": [],
   "source": [
    "all_data = np.array([s.data for s in all_spectras])"
   ]
  },
  {
   "cell_type": "code",
   "execution_count": 79,
   "id": "31f9d989",
   "metadata": {},
   "outputs": [
    {
     "data": {
      "text/plain": [
       "(151, 31)"
      ]
     },
     "execution_count": 79,
     "metadata": {},
     "output_type": "execute_result"
    }
   ],
   "source": [
    "data.shape"
   ]
  },
  {
   "cell_type": "code",
   "execution_count": 83,
   "id": "7e4ff19c",
   "metadata": {},
   "outputs": [
    {
     "data": {
      "text/plain": [
       "(3, 31)"
      ]
     },
     "execution_count": 83,
     "metadata": {},
     "output_type": "execute_result"
    }
   ],
   "source": [
    "data[list((1,2,3))].shape"
   ]
  },
  {
   "cell_type": "code",
   "execution_count": 84,
   "id": "8c4781cc",
   "metadata": {},
   "outputs": [
    {
     "data": {
      "text/plain": [
       "(3, 31)"
      ]
     },
     "execution_count": 84,
     "metadata": {},
     "output_type": "execute_result"
    }
   ],
   "source": [
    "data[list((1,2,3)), :].shape"
   ]
  },
  {
   "cell_type": "code",
   "execution_count": 97,
   "id": "772f3b63",
   "metadata": {},
   "outputs": [],
   "source": [
    "from chromalab.inks import k_s_from_data, data_from_k_s"
   ]
  },
  {
   "cell_type": "code",
   "execution_count": 89,
   "id": "f3ab1657",
   "metadata": {},
   "outputs": [
    {
     "data": {
      "text/plain": [
       "(2, 31)"
      ]
     },
     "execution_count": 89,
     "metadata": {},
     "output_type": "execute_result"
    }
   ],
   "source": [
    "np.stack(k_s_from_data(all_inks[\"Lamy blue\"].data)).shape"
   ]
  },
  {
   "cell_type": "code",
   "execution_count": 92,
   "id": "7fcabf32",
   "metadata": {},
   "outputs": [
    {
     "data": {
      "text/plain": [
       "[<chromalab.inks.Pigment at 0x298907210>,\n",
       " <chromalab.inks.Pigment at 0x2987e9fd0>,\n",
       " <chromalab.inks.Pigment at 0x29880e9d0>,\n",
       " <chromalab.inks.Pigment at 0x29880eb10>,\n",
       " <chromalab.inks.Pigment at 0x29880efd0>,\n",
       " <chromalab.inks.Pigment at 0x29880f5d0>,\n",
       " <chromalab.inks.Pigment at 0x29880ef90>,\n",
       " <chromalab.inks.Pigment at 0x29880e290>,\n",
       " <chromalab.inks.Pigment at 0x29880ed90>,\n",
       " <chromalab.inks.Pigment at 0x29880df90>]"
      ]
     },
     "execution_count": 92,
     "metadata": {},
     "output_type": "execute_result"
    }
   ],
   "source": [
    "all_spectras[:10]"
   ]
  },
  {
   "cell_type": "code",
   "execution_count": 127,
   "id": "ef951c88",
   "metadata": {},
   "outputs": [],
   "source": [
    "from itertools import combinations, combinations_with_replacement"
   ]
  },
  {
   "cell_type": "code",
   "execution_count": 109,
   "id": "efff2cde",
   "metadata": {},
   "outputs": [],
   "source": [
    "km_cache = {}\n",
    "\n",
    "for i in range(2, k + 1):\n",
    "    concentrations = np.ones(i) / i\n",
    "    for subset in combinations(range(8), i):\n",
    "        inks_to_mix = all_data[list(subset)]\n",
    "        ks_batch = []\n",
    "        for ink in inks_to_mix:\n",
    "            ks_batch.append(np.stack(k_s_from_data(ink)))\n",
    "        ks_batch = np.stack(ks_batch, axis=2)\n",
    "        ks_mix = ks_batch @ concentrations\n",
    "        data = data_from_k_s(ks_mix[0], ks_mix[1])\n",
    "        km_cache[subset] = data.astype(np.float16)"
   ]
  },
  {
   "cell_type": "code",
   "execution_count": 138,
   "id": "60d86c4b",
   "metadata": {},
   "outputs": [
    {
     "name": "stdout",
     "output_type": "stream",
     "text": [
      "[1, 1, 1, 1]\n"
     ]
    }
   ],
   "source": [
    "for subset in combinations(range(4), 4):\n",
    "    binary = [0] * 4\n",
    "    for index in subset:\n",
    "        binary[index] = 1\n",
    "    print(binary)"
   ]
  },
  {
   "cell_type": "code",
   "execution_count": 142,
   "id": "43ca9236",
   "metadata": {},
   "outputs": [
    {
     "name": "stdout",
     "output_type": "stream",
     "text": [
      "(0, 1)\n",
      "(0, 2)\n",
      "(0, 3)\n",
      "(1, 2)\n",
      "(1, 3)\n",
      "(2, 3)\n",
      "(0, 1, 2)\n",
      "(0, 1, 3)\n",
      "(0, 2, 3)\n",
      "(1, 2, 3)\n",
      "(0, 1, 2, 3)\n",
      "(11, 31)\n"
     ]
    }
   ],
   "source": [
    "for inkset_idx in combinations(range(8), 4):\n",
    "    primaries_array = []\n",
    "    for i in range(2, 4 + 1):\n",
    "        for subset in (combinations(inkset_idx, i)):\n",
    "            print((subset))\n",
    "            primaries_array.append(km_cache[subset])\n",
    "            \n",
    "    print(np.array(primaries_array).shape)\n",
    "    break"
   ]
  },
  {
   "cell_type": "code",
   "execution_count": 144,
   "id": "fa9a31a9",
   "metadata": {},
   "outputs": [],
   "source": [
    "small_inks = {key : all_inks[key] for key in list(all_inks.keys())[:15]}"
   ]
  },
  {
   "cell_type": "code",
   "execution_count": 143,
   "id": "f30a989d",
   "metadata": {},
   "outputs": [],
   "source": [
    "from chromalab.inks import InkLibrary"
   ]
  },
  {
   "cell_type": "code",
   "execution_count": 146,
   "id": "52ef73aa",
   "metadata": {},
   "outputs": [],
   "source": [
    "small_library = InkLibrary(small_inks, paper)"
   ]
  },
  {
   "cell_type": "code",
   "execution_count": 148,
   "id": "5e513e06",
   "metadata": {},
   "outputs": [
    {
     "data": {
      "text/plain": [
       "<chromalab.spectra.Illuminant at 0x2988224d0>"
      ]
     },
     "execution_count": 148,
     "metadata": {},
     "output_type": "execute_result"
    }
   ],
   "source": [
    "d65"
   ]
  },
  {
   "cell_type": "code",
   "execution_count": 153,
   "id": "b87d63c8",
   "metadata": {},
   "outputs": [
    {
     "name": "stderr",
     "output_type": "stream",
     "text": [
      "100%|███████████████████████████████████████████████████████████████████████████████████████████████████████████████████████████████████████████████████████████| 2/2 [00:00<00:00,  7.61it/s]"
     ]
    },
    {
     "name": "stdout",
     "output_type": "stream",
     "text": [
      "km cache loaded\n"
     ]
    },
    {
     "name": "stderr",
     "output_type": "stream",
     "text": [
      "\n"
     ]
    }
   ],
   "source": [
    "top_small = small_library.cached_pca_search(trichromat, d65)"
   ]
  },
  {
   "cell_type": "code",
   "execution_count": 152,
   "id": "f2c4f061",
   "metadata": {},
   "outputs": [
    {
     "data": {
      "image/png": "[encoded data removed]",
      "text/plain": [
       "<Figure size 640x480 with 1 Axes>"
      ]
     },
     "metadata": {},
     "output_type": "display_data"
    }
   ],
   "source": [
    "for a in  ['Pp violet', 'W dracula', 'Iwi frost descent']:\n",
    "    all_inks[a].plot()"
   ]
  },
  {
   "cell_type": "code",
   "execution_count": 154,
   "id": "45b95b99",
   "metadata": {},
   "outputs": [],
   "source": [
    "big_library = InkLibrary(all_inks, paper)"
   ]
  },
  {
   "cell_type": "code",
   "execution_count": 159,
   "id": "23356fea",
   "metadata": {},
   "outputs": [
    {
     "name": "stderr",
     "output_type": "stream",
     "text": [
      "loading km cache: 100%|███████████████████████████████████████████████████████████████████████████████████████████████████████████████████████████| 573800/573800.0 [04:48<00:00, 1989.95it/s]\n",
      "finding best inkset: 100%|████████████████████████████████████████████████████████████████████████████████████████████████████████████████████████| 562475/562475.0 [03:04<00:00, 3044.38it/s]\n"
     ]
    }
   ],
   "source": [
    "top_big = big_library.cached_pca_search(trichromat, d65)"
   ]
  },
  {
   "cell_type": "code",
   "execution_count": 161,
   "id": "3be3ede9",
   "metadata": {},
   "outputs": [
    {
     "name": "stderr",
     "output_type": "stream",
     "text": [
      "loading km cache:   2%|██▌                                                                                                                    | 468404/21385375.0 [03:54<2:54:52, 1993.46it/s]\n"
     ]
    },
    {
     "ename": "KeyboardInterrupt",
     "evalue": "",
     "output_type": "error",
     "traceback": [
      "\u001b[0;31m---------------------------------------------------------------------------\u001b[0m",
      "\u001b[0;31mKeyboardInterrupt\u001b[0m                         Traceback (most recent call last)",
      "Cell \u001b[0;32mIn[161], line 1\u001b[0m\n\u001b[0;32m----> 1\u001b[0m top_big_tetra \u001b[38;5;241m=\u001b[39m big_library\u001b[38;5;241m.\u001b[39mcached_pca_search(tetrachromat, d65)\n",
      "File \u001b[0;32m~/Documents/Python/ChromaLab/chromalab/inks.py:277\u001b[0m, in \u001b[0;36mInkLibrary.cached_pca_search\u001b[0;34m(self, observe, illuminant, top, k)\u001b[0m\n\u001b[1;32m    275\u001b[0m ks_batch \u001b[38;5;241m=\u001b[39m []\n\u001b[1;32m    276\u001b[0m \u001b[38;5;28;01mfor\u001b[39;00m ink \u001b[38;5;129;01min\u001b[39;00m inks_to_mix:\n\u001b[0;32m--> 277\u001b[0m     ks_batch\u001b[38;5;241m.\u001b[39mappend(np\u001b[38;5;241m.\u001b[39mstack(k_s_from_data(ink)))\n\u001b[1;32m    278\u001b[0m ks_batch \u001b[38;5;241m=\u001b[39m np\u001b[38;5;241m.\u001b[39mstack(ks_batch, axis\u001b[38;5;241m=\u001b[39m\u001b[38;5;241m2\u001b[39m)\n\u001b[1;32m    279\u001b[0m ks_mix \u001b[38;5;241m=\u001b[39m ks_batch \u001b[38;5;241m@\u001b[39m concentrations\n",
      "File \u001b[0;32m~/Documents/Python/ChromaLab/chromalab/inks.py:146\u001b[0m, in \u001b[0;36mk_s_from_data\u001b[0;34m(data)\u001b[0m\n\u001b[1;32m    143\u001b[0m A \u001b[38;5;241m=\u001b[39m np\u001b[38;5;241m.\u001b[39marray([[\u001b[38;5;241m-\u001b[39m\u001b[38;5;241m1\u001b[39m, f], [\u001b[38;5;241m1\u001b[39m, \u001b[38;5;241m1\u001b[39m]])\n\u001b[1;32m    145\u001b[0m \u001b[38;5;66;03m# should just be able to call np.linalg.inverse\u001b[39;00m\n\u001b[0;32m--> 146\u001b[0m AtA_inv \u001b[38;5;241m=\u001b[39m np\u001b[38;5;241m.\u001b[39mlinalg\u001b[38;5;241m.\u001b[39minv(np\u001b[38;5;241m.\u001b[39mdot(A\u001b[38;5;241m.\u001b[39mT, A))\n\u001b[1;32m    147\u001b[0m Atb \u001b[38;5;241m=\u001b[39m np\u001b[38;5;241m.\u001b[39mdot(A\u001b[38;5;241m.\u001b[39mT, b)\n\u001b[1;32m    148\u001b[0m _k, _s \u001b[38;5;241m=\u001b[39m np\u001b[38;5;241m.\u001b[39mdot(AtA_inv, Atb)\n",
      "File \u001b[0;32m~/miniconda3/envs/chromalab/lib/python3.11/site-packages/numpy/linalg/linalg.py:556\u001b[0m, in \u001b[0;36minv\u001b[0;34m(a)\u001b[0m\n\u001b[1;32m    554\u001b[0m a, wrap \u001b[38;5;241m=\u001b[39m _makearray(a)\n\u001b[1;32m    555\u001b[0m _assert_stacked_2d(a)\n\u001b[0;32m--> 556\u001b[0m _assert_stacked_square(a)\n\u001b[1;32m    557\u001b[0m t, result_t \u001b[38;5;241m=\u001b[39m _commonType(a)\n\u001b[1;32m    559\u001b[0m signature \u001b[38;5;241m=\u001b[39m \u001b[38;5;124m'\u001b[39m\u001b[38;5;124mD->D\u001b[39m\u001b[38;5;124m'\u001b[39m \u001b[38;5;28;01mif\u001b[39;00m isComplexType(t) \u001b[38;5;28;01melse\u001b[39;00m \u001b[38;5;124m'\u001b[39m\u001b[38;5;124md->d\u001b[39m\u001b[38;5;124m'\u001b[39m\n",
      "File \u001b[0;32m~/miniconda3/envs/chromalab/lib/python3.11/site-packages/numpy/linalg/linalg.py:209\u001b[0m, in \u001b[0;36m_assert_stacked_square\u001b[0;34m(*arrays)\u001b[0m\n\u001b[1;32m    205\u001b[0m         \u001b[38;5;28;01mif\u001b[39;00m a\u001b[38;5;241m.\u001b[39mndim \u001b[38;5;241m<\u001b[39m \u001b[38;5;241m2\u001b[39m:\n\u001b[1;32m    206\u001b[0m             \u001b[38;5;28;01mraise\u001b[39;00m LinAlgError(\u001b[38;5;124m'\u001b[39m\u001b[38;5;132;01m%d\u001b[39;00m\u001b[38;5;124m-dimensional array given. Array must be \u001b[39m\u001b[38;5;124m'\u001b[39m\n\u001b[1;32m    207\u001b[0m                     \u001b[38;5;124m'\u001b[39m\u001b[38;5;124mat least two-dimensional\u001b[39m\u001b[38;5;124m'\u001b[39m \u001b[38;5;241m%\u001b[39m a\u001b[38;5;241m.\u001b[39mndim)\n\u001b[0;32m--> 209\u001b[0m \u001b[38;5;28;01mdef\u001b[39;00m \u001b[38;5;21m_assert_stacked_square\u001b[39m(\u001b[38;5;241m*\u001b[39marrays):\n\u001b[1;32m    210\u001b[0m     \u001b[38;5;28;01mfor\u001b[39;00m a \u001b[38;5;129;01min\u001b[39;00m arrays:\n\u001b[1;32m    211\u001b[0m         m, n \u001b[38;5;241m=\u001b[39m a\u001b[38;5;241m.\u001b[39mshape[\u001b[38;5;241m-\u001b[39m\u001b[38;5;241m2\u001b[39m:]\n",
      "\u001b[0;31mKeyboardInterrupt\u001b[0m: "
     ]
    }
   ],
   "source": [
    "top_big_tetra = big_library.cached_pca_search(tetrachromat, d65)"
   ]
  },
  {
   "cell_type": "code",
   "execution_count": 162,
   "id": "75579dd6",
   "metadata": {},
   "outputs": [],
   "source": [
    "top_big_tetra = [(0.0015777456740153231, ['Lamy red', 'Pw groenmarkt smaragd ', 'Noodlers Firefly', 'Rose cyclamen H']), (0.0015677609095995637, ['Lamy crystal beryl', 'Lamy red', 'Pw groenmarkt smaragd ', 'Noodlers Firefly']), (0.0015251135066498924, ['V isabela', 'Lamy red', 'Noodlers Firefly', 'Platinum violet']), (0.0015222524183002009, ['V isabela', 'Lamy crystal beryl', 'Lamy red', 'Noodlers Firefly']), (0.0015148736141626842, ['T foxglove', 'PR Neon Yellow', 'Peach haze D', 'Platinum violet']), (0.0015125470372454484, ['Lamy crystal beryl', 'Lamy red', 'T sea glass', 'Noodlers Firefly']), (0.0015089128855816799, ['T foxglove', 'Noodlers Firefly', 'Peach haze D', 'Platinum violet']), (0.0015084527300979987, ['Lamy red', 'Pw groenmarkt smaragd ', 'PR Neon Yellow', 'Rose cyclamen H']), (0.0015077419872625679, ['Lamy red', 'T sea glass', 'Noodlers Firefly', 'Platinum violet']), (0.0015062681685992013, ['Lamy red', 'T sea glass', 'Noodlers Firefly', 'Rose cyclamen H']), (0.0015040138742651483, ['V isabela', 'I tsutsuji ', 'Noodlers Firefly', 'Peach haze D']), (0.0015037360854434504, ['Lamy crystal beryl', 'Lamy red', 'Pw groenmarkt smaragd ', 'PR Neon Yellow']), (0.0015000511381627502, ['V isabela', 'Lamy crystal beryl', 'Noodlers Firefly', 'Peach haze D']), (0.0014960425473549905, ['Lamy red', 'Pw groenmarkt smaragd ', 'Noodlers Firefly', 'Platinum violet']), (0.0014943388301540636, ['V isabela', 'Lamy red', 'I tsutsuji ', 'PR Neon Yellow']), (0.0014863604377524215, ['V isabela', 'Lamy red', 'I tsutsuji ', 'Noodlers Firefly']), (0.0014837749105623269, ['V isabela', 'Lamy red', 'Noodlers Firefly', 'Rose cyclamen H']), (0.0014832619574460548, ['Lamy red', 'Pw groenmarkt smaragd ', 'CT Pastel Yellow', 'Rose cyclamen H']), (0.0014781180651640934, ['Lamy crystal beryl', 'Lamy red', 'Pw groenmarkt smaragd ', 'CT Pastel Yellow']), (0.0014757819164343035, ['T milky ocean', 'Noodlers Firefly', 'Peach haze D', 'Platinum violet']), (0.0014744652879419521, ['T foxglove', 'Noodlers Firefly', 'Orange D', 'Platinum violet']), (0.0014741702754218556, ['Lamy crystal beryl', 'Lamy red', 'T sea glass', 'PR Neon Yellow']), (0.001469792373036079, ['Lamy red', 'Mg turquoise', 'Noodlers Firefly', 'Platinum violet']), (0.0014693545554390096, ['V isabela', 'Noodlers Firefly', 'Peach haze D', 'Platinum violet']), (0.0014679428060448264, ['V isabela', 'Lamy crystal beryl', 'Lamy red', 'PR Neon Yellow']), (0.0014666435574495521, ['Lamy red', 'T sea glass', 'PR Neon Yellow', 'Rose cyclamen H']), (0.0014653774143544105, ['V isabela', 'Noodlers Firefly', 'Rose cyclamen H', 'Peach haze D']), (0.0014618050514734436, ['Lamy red', 'Noodlers Firefly', 'Rose cyclamen H', 'Pilot blue']), (0.0014613630852899943, ['Lamy red', 'PR Neon Yellow', 'Rose cyclamen H', 'Pilot blue']), (0.0014575399456173567, ['T foxglove', 'PR Neon Yellow', 'Orange D', 'Platinum violet']), (0.0014560908264212111, ['T foxglove', 'CT Pastel Yellow', 'Peach haze D', 'Platinum violet']), (0.0014524767633349498, ['Lamy red', 'Pw groenmarkt smaragd ', 'I tsutsuji ', 'PR Neon Yellow']), (0.0014521235134207469, ['V isabela', 'Noodlers Firefly', 'Peach haze D', 'Pink gazelle']), (0.0014497962985228644, ['T foxglove', 'Noodlers Firefly', 'Platinum violet', 'Orange soleil']), (0.0014490918530094747, ['Lamy red', 'T foxglove', 'PR Neon Yellow', 'Platinum violet']), (0.0014489464276112723, ['V isabela', 'Lamy red', 'Di citrus yellow', 'Platinum violet']), (0.0014489149735065312, ['V isabela', 'Lamy red', 'O pink owl', 'Noodlers Firefly']), (0.0014487840044073795, ['Pw groenmarkt smaragd ', 'Noodlers Firefly', 'Rose cyclamen H', 'Peach haze D']), (0.0014467013816898623, ['Lamy red', 'Pw groenmarkt smaragd ', 'I tsutsuji ', 'Noodlers Firefly']), (0.0014463204338995232, ['T milky ocean', 'PR Neon Yellow', 'Peach haze D', 'Platinum violet']), (0.0014434901720335133, ['Lamy red', 'Mg turquoise', 'PR Neon Yellow', 'Platinum violet']), (0.0014423955035476202, ['T sea glass', 'Noodlers Firefly', 'Rose cyclamen H', 'Peach haze D']), (0.0014412695251986162, ['V isabela', 'I tsutsuji ', 'PR Neon Yellow', 'Peach haze D']), (0.0014401708209339302, ['Lamy crystal beryl', 'Lamy red', 'Noodlers Firefly', 'Pilot blue']), (0.0014379970295374316, ['Lamy crystal beryl', 'Lamy red', 'PR Neon Yellow', 'Pilot blue']), (0.0014364793051820618, ['V isabela', 'Lamy crystal beryl', 'Vd sea shell shimmer', 'Noodlers Firefly']), (0.0014352406640301422, ['V isabela', 'Lamy crystal beryl', 'Noodlers Firefly', 'Orange D']), (0.0014342139665478272, ['Lamy crystal beryl', 'T sea glass', 'Noodlers Firefly', 'Peach haze D']), (0.0014341011523513491, ['V isabela', 'Lamy crystal beryl', 'I fuyu gaki ', 'Noodlers Firefly']), (0.0014338919778499059, ['Mg turquoise', 'Noodlers Firefly', 'Rose cyclamen H', 'Peach haze D'])]"
   ]
  },
  {
   "cell_type": "code",
   "execution_count": 163,
   "id": "3ecd450e",
   "metadata": {},
   "outputs": [
    {
     "data": {
      "text/plain": [
       "[(0.0015777456740153231,\n",
       "  ['Lamy red',\n",
       "   'Pw groenmarkt smaragd ',\n",
       "   'Noodlers Firefly',\n",
       "   'Rose cyclamen H']),\n",
       " (0.0015677609095995637,\n",
       "  ['Lamy crystal beryl',\n",
       "   'Lamy red',\n",
       "   'Pw groenmarkt smaragd ',\n",
       "   'Noodlers Firefly']),\n",
       " (0.0015251135066498924,\n",
       "  ['V isabela', 'Lamy red', 'Noodlers Firefly', 'Platinum violet']),\n",
       " (0.0015222524183002009,\n",
       "  ['V isabela', 'Lamy crystal beryl', 'Lamy red', 'Noodlers Firefly']),\n",
       " (0.0015148736141626842,\n",
       "  ['T foxglove', 'PR Neon Yellow', 'Peach haze D', 'Platinum violet']),\n",
       " (0.0015125470372454484,\n",
       "  ['Lamy crystal beryl', 'Lamy red', 'T sea glass', 'Noodlers Firefly']),\n",
       " (0.0015089128855816799,\n",
       "  ['T foxglove', 'Noodlers Firefly', 'Peach haze D', 'Platinum violet']),\n",
       " (0.0015084527300979987,\n",
       "  ['Lamy red', 'Pw groenmarkt smaragd ', 'PR Neon Yellow', 'Rose cyclamen H']),\n",
       " (0.0015077419872625679,\n",
       "  ['Lamy red', 'T sea glass', 'Noodlers Firefly', 'Platinum violet']),\n",
       " (0.0015062681685992013,\n",
       "  ['Lamy red', 'T sea glass', 'Noodlers Firefly', 'Rose cyclamen H']),\n",
       " (0.0015040138742651483,\n",
       "  ['V isabela', 'I tsutsuji ', 'Noodlers Firefly', 'Peach haze D']),\n",
       " (0.0015037360854434504,\n",
       "  ['Lamy crystal beryl',\n",
       "   'Lamy red',\n",
       "   'Pw groenmarkt smaragd ',\n",
       "   'PR Neon Yellow']),\n",
       " (0.0015000511381627502,\n",
       "  ['V isabela', 'Lamy crystal beryl', 'Noodlers Firefly', 'Peach haze D']),\n",
       " (0.0014960425473549905,\n",
       "  ['Lamy red',\n",
       "   'Pw groenmarkt smaragd ',\n",
       "   'Noodlers Firefly',\n",
       "   'Platinum violet']),\n",
       " (0.0014943388301540636,\n",
       "  ['V isabela', 'Lamy red', 'I tsutsuji ', 'PR Neon Yellow']),\n",
       " (0.0014863604377524215,\n",
       "  ['V isabela', 'Lamy red', 'I tsutsuji ', 'Noodlers Firefly']),\n",
       " (0.001483774910562327,\n",
       "  ['V isabela', 'Lamy red', 'Noodlers Firefly', 'Rose cyclamen H']),\n",
       " (0.0014832619574460548,\n",
       "  ['Lamy red',\n",
       "   'Pw groenmarkt smaragd ',\n",
       "   'CT Pastel Yellow',\n",
       "   'Rose cyclamen H']),\n",
       " (0.0014781180651640934,\n",
       "  ['Lamy crystal beryl',\n",
       "   'Lamy red',\n",
       "   'Pw groenmarkt smaragd ',\n",
       "   'CT Pastel Yellow']),\n",
       " (0.0014757819164343035,\n",
       "  ['T milky ocean', 'Noodlers Firefly', 'Peach haze D', 'Platinum violet']),\n",
       " (0.001474465287941952,\n",
       "  ['T foxglove', 'Noodlers Firefly', 'Orange D', 'Platinum violet']),\n",
       " (0.0014741702754218556,\n",
       "  ['Lamy crystal beryl', 'Lamy red', 'T sea glass', 'PR Neon Yellow']),\n",
       " (0.001469792373036079,\n",
       "  ['Lamy red', 'Mg turquoise', 'Noodlers Firefly', 'Platinum violet']),\n",
       " (0.0014693545554390096,\n",
       "  ['V isabela', 'Noodlers Firefly', 'Peach haze D', 'Platinum violet']),\n",
       " (0.0014679428060448264,\n",
       "  ['V isabela', 'Lamy crystal beryl', 'Lamy red', 'PR Neon Yellow']),\n",
       " (0.0014666435574495521,\n",
       "  ['Lamy red', 'T sea glass', 'PR Neon Yellow', 'Rose cyclamen H']),\n",
       " (0.0014653774143544105,\n",
       "  ['V isabela', 'Noodlers Firefly', 'Rose cyclamen H', 'Peach haze D']),\n",
       " (0.0014618050514734436,\n",
       "  ['Lamy red', 'Noodlers Firefly', 'Rose cyclamen H', 'Pilot blue']),\n",
       " (0.0014613630852899943,\n",
       "  ['Lamy red', 'PR Neon Yellow', 'Rose cyclamen H', 'Pilot blue']),\n",
       " (0.0014575399456173567,\n",
       "  ['T foxglove', 'PR Neon Yellow', 'Orange D', 'Platinum violet']),\n",
       " (0.0014560908264212111,\n",
       "  ['T foxglove', 'CT Pastel Yellow', 'Peach haze D', 'Platinum violet']),\n",
       " (0.0014524767633349498,\n",
       "  ['Lamy red', 'Pw groenmarkt smaragd ', 'I tsutsuji ', 'PR Neon Yellow']),\n",
       " (0.001452123513420747,\n",
       "  ['V isabela', 'Noodlers Firefly', 'Peach haze D', 'Pink gazelle']),\n",
       " (0.0014497962985228644,\n",
       "  ['T foxglove', 'Noodlers Firefly', 'Platinum violet', 'Orange soleil']),\n",
       " (0.0014490918530094747,\n",
       "  ['Lamy red', 'T foxglove', 'PR Neon Yellow', 'Platinum violet']),\n",
       " (0.0014489464276112723,\n",
       "  ['V isabela', 'Lamy red', 'Di citrus yellow', 'Platinum violet']),\n",
       " (0.0014489149735065312,\n",
       "  ['V isabela', 'Lamy red', 'O pink owl', 'Noodlers Firefly']),\n",
       " (0.0014487840044073795,\n",
       "  ['Pw groenmarkt smaragd ',\n",
       "   'Noodlers Firefly',\n",
       "   'Rose cyclamen H',\n",
       "   'Peach haze D']),\n",
       " (0.0014467013816898623,\n",
       "  ['Lamy red', 'Pw groenmarkt smaragd ', 'I tsutsuji ', 'Noodlers Firefly']),\n",
       " (0.0014463204338995232,\n",
       "  ['T milky ocean', 'PR Neon Yellow', 'Peach haze D', 'Platinum violet']),\n",
       " (0.0014434901720335133,\n",
       "  ['Lamy red', 'Mg turquoise', 'PR Neon Yellow', 'Platinum violet']),\n",
       " (0.0014423955035476202,\n",
       "  ['T sea glass', 'Noodlers Firefly', 'Rose cyclamen H', 'Peach haze D']),\n",
       " (0.0014412695251986162,\n",
       "  ['V isabela', 'I tsutsuji ', 'PR Neon Yellow', 'Peach haze D']),\n",
       " (0.0014401708209339302,\n",
       "  ['Lamy crystal beryl', 'Lamy red', 'Noodlers Firefly', 'Pilot blue']),\n",
       " (0.0014379970295374316,\n",
       "  ['Lamy crystal beryl', 'Lamy red', 'PR Neon Yellow', 'Pilot blue']),\n",
       " (0.0014364793051820618,\n",
       "  ['V isabela',\n",
       "   'Lamy crystal beryl',\n",
       "   'Vd sea shell shimmer',\n",
       "   'Noodlers Firefly']),\n",
       " (0.0014352406640301422,\n",
       "  ['V isabela', 'Lamy crystal beryl', 'Noodlers Firefly', 'Orange D']),\n",
       " (0.0014342139665478272,\n",
       "  ['Lamy crystal beryl', 'T sea glass', 'Noodlers Firefly', 'Peach haze D']),\n",
       " (0.0014341011523513491,\n",
       "  ['V isabela', 'Lamy crystal beryl', 'I fuyu gaki ', 'Noodlers Firefly']),\n",
       " (0.001433891977849906,\n",
       "  ['Mg turquoise', 'Noodlers Firefly', 'Rose cyclamen H', 'Peach haze D'])]"
      ]
     },
     "execution_count": 163,
     "metadata": {},
     "output_type": "execute_result"
    }
   ],
   "source": [
    "top_big_tetra"
   ]
  },
  {
   "cell_type": "code",
   "execution_count": 167,
   "id": "c2db5f3b",
   "metadata": {},
   "outputs": [
    {
     "data": {
      "image/png": "[encoded data removed]",
      "text/plain": [
       "<Figure size 640x480 with 1 Axes>"
      ]
     },
     "metadata": {},
     "output_type": "display_data"
    }
   ],
   "source": [
    "all_inks[\"Noodlers Firefly\"].plot()\n",
    "all_inks[\"Lamy red\"].plot()\n",
    "all_inks[\"Pw groenmarkt smaragd \"].plot()\n",
    "all_inks[\"Rose cyclamen H\"].plot()"
   ]
  },
  {
   "cell_type": "code",
   "execution_count": 168,
   "id": "f14b6aa6",
   "metadata": {},
   "outputs": [
    {
     "name": "stdout",
     "output_type": "stream",
     "text": [
      "0.0014832619574460548 ['Lamy red', 'Pw groenmarkt smaragd ', 'CT Pastel Yellow', 'Rose cyclamen H']\n",
      "0.0014781180651640934 ['Lamy crystal beryl', 'Lamy red', 'Pw groenmarkt smaragd ', 'CT Pastel Yellow']\n",
      "0.0014560908264212111 ['T foxglove', 'CT Pastel Yellow', 'Peach haze D', 'Platinum violet']\n",
      "0.0014489464276112723 ['V isabela', 'Lamy red', 'Di citrus yellow', 'Platinum violet']\n"
     ]
    }
   ],
   "source": [
    "for score, inks in  top_big_tetra:\n",
    "    if \"Noodlers Firefly\" in inks or \"PR Neon Yellow\" in inks:\n",
    "        continue\n",
    "    print(score, inks)"
   ]
  },
  {
   "cell_type": "code",
   "execution_count": 173,
   "id": "ef4e8be6",
   "metadata": {},
   "outputs": [
    {
     "data": {
      "image/png": "[encoded data removed]",
      "text/plain": [
       "<Figure size 640x480 with 1 Axes>"
      ]
     },
     "metadata": {},
     "output_type": "display_data"
    }
   ],
   "source": [
    "all_inks[\"Pw groenmarkt smaragd \"].plot()"
   ]
  },
  {
   "cell_type": "markdown",
   "id": "17c28c0e",
   "metadata": {},
   "source": [
    "## analyzing selected inksets"
   ]
  },
  {
   "cell_type": "code",
   "execution_count": 178,
   "id": "e951e5a8",
   "metadata": {},
   "outputs": [
    {
     "name": "stderr",
     "output_type": "stream",
     "text": [
      "Generating point cloud: 2it [00:00,  6.44it/s]                                                                                                                                                \n"
     ]
    },
    {
     "name": "stdout",
     "output_type": "stream",
     "text": [
      "(194481, 31)\n"
     ]
    },
    {
     "name": "stderr",
     "output_type": "stream",
     "text": [
      "Generating point cloud: 2it [00:00,  5.97it/s]                                                                                                                                                \n"
     ]
    },
    {
     "name": "stdout",
     "output_type": "stream",
     "text": [
      "(194481, 31)\n"
     ]
    },
    {
     "name": "stderr",
     "output_type": "stream",
     "text": [
      "Generating point cloud: 2it [00:00,  6.21it/s]                                                                                                                                                \n"
     ]
    },
    {
     "name": "stdout",
     "output_type": "stream",
     "text": [
      "(194481, 31)\n"
     ]
    },
    {
     "name": "stderr",
     "output_type": "stream",
     "text": [
      "Generating point cloud: 2it [00:00,  5.97it/s]                                                                                                                                                \n"
     ]
    },
    {
     "name": "stdout",
     "output_type": "stream",
     "text": [
      "(194481, 31)\n"
     ]
    }
   ],
   "source": [
    "set0 = ['Lamy red', 'Pw groenmarkt smaragd ', 'Noodlers Firefly', 'Rose cyclamen H']\n",
    "set1 = ['Lamy red', 'Pw groenmarkt smaragd ', 'CT Pastel Yellow', 'Rose cyclamen H']\n",
    "set2 = ['Lamy crystal beryl', 'Lamy red', 'Pw groenmarkt smaragd ', 'CT Pastel Yellow']\n",
    "set3 = ['T foxglove', 'CT Pastel Yellow', 'Peach haze D', 'Platinum violet']\n",
    "set4 = ['V isabela', 'Lamy red', 'Di citrus yellow', 'Platinum violet']\n",
    "\n",
    "\n",
    "for i, s in enumerate([set1, set2, set3, set4]):\n",
    "    g = InkGamut([all_inks[a] for a in s], paper, d65)\n",
    "    pc, _perc = g.get_point_cloud(tetrachromat, stepsize=0.05)\n",
    "    data = []\n",
    "    for perc in _perc:\n",
    "        d = g.neugebauer.mix(perc)\n",
    "        data.append(d)\n",
    "    data = np.array(data).squeeze(1)\n",
    "    print(data.shape)\n",
    "    np.save(f\"../outputs/set{i + 1}_spectra005\", data)\n",
    "    np.save(f\"../outputs/set{i + 1}_pointcloud005\", pc)\n",
    "\n",
    "#     w = g.get_width(tetrachromat, stepsize=0.02, verbose=False)\n",
    "#     print(\"set\", i, \"\\t width\", w)"
   ]
  },
  {
   "cell_type": "markdown",
   "id": "77dec31b",
   "metadata": {},
   "source": [
    "## making inkset smaller"
   ]
  },
  {
   "cell_type": "code",
   "execution_count": 179,
   "id": "c2572832",
   "metadata": {},
   "outputs": [
    {
     "data": {
      "text/plain": [
       "{'P balaton kek ': <chromalab.inks.Pigment at 0x298907210>,\n",
       " 'Pp violet': <chromalab.inks.Pigment at 0x2987e9fd0>,\n",
       " 'Pp cherry red': <chromalab.inks.Pigment at 0x29880e9d0>,\n",
       " 'W Jane eyre': <chromalab.inks.Pigment at 0x29880eb10>,\n",
       " 'V isabela': <chromalab.inks.Pigment at 0x29880efd0>,\n",
       " 'V karol ': <chromalab.inks.Pigment at 0x29880f5d0>,\n",
       " 'V maskara ': <chromalab.inks.Pigment at 0x29880ef90>,\n",
       " 'Wa audacious red': <chromalab.inks.Pigment at 0x29880e290>,\n",
       " 'W dracula': <chromalab.inks.Pigment at 0x29880ed90>,\n",
       " 'K kitano pearl silver': <chromalab.inks.Pigment at 0x29880df90>,\n",
       " 'K goshiyama ocher': <chromalab.inks.Pigment at 0x29880f390>,\n",
       " 'Kyo no oto adzuki iro': <chromalab.inks.Pigment at 0x29880e410>,\n",
       " 'Kyo iro higashiyama moonlight': <chromalab.inks.Pigment at 0x29880f550>,\n",
       " 'KWZ grapefruit': <chromalab.inks.Pigment at 0x29880e0d0>,\n",
       " 'Iwi frost descent': <chromalab.inks.Pigment at 0x29880f3d0>,\n",
       " 'D ancient copper': <chromalab.inks.Pigment at 0x29880e790>,\n",
       " 'Mg bordeaux ': <chromalab.inks.Pigment at 0x29880f590>,\n",
       " 'D golden honey ': <chromalab.inks.Pigment at 0x29880dcd0>,\n",
       " 'Cross red': <chromalab.inks.Pigment at 0x29880fad0>,\n",
       " 'Di maple': <chromalab.inks.Pigment at 0x29880dad0>,\n",
       " 'C lunch date': <chromalab.inks.Pigment at 0x29880ead0>,\n",
       " 'Lamy crystal beryl': <chromalab.inks.Pigment at 0x29880d090>,\n",
       " 'Lamy red': <chromalab.inks.Pigment at 0x29880fa90>,\n",
       " 'F cognac brown': <chromalab.inks.Pigment at 0x29880d4d0>,\n",
       " 'F violet blue': <chromalab.inks.Pigment at 0x29880e8d0>,\n",
       " 'F Burned orange': <chromalab.inks.Pigment at 0x29880bad0>,\n",
       " 'F India red': <chromalab.inks.Pigment at 0x29880fa50>,\n",
       " 'Di November leaves': <chromalab.inks.Pigment at 0x29880ce90>,\n",
       " 'F electric pink': <chromalab.inks.Pigment at 0x29880e490>,\n",
       " 'R honey bee': <chromalab.inks.Pigment at 0x29880cd50>,\n",
       " 'R heart of gold': <chromalab.inks.Pigment at 0x29880e090>,\n",
       " 'R peach': <chromalab.inks.Pigment at 0x29880c890>,\n",
       " 'R cosmic swirl': <chromalab.inks.Pigment at 0x29880e250>,\n",
       " 'R violet dreams': <chromalab.inks.Pigment at 0x29880c290>,\n",
       " 'R orange zest': <chromalab.inks.Pigment at 0x29880e5d0>,\n",
       " 'T sea glass': <chromalab.inks.Pigment at 0x29880c6d0>,\n",
       " 'Vd snowy mountain sunset': <chromalab.inks.Pigment at 0x29880ddd0>,\n",
       " 'Vd sea shell shimmer': <chromalab.inks.Pigment at 0x29880c1d0>,\n",
       " 'Vd parrot fish': <chromalab.inks.Pigment at 0x29880e610>,\n",
       " 'V sirena ': <chromalab.inks.Pigment at 0x29880c090>,\n",
       " 'Pp Mardi Gras Indian purple': <chromalab.inks.Pigment at 0x29880e590>,\n",
       " 'P orgona lilac': <chromalab.inks.Pigment at 0x29880fed0>,\n",
       " 'Pp garden district azelea': <chromalab.inks.Pigment at 0x29880e710>,\n",
       " 'V perya ': <chromalab.inks.Pigment at 0x29880fe10>,\n",
       " 'Pw groenmarkt smaragd ': <chromalab.inks.Pigment at 0x29880e750>,\n",
       " 'R charred hickory': <chromalab.inks.Pigment at 0x29880fb90>,\n",
       " 'T milky ocean': <chromalab.inks.Pigment at 0x29880f9d0>,\n",
       " 'T foxglove': <chromalab.inks.Pigment at 0x29880f650>,\n",
       " 'Di citrus yellow': <chromalab.inks.Pigment at 0x29880dc90>,\n",
       " 'C gluon glistening': <chromalab.inks.Pigment at 0x29880f710>,\n",
       " 'D espresso ': <chromalab.inks.Pigment at 0x29880dc50>,\n",
       " 'Di lavender': <chromalab.inks.Pigment at 0x29880f490>,\n",
       " 'D moon dust': <chromalab.inks.Pigment at 0x29880db50>,\n",
       " 'Di manschuria violet': <chromalab.inks.Pigment at 0x29880f2d0>,\n",
       " 'Di early spring': <chromalab.inks.Pigment at 0x29880d9d0>,\n",
       " 'Lamy blue': <chromalab.inks.Pigment at 0x29880f4d0>,\n",
       " 'Mg sapphire': <chromalab.inks.Pigment at 0x29880da90>,\n",
       " 'Mg turquoise': <chromalab.inks.Pigment at 0x29880ee50>,\n",
       " 'C photon': <chromalab.inks.Pigment at 0x29880d0d0>,\n",
       " 'Cal aurora': <chromalab.inks.Pigment at 0x29880d410>,\n",
       " 'Pw van huysums sapgroen ': <chromalab.inks.Pigment at 0x29880d850>,\n",
       " 'Aurora orange': <chromalab.inks.Pigment at 0x29880d790>,\n",
       " 'Pw denneweg groen ': <chromalab.inks.Pigment at 0x2989066d0>,\n",
       " 'Cal Bourgogne ': <chromalab.inks.Pigment at 0x29880cf90>,\n",
       " 'Pw laan van niew oost indigo': <chromalab.inks.Pigment at 0x29880d710>,\n",
       " 'Cal inti ': <chromalab.inks.Pigment at 0x29880d750>,\n",
       " 'Pw hals oud bruin': <chromalab.inks.Pigment at 0x29880f910>,\n",
       " 'Pw parkapop purper ': <chromalab.inks.Pigment at 0x29880f690>,\n",
       " 'R sublime': <chromalab.inks.Pigment at 0x29880d910>,\n",
       " 'R torquay': <chromalab.inks.Pigment at 0x29880cbd0>,\n",
       " 'T copper patina': <chromalab.inks.Pigment at 0x29880ce10>,\n",
       " 'Pw hofvijer grijs ': <chromalab.inks.Pigment at 0x29880c850>,\n",
       " 'O cherry blossom': <chromalab.inks.Pigment at 0x29880c050>,\n",
       " 'O blue iris': <chromalab.inks.Pigment at 0x29880c3d0>,\n",
       " 'FWP adventurine ': <chromalab.inks.Pigment at 0x29880ca10>,\n",
       " 'R australis oak': <chromalab.inks.Pigment at 0x29880c990>,\n",
       " 'I fuyu gaki ': <chromalab.inks.Pigment at 0x29880c450>,\n",
       " 'FWP madame mulberry': <chromalab.inks.Pigment at 0x29880c510>,\n",
       " 'I chiku Ria': <chromalab.inks.Pigment at 0x29880c610>,\n",
       " 'R cherry blossom': <chromalab.inks.Pigment at 0x29880c950>,\n",
       " 'FWP strawberry macaroon': <chromalab.inks.Pigment at 0x29880c190>,\n",
       " 'FWP blue cotton candy': <chromalab.inks.Pigment at 0x29880fc90>,\n",
       " 'Iwi beginning of spring': <chromalab.inks.Pigment at 0x29880c9d0>,\n",
       " 'Mv Caribbean ': <chromalab.inks.Pigment at 0x29880fc10>,\n",
       " 'O puppy pods': <chromalab.inks.Pigment at 0x29880cb10>,\n",
       " 'O pebble stone': <chromalab.inks.Pigment at 0x2987f7a10>,\n",
       " 'O brown calibri ': <chromalab.inks.Pigment at 0x29880f010>,\n",
       " 'O pink owl': <chromalab.inks.Pigment at 0x2987f79d0>,\n",
       " 'O green eagle': <chromalab.inks.Pigment at 0x29880cad0>,\n",
       " 'O crystal blue': <chromalab.inks.Pigment at 0x2987f7290>,\n",
       " 'Mg violet': <chromalab.inks.Pigment at 0x2987f71d0>,\n",
       " 'I syo ro ': <chromalab.inks.Pigment at 0x2987f7610>,\n",
       " 'P zuzmo lichen': <chromalab.inks.Pigment at 0x2987f7150>,\n",
       " 'I tsutsuji ': <chromalab.inks.Pigment at 0x2987f7350>,\n",
       " 'Mv sweet life key lime pie ': <chromalab.inks.Pigment at 0x2987f7850>,\n",
       " 'Mv topaz': <chromalab.inks.Pigment at 0x2987f6ed0>,\n",
       " 'FWP sparkling champagne': <chromalab.inks.Pigment at 0x2987f75d0>,\n",
       " 'KWZ turquoise ': <chromalab.inks.Pigment at 0x2987f6dd0>,\n",
       " 'H Bleu Azur': <chromalab.inks.Pigment at 0x2987f7050>,\n",
       " 'CT Pastel Yellow': <chromalab.inks.Pigment at 0x29882a290>,\n",
       " 'Robert Oster Australian Opal Blue': <chromalab.inks.Pigment at 0x2987f7010>,\n",
       " 'PR Neon Yellow': <chromalab.inks.Pigment at 0x298906cd0>,\n",
       " 'Noodlers Firefly': <chromalab.inks.Pigment at 0x2987f6f90>,\n",
       " 'FWP Three Steamboats': <chromalab.inks.Pigment at 0x298906d90>,\n",
       " 'Wearingeul Alice': <chromalab.inks.Pigment at 0x2987f73d0>,\n",
       " 'Bouquet dantan H': <chromalab.inks.Pigment at 0x298906e90>,\n",
       " 'Rose cyclamen H': <chromalab.inks.Pigment at 0x17785f910>,\n",
       " 'Bleu pervenche h': <chromalab.inks.Pigment at 0x298821b90>,\n",
       " 'Violette pensee h': <chromalab.inks.Pigment at 0x29880de10>,\n",
       " 'Orange D': <chromalab.inks.Pigment at 0x29880ef10>,\n",
       " 'Peach haze D': <chromalab.inks.Pigment at 0x2987f6e90>,\n",
       " 'Hope pink D': <chromalab.inks.Pigment at 0x298907450>,\n",
       " 'Atlantic salmon N': <chromalab.inks.Pigment at 0x2987f6fd0>,\n",
       " 'Operation overlord orange N': <chromalab.inks.Pigment at 0x298907510>,\n",
       " 'Dragon catfish N': <chromalab.inks.Pigment at 0x298905c10>,\n",
       " 'Iroshizuku purple': <chromalab.inks.Pigment at 0x298905a50>,\n",
       " 'Kaweco green': <chromalab.inks.Pigment at 0x298905710>,\n",
       " 'Pilot blue': <chromalab.inks.Pigment at 0x298905890>,\n",
       " 'Last purple': <chromalab.inks.Pigment at 0x298905c50>,\n",
       " 'Sailor pink': <chromalab.inks.Pigment at 0x298905a90>,\n",
       " 'Platinum violet': <chromalab.inks.Pigment at 0x298905f10>,\n",
       " 'Platinum Violet2': <chromalab.inks.Pigment at 0x298905ed0>,\n",
       " 'Think Pink': <chromalab.inks.Pigment at 0x298905810>,\n",
       " 'Robert oster ': <chromalab.inks.Pigment at 0x298905fd0>,\n",
       " 'Opportunity': <chromalab.inks.Pigment at 0x298904450>,\n",
       " 'Cheshire cat': <chromalab.inks.Pigment at 0x298906150>,\n",
       " 'North African violet': <chromalab.inks.Pigment at 0x2989060d0>,\n",
       " 'Violet lion': <chromalab.inks.Pigment at 0x298906190>,\n",
       " 'Pineider violet': <chromalab.inks.Pigment at 0x2989061d0>,\n",
       " 'Media beliar ': <chromalab.inks.Pigment at 0x298906290>,\n",
       " 'Purple jade rabbit': <chromalab.inks.Pigment at 0x298906350>,\n",
       " 'Inkbara danelion': <chromalab.inks.Pigment at 0x298906310>,\n",
       " 'Yellow fire': <chromalab.inks.Pigment at 0x298906390>,\n",
       " 'Sunshine yellow': <chromalab.inks.Pigment at 0x2989063d0>,\n",
       " 'Orange soleil': <chromalab.inks.Pigment at 0x2989064d0>,\n",
       " 'Noodler’s yellow': <chromalab.inks.Pigment at 0x298906550>,\n",
       " 'Inkbara yellow': <chromalab.inks.Pigment at 0x298906510>,\n",
       " 'Violet bee': <chromalab.inks.Pigment at 0x298906610>,\n",
       " 'Momo pink': <chromalab.inks.Pigment at 0x2989065d0>,\n",
       " 'Rokyu moon yellow': <chromalab.inks.Pigment at 0x298906810>,\n",
       " 'Pink radish': <chromalab.inks.Pigment at 0x29880d1d0>,\n",
       " 'Pink gazelle': <chromalab.inks.Pigment at 0x298906750>,\n",
       " 'Fairytale pink': <chromalab.inks.Pigment at 0x298906710>,\n",
       " 'Inkbara cyan': <chromalab.inks.Pigment at 0x298906850>,\n",
       " 'Pink owl': <chromalab.inks.Pigment at 0x298906890>,\n",
       " 'Bay state blue': <chromalab.inks.Pigment at 0x2989068d0>,\n",
       " 'Pastel pink': <chromalab.inks.Pigment at 0x2989069d0>,\n",
       " 'Colorberse 7 clear cyan': <chromalab.inks.Pigment at 0x298906a10>,\n",
       " 'epson cyan': <chromalab.inks.Pigment at 0x298906b10>,\n",
       " 'epson magenta': <chromalab.inks.Pigment at 0x298b12b50>,\n",
       " 'epson yellow': <chromalab.inks.Pigment at 0x298b12b90>}"
      ]
     },
     "execution_count": 179,
     "metadata": {},
     "output_type": "execute_result"
    }
   ],
   "source": [
    "all_inks"
   ]
  },
  {
   "cell_type": "code",
   "execution_count": null,
   "id": "01f69c27",
   "metadata": {},
   "outputs": [],
   "source": []
  },
  {
   "cell_type": "code",
   "execution_count": 183,
   "id": "4dd3c40d",
   "metadata": {},
   "outputs": [],
   "source": [
    "selected_ink_names = set()\n",
    "for _, ink_names in top_big_tetra:\n",
    "    for name in ink_names:\n",
    "        if name == \"Noodlers Firefly\" or name == \"PR Neon Yellow\":\n",
    "            continue\n",
    "        selected_ink_names.add(name)"
   ]
  },
  {
   "cell_type": "code",
   "execution_count": 185,
   "id": "99a7dec1",
   "metadata": {},
   "outputs": [
    {
     "data": {
      "text/plain": [
       "{'CT Pastel Yellow',\n",
       " 'Di citrus yellow',\n",
       " 'I fuyu gaki ',\n",
       " 'I tsutsuji ',\n",
       " 'Lamy crystal beryl',\n",
       " 'Lamy red',\n",
       " 'Mg turquoise',\n",
       " 'O pink owl',\n",
       " 'Orange D',\n",
       " 'Orange soleil',\n",
       " 'Peach haze D',\n",
       " 'Pilot blue',\n",
       " 'Pink gazelle',\n",
       " 'Platinum violet',\n",
       " 'Pw groenmarkt smaragd ',\n",
       " 'Rose cyclamen H',\n",
       " 'T foxglove',\n",
       " 'T milky ocean',\n",
       " 'T sea glass',\n",
       " 'V isabela',\n",
       " 'Vd sea shell shimmer'}"
      ]
     },
     "execution_count": 185,
     "metadata": {},
     "output_type": "execute_result"
    }
   ],
   "source": [
    "selected_inks = {}\n",
    "for name in selected_ink_names:\n",
    "    selected_inks"
   ]
  },
  {
   "cell_type": "code",
   "execution_count": null,
   "id": "7b9a0b07",
   "metadata": {},
   "outputs": [],
   "source": []
  }
 ],
 "metadata": {
  "kernelspec": {
   "display_name": "chromalab",
   "language": "python",
   "name": "chromalab"
  },
  "language_info": {
   "codemirror_mode": {
    "name": "ipython",
    "version": 3
   },
   "file_extension": ".py",
   "mimetype": "text/x-python",
   "name": "python",
   "nbconvert_exporter": "python",
   "pygments_lexer": "ipython3",
   "version": "3.11.6"
  },
  "toc": {
   "base_numbering": 1,
   "nav_menu": {},
   "number_sections": true,
   "sideBar": true,
   "skip_h1_title": false,
   "title_cell": "Table of Contents",
   "title_sidebar": "Contents",
   "toc_cell": false,
   "toc_position": {
    "height": "calc(100% - 180px)",
    "left": "10px",
    "top": "150px",
    "width": "345.594px"
   },
   "toc_section_display": true,
   "toc_window_display": true
  }
 },
 "nbformat": 4,
 "nbformat_minor": 5
}

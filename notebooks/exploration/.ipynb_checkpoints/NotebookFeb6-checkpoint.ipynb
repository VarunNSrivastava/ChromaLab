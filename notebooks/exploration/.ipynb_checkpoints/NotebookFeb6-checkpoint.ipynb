{
 "cells": [
  {
   "cell_type": "code",
   "execution_count": 1,
   "id": "c8afc075",
   "metadata": {},
   "outputs": [],
   "source": [
    "import csv\n",
    "import numpy as np\n",
    "from spectra import Spectra, Pigment\n",
    "import matplotlib.pyplot as plt\n",
    "import numpy.typing as npt\n",
    "import torch as th"
   ]
  },
  {
   "cell_type": "code",
   "execution_count": 2,
   "id": "6ab78b72",
   "metadata": {},
   "outputs": [],
   "source": [
    "wavelengths1 = np.arange(390, 701, 1)\n",
    "wavelengths10 = np.arange(400, 701, 10)"
   ]
  },
  {
   "cell_type": "code",
   "execution_count": 3,
   "id": "0dda8790",
   "metadata": {},
   "outputs": [],
   "source": [
    "from observer import Observer, Cone\n",
    "from inks import Neugebauer, InkGamut, CellNeugebauer\n",
    "from spectra import Spectra, Pigment, Illuminant"
   ]
  },
  {
   "cell_type": "code",
   "execution_count": 4,
   "id": "17073436",
   "metadata": {},
   "outputs": [],
   "source": [
    "from tqdm.notebook import tqdm"
   ]
  },
  {
   "cell_type": "markdown",
   "id": "f747d5b2",
   "metadata": {},
   "source": [
    "## Load inks"
   ]
  },
  {
   "cell_type": "code",
   "execution_count": 5,
   "id": "acfd4950",
   "metadata": {},
   "outputs": [],
   "source": [
    "cijk = {}\n",
    "with open(f'010624.csv') as csvf:\n",
    "    spamreader = csv.reader(csvf, delimiter=';')\n",
    "    for i, row in enumerate(spamreader):\n",
    "        if i < 4: continue\n",
    "        if row[2] != \"CIJK\": continue\n",
    "            \n",
    "        name = row[4]\n",
    "        color_data = np.array(row[33:],dtype=float)\n",
    "        spectra = Spectra(data=color_data, wavelengths=wavelengths10)\n",
    "\n",
    "        cijk[name] = spectra"
   ]
  },
  {
   "cell_type": "code",
   "execution_count": 6,
   "id": "cac6a92b",
   "metadata": {},
   "outputs": [],
   "source": [
    "d65 = Illuminant.get(\"D65\")"
   ]
  },
  {
   "cell_type": "code",
   "execution_count": 7,
   "id": "2e098514",
   "metadata": {},
   "outputs": [],
   "source": [
    "tetrachromat_d65 = Observer.tetrachromat(illuminant=d65)"
   ]
  },
  {
   "cell_type": "code",
   "execution_count": 8,
   "id": "9c570e3b",
   "metadata": {},
   "outputs": [],
   "source": [
    "all_inks = {}\n",
    "with open(f'02022024.csv') as csvf:\n",
    "    spamreader = csv.reader(csvf, delimiter=';')\n",
    "    for i, row in enumerate(spamreader):\n",
    "        if i < 4: continue            \n",
    "        name = row[4]\n",
    "        color_data = np.array(row[33:],dtype=float)\n",
    "        spectra = Spectra(data=color_data, wavelengths=wavelengths10)\n",
    "\n",
    "        all_inks[name] = spectra\n",
    "        \n",
    "with open(f'011624.csv') as csvf:\n",
    "    spamreader = csv.reader(csvf, delimiter=';')\n",
    "    for i, row in enumerate(spamreader):\n",
    "        if i < 4: continue            \n",
    "        name = row[4]\n",
    "        color_data = np.array(row[33:],dtype=float)\n",
    "        try:\n",
    "            spectra = Spectra(data=color_data, wavelengths=wavelengths10)\n",
    "        except ValueError:\n",
    "            continue\n",
    "\n",
    "        all_inks[name] = spectra\n",
    "        \n",
    "        \n",
    "with open(f'Inks_all.csv') as csvf:\n",
    "    spamreader = csv.reader(csvf, delimiter=';')\n",
    "    for i, row in enumerate(spamreader):\n",
    "        if i < 4: continue            \n",
    "        name = row[4]\n",
    "        color_data = np.array(row[33:],dtype=float)\n",
    "        spectra = Spectra(data=color_data, wavelengths=wavelengths10)\n",
    "\n",
    "        all_inks[name] = spectra"
   ]
  },
  {
   "cell_type": "code",
   "execution_count": 9,
   "id": "52bd40e5",
   "metadata": {},
   "outputs": [],
   "source": [
    "all_inks[\"Epson C\"] = cijk[\"2000\"]"
   ]
  },
  {
   "cell_type": "code",
   "execution_count": 10,
   "id": "62591a24",
   "metadata": {},
   "outputs": [],
   "source": [
    "paper = cijk[\"0000\"]"
   ]
  },
  {
   "cell_type": "code",
   "execution_count": 11,
   "id": "b39ab81a",
   "metadata": {},
   "outputs": [
    {
     "data": {
      "text/plain": [
       "147"
      ]
     },
     "execution_count": 11,
     "metadata": {},
     "output_type": "execute_result"
    }
   ],
   "source": [
    "len(all_inks)"
   ]
  },
  {
   "cell_type": "markdown",
   "id": "aeb68461",
   "metadata": {},
   "source": [
    "## previous q spread"
   ]
  },
  {
   "cell_type": "code",
   "execution_count": 12,
   "id": "3fb9bc13",
   "metadata": {},
   "outputs": [],
   "source": [
    "cijk_list = [all_inks[\"Epson C\"], all_inks[\"Peach haze D\"],  all_inks[\"Platinum violet\"], all_inks[\"Operation overlord orange N\"]]\n",
    "cijk_gamut = InkGamut(cijk_list, paper=paper, illuminant=d65)"
   ]
  },
  {
   "cell_type": "code",
   "execution_count": 13,
   "id": "d6c60cda",
   "metadata": {},
   "outputs": [
    {
     "name": "stderr",
     "output_type": "stream",
     "text": [
      "Generating point cloud: 100%|███████████████████| 194481/194481 [00:02<00:00, 72160.75it/s]\n"
     ]
    },
    {
     "name": "stdout",
     "output_type": "stream",
     "text": [
      "Point cloud generated.\n",
      "maximum distance is 0.030782984251534473 with percentages (0.050000000000000003, 0.0, 0.85000000000000009, 0.85000000000000009) and (0.40000000000000002, 0.75, 0.050000000000000003, 0.050000000000000003)\n"
     ]
    },
    {
     "data": {
      "text/plain": [
       "0.030782984251534473"
      ]
     },
     "execution_count": 13,
     "metadata": {},
     "output_type": "execute_result"
    }
   ],
   "source": [
    "cijk_gamut.get_width(tetrachromat_d65, stepsize=0.05)"
   ]
  },
  {
   "cell_type": "code",
   "execution_count": 14,
   "id": "6b779de5",
   "metadata": {},
   "outputs": [
    {
     "name": "stderr",
     "output_type": "stream",
     "text": [
      "Generating point cloud: 100%|███████████████████| 194481/194481 [00:03<00:00, 49941.69it/s]\n"
     ]
    },
    {
     "name": "stdout",
     "output_type": "stream",
     "text": [
      "Point cloud generated.\n",
      "maximum distance is 0.03431242729057521 with percentages (0.10000000000000001, 0.15000000000000002, 0.70000000000000007, 0.95000000000000007) and (0.30000000000000004, 1.0, 0.050000000000000003, 0.35000000000000003)\n"
     ]
    },
    {
     "data": {
      "text/plain": [
       "0.034312427290575209"
      ]
     },
     "execution_count": 14,
     "metadata": {},
     "output_type": "execute_result"
    }
   ],
   "source": [
    "cell_ijk = InkGamut(CellNeugebauer(cijk), illuminant=d65)\n",
    "cell_ijk.get_width(tetrachromat_d65, stepsize=0.05)"
   ]
  },
  {
   "cell_type": "markdown",
   "id": "f7a837cd",
   "metadata": {},
   "source": [
    "## Best Cyan"
   ]
  },
  {
   "cell_type": "code",
   "execution_count": 136,
   "id": "827c17b7",
   "metadata": {},
   "outputs": [],
   "source": [
    "pvy = [all_inks[\"Lamy red\"], all_inks[\"Platinum violet\"], all_inks[\"CT Pastel Yellow\"]]"
   ]
  },
  {
   "cell_type": "code",
   "execution_count": 137,
   "id": "f2d4e10b",
   "metadata": {},
   "outputs": [
    {
     "data": {
      "application/vnd.jupyter.widget-view+json": {
       "model_id": "396a17c57753426d9a373d2f32d8bdd2",
       "version_major": 2,
       "version_minor": 0
      },
      "text/plain": [
       "Finding best cyan:   0%|          | 0/147 [00:00<?, ?it/s]"
      ]
     },
     "metadata": {},
     "output_type": "display_data"
    }
   ],
   "source": [
    "cyan_candidates = []\n",
    "for name, spectra in tqdm(all_inks.items(), desc=\"Finding best cyan\"):\n",
    "    cpvy = pvy + [spectra]\n",
    "    gamut = InkGamut(cpvy, paper=paper, illuminant=d65)\n",
    "    width = gamut.get_width(tetrachromat_d65, verbose=False)\n",
    "    cyan_candidates.append((width, name))"
   ]
  },
  {
   "cell_type": "code",
   "execution_count": 138,
   "id": "1c45e935",
   "metadata": {},
   "outputs": [],
   "source": [
    "cyan_candidates.sort(reverse=True)"
   ]
  },
  {
   "cell_type": "code",
   "execution_count": 139,
   "id": "94635890",
   "metadata": {},
   "outputs": [
    {
     "data": {
      "text/plain": [
       "[(0.033347381005182086, 'R torquay'),\n",
       " (0.032672595598865872, 'Robert Oster Australian Opal Blue'),\n",
       " (0.031244431500872805, 'Vd parrot fish'),\n",
       " (0.031028156679758667, 'Mg turquoise'),\n",
       " (0.030710146544960459, 'V isabela'),\n",
       " (0.030496722191033609, 'Pw groenmarkt smaragd '),\n",
       " (0.030216607622097214, 'Pw denneweg groen '),\n",
       " (0.030137150320026618, 'Mv Caribbean '),\n",
       " (0.030092450290051476, 'O crystal blue'),\n",
       " (0.029976688784903449, 'Colorberse 7 clear cyan'),\n",
       " (0.0297471516177642, 'R violet dreams'),\n",
       " (0.029626081350962119, 'T copper patina'),\n",
       " (0.029571126233536416, 'Bleu pervenche h'),\n",
       " (0.029450344343705359, 'Lamy blue'),\n",
       " (0.029410731400067003, 'Pw parkapop purper '),\n",
       " (0.029348812041736283, 'Pw laan van niew oost indigo'),\n",
       " (0.02933727155980248, 'Pilot blue'),\n",
       " (0.029117778430504837, 'Epson C'),\n",
       " (0.028933350016865367, 'V perya '),\n",
       " (0.028902490100645384, 'T milky ocean'),\n",
       " (0.028770546016082532, 'C photon'),\n",
       " (0.028666939437784089, 'Pineider violet'),\n",
       " (0.028659774264952143, 'T sea glass'),\n",
       " (0.028608852777487592, 'R sublime'),\n",
       " (0.028512148189633879, 'Inkbara cyan'),\n",
       " (0.02837489929515935, 'V maskara '),\n",
       " (0.028350898456690588, 'Mg sapphire'),\n",
       " (0.028333031202133596, 'V sirena '),\n",
       " (0.028191052089691415, 'FWP adventurine '),\n",
       " (0.028138563546965034, 'KWZ turquoise '),\n",
       " (0.028071307211746999, 'P balaton kek '),\n",
       " (0.02805111748545136, 'O puppy pods'),\n",
       " (0.027798814346009226, 'FWP Three Steamboats'),\n",
       " (0.027719810719579407, 'Wearingeul Alice'),\n",
       " (0.027646186104231474, 'T foxglove'),\n",
       " (0.027601735996180321, 'Pw hofvijer grijs '),\n",
       " (0.027547871792640621, 'FWP madame mulberry'),\n",
       " (0.027510953697857277, 'Di manschuria violet'),\n",
       " (0.027062577627320228, 'Violette pensee h'),\n",
       " (0.026801689961300279, 'R honey bee'),\n",
       " (0.02662667665482138, 'Cal Bourgogne '),\n",
       " (0.026543136394186095, 'Violet lion'),\n",
       " (0.02630247731977714, 'Kaweco green'),\n",
       " (0.026214186767866132, 'O pebble stone'),\n",
       " (0.026143559619404788, 'Purple jade rabbit'),\n",
       " (0.026132304747239932, 'O green eagle'),\n",
       " (0.026040654447982148, 'Pp Mardi Gras Indian purple'),\n",
       " (0.025958175165388231, 'FWP blue cotton candy'),\n",
       " (0.025878535014417281, 'Vd snowy mountain sunset'),\n",
       " (0.025793981098596153, 'I syo ro '),\n",
       " (0.025565474491240248, 'P orgona lilac'),\n",
       " (0.025357240853545293, 'K kitano pearl silver'),\n",
       " (0.025331485218790306, 'Bay state blue'),\n",
       " (0.025240836192539695, 'I chiku Ria'),\n",
       " (0.025066808631159343, 'R cosmic swirl'),\n",
       " (0.024965735339395445, 'Media beliar '),\n",
       " (0.024921538189107473, 'Pw van huysums sapgroen '),\n",
       " (0.024840232700943932, 'D moon dust'),\n",
       " (0.02480431786693893, 'R australis oak'),\n",
       " (0.02465721423860523, 'North African violet'),\n",
       " (0.024639078220798194, 'Mv sweet life key lime pie '),\n",
       " (0.024380512117686326, 'H Bleu Azur'),\n",
       " (0.024368041016234132, 'Iwi frost descent'),\n",
       " (0.024234149455611309, 'D espresso '),\n",
       " (0.023606109686339027, 'Pw hals oud bruin'),\n",
       " (0.023203785407953259, 'W Jane eyre'),\n",
       " (0.023039494064377164, 'P zuzmo lichen'),\n",
       " (0.022706247547062519, 'F violet blue'),\n",
       " (0.022633689060231665, 'Di November leaves'),\n",
       " (0.022215273657083645, 'R cherry blossom'),\n",
       " (0.022135296649921782, 'Last purple'),\n",
       " (0.022087714271560754, 'Mg violet'),\n",
       " (0.021591758949379092, 'Pp violet'),\n",
       " (0.021387596526191599, 'Momo pink'),\n",
       " (0.021387452358320624, 'K goshiyama ocher'),\n",
       " (0.021131164571688177, 'Inkbara yellow'),\n",
       " (0.020975699526378122, 'Iwi beginning of spring'),\n",
       " (0.020906473337863107, 'Dragon catfish N'),\n",
       " (0.020773422124560015, 'Cal inti '),\n",
       " (0.02072351399610084, 'Violet bee'),\n",
       " (0.020326190846141401, 'Noodler’s yellow'),\n",
       " (0.020191024481494901, 'Mv topaz'),\n",
       " (0.019938905098765669, 'V karol '),\n",
       " (0.019911578511774053, 'Inkbara danelion'),\n",
       " (0.019716441458335399, 'Fairytale pink'),\n",
       " (0.019623226358236767, 'C gluon glistening'),\n",
       " (0.019538678796269693, 'R heart of gold'),\n",
       " (0.01945717367971711, 'C lunch date'),\n",
       " (0.019385825671485724, 'Pp cherry red'),\n",
       " (0.019366480557575172, 'Sunshine yellow'),\n",
       " (0.019362634387714683, 'F cognac brown'),\n",
       " (0.019298286226342609, 'D ancient copper'),\n",
       " (0.01929235542077723, 'F Burned orange'),\n",
       " (0.019135049075555521, 'Yellow fire'),\n",
       " (0.019040586543862648, 'Di citrus yellow'),\n",
       " (0.019032463130895572, 'Di early spring'),\n",
       " (0.019032004152158222, 'R charred hickory'),\n",
       " (0.018921112907102189, 'Di maple'),\n",
       " (0.018918872097332118, 'O blue iris'),\n",
       " (0.018863509784506016, 'O cherry blossom'),\n",
       " (0.018816978875552226, 'Orange soleil'),\n",
       " (0.01881658156387267, 'Bouquet dantan H'),\n",
       " (0.018797813005556718, 'Operation overlord orange N'),\n",
       " (0.018742032122883723, 'Rose cyclamen H'),\n",
       " (0.01871893600147112, 'Pink radish'),\n",
       " (0.018703121833099412, 'Pastel pink'),\n",
       " (0.018695210194504375, 'FWP strawberry macaroon'),\n",
       " (0.018613762233903874, 'Di lavender'),\n",
       " (0.018600470817907166, 'D golden honey '),\n",
       " (0.018581319708514898, 'Kyo no oto adzuki iro'),\n",
       " (0.018557681479191013, 'Hope pink D'),\n",
       " (0.0185055987111023, 'W dracula'),\n",
       " (0.018423833166211656, 'Robert oster '),\n",
       " (0.018336448971423613, 'CT Pastel Yellow'),\n",
       " (0.018324197945443155, 'Cheshire cat'),\n",
       " (0.018311772711068874, 'Pp garden district azelea'),\n",
       " (0.018278287013157479, 'Vd sea shell shimmer'),\n",
       " (0.01823775044446363, 'R peach'),\n",
       " (0.018180002439500909, 'Lamy red'),\n",
       " (0.018136925346739274, 'Iroshizuku purple'),\n",
       " (0.018030469979177899, 'Sailor pink'),\n",
       " (0.01801547463697184, 'F electric pink'),\n",
       " (0.017983498125914599, 'FWP sparkling champagne'),\n",
       " (0.017977305141100963, 'Rokyu moon yellow'),\n",
       " (0.017911630837711079, 'Aurora orange'),\n",
       " (0.017894248338941154, 'Platinum Violet2'),\n",
       " (0.017770446282527774, 'Cross red'),\n",
       " (0.017734305715849913, 'Mg bordeaux '),\n",
       " (0.017686322233771534, 'Atlantic salmon N'),\n",
       " (0.017628839768853544, 'Pink gazelle'),\n",
       " (0.017626011038354233, 'I tsutsuji '),\n",
       " (0.017528000214315997, 'I fuyu gaki '),\n",
       " (0.01744167592067758, 'O brown calibri '),\n",
       " (0.017437655150529419, 'KWZ grapefruit'),\n",
       " (0.017417733946128666, 'Think Pink'),\n",
       " (0.017301901531013186, 'F India red'),\n",
       " (0.016907845514483294, 'Lamy crystal beryl'),\n",
       " (0.01682904157708387, 'Cal aurora'),\n",
       " (0.016797338388025329, 'Pink owl'),\n",
       " (0.016696522338372183, 'Opportunity'),\n",
       " (0.01664640193534328, 'Kyo iro higashiyama moonlight'),\n",
       " (0.016502283535145046, 'Peach haze D'),\n",
       " (0.01639750975952825, 'Wa audacious red'),\n",
       " (0.01639750975952825, 'R orange zest'),\n",
       " (0.01639750975952825, 'Platinum violet'),\n",
       " (0.01639750975952825, 'Orange D'),\n",
       " (0.01639750975952825, 'O pink owl')]"
      ]
     },
     "execution_count": 139,
     "metadata": {},
     "output_type": "execute_result"
    }
   ],
   "source": [
    "cyan_candidates"
   ]
  },
  {
   "cell_type": "code",
   "execution_count": 149,
   "id": "85e4f81e",
   "metadata": {},
   "outputs": [
    {
     "data": {
      "image/png": "[encoded data removed]",
      "text/plain": [
       "<Figure size 640x480 with 1 Axes>"
      ]
     },
     "metadata": {},
     "output_type": "display_data"
    }
   ],
   "source": [
    "all_inks[\"Vd parrot fish\"].plot()\n",
    "all_inks[\"R torquay\"].plot()"
   ]
  },
  {
   "cell_type": "code",
   "execution_count": 140,
   "id": "965e49cd",
   "metadata": {},
   "outputs": [
    {
     "name": "stdout",
     "output_type": "stream",
     "text": [
      "R torquay 0.0348300747462\n",
      "Robert Oster Australian Opal Blue 0.0341600902188\n",
      "Vd parrot fish 0.0346701492879\n",
      "Mg turquoise 0.034090695704\n",
      "V isabela 0.0348935981295\n",
      "Pw groenmarkt smaragd  0.0324749500425\n",
      "Pw denneweg groen  0.0338958930751\n",
      "Mv Caribbean  0.0334906083394\n",
      "O crystal blue 0.0332887752272\n",
      "Colorberse 7 clear cyan 0.0312530105904\n",
      "R violet dreams 0.0309214401414\n",
      "T copper patina 0.0338646707738\n",
      "Bleu pervenche h 0.0332616713021\n",
      "Lamy blue 0.0306785609619\n",
      "Pw parkapop purper  0.0301337646692\n",
      "Pw laan van niew oost indigo 0.0317182236084\n",
      "Pilot blue 0.0322792187402\n",
      "Epson C 0.0317595174271\n"
     ]
    }
   ],
   "source": [
    "for width, name in cyan_candidates[:18]:\n",
    "    cpvy = pvy + [all_inks[name]]\n",
    "    gamut = InkGamut(cpvy, paper=paper, illuminant=d65)\n",
    "    width = gamut.get_width(tetrachromat_d65, stepsize=0.05, verbose=False)\n",
    "    print(name, width)"
   ]
  },
  {
   "cell_type": "code",
   "execution_count": 144,
   "id": "2d72cbab",
   "metadata": {},
   "outputs": [
    {
     "data": {
      "image/png": "[encoded data removed]",
      "text/plain": [
       "<Figure size 640x480 with 1 Axes>"
      ]
     },
     "metadata": {},
     "output_type": "display_data"
    }
   ],
   "source": [
    "# all_inks[\"Vd parrot fish\"].plot()\n",
    "all_inks[\"V isabela\"].plot()\n",
    "# all_inks[\"R torquay\"].plot()\n",
    "all_inks[\"Epson C\"].plot(color='black')"
   ]
  },
  {
   "cell_type": "markdown",
   "id": "c276f55f",
   "metadata": {},
   "source": [
    "## Best Pink"
   ]
  },
  {
   "cell_type": "code",
   "execution_count": null,
   "id": "875c6057",
   "metadata": {},
   "outputs": [],
   "source": [
    "all_inks[\"CT Pastel Yellow\"]"
   ]
  },
  {
   "cell_type": "code",
   "execution_count": 150,
   "id": "70906233",
   "metadata": {},
   "outputs": [],
   "source": [
    "cvy = [all_inks[\"R torquay\"], all_inks[\"Platinum violet\"], all_inks[\"CT Pastel Yellow\"]]"
   ]
  },
  {
   "cell_type": "code",
   "execution_count": 151,
   "id": "2d75164d",
   "metadata": {},
   "outputs": [
    {
     "data": {
      "application/vnd.jupyter.widget-view+json": {
       "model_id": "5d8b79f7ec9948c18d632a633dc7048e",
       "version_major": 2,
       "version_minor": 0
      },
      "text/plain": [
       "Finding best pink:   0%|          | 0/147 [00:00<?, ?it/s]"
      ]
     },
     "metadata": {},
     "output_type": "display_data"
    }
   ],
   "source": [
    "pink_candidates = []\n",
    "for name, spectra in tqdm(all_inks.items(), desc=\"Finding best pink\"):\n",
    "    cpvy = cvy + [spectra]\n",
    "    gamut = InkGamut(cpvy, paper=paper, illuminant=d65)\n",
    "    width = gamut.get_width(tetrachromat_d65, verbose=False)\n",
    "    pink_candidates.append((width, name))"
   ]
  },
  {
   "cell_type": "code",
   "execution_count": 152,
   "id": "077ce2ed",
   "metadata": {},
   "outputs": [],
   "source": [
    "pink_candidates.sort(reverse=True)"
   ]
  },
  {
   "cell_type": "code",
   "execution_count": 153,
   "id": "8d56c6be",
   "metadata": {},
   "outputs": [
    {
     "data": {
      "text/plain": [
       "[(0.033347381005182031, 'Lamy red'),\n",
       " (0.028118086062637104, 'V isabela'),\n",
       " (0.028015251314933542, 'Peach haze D'),\n",
       " (0.026331133425619657, 'R honey bee'),\n",
       " (0.02420090564618238, 'I fuyu gaki '),\n",
       " (0.024028424996508924, 'R australis oak'),\n",
       " (0.023597597326494579, 'Vd sea shell shimmer'),\n",
       " (0.023487077907902554, 'Momo pink'),\n",
       " (0.023103090776702195, 'V maskara '),\n",
       " (0.022759822256786744, 'Robert oster '),\n",
       " (0.022352012081587214, 'K goshiyama ocher'),\n",
       " (0.02230831395894195, 'Sailor pink'),\n",
       " (0.022259805143261258, 'Atlantic salmon N'),\n",
       " (0.022167496099513961, 'Cal inti '),\n",
       " (0.021575715561746922, 'Orange D'),\n",
       " (0.021373250920102782, 'Orange soleil'),\n",
       " (0.021134917836853451, 'T foxglove'),\n",
       " (0.020945619177522024, 'T sea glass'),\n",
       " (0.02082316258188166, 'Di citrus yellow'),\n",
       " (0.020798133901151372, 'Sunshine yellow'),\n",
       " (0.020749369851972121, 'Wa audacious red'),\n",
       " (0.020745149340959168, 'Pineider violet'),\n",
       " (0.020522641301366829, 'Cross red'),\n",
       " (0.020207726397260706, 'R cherry blossom'),\n",
       " (0.020113946185567277, 'Pw hals oud bruin'),\n",
       " (0.02010893328105301, 'R sublime'),\n",
       " (0.020102598572430908, 'Rokyu moon yellow'),\n",
       " (0.020094710448546493, 'Pp garden district azelea'),\n",
       " (0.020076260186278505, 'R charred hickory'),\n",
       " (0.019740825894019765, 'Dragon catfish N'),\n",
       " (0.019701187351475358, 'Pp cherry red'),\n",
       " (0.019685310466365069, 'Kyo no oto adzuki iro'),\n",
       " (0.019658747090480932, 'Pw hofvijer grijs '),\n",
       " (0.019632254229308144, 'C gluon glistening'),\n",
       " (0.019623628125192361, 'Iwi beginning of spring'),\n",
       " (0.019613611463059455, 'Pp Mardi Gras Indian purple'),\n",
       " (0.01944916192382129, 'D moon dust'),\n",
       " (0.019399695135661532, 'Hope pink D'),\n",
       " (0.019310082004408147, 'Aurora orange'),\n",
       " (0.01929156605315685, 'Cheshire cat'),\n",
       " (0.01908351774797068, 'FWP madame mulberry'),\n",
       " (0.01902009753587397, 'FWP strawberry macaroon'),\n",
       " (0.018883413006436811, 'Noodler’s yellow'),\n",
       " (0.018827963762496569, 'Violette pensee h'),\n",
       " (0.018824010114998346, 'FWP adventurine '),\n",
       " (0.018655341720506868, 'Vd snowy mountain sunset'),\n",
       " (0.018647117739545083, 'Media beliar '),\n",
       " (0.018621037714315336, 'O brown calibri '),\n",
       " (0.018554641396296312, 'Last purple'),\n",
       " (0.018441831069843928, 'D espresso '),\n",
       " (0.018439193526292419, 'R violet dreams'),\n",
       " (0.018410821691752011, 'C lunch date'),\n",
       " (0.018359336177125152, 'Mg sapphire'),\n",
       " (0.018334865618973406, 'Cal Bourgogne '),\n",
       " (0.018322460215096925, 'Iwi frost descent'),\n",
       " (0.018261103002936707, 'North African violet'),\n",
       " (0.018255441517755822, 'Bay state blue'),\n",
       " (0.01823340168954346, 'V perya '),\n",
       " (0.018187278975117072, 'T copper patina'),\n",
       " (0.01815550724898668, 'Pilot blue'),\n",
       " (0.018144359150273126, 'V sirena '),\n",
       " (0.018124612324127876, 'Fairytale pink'),\n",
       " (0.018036876718716344, 'Pink owl'),\n",
       " (0.017993423760455207, 'Bouquet dantan H'),\n",
       " (0.017786087063311917, 'Violet lion'),\n",
       " (0.017766030000314958, 'Pw groenmarkt smaragd '),\n",
       " (0.017758032663351631, 'Mv topaz'),\n",
       " (0.017707484308874144, 'Pw parkapop purper '),\n",
       " (0.017704363559851277, 'Inkbara danelion'),\n",
       " (0.017694815624291649, 'Iroshizuku purple'),\n",
       " (0.017622070898047681, 'I chiku Ria'),\n",
       " (0.017599149687534843, 'D ancient copper'),\n",
       " (0.017581449735848853, 'I tsutsuji '),\n",
       " (0.017556791753621015, 'Di lavender'),\n",
       " (0.017554060457787735, 'Pw van huysums sapgroen '),\n",
       " (0.017516602051927843, 'Mg bordeaux '),\n",
       " (0.017483582981482282, 'Pw denneweg groen '),\n",
       " (0.017440860740218778, 'Rose cyclamen H'),\n",
       " (0.017440092375611893, 'Mg violet'),\n",
       " (0.017437756461306186, 'Lamy crystal beryl'),\n",
       " (0.017349622399669529, 'Pp violet'),\n",
       " (0.017340486831354029, 'O crystal blue'),\n",
       " (0.017308097340598794, 'Opportunity'),\n",
       " (0.017260719446229644, 'Think Pink'),\n",
       " (0.017225736722892737, 'Inkbara cyan'),\n",
       " (0.017219360267671346, 'Purple jade rabbit'),\n",
       " (0.017169219822920023, 'W dracula'),\n",
       " (0.017118410154476238, 'FWP Three Steamboats'),\n",
       " (0.01709280973239502, 'C photon'),\n",
       " (0.017070056686588675, 'K kitano pearl silver'),\n",
       " (0.017059915332713893, 'KWZ turquoise '),\n",
       " (0.017037889797425487, 'V karol '),\n",
       " (0.016960787631573548, 'I syo ro '),\n",
       " (0.01693357037389448, 'Kaweco green'),\n",
       " (0.016839368767234908, 'O green eagle'),\n",
       " (0.016794640019463625, 'Di maple'),\n",
       " (0.016762971203490407, 'Violet bee'),\n",
       " (0.016732656769327336, 'FWP blue cotton candy'),\n",
       " (0.016703611098736082, 'O pebble stone'),\n",
       " (0.016635617156605886, 'F violet blue'),\n",
       " (0.016460403129222478, 'R orange zest'),\n",
       " (0.016434771884578536, 'O puppy pods'),\n",
       " (0.016415913747757804, 'Bleu pervenche h'),\n",
       " (0.016335704790375605, 'Pw laan van niew oost indigo'),\n",
       " (0.016308712640737855, 'FWP sparkling champagne'),\n",
       " (0.016295630410039674, 'Pastel pink'),\n",
       " (0.016274152931540775, 'P orgona lilac'),\n",
       " (0.01626553804701758, 'Di manschuria violet'),\n",
       " (0.016245630159362812, 'F electric pink'),\n",
       " (0.016176096908238513, 'O cherry blossom'),\n",
       " (0.016155132913111936, 'KWZ grapefruit'),\n",
       " (0.016095539229233902, 'Pink radish'),\n",
       " (0.01608125141626493, 'Mv Caribbean '),\n",
       " (0.016058080944878705, 'T milky ocean'),\n",
       " (0.015967246849427852, 'Inkbara yellow'),\n",
       " (0.015934348454526237, 'Mv sweet life key lime pie '),\n",
       " (0.015899477669730988, 'Yellow fire'),\n",
       " (0.015806205617844515, 'Vd parrot fish'),\n",
       " (0.015803001972446995, 'CT Pastel Yellow'),\n",
       " (0.015758960838477831, 'P zuzmo lichen'),\n",
       " (0.015723703456642368, 'O pink owl'),\n",
       " (0.015676276078772533, 'D golden honey '),\n",
       " (0.015664906026876202, 'P balaton kek '),\n",
       " (0.01565962808950716, 'Cal aurora'),\n",
       " (0.015592309856343967, 'Di November leaves'),\n",
       " (0.0155869852604551, 'H Bleu Azur'),\n",
       " (0.015583916760082417, 'F cognac brown'),\n",
       " (0.015449779713681333, 'Di early spring'),\n",
       " (0.015419545076921559, 'Pink gazelle'),\n",
       " (0.015343175211102622, 'Wearingeul Alice'),\n",
       " (0.015300644877583758, 'Lamy blue'),\n",
       " (0.015272899652734706, 'W Jane eyre'),\n",
       " (0.015183172281362733, 'Kyo iro higashiyama moonlight'),\n",
       " (0.015076888309448422, 'O blue iris'),\n",
       " (0.014962405924206779, 'R cosmic swirl'),\n",
       " (0.014962214917304095, 'Colorberse 7 clear cyan'),\n",
       " (0.014942441801463813, 'Epson C'),\n",
       " (0.014873053853324436, 'F Burned orange'),\n",
       " (0.014662768044330976, 'Platinum Violet2'),\n",
       " (0.014470463236917419, 'Platinum violet'),\n",
       " (0.01443261966729692, 'R peach'),\n",
       " (0.014349489902133916, 'R heart of gold'),\n",
       " (0.013807600730224134, 'Robert Oster Australian Opal Blue'),\n",
       " (0.013661289589242176, 'F India red'),\n",
       " (0.013489605429910734, 'Mg turquoise'),\n",
       " (0.012584704849932127, 'Operation overlord orange N'),\n",
       " (0.012434656822392864, 'R torquay')]"
      ]
     },
     "execution_count": 153,
     "metadata": {},
     "output_type": "execute_result"
    }
   ],
   "source": [
    "pink_candidates"
   ]
  },
  {
   "cell_type": "code",
   "execution_count": 116,
   "id": "6b08c8f3",
   "metadata": {},
   "outputs": [
    {
     "name": "stdout",
     "output_type": "stream",
     "text": [
      "Lamy red 0.0336059419336\n",
      "Peach haze D 0.0301751214864\n",
      "V maskara  0.0296098950308\n",
      "V isabela 0.0270403203988\n",
      "I fuyu gaki  0.0290616152314\n",
      "Wa audacious red 0.0250895739398\n",
      "Orange D 0.0299007517249\n",
      "Atlantic salmon N 0.0270130672789\n"
     ]
    }
   ],
   "source": [
    "for width, name in pink_candidates[:8]:\n",
    "    cpvy = cvy + [all_inks[name]]\n",
    "    gamut = InkGamut(cpvy, paper=paper, illuminant=d65)\n",
    "    width = gamut.get_width(tetrachromat_d65, stepsize=0.05, verbose=False)\n",
    "    print(name, width)"
   ]
  },
  {
   "cell_type": "code",
   "execution_count": 68,
   "id": "3ff88b11",
   "metadata": {},
   "outputs": [
    {
     "data": {
      "image/png": "[encoded data removed]",
      "text/plain": [
       "<Figure size 640x480 with 1 Axes>"
      ]
     },
     "metadata": {},
     "output_type": "display_data"
    }
   ],
   "source": [
    "all_inks[\"Peach haze D\"].plot()\n",
    "all_inks[\"Lamy red\"].plot()"
   ]
  },
  {
   "cell_type": "code",
   "execution_count": null,
   "id": "8fc8c945",
   "metadata": {},
   "outputs": [],
   "source": []
  },
  {
   "cell_type": "markdown",
   "id": "64480fe8",
   "metadata": {},
   "source": [
    "## Best Magenta"
   ]
  },
  {
   "cell_type": "code",
   "execution_count": 154,
   "id": "4dc8ec0c",
   "metadata": {},
   "outputs": [],
   "source": [
    "cpy = [all_inks[\"R torquay\"], all_inks[\"Lamy red\"],  all_inks[\"CT Pastel Yellow\"]]"
   ]
  },
  {
   "cell_type": "code",
   "execution_count": 155,
   "id": "85ff9932",
   "metadata": {},
   "outputs": [
    {
     "data": {
      "application/vnd.jupyter.widget-view+json": {
       "model_id": "b792ad2528c54e19bdc627d65e7f5501",
       "version_major": 2,
       "version_minor": 0
      },
      "text/plain": [
       "Finding best magenta:   0%|          | 0/147 [00:00<?, ?it/s]"
      ]
     },
     "metadata": {},
     "output_type": "display_data"
    }
   ],
   "source": [
    "magenta_candidates = []\n",
    "for name, spectra in tqdm(all_inks.items(), desc=\"Finding best magenta\"):\n",
    "    cpvy = cpy + [spectra]\n",
    "    gamut = InkGamut(cpvy, paper=paper, illuminant=d65)\n",
    "    width = gamut.get_width(tetrachromat_d65, verbose=False)\n",
    "    magenta_candidates.append((width, name))"
   ]
  },
  {
   "cell_type": "code",
   "execution_count": 156,
   "id": "4aa5bca0",
   "metadata": {},
   "outputs": [],
   "source": [
    "magenta_candidates.sort(reverse=True)"
   ]
  },
  {
   "cell_type": "code",
   "execution_count": 157,
   "id": "bc004cef",
   "metadata": {},
   "outputs": [
    {
     "data": {
      "text/plain": [
       "[(0.033347381005181975, 'Platinum violet'),\n",
       " (0.028179564673023627, 'Rose cyclamen H'),\n",
       " (0.027113725833121882, 'Pink gazelle'),\n",
       " (0.026772064320561562, 'Pink radish'),\n",
       " (0.026573525519455632, 'Opportunity'),\n",
       " (0.026301629825698725, 'O pink owl'),\n",
       " (0.025863210267029868, 'Pink owl'),\n",
       " (0.025482746637716214, 'Platinum Violet2'),\n",
       " (0.025082324002621448, 'Hope pink D'),\n",
       " (0.025060388053290694, 'I tsutsuji '),\n",
       " (0.024713870323906234, 'Lamy crystal beryl'),\n",
       " (0.024713450668138848, 'Cheshire cat'),\n",
       " (0.024011681248775618, 'Think Pink'),\n",
       " (0.023408236561919815, 'Last purple'),\n",
       " (0.023402404979011804, 'Momo pink'),\n",
       " (0.023342577629315464, 'Sailor pink'),\n",
       " (0.022911627748190444, 'F India red'),\n",
       " (0.022547574969610573, 'O brown calibri '),\n",
       " (0.022514897667899436, 'W dracula'),\n",
       " (0.022267655509123574, 'V karol '),\n",
       " (0.022185730329887132, 'North African violet'),\n",
       " (0.022039131293182967, 'F electric pink'),\n",
       " (0.021372382151870151, 'Violet lion'),\n",
       " (0.021194599069801201, 'Pp cherry red'),\n",
       " (0.021074739824607613, 'Dragon catfish N'),\n",
       " (0.021071246088761375, 'Iroshizuku purple'),\n",
       " (0.021010544812742671, 'Mg violet'),\n",
       " (0.020730525940963362, 'Di lavender'),\n",
       " (0.020538713058533331, 'Atlantic salmon N'),\n",
       " (0.020149088975798313, 'Violet bee'),\n",
       " (0.019949599452912636, 'Violette pensee h'),\n",
       " (0.019892292896318331, 'Fairytale pink'),\n",
       " (0.019861723055134783, 'F Burned orange'),\n",
       " (0.019824909090956411, 'Pineider violet'),\n",
       " (0.019789957632706467, 'Media beliar '),\n",
       " (0.019582457228423999, 'Pp violet'),\n",
       " (0.019581420890236789, 'Wa audacious red'),\n",
       " (0.019442642570597024, 'Iwi frost descent'),\n",
       " (0.01920049568810972, 'Bay state blue'),\n",
       " (0.01915624359106427, 'Pw parkapop purper '),\n",
       " (0.019109337301550733, 'Lamy blue'),\n",
       " (0.019065258356735337, 'Bouquet dantan H'),\n",
       " (0.018970805134788549, 'Di citrus yellow'),\n",
       " (0.018888948449828691, 'Robert oster '),\n",
       " (0.018841251443950213, 'Noodler’s yellow'),\n",
       " (0.018704187528361449, 'O pebble stone'),\n",
       " (0.018691253006452191, 'Mg sapphire'),\n",
       " (0.018523196252864693, 'R orange zest'),\n",
       " (0.018469776358015944, 'D golden honey '),\n",
       " (0.018424039969361594, 'K goshiyama ocher'),\n",
       " (0.018410821691752011, 'C lunch date'),\n",
       " (0.018405669742135977, 'FWP sparkling champagne'),\n",
       " (0.01838753959992423, 'O blue iris'),\n",
       " (0.018354881716516391, 'Mg bordeaux '),\n",
       " (0.018260585980669264, 'FWP madame mulberry'),\n",
       " (0.018168196788252211, 'V maskara '),\n",
       " (0.018105817589524231, 'R honey bee'),\n",
       " (0.018074770683738972, 'O puppy pods'),\n",
       " (0.018011549986481634, 'Pastel pink'),\n",
       " (0.017714142878564765, 'R sublime'),\n",
       " (0.017689618828556797, 'I chiku Ria'),\n",
       " (0.01767909172272325, 'Pp Mardi Gras Indian purple'),\n",
       " (0.01767543464241339, 'P orgona lilac'),\n",
       " (0.017657280289968047, 'Di maple'),\n",
       " (0.017648835737083535, 'Mv topaz'),\n",
       " (0.017635938742371349, 'Operation overlord orange N'),\n",
       " (0.017605545678162415, 'Wearingeul Alice'),\n",
       " (0.01755237695820222, 'Inkbara danelion'),\n",
       " (0.017499709028656996, 'Cross red'),\n",
       " (0.017482320803497431, 'R cosmic swirl'),\n",
       " (0.017473479504707901, 'R peach'),\n",
       " (0.017461150215644761, 'CT Pastel Yellow'),\n",
       " (0.017383266610957349, 'F cognac brown'),\n",
       " (0.017343579903753348, 'FWP strawberry macaroon'),\n",
       " (0.017310292483786127, 'KWZ grapefruit'),\n",
       " (0.017281968085720578, 'V sirena '),\n",
       " (0.017277849795438394, 'Pilot blue'),\n",
       " (0.017222670032891518, 'Cal Bourgogne '),\n",
       " (0.017214825622451135, 'Pw laan van niew oost indigo'),\n",
       " (0.017202317740102779, 'Kaweco green'),\n",
       " (0.017111489653213519, 'R heart of gold'),\n",
       " (0.017070610101061812, 'Sunshine yellow'),\n",
       " (0.016952180697292096, 'Di manschuria violet'),\n",
       " (0.016835532029239153, 'Iwi beginning of spring'),\n",
       " (0.016834810645045439, 'O cherry blossom'),\n",
       " (0.016812953817196274, 'Rokyu moon yellow'),\n",
       " (0.016690941473664678, 'Mv sweet life key lime pie '),\n",
       " (0.016675862036418632, 'Epson C'),\n",
       " (0.016644136698479861, 'C gluon glistening'),\n",
       " (0.016641617265422015, 'T sea glass'),\n",
       " (0.016629812927723309, 'Cal aurora'),\n",
       " (0.016591548731388905, 'R torquay'),\n",
       " (0.016504190723427459, 'Robert Oster Australian Opal Blue'),\n",
       " (0.016502316675731876, 'T milky ocean'),\n",
       " (0.016475879917101754, 'V isabela'),\n",
       " (0.016473659664556717, 'Pp garden district azelea'),\n",
       " (0.016467303170409786, 'W Jane eyre'),\n",
       " (0.01644899933158428, 'Vd snowy mountain sunset'),\n",
       " (0.016379509598156039, 'Cal inti '),\n",
       " (0.016373826801944991, 'D espresso '),\n",
       " (0.016357526648240306, 'P zuzmo lichen'),\n",
       " (0.016352008009473118, 'Di November leaves'),\n",
       " (0.016260791820532083, 'O crystal blue'),\n",
       " (0.016233150724617507, 'FWP blue cotton candy'),\n",
       " (0.016167932106741167, 'Inkbara yellow'),\n",
       " (0.016117248655790117, 'Kyo iro higashiyama moonlight'),\n",
       " (0.016084032500164103, 'Di early spring'),\n",
       " (0.016036814470490879, 'I syo ro '),\n",
       " (0.0159838050291774, 'V perya '),\n",
       " (0.01593401974198605, 'Pw groenmarkt smaragd '),\n",
       " (0.015928771164745337, 'Colorberse 7 clear cyan'),\n",
       " (0.015903437738712445, 'Kyo no oto adzuki iro'),\n",
       " (0.015874808125405426, 'Yellow fire'),\n",
       " (0.015794113298455148, 'Pw van huysums sapgroen '),\n",
       " (0.015755291770024327, 'R charred hickory'),\n",
       " (0.015622102052619713, 'Vd parrot fish'),\n",
       " (0.015569972856151915, 'H Bleu Azur'),\n",
       " (0.01556947456226998, 'Orange soleil'),\n",
       " (0.015552798232531861, 'Vd sea shell shimmer'),\n",
       " (0.0155471478680973, 'F violet blue'),\n",
       " (0.015544538831639754, 'D moon dust'),\n",
       " (0.0154451802795883, 'Pw hals oud bruin'),\n",
       " (0.015444868127090339, 'T copper patina'),\n",
       " (0.015439604834904364, 'FWP adventurine '),\n",
       " (0.015408267489809502, 'FWP Three Steamboats'),\n",
       " (0.015365294072242075, 'P balaton kek '),\n",
       " (0.015325100963371807, 'Purple jade rabbit'),\n",
       " (0.015322083020391286, 'Pw denneweg groen '),\n",
       " (0.015305617875431166, 'Mg turquoise'),\n",
       " (0.015248318236017577, 'R australis oak'),\n",
       " (0.015245534085396639, 'O green eagle'),\n",
       " (0.015227848795934973, 'T foxglove'),\n",
       " (0.015159548647651011, 'K kitano pearl silver'),\n",
       " (0.015147410147817397, 'KWZ turquoise '),\n",
       " (0.01512250740651, 'Lamy red'),\n",
       " (0.015109332090779137, 'R violet dreams'),\n",
       " (0.015109332090779137, 'R cherry blossom'),\n",
       " (0.015109332090779137, 'Pw hofvijer grijs '),\n",
       " (0.015109332090779137, 'Peach haze D'),\n",
       " (0.015109332090779137, 'Orange D'),\n",
       " (0.015109332090779137, 'Mv Caribbean '),\n",
       " (0.015109332090779137, 'Inkbara cyan'),\n",
       " (0.015109332090779137, 'I fuyu gaki '),\n",
       " (0.015109332090779137, 'D ancient copper'),\n",
       " (0.015109332090779137, 'C photon'),\n",
       " (0.015109332090779137, 'Bleu pervenche h'),\n",
       " (0.015109332090779137, 'Aurora orange')]"
      ]
     },
     "execution_count": 157,
     "metadata": {},
     "output_type": "execute_result"
    }
   ],
   "source": [
    "magenta_candidates"
   ]
  },
  {
   "cell_type": "code",
   "execution_count": 123,
   "id": "3dd387b8",
   "metadata": {},
   "outputs": [
    {
     "data": {
      "image/png": "[encoded data removed]",
      "text/plain": [
       "<Figure size 640x480 with 1 Axes>"
      ]
     },
     "metadata": {},
     "output_type": "display_data"
    }
   ],
   "source": [
    "all_inks[\"Platinum violet\"].plot()\n",
    "cijk[\"0020\"].plot(color='black')\n",
    "all_inks[\"Pink owl\"].plot(color='green')"
   ]
  },
  {
   "cell_type": "markdown",
   "id": "0078cf21",
   "metadata": {
    "code_folding": []
   },
   "source": [
    "## Best Yellow"
   ]
  },
  {
   "cell_type": "code",
   "execution_count": 165,
   "id": "bd1e3aec",
   "metadata": {},
   "outputs": [],
   "source": [
    "cpv = [all_inks[\"R torquay\"], all_inks[\"Lamy red\"],all_inks[\"Platinum violet\"]]"
   ]
  },
  {
   "cell_type": "code",
   "execution_count": 166,
   "id": "3d06e136",
   "metadata": {},
   "outputs": [
    {
     "data": {
      "application/vnd.jupyter.widget-view+json": {
       "model_id": "a8cfcde1ece74154bba2f125256ae075",
       "version_major": 2,
       "version_minor": 0
      },
      "text/plain": [
       "Finding best yellow:   0%|          | 0/147 [00:00<?, ?it/s]"
      ]
     },
     "metadata": {},
     "output_type": "display_data"
    }
   ],
   "source": [
    "yellow_candidates = []\n",
    "for name, spectra in tqdm(all_inks.items(), desc=\"Finding best yellow\"):\n",
    "    cpvy = cpv + [spectra]\n",
    "    gamut = InkGamut(cpvy, paper=paper, illuminant=d65)\n",
    "    width = gamut.get_width(tetrachromat_d65, verbose=False)\n",
    "    yellow_candidates.append((width, name))"
   ]
  },
  {
   "cell_type": "code",
   "execution_count": 168,
   "id": "f243eafe",
   "metadata": {},
   "outputs": [],
   "source": [
    "yellow_candidates.sort(reverse=True)"
   ]
  },
  {
   "cell_type": "code",
   "execution_count": 169,
   "id": "34699c59",
   "metadata": {},
   "outputs": [
    {
     "data": {
      "text/plain": [
       "[(0.033347381005182031, 'CT Pastel Yellow'),\n",
       " (0.030776693965701041, 'F India red'),\n",
       " (0.03070609870235308, 'Di maple'),\n",
       " (0.030650520228144074, 'Mv topaz'),\n",
       " (0.030284447430496353, 'Inkbara yellow'),\n",
       " (0.030254597529096594, 'Pink gazelle'),\n",
       " (0.030136910849658471, 'FWP sparkling champagne'),\n",
       " (0.029072656723036161, 'F Burned orange'),\n",
       " (0.028977959843882573, 'Yellow fire'),\n",
       " (0.02896796997240908, 'Iwi beginning of spring'),\n",
       " (0.028522377369120833, 'Kyo iro higashiyama moonlight'),\n",
       " (0.028358313492805431, 'Cal inti '),\n",
       " (0.028187689013050965, 'D golden honey '),\n",
       " (0.028061232323062457, 'Operation overlord orange N'),\n",
       " (0.028024875812345418, 'Rokyu moon yellow'),\n",
       " (0.027841631923290144, 'F cognac brown'),\n",
       " (0.027586828648890949, 'Inkbara danelion'),\n",
       " (0.027547409719624161, 'Di citrus yellow'),\n",
       " (0.027519020300720454, 'R orange zest'),\n",
       " (0.027164570476660155, 'KWZ grapefruit'),\n",
       " (0.027097101492348397, 'C lunch date'),\n",
       " (0.027039594613807394, 'I fuyu gaki '),\n",
       " (0.026892712270488062, 'D ancient copper'),\n",
       " (0.026872931056119875, 'O brown calibri '),\n",
       " (0.026777635651823117, 'R peach'),\n",
       " (0.026772064320561562, 'Pink radish'),\n",
       " (0.026757223909853078, 'Aurora orange'),\n",
       " (0.026680050435447078, 'I chiku Ria'),\n",
       " (0.026534274275046066, 'Sunshine yellow'),\n",
       " (0.026449325503280552, 'Noodler’s yellow'),\n",
       " (0.02643100290163497, 'R sublime'),\n",
       " (0.026148412572558177, 'C gluon glistening'),\n",
       " (0.026049995333989051, 'Pw hals oud bruin'),\n",
       " (0.025661792359993274, 'Cal aurora'),\n",
       " (0.025518677129542089, 'R honey bee'),\n",
       " (0.025143443672660748, 'Kaweco green'),\n",
       " (0.024471332026667736, 'R heart of gold'),\n",
       " (0.024381344531928084, 'Peach haze D'),\n",
       " (0.024366194304303423, 'Wa audacious red'),\n",
       " (0.024360507016366995, 'Pilot blue'),\n",
       " (0.024261460840785065, 'Pineider violet'),\n",
       " (0.023959285463410029, 'Pw van huysums sapgroen '),\n",
       " (0.023933296922803382, 'Orange D'),\n",
       " (0.023860704129325727, 'O pink owl'),\n",
       " (0.023792672352844657, 'R australis oak'),\n",
       " (0.023770106012225178, 'Mv sweet life key lime pie '),\n",
       " (0.023722248958681302, 'Orange soleil'),\n",
       " (0.023500101656412864, 'Pp cherry red'),\n",
       " (0.0234724365708045, 'Cross red'),\n",
       " (0.023398423265433788, 'Violette pensee h'),\n",
       " (0.023175329727425698, 'Vd sea shell shimmer'),\n",
       " (0.023130106730212485, 'W dracula'),\n",
       " (0.023103090776702195, 'V maskara '),\n",
       " (0.023059654740362034, 'V karol '),\n",
       " (0.022963008450222366, 'D espresso '),\n",
       " (0.022826371360489817, 'I syo ro '),\n",
       " (0.022810639610497341, 'K goshiyama ocher'),\n",
       " (0.02274692860792249, 'O pebble stone'),\n",
       " (0.02271795915654351, 'Pink owl'),\n",
       " (0.022572686460779701, 'Pp garden district azelea'),\n",
       " (0.022491636177605523, 'Pastel pink'),\n",
       " (0.022079604483082549, 'Pw hofvijer grijs '),\n",
       " (0.022058073592776895, 'Pw parkapop purper '),\n",
       " (0.021920666283560652, 'Mg sapphire'),\n",
       " (0.021816554928651088, 'Think Pink'),\n",
       " (0.02173014087314723, 'O green eagle'),\n",
       " (0.021645802501808808, 'North African violet'),\n",
       " (0.021633932603826678, 'R charred hickory'),\n",
       " (0.021604324421924892, 'Mg bordeaux '),\n",
       " (0.02159612661802629, 'Rose cyclamen H'),\n",
       " (0.021417978954496319, 'KWZ turquoise '),\n",
       " (0.021092545962208387, 'Cal Bourgogne '),\n",
       " (0.021048637037663021, 'Bay state blue'),\n",
       " (0.02104370877721895, 'Violet lion'),\n",
       " (0.021011263748163977, 'FWP strawberry macaroon'),\n",
       " (0.020966318560816655, 'Pp Mardi Gras Indian purple'),\n",
       " (0.02094414083396634, 'R cosmic swirl'),\n",
       " (0.020922652527696428, 'T foxglove'),\n",
       " (0.020859412149381806, 'Mg violet'),\n",
       " (0.020842749569579599, 'P zuzmo lichen'),\n",
       " (0.020832705965672049, 'C photon'),\n",
       " (0.020827950392451999, 'I tsutsuji '),\n",
       " (0.02064335876667267, 'Iroshizuku purple'),\n",
       " (0.020617588547468813, 'Epson C'),\n",
       " (0.020552275712323098, 'T milky ocean'),\n",
       " (0.020495691861321774, 'Pw denneweg groen '),\n",
       " (0.020413607954448465, 'Last purple'),\n",
       " (0.020400071906060857, 'Di lavender'),\n",
       " (0.0203592791812931, 'Inkbara cyan'),\n",
       " (0.020121405566711881, 'Kyo no oto adzuki iro'),\n",
       " (0.020118396936065208, 'Media beliar '),\n",
       " (0.020114443189669817, 'Di November leaves'),\n",
       " (0.020075192423557708, 'D moon dust'),\n",
       " (0.019836670148258795, 'Iwi frost descent'),\n",
       " (0.01971253713400678, 'K kitano pearl silver'),\n",
       " (0.019575773333715407, 'FWP madame mulberry'),\n",
       " (0.019472784788434228, 'Violet bee'),\n",
       " (0.019405193297466206, 'V isabela'),\n",
       " (0.019400722496539069, 'Lamy crystal beryl'),\n",
       " (0.019331100412811275, 'P orgona lilac'),\n",
       " (0.019291141040302218, 'Robert oster '),\n",
       " (0.019202544565555812, 'Bleu pervenche h'),\n",
       " (0.018870202893530641, 'Bouquet dantan H'),\n",
       " (0.018697605866501099, 'Cheshire cat'),\n",
       " (0.01836769722744519, 'Opportunity'),\n",
       " (0.018268265449448096, 'Mv Caribbean '),\n",
       " (0.018108825336295986, 'Pw laan van niew oost indigo'),\n",
       " (0.018048585658578864, 'T sea glass'),\n",
       " (0.017772555989245375, 'Lamy blue'),\n",
       " (0.01771237683842225, 'V sirena '),\n",
       " (0.017388687290237348, 'F electric pink'),\n",
       " (0.017295656176152308, 'Dragon catfish N'),\n",
       " (0.017274423386335058, 'Pw groenmarkt smaragd '),\n",
       " (0.017236527659892142, 'Lamy red'),\n",
       " (0.01723521597425981, 'FWP adventurine '),\n",
       " (0.017163227478995235, 'W Jane eyre'),\n",
       " (0.017129608586533729, 'O blue iris'),\n",
       " (0.017120954828834578, 'Platinum Violet2'),\n",
       " (0.016965658198756506, 'O puppy pods'),\n",
       " (0.016857008776229754, 'Purple jade rabbit'),\n",
       " (0.016839166987959397, 'O cherry blossom'),\n",
       " (0.01676023289177786, 'FWP blue cotton candy'),\n",
       " (0.016755057286911568, 'Hope pink D'),\n",
       " (0.016734937583825771, 'Di manschuria violet'),\n",
       " (0.016692076775449705, 'Atlantic salmon N'),\n",
       " (0.016599483229021994, 'Pp violet'),\n",
       " (0.016346364655551504, 'Vd snowy mountain sunset'),\n",
       " (0.016287110498855284, 'Sailor pink'),\n",
       " (0.016267823056409447, 'Colorberse 7 clear cyan'),\n",
       " (0.016244343922049709, 'R violet dreams'),\n",
       " (0.016178547886651018, 'Mg turquoise'),\n",
       " (0.016171308340744095, 'Momo pink'),\n",
       " (0.016094729447327483, 'T copper patina'),\n",
       " (0.01605849597717357, 'Robert Oster Australian Opal Blue'),\n",
       " (0.015925987055954771, 'Fairytale pink'),\n",
       " (0.015817921189574813, 'Di early spring'),\n",
       " (0.015806568637717455, 'P balaton kek '),\n",
       " (0.015789960828456018, 'O crystal blue'),\n",
       " (0.015763024808814141, 'Vd parrot fish'),\n",
       " (0.015688406301725466, 'F violet blue'),\n",
       " (0.015682713354312483, 'R cherry blossom'),\n",
       " (0.015630718046223013, 'Platinum violet'),\n",
       " (0.015482333630040035, 'FWP Three Steamboats'),\n",
       " (0.015411259527573939, 'Wearingeul Alice'),\n",
       " (0.015188224971466879, 'V perya '),\n",
       " (0.014997820193857814, 'R torquay'),\n",
       " (0.01474390701396322, 'H Bleu Azur')]"
      ]
     },
     "execution_count": 169,
     "metadata": {},
     "output_type": "execute_result"
    }
   ],
   "source": [
    "yellow_candidates"
   ]
  },
  {
   "cell_type": "code",
   "execution_count": 170,
   "id": "e9b2d1a8",
   "metadata": {},
   "outputs": [
    {
     "name": "stdout",
     "output_type": "stream",
     "text": [
      "CT Pastel Yellow 0.0348300747462\n",
      "F India red 0.0338715126234\n",
      "Di maple 0.0336822449977\n",
      "Mv topaz 0.0324309038974\n",
      "Inkbara yellow 0.0328239236354\n",
      "Pink gazelle 0.0320100545462\n",
      "FWP sparkling champagne 0.0311966001198\n",
      "F Burned orange 0.0338603667513\n",
      "Yellow fire 0.0318619523576\n",
      "Iwi beginning of spring 0.0323077948212\n",
      "Kyo iro higashiyama moonlight 0.0303727054876\n",
      "Cal inti  0.0312899804397\n",
      "D golden honey  0.0326173357654\n",
      "Operation overlord orange N 0.0329522107982\n",
      "Rokyu moon yellow 0.032783129782\n",
      "F cognac brown 0.0312605675938\n",
      "Inkbara danelion 0.0319093147199\n",
      "Di citrus yellow 0.0343048441658\n",
      "R orange zest 0.0331201581766\n",
      "KWZ grapefruit 0.031410155643\n",
      "C lunch date 0.0296495323142\n"
     ]
    }
   ],
   "source": [
    "for width, name in yellow_candidates[:21]:\n",
    "    cpvy = cpv + [all_inks[name]]\n",
    "    gamut = InkGamut(cpvy, paper=paper, illuminant=d65)\n",
    "    width = gamut.get_width(tetrachromat_d65, stepsize=0.05, verbose=False)\n",
    "    print(name, width)"
   ]
  },
  {
   "cell_type": "code",
   "execution_count": 135,
   "id": "fc9985bc",
   "metadata": {},
   "outputs": [
    {
     "data": {
      "image/png": "[encoded data removed]",
      "text/plain": [
       "<Figure size 640x480 with 1 Axes>"
      ]
     },
     "metadata": {},
     "output_type": "display_data"
    }
   ],
   "source": [
    "all_inks[\"CT Pastel Yellow\"].plot()\n",
    "# all_inks[\"Rokyu moon yellow\"].plot()"
   ]
  },
  {
   "cell_type": "markdown",
   "id": "a4d87ec9",
   "metadata": {},
   "source": [
    "## Display best four inks"
   ]
  },
  {
   "cell_type": "code",
   "execution_count": 171,
   "id": "399b1541",
   "metadata": {},
   "outputs": [
    {
     "data": {
      "image/png": "[encoded data removed]",
      "text/plain": [
       "<Figure size 640x480 with 1 Axes>"
      ]
     },
     "metadata": {},
     "output_type": "display_data"
    }
   ],
   "source": [
    "all_inks[\"R torquay\"].plot(name=\"R torquay\")\n",
    "all_inks[\"Lamy red\"].plot(name=\"Lamy red\")\n",
    "all_inks[\"Platinum violet\"].plot(name=\"Platinum violet\")\n",
    "all_inks[\"CT Pastel Yellow\"].plot(name=\"CT Pastel Yellow\")\n",
    "plt.legend()\n",
    "plt.show()"
   ]
  },
  {
   "cell_type": "code",
   "execution_count": 16,
   "id": "d5ebf2bc",
   "metadata": {},
   "outputs": [],
   "source": [
    "best_cpvy = [all_inks[\"R torquay\"], all_inks[\"Lamy red\"],all_inks[\"Platinum violet\"], all_inks[\"CT Pastel Yellow\"]]"
   ]
  },
  {
   "cell_type": "code",
   "execution_count": 17,
   "id": "8d9dc53c",
   "metadata": {},
   "outputs": [],
   "source": [
    "best_cpvy_gamut = InkGamut(best_cpvy, paper=paper, illuminant=d65)"
   ]
  },
  {
   "cell_type": "code",
   "execution_count": 18,
   "id": "fa58cca6",
   "metadata": {},
   "outputs": [
    {
     "name": "stderr",
     "output_type": "stream",
     "text": [
      "Generating point cloud: 100%|███████████████████| 194481/194481 [00:02<00:00, 71196.89it/s]\n"
     ]
    },
    {
     "name": "stdout",
     "output_type": "stream",
     "text": [
      "Point cloud generated.\n",
      "Point cloud saved to cpvyFeb6_point_cloud5.\n",
      "maximum distance is 0.03483007474616506 with percentages (0.0, 0.0, 0.95000000000000007, 0.70000000000000007) and (0.60000000000000009, 0.90000000000000002, 0.0, 0.10000000000000001)\n"
     ]
    },
    {
     "data": {
      "text/plain": [
       "0.034830074746165063"
      ]
     },
     "execution_count": 18,
     "metadata": {},
     "output_type": "execute_result"
    }
   ],
   "source": [
    "best_cpvy_gamut.get_width(tetrachromat_d65, stepsize=0.05, save=\"cpvyFeb6\")"
   ]
  },
  {
   "cell_type": "markdown",
   "id": "c46e8ce0",
   "metadata": {},
   "source": [
    "## Best spot colors"
   ]
  },
  {
   "cell_type": "code",
   "execution_count": 20,
   "id": "112564be",
   "metadata": {},
   "outputs": [
    {
     "data": {
      "application/vnd.jupyter.widget-view+json": {
       "model_id": "b523a41e12e941b099402afd8607a7e8",
       "version_major": 2,
       "version_minor": 0
      },
      "text/plain": [
       "Finding best spot color:   0%|          | 0/147 [00:00<?, ?it/s]"
      ]
     },
     "metadata": {},
     "output_type": "display_data"
    }
   ],
   "source": [
    "spot_candidates = []\n",
    "for name, spectra in tqdm(all_inks.items(), desc=\"Finding best spot color\"):\n",
    "    cpvys = best_cpvy + [spectra]\n",
    "    gamut = InkGamut(cpvys, paper=paper, illuminant=d65)\n",
    "    width = gamut.get_width(tetrachromat_d65, stepsize=0.1, verbose=False)\n",
    "    spot_candidates.append((width, name))"
   ]
  },
  {
   "cell_type": "code",
   "execution_count": 21,
   "id": "7698efdc",
   "metadata": {},
   "outputs": [],
   "source": [
    "spot_candidates.sort(reverse=True)"
   ]
  },
  {
   "cell_type": "code",
   "execution_count": 22,
   "id": "2efdf436",
   "metadata": {},
   "outputs": [
    {
     "data": {
      "text/plain": [
       "[(0.035336365744954024, 'Purple jade rabbit'),\n",
       " (0.034855896099380168, 'R honey bee'),\n",
       " (0.034762886033165963, 'W dracula'),\n",
       " (0.0346409785313882, 'FWP sparkling champagne'),\n",
       " (0.034370126279692048, 'T copper patina'),\n",
       " (0.034347657778737106, 'V maskara '),\n",
       " (0.034236428485399928, 'Pink gazelle'),\n",
       " (0.034107911802601865, 'Mv topaz'),\n",
       " (0.034086953460065184, 'Robert Oster Australian Opal Blue'),\n",
       " (0.034070466649395337, 'V isabela'),\n",
       " (0.034021019422639909, 'Mg turquoise'),\n",
       " (0.033923697332880198, 'Momo pink'),\n",
       " (0.033876517579771448, 'Hope pink D'),\n",
       " (0.033866065293763181, 'CT Pastel Yellow'),\n",
       " (0.033824774719050377, 'F electric pink'),\n",
       " (0.03376367341088532, 'T milky ocean'),\n",
       " (0.033752626899260951, 'Sailor pink'),\n",
       " (0.033723341573197674, 'Platinum violet'),\n",
       " (0.033716252797636626, 'Di maple'),\n",
       " (0.033713450851888593, 'Lamy red'),\n",
       " (0.033636572678880206, 'Vd parrot fish'),\n",
       " (0.033614903103539651, 'F violet blue'),\n",
       " (0.033574387917274684, 'Lamy crystal beryl'),\n",
       " (0.033508101696407666, 'R sublime'),\n",
       " (0.033469453893846868, 'Dragon catfish N'),\n",
       " (0.033430374690933518, 'K kitano pearl silver'),\n",
       " (0.033350974213760376, 'Think Pink'),\n",
       " (0.033347381005182086, 'R torquay'),\n",
       " (0.033347381005182031, 'Yellow fire'),\n",
       " (0.033347381005182031, 'Wearingeul Alice'),\n",
       " (0.033347381005182031, 'Wa audacious red'),\n",
       " (0.033347381005182031, 'W Jane eyre'),\n",
       " (0.033347381005182031, 'Violette pensee h'),\n",
       " (0.033347381005182031, 'Violet lion'),\n",
       " (0.033347381005182031, 'Violet bee'),\n",
       " (0.033347381005182031, 'Vd snowy mountain sunset'),\n",
       " (0.033347381005182031, 'Vd sea shell shimmer'),\n",
       " (0.033347381005182031, 'V sirena '),\n",
       " (0.033347381005182031, 'V perya '),\n",
       " (0.033347381005182031, 'V karol '),\n",
       " (0.033347381005182031, 'T sea glass'),\n",
       " (0.033347381005182031, 'T foxglove'),\n",
       " (0.033347381005182031, 'Sunshine yellow'),\n",
       " (0.033347381005182031, 'Rose cyclamen H'),\n",
       " (0.033347381005182031, 'Rokyu moon yellow'),\n",
       " (0.033347381005182031, 'Robert oster '),\n",
       " (0.033347381005182031, 'R violet dreams'),\n",
       " (0.033347381005182031, 'R peach'),\n",
       " (0.033347381005182031, 'R orange zest'),\n",
       " (0.033347381005182031, 'R heart of gold'),\n",
       " (0.033347381005182031, 'R cosmic swirl'),\n",
       " (0.033347381005182031, 'R cherry blossom'),\n",
       " (0.033347381005182031, 'R charred hickory'),\n",
       " (0.033347381005182031, 'R australis oak'),\n",
       " (0.033347381005182031, 'Pw van huysums sapgroen '),\n",
       " (0.033347381005182031, 'Pw parkapop purper '),\n",
       " (0.033347381005182031, 'Pw laan van niew oost indigo'),\n",
       " (0.033347381005182031, 'Pw hofvijer grijs '),\n",
       " (0.033347381005182031, 'Pw hals oud bruin'),\n",
       " (0.033347381005182031, 'Pw groenmarkt smaragd '),\n",
       " (0.033347381005182031, 'Pw denneweg groen '),\n",
       " (0.033347381005182031, 'Pp violet'),\n",
       " (0.033347381005182031, 'Pp garden district azelea'),\n",
       " (0.033347381005182031, 'Pp cherry red'),\n",
       " (0.033347381005182031, 'Pp Mardi Gras Indian purple'),\n",
       " (0.033347381005182031, 'Platinum Violet2'),\n",
       " (0.033347381005182031, 'Pink radish'),\n",
       " (0.033347381005182031, 'Pink owl'),\n",
       " (0.033347381005182031, 'Pineider violet'),\n",
       " (0.033347381005182031, 'Pilot blue'),\n",
       " (0.033347381005182031, 'Peach haze D'),\n",
       " (0.033347381005182031, 'Pastel pink'),\n",
       " (0.033347381005182031, 'P zuzmo lichen'),\n",
       " (0.033347381005182031, 'P orgona lilac'),\n",
       " (0.033347381005182031, 'P balaton kek '),\n",
       " (0.033347381005182031, 'Orange soleil'),\n",
       " (0.033347381005182031, 'Orange D'),\n",
       " (0.033347381005182031, 'Opportunity'),\n",
       " (0.033347381005182031, 'Operation overlord orange N'),\n",
       " (0.033347381005182031, 'O puppy pods'),\n",
       " (0.033347381005182031, 'O pink owl'),\n",
       " (0.033347381005182031, 'O pebble stone'),\n",
       " (0.033347381005182031, 'O green eagle'),\n",
       " (0.033347381005182031, 'O crystal blue'),\n",
       " (0.033347381005182031, 'O cherry blossom'),\n",
       " (0.033347381005182031, 'O brown calibri '),\n",
       " (0.033347381005182031, 'O blue iris'),\n",
       " (0.033347381005182031, 'North African violet'),\n",
       " (0.033347381005182031, 'Noodler’s yellow'),\n",
       " (0.033347381005182031, 'Mv sweet life key lime pie '),\n",
       " (0.033347381005182031, 'Mv Caribbean '),\n",
       " (0.033347381005182031, 'Mg violet'),\n",
       " (0.033347381005182031, 'Mg sapphire'),\n",
       " (0.033347381005182031, 'Mg bordeaux '),\n",
       " (0.033347381005182031, 'Media beliar '),\n",
       " (0.033347381005182031, 'Last purple'),\n",
       " (0.033347381005182031, 'Lamy blue'),\n",
       " (0.033347381005182031, 'Kyo no oto adzuki iro'),\n",
       " (0.033347381005182031, 'Kyo iro higashiyama moonlight'),\n",
       " (0.033347381005182031, 'Kaweco green'),\n",
       " (0.033347381005182031, 'KWZ turquoise '),\n",
       " (0.033347381005182031, 'KWZ grapefruit'),\n",
       " (0.033347381005182031, 'K goshiyama ocher'),\n",
       " (0.033347381005182031, 'Iwi frost descent'),\n",
       " (0.033347381005182031, 'Iwi beginning of spring'),\n",
       " (0.033347381005182031, 'Iroshizuku purple'),\n",
       " (0.033347381005182031, 'Inkbara yellow'),\n",
       " (0.033347381005182031, 'Inkbara danelion'),\n",
       " (0.033347381005182031, 'Inkbara cyan'),\n",
       " (0.033347381005182031, 'I tsutsuji '),\n",
       " (0.033347381005182031, 'I syo ro '),\n",
       " (0.033347381005182031, 'I fuyu gaki '),\n",
       " (0.033347381005182031, 'I chiku Ria'),\n",
       " (0.033347381005182031, 'H Bleu Azur'),\n",
       " (0.033347381005182031, 'Fairytale pink'),\n",
       " (0.033347381005182031, 'FWP strawberry macaroon'),\n",
       " (0.033347381005182031, 'FWP madame mulberry'),\n",
       " (0.033347381005182031, 'FWP blue cotton candy'),\n",
       " (0.033347381005182031, 'FWP adventurine '),\n",
       " (0.033347381005182031, 'FWP Three Steamboats'),\n",
       " (0.033347381005182031, 'F cognac brown'),\n",
       " (0.033347381005182031, 'F India red'),\n",
       " (0.033347381005182031, 'F Burned orange'),\n",
       " (0.033347381005182031, 'Epson C'),\n",
       " (0.033347381005182031, 'Di manschuria violet'),\n",
       " (0.033347381005182031, 'Di lavender'),\n",
       " (0.033347381005182031, 'Di early spring'),\n",
       " (0.033347381005182031, 'Di citrus yellow'),\n",
       " (0.033347381005182031, 'Di November leaves'),\n",
       " (0.033347381005182031, 'D moon dust'),\n",
       " (0.033347381005182031, 'D golden honey '),\n",
       " (0.033347381005182031, 'D espresso '),\n",
       " (0.033347381005182031, 'D ancient copper'),\n",
       " (0.033347381005182031, 'Cross red'),\n",
       " (0.033347381005182031, 'Colorberse 7 clear cyan'),\n",
       " (0.033347381005182031, 'Cheshire cat'),\n",
       " (0.033347381005182031, 'Cal inti '),\n",
       " (0.033347381005182031, 'Cal aurora'),\n",
       " (0.033347381005182031, 'Cal Bourgogne '),\n",
       " (0.033347381005182031, 'C photon'),\n",
       " (0.033347381005182031, 'C lunch date'),\n",
       " (0.033347381005182031, 'C gluon glistening'),\n",
       " (0.033347381005182031, 'Bouquet dantan H'),\n",
       " (0.033347381005182031, 'Bleu pervenche h'),\n",
       " (0.033347381005182031, 'Bay state blue'),\n",
       " (0.033347381005182031, 'Aurora orange'),\n",
       " (0.033347381005182031, 'Atlantic salmon N')]"
      ]
     },
     "execution_count": 22,
     "metadata": {},
     "output_type": "execute_result"
    }
   ],
   "source": [
    "spot_candidates"
   ]
  },
  {
   "cell_type": "code",
   "execution_count": 23,
   "id": "c414bb3d",
   "metadata": {},
   "outputs": [],
   "source": [
    "best_spot_inks = spot_candidates[:17]"
   ]
  },
  {
   "cell_type": "code",
   "execution_count": 204,
   "id": "4d1f0080",
   "metadata": {},
   "outputs": [
    {
     "data": {
      "image/png": "[encoded data removed]",
      "text/plain": [
       "<Figure size 640x480 with 1 Axes>"
      ]
     },
     "metadata": {},
     "output_type": "display_data"
    }
   ],
   "source": [
    "all_inks[\"Purple jade rabbit\"].plot()\n",
    "all_inks[\"R honey bee\"].plot()\n",
    "all_inks[\"W dracula\"].plot()\n",
    "all_inks[\"FWP sparkling champagne\"].plot()\n",
    "all_inks[\"T copper patina\"].plot()\n",
    "all_inks[\"V maskara \"].plot()\n"
   ]
  },
  {
   "cell_type": "markdown",
   "id": "6ceec1c8",
   "metadata": {},
   "source": [
    "## Best two spot colors"
   ]
  },
  {
   "cell_type": "code",
   "execution_count": 27,
   "id": "1f405014",
   "metadata": {},
   "outputs": [
    {
     "data": {
      "text/plain": [
       "[<spectra.Spectra at 0x296b0f190>,\n",
       " <spectra.Spectra at 0x296af9190>,\n",
       " <spectra.Spectra at 0x296b04150>,\n",
       " <spectra.Spectra at 0x296b0fc50>]"
      ]
     },
     "execution_count": 27,
     "metadata": {},
     "output_type": "execute_result"
    }
   ],
   "source": [
    "best_cpvy"
   ]
  },
  {
   "cell_type": "code",
   "execution_count": 29,
   "id": "1a90f4ce",
   "metadata": {
    "scrolled": true
   },
   "outputs": [
    {
     "data": {
      "application/vnd.jupyter.widget-view+json": {
       "model_id": "1ebdff88e7ec4e0486f939fb10301a04",
       "version_major": 2,
       "version_minor": 0
      },
      "text/plain": [
       "All pairs:   0%|          | 0/17 [00:00<?, ?it/s]"
      ]
     },
     "metadata": {},
     "output_type": "display_data"
    },
    {
     "data": {
      "application/vnd.jupyter.widget-view+json": {
       "model_id": "3913b94bce8c439db76c303882f0a8ad",
       "version_major": 2,
       "version_minor": 0
      },
      "text/plain": [
       "  0%|          | 0/16 [00:00<?, ?it/s]"
      ]
     },
     "metadata": {},
     "output_type": "display_data"
    },
    {
     "data": {
      "application/vnd.jupyter.widget-view+json": {
       "model_id": "9605292e920949708f412e8886c4bf96",
       "version_major": 2,
       "version_minor": 0
      },
      "text/plain": [
       "  0%|          | 0/15 [00:00<?, ?it/s]"
      ]
     },
     "metadata": {},
     "output_type": "display_data"
    },
    {
     "data": {
      "application/vnd.jupyter.widget-view+json": {
       "model_id": "9fadd0dbf9164c3b82078a9748495c91",
       "version_major": 2,
       "version_minor": 0
      },
      "text/plain": [
       "  0%|          | 0/14 [00:00<?, ?it/s]"
      ]
     },
     "metadata": {},
     "output_type": "display_data"
    },
    {
     "data": {
      "application/vnd.jupyter.widget-view+json": {
       "model_id": "f863d0ed8d1848e39ee67c360cfc5379",
       "version_major": 2,
       "version_minor": 0
      },
      "text/plain": [
       "  0%|          | 0/13 [00:00<?, ?it/s]"
      ]
     },
     "metadata": {},
     "output_type": "display_data"
    },
    {
     "data": {
      "application/vnd.jupyter.widget-view+json": {
       "model_id": "94dd5be9a3804ead8e4ddbde6aa807ab",
       "version_major": 2,
       "version_minor": 0
      },
      "text/plain": [
       "  0%|          | 0/12 [00:00<?, ?it/s]"
      ]
     },
     "metadata": {},
     "output_type": "display_data"
    },
    {
     "data": {
      "application/vnd.jupyter.widget-view+json": {
       "model_id": "97287243437d412fb75066f02f3a0fa8",
       "version_major": 2,
       "version_minor": 0
      },
      "text/plain": [
       "  0%|          | 0/11 [00:00<?, ?it/s]"
      ]
     },
     "metadata": {},
     "output_type": "display_data"
    },
    {
     "data": {
      "application/vnd.jupyter.widget-view+json": {
       "model_id": "52182d813899456ebabb321e4c498084",
       "version_major": 2,
       "version_minor": 0
      },
      "text/plain": [
       "  0%|          | 0/10 [00:00<?, ?it/s]"
      ]
     },
     "metadata": {},
     "output_type": "display_data"
    },
    {
     "data": {
      "application/vnd.jupyter.widget-view+json": {
       "model_id": "e8161d9cc9404c3ba236c1015271412b",
       "version_major": 2,
       "version_minor": 0
      },
      "text/plain": [
       "  0%|          | 0/9 [00:00<?, ?it/s]"
      ]
     },
     "metadata": {},
     "output_type": "display_data"
    },
    {
     "data": {
      "application/vnd.jupyter.widget-view+json": {
       "model_id": "6efbbf43b720478a9e5e86aff33c5b40",
       "version_major": 2,
       "version_minor": 0
      },
      "text/plain": [
       "  0%|          | 0/8 [00:00<?, ?it/s]"
      ]
     },
     "metadata": {},
     "output_type": "display_data"
    },
    {
     "data": {
      "application/vnd.jupyter.widget-view+json": {
       "model_id": "c79609c5c9be4282b86c255c5ebe10a3",
       "version_major": 2,
       "version_minor": 0
      },
      "text/plain": [
       "  0%|          | 0/7 [00:00<?, ?it/s]"
      ]
     },
     "metadata": {},
     "output_type": "display_data"
    },
    {
     "data": {
      "application/vnd.jupyter.widget-view+json": {
       "model_id": "af1c0cfb2a414f6baf58773930c7bea4",
       "version_major": 2,
       "version_minor": 0
      },
      "text/plain": [
       "  0%|          | 0/6 [00:00<?, ?it/s]"
      ]
     },
     "metadata": {},
     "output_type": "display_data"
    },
    {
     "data": {
      "application/vnd.jupyter.widget-view+json": {
       "model_id": "9857118a277e419db31c1346f05b9e0f",
       "version_major": 2,
       "version_minor": 0
      },
      "text/plain": [
       "  0%|          | 0/5 [00:00<?, ?it/s]"
      ]
     },
     "metadata": {},
     "output_type": "display_data"
    },
    {
     "data": {
      "application/vnd.jupyter.widget-view+json": {
       "model_id": "43216ca39cfd43c69c6a9654f0d67e1c",
       "version_major": 2,
       "version_minor": 0
      },
      "text/plain": [
       "  0%|          | 0/4 [00:00<?, ?it/s]"
      ]
     },
     "metadata": {},
     "output_type": "display_data"
    },
    {
     "data": {
      "application/vnd.jupyter.widget-view+json": {
       "model_id": "e3953d377af740bfa362190b1985dc97",
       "version_major": 2,
       "version_minor": 0
      },
      "text/plain": [
       "  0%|          | 0/3 [00:00<?, ?it/s]"
      ]
     },
     "metadata": {},
     "output_type": "display_data"
    },
    {
     "data": {
      "application/vnd.jupyter.widget-view+json": {
       "model_id": "9d5c569dc59b46188cc099157c85ea1f",
       "version_major": 2,
       "version_minor": 0
      },
      "text/plain": [
       "  0%|          | 0/2 [00:00<?, ?it/s]"
      ]
     },
     "metadata": {},
     "output_type": "display_data"
    },
    {
     "data": {
      "application/vnd.jupyter.widget-view+json": {
       "model_id": "4c085a10a4324df4a9b4e06e02e6ed9d",
       "version_major": 2,
       "version_minor": 0
      },
      "text/plain": [
       "  0%|          | 0/1 [00:00<?, ?it/s]"
      ]
     },
     "metadata": {},
     "output_type": "display_data"
    },
    {
     "data": {
      "application/vnd.jupyter.widget-view+json": {
       "model_id": "9ab3af14c444431386601616ec2cec11",
       "version_major": 2,
       "version_minor": 0
      },
      "text/plain": [
       "0it [00:00, ?it/s]"
      ]
     },
     "metadata": {},
     "output_type": "display_data"
    }
   ],
   "source": [
    "spot_candidates = []\n",
    "\n",
    "# Iterate over all pairs of names and spectra in all_inks\n",
    "for i, (_, name1) in enumerate(tqdm(best_spot_inks, desc=\"All pairs\")):\n",
    "    for (_, name2) in tqdm(best_spot_inks[i+1:]):\n",
    "        # Create cpvys with the current pair of spectra added to best_cpvy\n",
    "        cpvys = best_cpvy + [all_inks[name1], all_inks[name2]]\n",
    "        gamut = InkGamut(cpvys, paper=paper, illuminant=d65)\n",
    "        width = gamut.get_width(tetrachromat_d65, stepsize=0.2, verbose=False)\n",
    "        \n",
    "        # Append the result along with the names of the ink pair\n",
    "        spot_candidates.append((width, name1, name2))"
   ]
  },
  {
   "cell_type": "code",
   "execution_count": 30,
   "id": "6be14a0b",
   "metadata": {},
   "outputs": [],
   "source": [
    "spot_candidates.sort(reverse=True)"
   ]
  },
  {
   "cell_type": "code",
   "execution_count": 31,
   "id": "6497771a",
   "metadata": {},
   "outputs": [
    {
     "data": {
      "text/plain": [
       "[(0.035791987216497956, 'FWP sparkling champagne', 'V isabela'),\n",
       " (0.034586864263814576, 'Mv topaz', 'V isabela'),\n",
       " (0.033852328401825726, 'Pink gazelle', 'V isabela'),\n",
       " (0.033742674229659486, 'FWP sparkling champagne', 'V maskara '),\n",
       " (0.033604395448346924, 'Mv topaz', 'T milky ocean'),\n",
       " (0.032823578797583408, 'Purple jade rabbit', 'V isabela'),\n",
       " (0.032537551276976107, 'V maskara ', 'Mv topaz'),\n",
       " (0.032361674875142799, 'V isabela', 'Mg turquoise'),\n",
       " (0.032094399017883413, 'Purple jade rabbit', 'V maskara '),\n",
       " (0.031988390533702282, 'R honey bee', 'Mg turquoise'),\n",
       " (0.031942802333018827, 'Momo pink', 'T milky ocean'),\n",
       " (0.031934977334641068, 'W dracula', 'V isabela'),\n",
       " (0.03189583965993209, 'V maskara ', 'Mg turquoise'),\n",
       " (0.031868222724034945, 'R honey bee', 'V maskara '),\n",
       " (0.031814812911048596, 'V maskara ', 'Robert Oster Australian Opal Blue'),\n",
       " (0.031656890475832478, 'Robert Oster Australian Opal Blue', 'Hope pink D'),\n",
       " (0.031514347572227985, 'Hope pink D', 'T milky ocean'),\n",
       " (0.031434714494396665, 'T copper patina', 'Mg turquoise'),\n",
       " (0.031411121372454276, 'Mg turquoise', 'Sailor pink'),\n",
       " (0.031394573999485254, 'T copper patina', 'Momo pink'),\n",
       " (0.031393127531137377, 'Pink gazelle', 'Mg turquoise'),\n",
       " (0.031390531911605513, 'FWP sparkling champagne', 'Sailor pink'),\n",
       " (0.031357575695745932, 'Mg turquoise', 'F electric pink'),\n",
       " (0.031342477899637289, 'Robert Oster Australian Opal Blue', 'Sailor pink'),\n",
       " (0.031327423681713318, 'Pink gazelle', 'Mv topaz'),\n",
       " (0.031316867783679148, 'FWP sparkling champagne', 'T copper patina'),\n",
       " (0.031183822791369498, 'Robert Oster Australian Opal Blue', 'T milky ocean'),\n",
       " (0.031059691808413059, 'Mv topaz', 'Robert Oster Australian Opal Blue'),\n",
       " (0.030964877502225263, 'W dracula', 'V maskara '),\n",
       " (0.030964877502225263, 'V maskara ', 'V isabela'),\n",
       " (0.030964877502225263, 'V maskara ', 'T milky ocean'),\n",
       " (0.030964877502225263, 'V maskara ', 'Sailor pink'),\n",
       " (0.030964877502225263, 'V maskara ', 'Pink gazelle'),\n",
       " (0.030964877502225263, 'V maskara ', 'Momo pink'),\n",
       " (0.030964877502225263, 'V maskara ', 'Hope pink D'),\n",
       " (0.030964877502225263, 'V maskara ', 'F electric pink'),\n",
       " (0.030964877502225263, 'V maskara ', 'CT Pastel Yellow'),\n",
       " (0.030964877502225263, 'T copper patina', 'V maskara '),\n",
       " (0.030814356892110983, 'Mg turquoise', 'Hope pink D'),\n",
       " (0.030790633723146665, 'Mg turquoise', 'CT Pastel Yellow'),\n",
       " (0.030789512626503202, 'W dracula', 'Momo pink'),\n",
       " (0.030760084350334616, 'T copper patina', 'Pink gazelle'),\n",
       " (0.0307428882703768, 'R honey bee', 'V isabela'),\n",
       " (0.030738693586241761,\n",
       "  'FWP sparkling champagne',\n",
       "  'Robert Oster Australian Opal Blue'),\n",
       " (0.03071941358993846, 'T copper patina', 'Sailor pink'),\n",
       " (0.030631331618884539, 'V isabela', 'F electric pink'),\n",
       " (0.030607693434356598, 'Purple jade rabbit', 'Momo pink'),\n",
       " (0.03060755683911931, 'Robert Oster Australian Opal Blue', 'Momo pink'),\n",
       " (0.030605841715710902, 'V isabela', 'T milky ocean'),\n",
       " (0.030605841715710902, 'V isabela', 'Sailor pink'),\n",
       " (0.030605841715710902, 'V isabela', 'Momo pink'),\n",
       " (0.030605841715710902, 'V isabela', 'Hope pink D'),\n",
       " (0.030605841715710902, 'V isabela', 'CT Pastel Yellow'),\n",
       " (0.030605841715710902, 'T copper patina', 'V isabela'),\n",
       " (0.030605841715710902, 'Robert Oster Australian Opal Blue', 'V isabela'),\n",
       " (0.030553666996660456, 'R honey bee', 'Sailor pink'),\n",
       " (0.030527846676904058, 'T milky ocean', 'Sailor pink'),\n",
       " (0.030457726080980241, 'Mv topaz', 'Hope pink D'),\n",
       " (0.030393196890673768, 'Pink gazelle', 'T milky ocean'),\n",
       " (0.030354992641498602, 'Mv topaz', 'Sailor pink'),\n",
       " (0.030347549869326973, 'Pink gazelle', 'Robert Oster Australian Opal Blue'),\n",
       " (0.030228563518070406, 'R honey bee', 'Momo pink'),\n",
       " (0.030197527027027604, 'Pink gazelle', 'Hope pink D'),\n",
       " (0.030182004011122643, 'Purple jade rabbit', 'T milky ocean'),\n",
       " (0.030166769071245936, 'Purple jade rabbit', 'Hope pink D'),\n",
       " (0.030162391417971335, 'R honey bee', 'T copper patina'),\n",
       " (0.030128954747905778, 'Mv topaz', 'Momo pink'),\n",
       " (0.030109769723881352, 'Momo pink', 'Sailor pink'),\n",
       " (0.030067516384490789,\n",
       "  'T copper patina',\n",
       "  'Robert Oster Australian Opal Blue'),\n",
       " (0.03004081645473955, 'Mg turquoise', 'T milky ocean'),\n",
       " (0.030032829874636846, 'F electric pink', 'Sailor pink'),\n",
       " (0.029923095825309221, 'Mv topaz', 'CT Pastel Yellow'),\n",
       " (0.029914769687802323, 'T copper patina', 'Mv topaz'),\n",
       " (0.029884384012867971, 'Momo pink', 'F electric pink'),\n",
       " (0.029761158655748632, 'R honey bee', 'Robert Oster Australian Opal Blue'),\n",
       " (0.029724975673285525, 'Robert Oster Australian Opal Blue', 'Mg turquoise'),\n",
       " (0.029724924141803111, 'R honey bee', 'F electric pink'),\n",
       " (0.02969690537703451, 'FWP sparkling champagne', 'T milky ocean'),\n",
       " (0.02954998877342413,\n",
       "  'Purple jade rabbit',\n",
       "  'Robert Oster Australian Opal Blue'),\n",
       " (0.029512521282472226, 'Mg turquoise', 'Momo pink'),\n",
       " (0.029499323261861166, 'Pink gazelle', 'Sailor pink'),\n",
       " (0.029381479443953529, 'Hope pink D', 'F electric pink'),\n",
       " (0.029347530613895112, 'FWP sparkling champagne', 'Momo pink'),\n",
       " (0.029320984075421164, 'R honey bee', 'Hope pink D'),\n",
       " (0.029255835264561159, 'Pink gazelle', 'F electric pink'),\n",
       " (0.02921065226589159, 'R honey bee', 'T milky ocean'),\n",
       " (0.029191476241795522, 'Purple jade rabbit', 'Sailor pink'),\n",
       " (0.029157526665013644, 'Hope pink D', 'CT Pastel Yellow'),\n",
       " (0.029151471999539214, 'Momo pink', 'CT Pastel Yellow'),\n",
       " (0.029129469601272606, 'FWP sparkling champagne', 'Hope pink D'),\n",
       " (0.029125968440292971, 'Purple jade rabbit', 'Pink gazelle'),\n",
       " (0.029095866478881571, 'W dracula', 'Sailor pink'),\n",
       " (0.0290952921593714, 'T copper patina', 'CT Pastel Yellow'),\n",
       " (0.028976696200102736,\n",
       "  'Robert Oster Australian Opal Blue',\n",
       "  'F electric pink'),\n",
       " (0.02896742049427925, 'Momo pink', 'Hope pink D'),\n",
       " (0.028956702277019852, 'W dracula', 'CT Pastel Yellow'),\n",
       " (0.028956702277019852,\n",
       "  'Robert Oster Australian Opal Blue',\n",
       "  'CT Pastel Yellow'),\n",
       " (0.028956702277019852, 'R honey bee', 'CT Pastel Yellow'),\n",
       " (0.028956702277019852, 'Purple jade rabbit', 'CT Pastel Yellow'),\n",
       " (0.028956702277019852, 'Pink gazelle', 'CT Pastel Yellow'),\n",
       " (0.028956702277019852, 'FWP sparkling champagne', 'CT Pastel Yellow'),\n",
       " (0.028956702277019852, 'CT Pastel Yellow', 'T milky ocean'),\n",
       " (0.028956702277019852, 'CT Pastel Yellow', 'Sailor pink'),\n",
       " (0.028956702277019852, 'CT Pastel Yellow', 'F electric pink'),\n",
       " (0.02893768134058089, 'Mv topaz', 'Mg turquoise'),\n",
       " (0.028910397032803403, 'W dracula', 'Mg turquoise'),\n",
       " (0.028878481015318369, 'R honey bee', 'Pink gazelle'),\n",
       " (0.028811571807544012, 'Purple jade rabbit', 'Mv topaz'),\n",
       " (0.028785923725905438, 'Pink gazelle', 'Momo pink'),\n",
       " (0.028759152858426618, 'R honey bee', 'Mv topaz'),\n",
       " (0.028758682880628161, 'FWP sparkling champagne', 'Pink gazelle'),\n",
       " (0.028714976521791336, 'FWP sparkling champagne', 'Mv topaz'),\n",
       " (0.028705162822392383, 'F electric pink', 'T milky ocean'),\n",
       " (0.028527898741164737, 'R honey bee', 'FWP sparkling champagne'),\n",
       " (0.0284880820256041, 'W dracula', 'FWP sparkling champagne'),\n",
       " (0.028397164734834002, 'Purple jade rabbit', 'Mg turquoise'),\n",
       " (0.028339094466764803, 'W dracula', 'Robert Oster Australian Opal Blue'),\n",
       " (0.028189967861873666, 'T copper patina', 'Hope pink D'),\n",
       " (0.028027750922564987, 'Purple jade rabbit', 'T copper patina'),\n",
       " (0.027946814418064625, 'Purple jade rabbit', 'F electric pink'),\n",
       " (0.027939642208906934, 'T copper patina', 'F electric pink'),\n",
       " (0.027878147091442596, 'Purple jade rabbit', 'FWP sparkling champagne'),\n",
       " (0.027829052691375089, 'R honey bee', 'W dracula'),\n",
       " (0.02782626839003649, 'FWP sparkling champagne', 'Mg turquoise'),\n",
       " (0.027761486135464863, 'FWP sparkling champagne', 'F electric pink'),\n",
       " (0.027683133950937411, 'W dracula', 'Hope pink D'),\n",
       " (0.027538681701705259, 'Purple jade rabbit', 'R honey bee'),\n",
       " (0.027479749018957667, 'Mv topaz', 'F electric pink'),\n",
       " (0.027421481041757512, 'W dracula', 'Mv topaz'),\n",
       " (0.027415425903090318, 'Hope pink D', 'Sailor pink'),\n",
       " (0.027408270579221961, 'W dracula', 'F electric pink'),\n",
       " (0.027175500367900618, 'W dracula', 'T milky ocean'),\n",
       " (0.027100503056196157, 'T copper patina', 'T milky ocean'),\n",
       " (0.026841599703014862, 'Purple jade rabbit', 'W dracula'),\n",
       " (0.026770765203768698, 'W dracula', 'T copper patina'),\n",
       " (0.026770765203768698, 'W dracula', 'Pink gazelle')]"
      ]
     },
     "execution_count": 31,
     "metadata": {},
     "output_type": "execute_result"
    }
   ],
   "source": [
    "spot_candidates"
   ]
  },
  {
   "cell_type": "code",
   "execution_count": 35,
   "id": "e0fd394c",
   "metadata": {},
   "outputs": [
    {
     "name": "stdout",
     "output_type": "stream",
     "text": [
      "0.0365483486029 FWP sparkling champagne V isabela\n",
      "0.0361351164801 Mv topaz V isabela\n",
      "0.0345431644838 Pink gazelle V isabela\n",
      "0.0346926503793 FWP sparkling champagne V maskara \n",
      "0.0341079118026 Mv topaz T milky ocean\n",
      "0.035336365745 Purple jade rabbit V isabela\n",
      "0.0343476577787 V maskara  Mv topaz\n",
      "0.0348217173225 V isabela Mg turquoise\n",
      "0.035336365745 Purple jade rabbit V maskara \n",
      "0.0348558960994 R honey bee Mg turquoise\n"
     ]
    }
   ],
   "source": [
    "for _, name1, name2 in spot_candidates[:10]:\n",
    "    cpvyjk = best_cpvy + [all_inks[name1], all_inks[name2]]\n",
    "    gamut = InkGamut(cpvyjk, paper=paper, illuminant=d65)\n",
    "    width = gamut.get_width(tetrachromat_d65, stepsize=0.1, verbose=False)\n",
    "\n",
    "    print(width, name1, name2)"
   ]
  },
  {
   "cell_type": "code",
   "execution_count": null,
   "id": "6f8e2391",
   "metadata": {},
   "outputs": [
    {
     "name": "stderr",
     "output_type": "stream",
     "text": [
      "Generating point cloud:   3%|▍               | 2392236/85766121 [00:38<22:04, 62936.98it/s]"
     ]
    }
   ],
   "source": [
    "for _, name1, name2 in [spot_candidates[0], spot_candidates[0], spot_candidates[5], spot_candidates[8]]:\n",
    "    cpvyjk = best_cpvy + [all_inks[name1], all_inks[name2]]\n",
    "    gamut = InkGamut(cpvyjk, paper=paper, illuminant=d65)\n",
    "    width = gamut.get_width(tetrachromat_d65, stepsize=0.05, verbose=True)\n",
    "\n",
    "    print(width, name1, name2)"
   ]
  },
  {
   "cell_type": "code",
   "execution_count": null,
   "id": "c7be083b",
   "metadata": {},
   "outputs": [],
   "source": []
  }
 ],
 "metadata": {
  "kernelspec": {
   "display_name": "mixing",
   "language": "python",
   "name": "mixing"
  },
  "language_info": {
   "codemirror_mode": {
    "name": "ipython",
    "version": 3
   },
   "file_extension": ".py",
   "mimetype": "text/x-python",
   "name": "python",
   "nbconvert_exporter": "python",
   "pygments_lexer": "ipython3",
   "version": "3.11.6"
  },
  "toc": {
   "base_numbering": 1,
   "nav_menu": {},
   "number_sections": true,
   "sideBar": true,
   "skip_h1_title": false,
   "title_cell": "Table of Contents",
   "title_sidebar": "Contents",
   "toc_cell": false,
   "toc_position": {
    "height": "calc(100% - 180px)",
    "left": "10px",
    "top": "150px",
    "width": "345.594px"
   },
   "toc_section_display": true,
   "toc_window_display": true
  }
 },
 "nbformat": 4,
 "nbformat_minor": 5
}

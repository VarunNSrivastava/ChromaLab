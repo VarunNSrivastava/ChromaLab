{
 "cells": [
  {
   "cell_type": "code",
   "execution_count": 1,
   "id": "8226a943",
   "metadata": {},
   "outputs": [],
   "source": [
    "import csv\n",
    "import numpy as np\n",
    "import matplotlib.pyplot as plt\n",
    "import numpy.typing as npt\n",
    "import torch as th"
   ]
  },
  {
   "cell_type": "code",
   "execution_count": 2,
   "id": "531f29e2",
   "metadata": {},
   "outputs": [],
   "source": [
    "from tqdm.notebook import tqdm"
   ]
  },
  {
   "cell_type": "code",
   "execution_count": 3,
   "id": "9fab681d",
   "metadata": {},
   "outputs": [],
   "source": [
    "from chromalab.observer import Observer, Cone\n",
    "from chromalab.inks import Neugebauer, InkGamut, CellNeugebauer, Pigment, InkLibrary\n",
    "from chromalab.spectra import Spectra, Illuminant"
   ]
  },
  {
   "cell_type": "code",
   "execution_count": 4,
   "id": "8b0ac66c",
   "metadata": {},
   "outputs": [],
   "source": [
    "wavelengths1 = np.arange(390, 701, 1)\n",
    "wavelengths10 = np.arange(400, 701, 10)"
   ]
  },
  {
   "cell_type": "code",
   "execution_count": 5,
   "id": "9f9fa038",
   "metadata": {},
   "outputs": [],
   "source": [
    "wavelengths4 = np.arange(380, 781, 4)"
   ]
  },
  {
   "cell_type": "code",
   "execution_count": 6,
   "id": "d8adcc0d",
   "metadata": {},
   "outputs": [],
   "source": [
    "%load_ext autoreload\n",
    "%autoreload 2"
   ]
  },
  {
   "cell_type": "code",
   "execution_count": 7,
   "id": "27f522e6",
   "metadata": {},
   "outputs": [],
   "source": [
    "elevator_illuminant = Spectra(data=np.load(f'../data/illuminants/elevator.npy'),wavelengths=wavelengths4)\\\n",
    ".interpolate_values(wavelengths10)"
   ]
  },
  {
   "cell_type": "code",
   "execution_count": 8,
   "id": "021367f2",
   "metadata": {},
   "outputs": [
    {
     "data": {
      "text/plain": [
       "(31,)"
      ]
     },
     "execution_count": 8,
     "metadata": {},
     "output_type": "execute_result"
    }
   ],
   "source": [
    "elevator_illuminant.data.shape"
   ]
  },
  {
   "cell_type": "code",
   "execution_count": 12,
   "id": "76ccb460",
   "metadata": {},
   "outputs": [
    {
     "data": {
      "text/plain": [
       "(31,)"
      ]
     },
     "execution_count": 12,
     "metadata": {},
     "output_type": "execute_result"
    }
   ],
   "source": [
    "metamers['E-out'].data.shape"
   ]
  },
  {
   "cell_type": "code",
   "execution_count": 13,
   "id": "6dc223fa",
   "metadata": {},
   "outputs": [],
   "source": [
    "trichromat = Observer.trichromat()\n",
    "tetrachromat = Observer.tetrachromat()"
   ]
  },
  {
   "cell_type": "code",
   "execution_count": 14,
   "id": "e7e5cc32",
   "metadata": {},
   "outputs": [],
   "source": [
    "s_m530_m533_q545_q547_l555_559 = Observer([Cone.s_cone(), Cone.cone(530), Cone.cone(533),\\\n",
    "                                           Cone.cone(545), Cone.cone(547), Cone.cone(555), Cone.cone(559)],\n",
    "                                         illuminant=elevator_illuminant)"
   ]
  },
  {
   "cell_type": "code",
   "execution_count": 15,
   "id": "ea54fde5",
   "metadata": {},
   "outputs": [],
   "source": [
    "q47 = Cone.cone(547)"
   ]
  },
  {
   "cell_type": "code",
   "execution_count": 16,
   "id": "55d0aed7",
   "metadata": {},
   "outputs": [],
   "source": [
    "q45 = Cone.cone(545)"
   ]
  },
  {
   "cell_type": "code",
   "execution_count": 17,
   "id": "753928b6",
   "metadata": {},
   "outputs": [],
   "source": [
    "tetrachromat_q45_elevator = Observer([Cone.s_cone(), Cone.m_cone(), q45, Cone.l_cone()], illuminant=elevator_illuminant)"
   ]
  },
  {
   "cell_type": "code",
   "execution_count": 18,
   "id": "b62443a3",
   "metadata": {},
   "outputs": [],
   "source": [
    "tetrachromat_q47_elevator = Observer([Cone.s_cone(), Cone.m_cone(), q47, Cone.l_cone()], illuminant=elevator_illuminant)"
   ]
  },
  {
   "cell_type": "code",
   "execution_count": 19,
   "id": "7122073d",
   "metadata": {},
   "outputs": [],
   "source": [
    "metamers = {}\n",
    "with open(f'../data/nix/26.csv') as csvf:\n",
    "    spamreader = csv.reader(csvf, delimiter=';')\n",
    "    for i, row in enumerate(spamreader):\n",
    "        if i < 4: continue            \n",
    "        name = row[4]\n",
    "        color_data = np.array(row[33:],dtype=float)\n",
    "        spectra = Spectra(data=color_data, wavelengths=wavelengths10)\n",
    "        metamers[name] = spectra"
   ]
  },
  {
   "cell_type": "code",
   "execution_count": 11,
   "id": "d7c12167",
   "metadata": {},
   "outputs": [
    {
     "data": {
      "text/plain": [
       "{'E-out': <chromalab.spectra.Spectra at 0x295a07410>,\n",
       " 'E-in': <chromalab.spectra.Spectra at 0x297698510>,\n",
       " 'L-out': <chromalab.spectra.Spectra at 0x2966febd0>,\n",
       " 'L-in': <chromalab.spectra.Spectra at 0x2975b7290>,\n",
       " 'A-out': <chromalab.spectra.Spectra at 0x29554cc10>,\n",
       " 'A-in': <chromalab.spectra.Spectra at 0x2976a15d0>}"
      ]
     },
     "execution_count": 11,
     "metadata": {},
     "output_type": "execute_result"
    }
   ],
   "source": [
    "metamers"
   ]
  },
  {
   "cell_type": "code",
   "execution_count": null,
   "id": "2fcd6cc7",
   "metadata": {},
   "outputs": [],
   "source": []
  },
  {
   "cell_type": "code",
   "execution_count": null,
   "id": "ab1fb2dc",
   "metadata": {},
   "outputs": [],
   "source": [
    "del tetrachromat_q47"
   ]
  },
  {
   "cell_type": "markdown",
   "id": "84bc831a",
   "metadata": {},
   "source": [
    "# E Plate"
   ]
  },
  {
   "cell_type": "code",
   "execution_count": 20,
   "id": "ddbdba50",
   "metadata": {},
   "outputs": [
    {
     "data": {
      "text/plain": [
       "array([ 0.19455366,  0.29666147,  0.32223962,  0.34531427])"
      ]
     },
     "execution_count": 20,
     "metadata": {},
     "output_type": "execute_result"
    }
   ],
   "source": [
    "tetrachromat_q45_elevator.observe(metamers['E-out'])"
   ]
  },
  {
   "cell_type": "code",
   "execution_count": 21,
   "id": "ee83bf4f",
   "metadata": {},
   "outputs": [
    {
     "data": {
      "text/plain": [
       "array([ 0.25567721,  0.31010955,  0.33950102,  0.35544714])"
      ]
     },
     "execution_count": 21,
     "metadata": {},
     "output_type": "execute_result"
    }
   ],
   "source": [
    "tetrachromat_q45_elevator.observe(metamers['E-in'])"
   ]
  },
  {
   "cell_type": "code",
   "execution_count": null,
   "id": "57834cc0",
   "metadata": {},
   "outputs": [],
   "source": []
  },
  {
   "cell_type": "code",
   "execution_count": null,
   "id": "d7d4feba",
   "metadata": {},
   "outputs": [],
   "source": []
  },
  {
   "cell_type": "code",
   "execution_count": 22,
   "id": "b02006c7",
   "metadata": {},
   "outputs": [
    {
     "data": {
      "text/plain": [
       "array([ 0.19455366,  0.29666147,  0.32565614,  0.34531427])"
      ]
     },
     "execution_count": 22,
     "metadata": {},
     "output_type": "execute_result"
    }
   ],
   "source": [
    "tetrachromat_q47_elevator.observe(metamers['E-out'])"
   ]
  },
  {
   "cell_type": "code",
   "execution_count": 23,
   "id": "06904b04",
   "metadata": {},
   "outputs": [
    {
     "data": {
      "text/plain": [
       "array([ 0.25567721,  0.31010955,  0.34244799,  0.35544714])"
      ]
     },
     "execution_count": 23,
     "metadata": {},
     "output_type": "execute_result"
    }
   ],
   "source": [
    "tetrachromat_q47_elevator.observe(metamers['E-in'])"
   ]
  },
  {
   "cell_type": "code",
   "execution_count": null,
   "id": "e78784af",
   "metadata": {},
   "outputs": [],
   "source": []
  },
  {
   "cell_type": "code",
   "execution_count": 24,
   "id": "3bfa455c",
   "metadata": {},
   "outputs": [
    {
     "data": {
      "text/plain": [
       "array([ 0.19455366,  0.3005003 ,  0.30421215,  0.32223962,  0.32565614,\n",
       "        0.34015589,  0.34777326])"
      ]
     },
     "execution_count": 24,
     "metadata": {},
     "output_type": "execute_result"
    }
   ],
   "source": [
    "s_m530_m533_q545_q547_l555_559.observe(metamers['E-out'])"
   ]
  },
  {
   "cell_type": "code",
   "execution_count": 25,
   "id": "eaaef081",
   "metadata": {},
   "outputs": [
    {
     "data": {
      "text/plain": [
       "array([ 0.25567721,  0.31480737,  0.32012257,  0.33950102,  0.34244799,\n",
       "        0.35351482,  0.35865736])"
      ]
     },
     "execution_count": 25,
     "metadata": {},
     "output_type": "execute_result"
    }
   ],
   "source": [
    "s_m530_m533_q545_q547_l555_559.observe(metamers['E-in'])"
   ]
  },
  {
   "cell_type": "markdown",
   "id": "0e4a1240",
   "metadata": {},
   "source": [
    "# L plate"
   ]
  },
  {
   "cell_type": "code",
   "execution_count": 26,
   "id": "bb7e6d84",
   "metadata": {},
   "outputs": [
    {
     "data": {
      "text/plain": [
       "array([ 0.19290297,  0.2527732 ,  0.27708274,  0.30001846])"
      ]
     },
     "execution_count": 26,
     "metadata": {},
     "output_type": "execute_result"
    }
   ],
   "source": [
    "tetrachromat_q45_elevator.observe(metamers['L-out'])"
   ]
  },
  {
   "cell_type": "code",
   "execution_count": null,
   "id": "593a453c",
   "metadata": {},
   "outputs": [],
   "source": [
    "tetrachromat_q45_elevator.observe(metamers['L-in'])"
   ]
  },
  {
   "cell_type": "code",
   "execution_count": null,
   "id": "9342af5d",
   "metadata": {},
   "outputs": [],
   "source": []
  },
  {
   "cell_type": "code",
   "execution_count": null,
   "id": "78e817b9",
   "metadata": {},
   "outputs": [],
   "source": [
    "tetrachromat_q47_elevator.observe(metamers['L-out'])"
   ]
  },
  {
   "cell_type": "code",
   "execution_count": null,
   "id": "8c9fee47",
   "metadata": {},
   "outputs": [],
   "source": [
    "tetrachromat_q47_elevator.observe(metamers['L-in'])"
   ]
  },
  {
   "cell_type": "code",
   "execution_count": null,
   "id": "670f79e4",
   "metadata": {},
   "outputs": [],
   "source": []
  },
  {
   "cell_type": "code",
   "execution_count": null,
   "id": "216e4272",
   "metadata": {},
   "outputs": [],
   "source": [
    "s_m530_m533_q545_q547_l555_559.observe(metamers['L-out'])"
   ]
  },
  {
   "cell_type": "code",
   "execution_count": null,
   "id": "0bff3c1d",
   "metadata": {},
   "outputs": [],
   "source": [
    "s_m530_m533_q545_q547_l555_559.observe(metamers['L-in'])"
   ]
  },
  {
   "cell_type": "markdown",
   "id": "bbb43488",
   "metadata": {},
   "source": [
    "# A plate"
   ]
  },
  {
   "cell_type": "code",
   "execution_count": null,
   "id": "b29e6abc",
   "metadata": {},
   "outputs": [],
   "source": [
    "tetrachromat_q45_elevator.observe(metamers['A-out'])"
   ]
  },
  {
   "cell_type": "code",
   "execution_count": null,
   "id": "a52f5ebf",
   "metadata": {},
   "outputs": [],
   "source": [
    "tetrachromat_q45_elevator.observe(metamers['A-in'])"
   ]
  },
  {
   "cell_type": "code",
   "execution_count": null,
   "id": "f4151f9b",
   "metadata": {},
   "outputs": [],
   "source": []
  },
  {
   "cell_type": "code",
   "execution_count": null,
   "id": "d20ec947",
   "metadata": {},
   "outputs": [],
   "source": [
    "tetrachromat_q47_elevator.observe(metamers['A-out'])"
   ]
  },
  {
   "cell_type": "code",
   "execution_count": null,
   "id": "5ecb90dc",
   "metadata": {},
   "outputs": [],
   "source": [
    "tetrachromat_q47_elevator.observe(metamers['A-in'])"
   ]
  },
  {
   "cell_type": "code",
   "execution_count": null,
   "id": "e2bfda5c",
   "metadata": {},
   "outputs": [],
   "source": []
  },
  {
   "cell_type": "code",
   "execution_count": null,
   "id": "24e12c98",
   "metadata": {},
   "outputs": [],
   "source": [
    "s_m530_m533_q545_q547_l555_559.observe(metamers['A-out'])"
   ]
  },
  {
   "cell_type": "code",
   "execution_count": null,
   "id": "d6f88f4b",
   "metadata": {},
   "outputs": [],
   "source": [
    "s_m530_m533_q545_q547_l555_559.observe(metamers['A-in'])"
   ]
  },
  {
   "cell_type": "code",
   "execution_count": 29,
   "id": "f3a292e4",
   "metadata": {
    "code_folding": [
     3
    ]
   },
   "outputs": [
    {
     "name": "stderr",
     "output_type": "stream",
     "text": [
      "/Users/varun/Documents/Python/ChromaLab/chromalab/spectra.py:35: UserWarning: Data has values not between 0 and 1. Clipping.\n",
      "  warnings.warn(\"Data has values not between 0 and 1. Clipping.\")\n"
     ]
    }
   ],
   "source": [
    "inks25 = {}\n",
    "with open(f'../data/nix/25Lamy.csv') as csvf:\n",
    "    spamreader = csv.reader(csvf, delimiter=';')\n",
    "    for i, row in enumerate(spamreader):\n",
    "        if i < 4: continue            \n",
    "        name = row[4]\n",
    "        color_data = np.array(row[33:],dtype=float)\n",
    "        spectra = Spectra(data=color_data, wavelengths=wavelengths10)\n",
    "        inks25[name] = spectra\n",
    "        "
   ]
  },
  {
   "cell_type": "code",
   "execution_count": 30,
   "id": "d86cfa03",
   "metadata": {},
   "outputs": [],
   "source": [
    "d65 = Illuminant.get('d65')"
   ]
  },
  {
   "cell_type": "code",
   "execution_count": 31,
   "id": "31950be3",
   "metadata": {},
   "outputs": [],
   "source": [
    "lvtcm = Neugebauer(inks25, n=0.94)"
   ]
  },
  {
   "cell_type": "code",
   "execution_count": 32,
   "id": "3c052616",
   "metadata": {},
   "outputs": [],
   "source": [
    "lvtcm_gamut = InkGamut(lvtcm, illuminant=d65)"
   ]
  },
  {
   "cell_type": "code",
   "execution_count": 33,
   "id": "64c2dcf2",
   "metadata": {},
   "outputs": [],
   "source": [
    "tetrachromat_s_m530_q545_l555 = Observer([Cone.s_cone(), Cone.m_cone(), \\\n",
    "                                          Cone.cone(545), Cone.cone(555)])"
   ]
  },
  {
   "cell_type": "code",
   "execution_count": 34,
   "id": "64ce135a",
   "metadata": {},
   "outputs": [],
   "source": [
    "tetrachromat_s_m530_q545_l559 = Observer([Cone.s_cone(), Cone.m_cone(), \\\n",
    "                                          Cone.cone(545), Cone.cone(559)])"
   ]
  },
  {
   "cell_type": "code",
   "execution_count": 35,
   "id": "98281f33",
   "metadata": {},
   "outputs": [
    {
     "name": "stderr",
     "output_type": "stream",
     "text": [
      "Generating point cloud: 41it [00:10,  3.84it/s]                                                 \n"
     ]
    },
    {
     "name": "stdout",
     "output_type": "stream",
     "text": [
      "Point cloud generated.\n"
     ]
    }
   ],
   "source": [
    "metamers_ser180 = lvtcm_gamut.get_buckets(tetrachromat_s_m530_q545_l559, stepsize=0.05)"
   ]
  },
  {
   "cell_type": "code",
   "execution_count": 36,
   "id": "3b2d94f0",
   "metadata": {},
   "outputs": [
    {
     "name": "stderr",
     "output_type": "stream",
     "text": [
      "Generating point cloud: 41it [00:11,  3.57it/s]                                                 \n"
     ]
    },
    {
     "name": "stdout",
     "output_type": "stream",
     "text": [
      "Point cloud generated.\n"
     ]
    }
   ],
   "source": [
    "metamers_ala180 = lvtcm_gamut.get_buckets(tetrachromat_s_m530_q545_l555, stepsize=0.05)"
   ]
  },
  {
   "cell_type": "code",
   "execution_count": 44,
   "id": "defad0a5",
   "metadata": {},
   "outputs": [
    {
     "name": "stdout",
     "output_type": "stream",
     "text": [
      "[  30.  100.   20.   60.    5.] [ 100.   30.   25.   15.  100.]\n",
      "[ 25.  90.   5.  60.   0.] [ 95.   0.  30.  15.  75.]\n",
      "[ 20.  85.   5.  80.  10.] [  90.    0.   10.   60.  100.]\n",
      "[  15.  100.   10.   85.   25.] [ 100.    5.   75.   65.    5.]\n"
     ]
    }
   ],
   "source": [
    "for _, (p1, p2) in metamers_ala180[:4]:\n",
    "#     print(100*np.array(p1), 100*np.array(p2))\n",
    "    print(100*np.array(p1), 100*np.array(p2))\n"
   ]
  },
  {
   "cell_type": "code",
   "execution_count": 42,
   "id": "0fe3b883",
   "metadata": {},
   "outputs": [
    {
     "name": "stdout",
     "output_type": "stream",
     "text": [
      "[ 75.  75.   0.  35.  15.] [ 100.    5.   45.    5.   10.]\n",
      "[ 75.  70.  10.  40.   0.] [ 100.    0.   15.   10.   75.]\n",
      "[ 75.  70.   5.  70.   0.] [ 100.   10.   25.   55.   40.]\n",
      "[ 75.  70.   0.  35.   0.] [ 100.    0.    5.    0.   75.]\n"
     ]
    }
   ],
   "source": [
    "for _, (p1, p2) in metamers_ser180[:4]:\n",
    "    print(100*np.array(p1), 100*np.array(p2))\n",
    "#     print(list(p1))\n",
    "#     print(list(p2))"
   ]
  },
  {
   "cell_type": "code",
   "execution_count": 43,
   "id": "6c939b00",
   "metadata": {},
   "outputs": [
    {
     "data": {
      "image/png": "[encoded data removed]",
      "text/plain": [
       "<Figure size 640x480 with 1 Axes>"
      ]
     },
     "metadata": {},
     "output_type": "display_data"
    }
   ],
   "source": [
    "lvtcm_gamut.get_spectra(metamers_ala180[0][1][1]).plot()\n",
    "lvtcm_gamut.get_spectra(metamers_ala180[0][1][0]).plot()"
   ]
  },
  {
   "cell_type": "code",
   "execution_count": 46,
   "id": "84fdd329",
   "metadata": {},
   "outputs": [],
   "source": [
    "percentages = np.array(\n",
    "[\n",
    "    [0.25, 0.85000000000000009, 0.0, 0.35000000000000003, 0.0],\n",
    "[0.95000000000000007, 0.15000000000000002, 0.20000000000000001, 0.15000000000000002, 0.30000000000000004],\n",
    "[0.25, 0.80000000000000004, 0.050000000000000003, 0.25, 0.0],\n",
    "[0.95000000000000007, 0.050000000000000003, 0.10000000000000001, 0.0, 0.85000000000000009],\n",
    "[0.25, 0.80000000000000004, 0.0, 0.30000000000000004, 0.0],\n",
    "[1.0, 0.0, 0.25, 0.050000000000000003, 0.35000000000000003],\n",
    "[0.20000000000000001, 0.70000000000000007, 0.0, 0.45000000000000001, 0.20000000000000001],\n",
    "[0.85000000000000009, 0.0, 0.10000000000000001, 0.30000000000000004, 0.95000000000000007],\n",
    "    [0.55000000000000004, 0.55000000000000004, 0.050000000000000003, 0.25, 0.050000000000000003],\n",
    "[0.95000000000000007, 0.10000000000000001, 0.10000000000000001, 0.10000000000000001, 0.5],\n",
    "[0.5, 0.5, 0.0, 0.5, 0.0],\n",
    "[0.95000000000000007, 0.0, 0.20000000000000001, 0.40000000000000002, 0.10000000000000001],\n",
    "[0.45000000000000001, 0.65000000000000002, 0.0, 0.45000000000000001, 0.0],\n",
    "[1.0, 0.10000000000000001, 0.10000000000000001, 0.30000000000000004, 0.40000000000000002],\n",
    "[0.45000000000000001, 0.60000000000000009, 0.0, 0.45000000000000001, 0.0],\n",
    "[1.0, 0.0, 0.25, 0.30000000000000004, 0.050000000000000003]\n",
    "]    \n",
    ")"
   ]
  },
  {
   "cell_type": "code",
   "execution_count": 47,
   "id": "99f9db60",
   "metadata": {},
   "outputs": [
    {
     "data": {
      "text/plain": [
       "array([[ 0.25,  0.85,  0.  ,  0.35,  0.  ],\n",
       "       [ 0.95,  0.15,  0.2 ,  0.15,  0.3 ],\n",
       "       [ 0.25,  0.8 ,  0.05,  0.25,  0.  ],\n",
       "       [ 0.95,  0.05,  0.1 ,  0.  ,  0.85],\n",
       "       [ 0.25,  0.8 ,  0.  ,  0.3 ,  0.  ],\n",
       "       [ 1.  ,  0.  ,  0.25,  0.05,  0.35],\n",
       "       [ 0.2 ,  0.7 ,  0.  ,  0.45,  0.2 ],\n",
       "       [ 0.85,  0.  ,  0.1 ,  0.3 ,  0.95],\n",
       "       [ 0.55,  0.55,  0.05,  0.25,  0.05],\n",
       "       [ 0.95,  0.1 ,  0.1 ,  0.1 ,  0.5 ],\n",
       "       [ 0.5 ,  0.5 ,  0.  ,  0.5 ,  0.  ],\n",
       "       [ 0.95,  0.  ,  0.2 ,  0.4 ,  0.1 ],\n",
       "       [ 0.45,  0.65,  0.  ,  0.45,  0.  ],\n",
       "       [ 1.  ,  0.1 ,  0.1 ,  0.3 ,  0.4 ],\n",
       "       [ 0.45,  0.6 ,  0.  ,  0.45,  0.  ],\n",
       "       [ 1.  ,  0.  ,  0.25,  0.3 ,  0.05]])"
      ]
     },
     "execution_count": 47,
     "metadata": {},
     "output_type": "execute_result"
    }
   ],
   "source": [
    "percentages"
   ]
  },
  {
   "cell_type": "code",
   "execution_count": null,
   "id": "2d8a1bd8",
   "metadata": {},
   "outputs": [],
   "source": [
    "samples = list(bad_ishi.values())"
   ]
  },
  {
   "cell_type": "code",
   "execution_count": null,
   "id": "9760e160",
   "metadata": {},
   "outputs": [],
   "source": [
    "from chromalab.inks import find_best_n"
   ]
  },
  {
   "cell_type": "code",
   "execution_count": null,
   "id": "e9d951a9",
   "metadata": {},
   "outputs": [],
   "source": [
    "avg_n = 0\n",
    "\n",
    "for p, s in zip(percentages, samples):\n",
    "    avg_n += find_best_n(inks25, p, s)\n"
   ]
  },
  {
   "cell_type": "code",
   "execution_count": null,
   "id": "56837cf7",
   "metadata": {},
   "outputs": [],
   "source": [
    "avg_n / len(samples)"
   ]
  },
  {
   "cell_type": "markdown",
   "id": "88173209",
   "metadata": {},
   "source": [
    "best n = 0.94302270409565558"
   ]
  },
  {
   "cell_type": "code",
   "execution_count": null,
   "id": "e2a271a3",
   "metadata": {},
   "outputs": [],
   "source": []
  },
  {
   "cell_type": "code",
   "execution_count": 38,
   "id": "59e6cde7",
   "metadata": {},
   "outputs": [],
   "source": [
    "bad_ishi = {}\n",
    "with open(f'../data/nix/26badishi.csv') as csvf:\n",
    "    spamreader = csv.reader(csvf, delimiter=';')\n",
    "    for i, row in enumerate(spamreader):\n",
    "        if i < 4: continue            \n",
    "        name = row[4]\n",
    "        color_data = np.array(row[33:],dtype=float)\n",
    "        spectra = Spectra(data=color_data, wavelengths=wavelengths10)\n",
    "        bad_ishi[name] = spectra\n",
    "        "
   ]
  },
  {
   "cell_type": "code",
   "execution_count": null,
   "id": "ce3cea87",
   "metadata": {},
   "outputs": [],
   "source": []
  },
  {
   "cell_type": "code",
   "execution_count": 48,
   "id": "6044a28b",
   "metadata": {},
   "outputs": [
    {
     "data": {
      "image/png": "[encoded data removed]",
      "text/plain": [
       "<Figure size 640x480 with 1 Axes>"
      ]
     },
     "metadata": {},
     "output_type": "display_data"
    }
   ],
   "source": [
    "bad_ishi['1out'].plot(color='red')\n",
    "bad_ishi['1in'].plot(color='red')\n",
    "lvtcm_gamut.get_spectra((0.25, 0.85, 0, 0.35, 0)).plot(color='black')\n",
    "lvtcm_gamut.get_spectra([ 0.95,  0.15,  0.2 ,  0.15,  0.3 ]).plot(color='black')"
   ]
  },
  {
   "cell_type": "code",
   "execution_count": 40,
   "id": "c1a13ce7",
   "metadata": {},
   "outputs": [
    {
     "data": {
      "image/png": "[encoded data removed]",
      "text/plain": [
       "<Figure size 640x480 with 1 Axes>"
      ]
     },
     "metadata": {},
     "output_type": "display_data"
    }
   ],
   "source": [
    "bad_ishi['2out'].plot(color='red')\n",
    "bad_ishi['2in'].plot(color='red')\n",
    "lvtcm_gamut.get_spectra(metamers_ala180[1][1][1]).plot(color='black')\n",
    "lvtcm_gamut.get_spectra(metamers_ala180[1][1][0]).plot(color='black')"
   ]
  },
  {
   "cell_type": "code",
   "execution_count": null,
   "id": "22cb8ab4",
   "metadata": {},
   "outputs": [],
   "source": []
  }
 ],
 "metadata": {
  "kernelspec": {
   "display_name": "chromalab",
   "language": "python",
   "name": "chromalab"
  },
  "language_info": {
   "codemirror_mode": {
    "name": "ipython",
    "version": 3
   },
   "file_extension": ".py",
   "mimetype": "text/x-python",
   "name": "python",
   "nbconvert_exporter": "python",
   "pygments_lexer": "ipython3",
   "version": "3.11.6"
  },
  "toc": {
   "base_numbering": 1,
   "nav_menu": {},
   "number_sections": true,
   "sideBar": true,
   "skip_h1_title": false,
   "title_cell": "Table of Contents",
   "title_sidebar": "Contents",
   "toc_cell": false,
   "toc_position": {},
   "toc_section_display": true,
   "toc_window_display": false
  }
 },
 "nbformat": 4,
 "nbformat_minor": 5
}

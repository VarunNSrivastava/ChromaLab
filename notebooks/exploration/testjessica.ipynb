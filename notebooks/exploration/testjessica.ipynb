{
 "cells": [
  {
   "cell_type": "code",
   "execution_count": 1,
   "id": "fba55dda",
   "metadata": {},
   "outputs": [],
   "source": [
    "import numpy as np\n",
    "import matplotlib.pyplot as plt"
   ]
  },
  {
   "cell_type": "code",
   "execution_count": 3,
   "id": "a7a36c2f",
   "metadata": {},
   "outputs": [],
   "source": [
    "ink_spectra_points = np.load(\"ink_spectra_points.npy\")"
   ]
  },
  {
   "cell_type": "code",
   "execution_count": 4,
   "id": "46ea340a",
   "metadata": {},
   "outputs": [
    {
     "data": {
      "text/plain": [
       "(1331, 31)"
      ]
     },
     "execution_count": 4,
     "metadata": {},
     "output_type": "execute_result"
    }
   ],
   "source": [
    "ink_spectra_points.shape"
   ]
  },
  {
   "cell_type": "code",
   "execution_count": 5,
   "id": "86be10c4",
   "metadata": {},
   "outputs": [],
   "source": [
    "tetrachromat_ink_gamut = np.load(\"tetrachromat_ink_gamut.npy\")"
   ]
  },
  {
   "cell_type": "code",
   "execution_count": 6,
   "id": "ab601ef2",
   "metadata": {},
   "outputs": [
    {
     "data": {
      "text/plain": [
       "(1334, 4)"
      ]
     },
     "execution_count": 6,
     "metadata": {},
     "output_type": "execute_result"
    }
   ],
   "source": [
    "tetrachromat_ink_gamut.shape"
   ]
  },
  {
   "cell_type": "code",
   "execution_count": 8,
   "id": "4be33647",
   "metadata": {},
   "outputs": [
    {
     "name": "stdout",
     "output_type": "stream",
     "text": [
      "[[0.86679532 0.85748026 0.85409703 0.85513736]\n",
      " [0.83493805 0.84860348 0.84801181 0.84972018]\n",
      " [0.8490446  0.83000849 0.82905767 0.83297054]\n",
      " [0.85485178 0.83266103 0.82654045 0.82675362]]\n"
     ]
    }
   ],
   "source": [
    "magnitudes = np.linalg.norm(tetrachromat_ink_gamut, axis=1)\n",
    "\n",
    "# Get the indices of the four largest magnitudes\n",
    "max_indices = magnitudes.argsort()[-4:][::-1]\n",
    "\n",
    "# Extract the four points with the largest magnitudes\n",
    "max_points = tetrachromat_ink_gamut[max_indices]\n",
    "\n",
    "print(max_points)"
   ]
  },
  {
   "cell_type": "code",
   "execution_count": null,
   "id": "125334ab",
   "metadata": {},
   "outputs": [],
   "source": []
  }
 ],
 "metadata": {
  "kernelspec": {
   "display_name": "Python 3 (ipykernel)",
   "language": "python",
   "name": "python3"
  },
  "language_info": {
   "codemirror_mode": {
    "name": "ipython",
    "version": 3
   },
   "file_extension": ".py",
   "mimetype": "text/x-python",
   "name": "python",
   "nbconvert_exporter": "python",
   "pygments_lexer": "ipython3",
   "version": "3.11.6"
  },
  "toc": {
   "base_numbering": 1,
   "nav_menu": {},
   "number_sections": true,
   "sideBar": true,
   "skip_h1_title": false,
   "title_cell": "Table of Contents",
   "title_sidebar": "Contents",
   "toc_cell": false,
   "toc_position": {},
   "toc_section_display": true,
   "toc_window_display": false
  }
 },
 "nbformat": 4,
 "nbformat_minor": 5
}

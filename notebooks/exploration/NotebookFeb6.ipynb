{
 "cells": [
  {
   "cell_type": "code",
   "execution_count": 1,
   "id": "c8afc075",
   "metadata": {},
   "outputs": [],
   "source": [
    "import csv\n",
    "import numpy as np\n",
    "import matplotlib.pyplot as plt\n",
    "import numpy.typing as npt\n",
    "import torch as th"
   ]
  },
  {
   "cell_type": "code",
   "execution_count": 2,
   "id": "6ab78b72",
   "metadata": {},
   "outputs": [],
   "source": [
    "wavelengths1 = np.arange(390, 701, 1)\n",
    "wavelengths10 = np.arange(400, 701, 10)"
   ]
  },
  {
   "cell_type": "code",
   "execution_count": 3,
   "id": "0dda8790",
   "metadata": {},
   "outputs": [],
   "source": [
    "from chromalab.observer import Observer, Cone\n",
    "from chromalab.inks import Neugebauer, InkGamut, CellNeugebauer, Pigment\n",
    "from chromalab.spectra import Spectra, Illuminant"
   ]
  },
  {
   "cell_type": "code",
   "execution_count": 4,
   "id": "17073436",
   "metadata": {},
   "outputs": [],
   "source": [
    "from tqdm.notebook import tqdm"
   ]
  },
  {
   "cell_type": "markdown",
   "id": "f747d5b2",
   "metadata": {},
   "source": [
    "## Load inks"
   ]
  },
  {
   "cell_type": "code",
   "execution_count": 5,
   "id": "77445aa2",
   "metadata": {},
   "outputs": [],
   "source": [
    "%load_ext autoreload\n",
    "%autoreload 2"
   ]
  },
  {
   "cell_type": "code",
   "execution_count": 6,
   "id": "acfd4950",
   "metadata": {},
   "outputs": [],
   "source": [
    "cijk = {}\n",
    "with open(f'../data/nix/010624.csv') as csvf:\n",
    "    spamreader = csv.reader(csvf, delimiter=';')\n",
    "    for i, row in enumerate(spamreader):\n",
    "        if i < 4: continue\n",
    "        if row[2] != \"CIJK\": continue\n",
    "            \n",
    "        name = row[4]\n",
    "        color_data = np.array(row[33:],dtype=float)\n",
    "        spectra = Spectra(data=color_data, wavelengths=wavelengths10)\n",
    "\n",
    "        cijk[name] = spectra"
   ]
  },
  {
   "cell_type": "code",
   "execution_count": 7,
   "id": "cac6a92b",
   "metadata": {},
   "outputs": [],
   "source": [
    "d65 = Illuminant.get(\"D65\")"
   ]
  },
  {
   "cell_type": "code",
   "execution_count": 8,
   "id": "2e098514",
   "metadata": {},
   "outputs": [],
   "source": [
    "tetrachromat_d65 = Observer.tetrachromat(illuminant=d65)"
   ]
  },
  {
   "cell_type": "code",
   "execution_count": 9,
   "id": "9c570e3b",
   "metadata": {},
   "outputs": [
    {
     "name": "stderr",
     "output_type": "stream",
     "text": [
      "/Users/varun/Documents/Python/ChromaLab/chromalab/spectra.py:35: UserWarning: Data has values not between 0 and 1. Clipping.\n",
      "  warnings.warn(\"Data has values not between 0 and 1. Clipping.\")\n"
     ]
    }
   ],
   "source": [
    "all_inks = {}\n",
    "with open(f'../data/nix/02022024.csv') as csvf:\n",
    "    spamreader = csv.reader(csvf, delimiter=';')\n",
    "    for i, row in enumerate(spamreader):\n",
    "        if i < 4: continue            \n",
    "        name = row[4]\n",
    "        color_data = np.array(row[33:],dtype=float)\n",
    "        spectra = Spectra(data=color_data, wavelengths=wavelengths10)\n",
    "\n",
    "        all_inks[name] = spectra\n",
    "        \n",
    "with open(f'../data/nix/011624.csv') as csvf:\n",
    "    spamreader = csv.reader(csvf, delimiter=';')\n",
    "    for i, row in enumerate(spamreader):\n",
    "        if i < 4: continue            \n",
    "        name = row[4]\n",
    "        color_data = np.array(row[33:],dtype=float)\n",
    "        try:\n",
    "            spectra = Spectra(data=color_data, wavelengths=wavelengths10)\n",
    "        except ValueError:\n",
    "            continue\n",
    "\n",
    "        all_inks[name] = spectra\n",
    "        \n",
    "        \n",
    "with open(f'../data/nix/Inks_all.csv') as csvf:\n",
    "    spamreader = csv.reader(csvf, delimiter=';')\n",
    "    for i, row in enumerate(spamreader):\n",
    "        if i < 4: continue            \n",
    "        name = row[4]\n",
    "        color_data = np.array(row[33:],dtype=float)\n",
    "        spectra = Spectra(data=color_data, wavelengths=wavelengths10)\n",
    "\n",
    "        all_inks[name] = spectra"
   ]
  },
  {
   "cell_type": "code",
   "execution_count": 10,
   "id": "52bd40e5",
   "metadata": {},
   "outputs": [],
   "source": [
    "all_inks[\"Epson C\"] = cijk[\"2000\"]"
   ]
  },
  {
   "cell_type": "code",
   "execution_count": 11,
   "id": "62591a24",
   "metadata": {},
   "outputs": [],
   "source": [
    "paper = cijk[\"0000\"]"
   ]
  },
  {
   "cell_type": "code",
   "execution_count": 12,
   "id": "b39ab81a",
   "metadata": {},
   "outputs": [
    {
     "data": {
      "text/plain": [
       "149"
      ]
     },
     "execution_count": 12,
     "metadata": {},
     "output_type": "execute_result"
    }
   ],
   "source": [
    "len(all_inks)"
   ]
  },
  {
   "cell_type": "markdown",
   "id": "aeb68461",
   "metadata": {},
   "source": [
    "## previous q spread"
   ]
  },
  {
   "cell_type": "code",
   "execution_count": 13,
   "id": "3fb9bc13",
   "metadata": {},
   "outputs": [],
   "source": [
    "cijk_list = [all_inks[\"Epson C\"], all_inks[\"Peach haze D\"],  all_inks[\"Platinum violet\"], all_inks[\"Operation overlord orange N\"]]\n",
    "cijk_gamut = InkGamut(cijk_list, paper=paper, illuminant=d65)"
   ]
  },
  {
   "cell_type": "code",
   "execution_count": 44,
   "id": "45536494",
   "metadata": {},
   "outputs": [],
   "source": [
    "from sklearn.decomposition import PCA\n",
    "pca3 = PCA(n_components=3)\n",
    "pca4 = PCA(n_components=4)"
   ]
  },
  {
   "cell_type": "code",
   "execution_count": 40,
   "id": "b500185c",
   "metadata": {},
   "outputs": [
    {
     "name": "stderr",
     "output_type": "stream",
     "text": [
      "Generating point cloud: 1it [00:00, 25.09it/s]\n"
     ]
    }
   ],
   "source": [
    "cijk_points, _ =cijk_gamut.get_point_cloud(tetrachromat_d65)"
   ]
  },
  {
   "cell_type": "code",
   "execution_count": 45,
   "id": "779df69e",
   "metadata": {},
   "outputs": [
    {
     "data": {
      "text/plain": [
       "array([ 0.10494273,  0.08536831,  0.01684877])"
      ]
     },
     "execution_count": 45,
     "metadata": {},
     "output_type": "execute_result"
    }
   ],
   "source": [
    "pca3.fit(cijk_points)\n",
    "np.sqrt(pca3.explained_variance_)"
   ]
  },
  {
   "cell_type": "code",
   "execution_count": 46,
   "id": "b3ca0d31",
   "metadata": {},
   "outputs": [
    {
     "data": {
      "text/plain": [
       "array([ 0.10494273,  0.08536831,  0.01684877,  0.00094397])"
      ]
     },
     "execution_count": 46,
     "metadata": {},
     "output_type": "execute_result"
    }
   ],
   "source": [
    "pca4.fit(cijk_points)\n",
    "np.sqrt(pca4.explained_variance_)"
   ]
  },
  {
   "cell_type": "code",
   "execution_count": 31,
   "id": "550f5503",
   "metadata": {},
   "outputs": [],
   "source": [
    "m1 = cijk_gamut.get_spectra((0.05, 0, 0.85, 0.85))\n",
    "m2 = cijk_gamut.get_spectra((0.4, 0.75, 0.05, 0.05))"
   ]
  },
  {
   "cell_type": "code",
   "execution_count": 35,
   "id": "ebfbd16a",
   "metadata": {},
   "outputs": [
    {
     "data": {
      "text/plain": [
       "array([ 0.28911962,  0.27740243,  0.3166211 ,  0.34557817])"
      ]
     },
     "execution_count": 35,
     "metadata": {},
     "output_type": "execute_result"
    }
   ],
   "source": [
    "tetrachromat_d65.observe(m1) "
   ]
  },
  {
   "cell_type": "code",
   "execution_count": 38,
   "id": "abd3923d",
   "metadata": {},
   "outputs": [
    {
     "data": {
      "text/plain": [
       "(28, 28, 32)"
      ]
     },
     "execution_count": 38,
     "metadata": {},
     "output_type": "execute_result"
    }
   ],
   "source": [
    "point = tetrachromat_d65.observe(m1) \n",
    "tuple(int(100*round(p,2))for i, p in enumerate(point) if i != 3)"
   ]
  },
  {
   "cell_type": "code",
   "execution_count": 39,
   "id": "f7fad3a0",
   "metadata": {},
   "outputs": [
    {
     "data": {
      "text/plain": [
       "(27, 28, 33)"
      ]
     },
     "execution_count": 39,
     "metadata": {},
     "output_type": "execute_result"
    }
   ],
   "source": [
    "point = tetrachromat_d65.observe(m2) \n",
    "tuple(int(100*round(p,2))for i, p in enumerate(point) if i != 3)"
   ]
  },
  {
   "cell_type": "code",
   "execution_count": 36,
   "id": "9231fa4f",
   "metadata": {},
   "outputs": [
    {
     "data": {
      "text/plain": [
       "array([ 0.27474368,  0.29321296,  0.33350118,  0.35380439])"
      ]
     },
     "execution_count": 36,
     "metadata": {},
     "output_type": "execute_result"
    }
   ],
   "source": [
    "tetrachromat_d65.observe(m2)"
   ]
  },
  {
   "cell_type": "code",
   "execution_count": 22,
   "id": "4f7b3de9",
   "metadata": {},
   "outputs": [
    {
     "name": "stderr",
     "output_type": "stream",
     "text": [
      "Generating point cloud: 2it [00:00,  6.84it/s]                                                                                                                                                "
     ]
    },
    {
     "name": "stdout",
     "output_type": "stream",
     "text": [
      "CPU times: user 499 ms, sys: 1.12 s, total: 1.62 s\n",
      "Wall time: 298 ms\n"
     ]
    },
    {
     "name": "stderr",
     "output_type": "stream",
     "text": [
      "\n"
     ]
    },
    {
     "data": {
      "text/plain": [
       "(194481, 4)"
      ]
     },
     "execution_count": 22,
     "metadata": {},
     "output_type": "execute_result"
    }
   ],
   "source": [
    "%time cijk_gamut.get_point_cloud(tetrachromat_d65, stepsize=0.05)[0].shape"
   ]
  },
  {
   "cell_type": "code",
   "execution_count": 21,
   "id": "d6c60cda",
   "metadata": {},
   "outputs": [
    {
     "name": "stderr",
     "output_type": "stream",
     "text": [
      "Generating point cloud: 68it [00:11,  5.73it/s]                                                                                                                                               \n"
     ]
    },
    {
     "name": "stdout",
     "output_type": "stream",
     "text": [
      "Point cloud generated.\n",
      "maximum distance is 0.021743220618915315 with percentages (0.68000000000000005, 0.040000000000000001, 0.64000000000000001, 0.44) and (0.64000000000000001, 0.46000000000000002, 0.14000000000000001, 0.02)\n"
     ]
    },
    {
     "data": {
      "text/plain": [
       "0.021743220618915315"
      ]
     },
     "execution_count": 21,
     "metadata": {},
     "output_type": "execute_result"
    }
   ],
   "source": [
    "cijk_gamut.get_width(tetrachromat_d65, stepsize=0.02)"
   ]
  },
  {
   "cell_type": "code",
   "execution_count": 15,
   "id": "6b779de5",
   "metadata": {},
   "outputs": [
    {
     "name": "stderr",
     "output_type": "stream",
     "text": [
      "Generating point cloud:   0%|                                                                                                                                     | 0/1.94481 [00:00<?, ?it/s]\n"
     ]
    },
    {
     "ename": "TypeError",
     "evalue": "unhashable type: 'numpy.ndarray'",
     "output_type": "error",
     "traceback": [
      "\u001b[0;31m---------------------------------------------------------------------------\u001b[0m",
      "\u001b[0;31mTypeError\u001b[0m                                 Traceback (most recent call last)",
      "Cell \u001b[0;32mIn[15], line 2\u001b[0m\n\u001b[1;32m      1\u001b[0m cell_ijk \u001b[38;5;241m=\u001b[39m InkGamut(CellNeugebauer(cijk), illuminant\u001b[38;5;241m=\u001b[39md65)\n\u001b[0;32m----> 2\u001b[0m cell_ijk\u001b[38;5;241m.\u001b[39mget_width(tetrachromat_d65, stepsize\u001b[38;5;241m=\u001b[39m\u001b[38;5;241m0.05\u001b[39m)\n",
      "File \u001b[0;32m~/Documents/Python/ChromaLab/chromalab/inks.py:463\u001b[0m, in \u001b[0;36mInkGamut.get_width\u001b[0;34m(self, observe, axis, stepsize, verbose, save, refined)\u001b[0m\n\u001b[1;32m    461\u001b[0m \u001b[38;5;28;01mdef\u001b[39;00m \u001b[38;5;21mget_width\u001b[39m(\u001b[38;5;28mself\u001b[39m, observe: Union[Observer, npt\u001b[38;5;241m.\u001b[39mNDArray],\n\u001b[1;32m    462\u001b[0m               axis\u001b[38;5;241m=\u001b[39m\u001b[38;5;241m2\u001b[39m, stepsize\u001b[38;5;241m=\u001b[39m\u001b[38;5;241m0.1\u001b[39m, verbose\u001b[38;5;241m=\u001b[39m\u001b[38;5;28;01mTrue\u001b[39;00m, save\u001b[38;5;241m=\u001b[39m\u001b[38;5;28;01mFalse\u001b[39;00m, refined\u001b[38;5;241m=\u001b[39m\u001b[38;5;28;01mFalse\u001b[39;00m):\n\u001b[0;32m--> 463\u001b[0m     percentages \u001b[38;5;241m=\u001b[39m \u001b[38;5;28mself\u001b[39m\u001b[38;5;241m.\u001b[39mget_buckets(observe, axis\u001b[38;5;241m=\u001b[39maxis, stepsize\u001b[38;5;241m=\u001b[39mstepsize, verbose\u001b[38;5;241m=\u001b[39mverbose, save\u001b[38;5;241m=\u001b[39msave, refined\u001b[38;5;241m=\u001b[39mrefined)\n\u001b[1;32m    465\u001b[0m     dst, (pi, pj) \u001b[38;5;241m=\u001b[39m percentages[\u001b[38;5;241m0\u001b[39m]\n\u001b[1;32m    467\u001b[0m     \u001b[38;5;28;01mif\u001b[39;00m verbose:\n",
      "File \u001b[0;32m~/Documents/Python/ChromaLab/chromalab/inks.py:436\u001b[0m, in \u001b[0;36mInkGamut.get_buckets\u001b[0;34m(self, observe, axis, stepsize, verbose, save, refined)\u001b[0m\n\u001b[1;32m    434\u001b[0m \u001b[38;5;28;01mdef\u001b[39;00m \u001b[38;5;21mget_buckets\u001b[39m(\u001b[38;5;28mself\u001b[39m, observe: Union[Observer, npt\u001b[38;5;241m.\u001b[39mNDArray],\n\u001b[1;32m    435\u001b[0m               axis\u001b[38;5;241m=\u001b[39m\u001b[38;5;241m2\u001b[39m, stepsize\u001b[38;5;241m=\u001b[39m\u001b[38;5;241m0.1\u001b[39m, verbose\u001b[38;5;241m=\u001b[39m\u001b[38;5;28;01mTrue\u001b[39;00m, save\u001b[38;5;241m=\u001b[39m\u001b[38;5;28;01mFalse\u001b[39;00m, refined\u001b[38;5;241m=\u001b[39m\u001b[38;5;241m0\u001b[39m):\n\u001b[0;32m--> 436\u001b[0m     point_cloud, percentages \u001b[38;5;241m=\u001b[39m \u001b[38;5;28mself\u001b[39m\u001b[38;5;241m.\u001b[39mget_point_cloud(observe, stepsize, verbose\u001b[38;5;241m=\u001b[39mverbose)\n\u001b[1;32m    437\u001b[0m     \u001b[38;5;28;01mif\u001b[39;00m verbose: \u001b[38;5;28mprint\u001b[39m(\u001b[38;5;124m\"\u001b[39m\u001b[38;5;124mPoint cloud generated.\u001b[39m\u001b[38;5;124m\"\u001b[39m)\n\u001b[1;32m    439\u001b[0m     \u001b[38;5;28;01mif\u001b[39;00m save:\n",
      "File \u001b[0;32m~/Documents/Python/ChromaLab/chromalab/inks.py:424\u001b[0m, in \u001b[0;36mInkGamut.get_point_cloud\u001b[0;34m(self, observe, stepsize, grid, verbose, batch_size)\u001b[0m\n\u001b[1;32m    421\u001b[0m \u001b[38;5;28;01mif\u001b[39;00m valid_percentages\u001b[38;5;241m.\u001b[39msize \u001b[38;5;241m==\u001b[39m \u001b[38;5;241m0\u001b[39m:\n\u001b[1;32m    422\u001b[0m     \u001b[38;5;28;01mcontinue\u001b[39;00m\n\u001b[0;32m--> 424\u001b[0m stimulus_batch \u001b[38;5;241m=\u001b[39m \u001b[38;5;28mself\u001b[39m\u001b[38;5;241m.\u001b[39mneugebauer\u001b[38;5;241m.\u001b[39mobserve(valid_percentages, observe, \u001b[38;5;28mself\u001b[39m\u001b[38;5;241m.\u001b[39milluminant)\n\u001b[1;32m    425\u001b[0m point_cloud\u001b[38;5;241m.\u001b[39mappend(stimulus_batch)\n\u001b[1;32m    426\u001b[0m _percentages\u001b[38;5;241m.\u001b[39mappend(valid_percentages)\n",
      "File \u001b[0;32m~/Documents/Python/ChromaLab/chromalab/inks.py:284\u001b[0m, in \u001b[0;36mCellNeugebauer.observe\u001b[0;34m(self, percentages, observer, illuminant)\u001b[0m\n\u001b[1;32m    282\u001b[0m \u001b[38;5;28;01mif\u001b[39;00m illuminant \u001b[38;5;129;01mis\u001b[39;00m \u001b[38;5;28;01mNone\u001b[39;00m:\n\u001b[1;32m    283\u001b[0m     illuminant \u001b[38;5;241m=\u001b[39m np\u001b[38;5;241m.\u001b[39mones_like(\u001b[38;5;28mself\u001b[39m\u001b[38;5;241m.\u001b[39mwavelengths)\n\u001b[0;32m--> 284\u001b[0m \u001b[38;5;28;01mreturn\u001b[39;00m observe_spectra(\u001b[38;5;28mself\u001b[39m\u001b[38;5;241m.\u001b[39mmix(percentages), observer, illuminant)\n",
      "File \u001b[0;32m~/Documents/Python/ChromaLab/chromalab/inks.py:279\u001b[0m, in \u001b[0;36mCellNeugebauer.mix\u001b[0;34m(self, percentages)\u001b[0m\n\u001b[1;32m    277\u001b[0m index \u001b[38;5;241m=\u001b[39m \u001b[38;5;28mtuple\u001b[39m((percentages \u001b[38;5;241m>\u001b[39m \u001b[38;5;241m0.5\u001b[39m)\u001b[38;5;241m.\u001b[39mastype(\u001b[38;5;28mint\u001b[39m))\n\u001b[1;32m    278\u001b[0m adjusted_percentages \u001b[38;5;241m=\u001b[39m \u001b[38;5;241m2\u001b[39m \u001b[38;5;241m*\u001b[39m (percentages \u001b[38;5;241m-\u001b[39m np\u001b[38;5;241m.\u001b[39marray(index) \u001b[38;5;241m/\u001b[39m \u001b[38;5;241m2\u001b[39m)\n\u001b[0;32m--> 279\u001b[0m \u001b[38;5;28;01mreturn\u001b[39;00m \u001b[38;5;28mself\u001b[39m\u001b[38;5;241m.\u001b[39msubcubes[index]\u001b[38;5;241m.\u001b[39mmix(adjusted_percentages)\n",
      "\u001b[0;31mTypeError\u001b[0m: unhashable type: 'numpy.ndarray'"
     ]
    }
   ],
   "source": [
    "cell_ijk = InkGamut(CellNeugebauer(cijk), illuminant=d65)\n",
    "cell_ijk.get_width(tetrachromat_d65, stepsize=0.05)"
   ]
  },
  {
   "cell_type": "markdown",
   "id": "f7a837cd",
   "metadata": {},
   "source": [
    "## Best Cyan"
   ]
  },
  {
   "cell_type": "code",
   "execution_count": null,
   "id": "827c17b7",
   "metadata": {},
   "outputs": [],
   "source": [
    "pvy = [all_inks[\"Lamy red\"], all_inks[\"Platinum violet\"], all_inks[\"CT Pastel Yellow\"]]"
   ]
  },
  {
   "cell_type": "code",
   "execution_count": null,
   "id": "6dba1a9e",
   "metadata": {},
   "outputs": [],
   "source": [
    "gamut"
   ]
  },
  {
   "cell_type": "code",
   "execution_count": null,
   "id": "f2d4e10b",
   "metadata": {},
   "outputs": [],
   "source": [
    "cyan_candidates = []\n",
    "for name, spectra in tqdm(all_inks.items(), desc=\"Finding best cyan\"):\n",
    "    cpvy = pvy + [spectra]\n",
    "    gamut = InkGamut(cpvy, paper=paper, illuminant=d65)\n",
    "    width = gamut.get_width(tetrachromat_d65, verbose=False)\n",
    "    cyan_candidates.append((width, name))"
   ]
  },
  {
   "cell_type": "code",
   "execution_count": null,
   "id": "1c45e935",
   "metadata": {},
   "outputs": [],
   "source": [
    "cyan_candidates.sort(reverse=True)"
   ]
  },
  {
   "cell_type": "code",
   "execution_count": null,
   "id": "94635890",
   "metadata": {},
   "outputs": [],
   "source": [
    "cyan_candidates"
   ]
  },
  {
   "cell_type": "code",
   "execution_count": null,
   "id": "85e4f81e",
   "metadata": {},
   "outputs": [],
   "source": [
    "all_inks[\"Vd parrot fish\"].plot()\n",
    "all_inks[\"R torquay\"].plot()"
   ]
  },
  {
   "cell_type": "code",
   "execution_count": null,
   "id": "965e49cd",
   "metadata": {},
   "outputs": [],
   "source": [
    "for width, name in cyan_candidates[:18]:\n",
    "    cpvy = pvy + [all_inks[name]]\n",
    "    gamut = InkGamut(cpvy, paper=paper, illuminant=d65)\n",
    "    width = gamut.get_width(tetrachromat_d65, stepsize=0.05, verbose=False)\n",
    "    print(name, width)"
   ]
  },
  {
   "cell_type": "code",
   "execution_count": null,
   "id": "2d72cbab",
   "metadata": {},
   "outputs": [],
   "source": [
    "# all_inks[\"Vd parrot fish\"].plot()\n",
    "all_inks[\"V isabela\"].plot()\n",
    "# all_inks[\"R torquay\"].plot()\n",
    "all_inks[\"Epson C\"].plot(color='black')"
   ]
  },
  {
   "cell_type": "markdown",
   "id": "c276f55f",
   "metadata": {},
   "source": [
    "## Best Pink"
   ]
  },
  {
   "cell_type": "code",
   "execution_count": null,
   "id": "875c6057",
   "metadata": {},
   "outputs": [],
   "source": [
    "all_inks[\"CT Pastel Yellow\"]"
   ]
  },
  {
   "cell_type": "code",
   "execution_count": null,
   "id": "70906233",
   "metadata": {},
   "outputs": [],
   "source": [
    "cvy = [all_inks[\"R torquay\"], all_inks[\"Platinum violet\"], all_inks[\"CT Pastel Yellow\"]]"
   ]
  },
  {
   "cell_type": "code",
   "execution_count": null,
   "id": "2d75164d",
   "metadata": {},
   "outputs": [],
   "source": [
    "pink_candidates = []\n",
    "for name, spectra in tqdm(all_inks.items(), desc=\"Finding best pink\"):\n",
    "    cpvy = cvy + [spectra]\n",
    "    gamut = InkGamut(cpvy, paper=paper, illuminant=d65)\n",
    "    width = gamut.get_width(tetrachromat_d65, verbose=False)\n",
    "    pink_candidates.append((width, name))"
   ]
  },
  {
   "cell_type": "code",
   "execution_count": null,
   "id": "077ce2ed",
   "metadata": {},
   "outputs": [],
   "source": [
    "pink_candidates.sort(reverse=True)"
   ]
  },
  {
   "cell_type": "code",
   "execution_count": null,
   "id": "8d56c6be",
   "metadata": {},
   "outputs": [],
   "source": [
    "pink_candidates"
   ]
  },
  {
   "cell_type": "code",
   "execution_count": null,
   "id": "6b08c8f3",
   "metadata": {},
   "outputs": [],
   "source": [
    "for width, name in pink_candidates[:8]:\n",
    "    cpvy = cvy + [all_inks[name]]\n",
    "    gamut = InkGamut(cpvy, paper=paper, illuminant=d65)\n",
    "    width = gamut.get_width(tetrachromat_d65, stepsize=0.05, verbose=False)\n",
    "    print(name, width)"
   ]
  },
  {
   "cell_type": "code",
   "execution_count": null,
   "id": "3ff88b11",
   "metadata": {},
   "outputs": [],
   "source": [
    "all_inks[\"Peach haze D\"].plot()\n",
    "all_inks[\"Lamy red\"].plot()"
   ]
  },
  {
   "cell_type": "code",
   "execution_count": null,
   "id": "8fc8c945",
   "metadata": {},
   "outputs": [],
   "source": []
  },
  {
   "cell_type": "markdown",
   "id": "64480fe8",
   "metadata": {},
   "source": [
    "## Best Magenta"
   ]
  },
  {
   "cell_type": "code",
   "execution_count": null,
   "id": "4dc8ec0c",
   "metadata": {},
   "outputs": [],
   "source": [
    "cpy = [all_inks[\"R torquay\"], all_inks[\"Lamy red\"],  all_inks[\"CT Pastel Yellow\"]]"
   ]
  },
  {
   "cell_type": "code",
   "execution_count": null,
   "id": "85ff9932",
   "metadata": {},
   "outputs": [],
   "source": [
    "magenta_candidates = []\n",
    "for name, spectra in tqdm(all_inks.items(), desc=\"Finding best magenta\"):\n",
    "    cpvy = cpy + [spectra]\n",
    "    gamut = InkGamut(cpvy, paper=paper, illuminant=d65)\n",
    "    width = gamut.get_width(tetrachromat_d65, verbose=False)\n",
    "    magenta_candidates.append((width, name))"
   ]
  },
  {
   "cell_type": "code",
   "execution_count": null,
   "id": "4aa5bca0",
   "metadata": {},
   "outputs": [],
   "source": [
    "magenta_candidates.sort(reverse=True)"
   ]
  },
  {
   "cell_type": "code",
   "execution_count": null,
   "id": "bc004cef",
   "metadata": {},
   "outputs": [],
   "source": [
    "magenta_candidates"
   ]
  },
  {
   "cell_type": "code",
   "execution_count": null,
   "id": "3dd387b8",
   "metadata": {},
   "outputs": [],
   "source": [
    "all_inks[\"Platinum violet\"].plot()\n",
    "cijk[\"0020\"].plot(color='black')\n",
    "all_inks[\"Pink owl\"].plot(color='green')"
   ]
  },
  {
   "cell_type": "markdown",
   "id": "0078cf21",
   "metadata": {
    "code_folding": []
   },
   "source": [
    "## Best Yellow"
   ]
  },
  {
   "cell_type": "code",
   "execution_count": null,
   "id": "bd1e3aec",
   "metadata": {},
   "outputs": [],
   "source": [
    "cpv = [all_inks[\"R torquay\"], all_inks[\"Lamy red\"],all_inks[\"Platinum violet\"]]"
   ]
  },
  {
   "cell_type": "code",
   "execution_count": null,
   "id": "3d06e136",
   "metadata": {},
   "outputs": [],
   "source": [
    "yellow_candidates = []\n",
    "for name, spectra in tqdm(all_inks.items(), desc=\"Finding best yellow\"):\n",
    "    cpvy = cpv + [spectra]\n",
    "    gamut = InkGamut(cpvy, paper=paper, illuminant=d65)\n",
    "    width = gamut.get_width(tetrachromat_d65, verbose=False)\n",
    "    yellow_candidates.append((width, name))"
   ]
  },
  {
   "cell_type": "code",
   "execution_count": null,
   "id": "f243eafe",
   "metadata": {},
   "outputs": [],
   "source": [
    "yellow_candidates.sort(reverse=True)"
   ]
  },
  {
   "cell_type": "code",
   "execution_count": null,
   "id": "34699c59",
   "metadata": {},
   "outputs": [],
   "source": [
    "yellow_candidates"
   ]
  },
  {
   "cell_type": "code",
   "execution_count": null,
   "id": "e9b2d1a8",
   "metadata": {},
   "outputs": [],
   "source": [
    "for width, name in yellow_candidates[:21]:\n",
    "    cpvy = cpv + [all_inks[name]]\n",
    "    gamut = InkGamut(cpvy, paper=paper, illuminant=d65)\n",
    "    width = gamut.get_width(tetrachromat_d65, stepsize=0.05, verbose=False)\n",
    "    print(name, width)"
   ]
  },
  {
   "cell_type": "code",
   "execution_count": null,
   "id": "fc9985bc",
   "metadata": {},
   "outputs": [],
   "source": [
    "all_inks[\"CT Pastel Yellow\"].plot()\n",
    "# all_inks[\"Rokyu moon yellow\"].plot()"
   ]
  },
  {
   "cell_type": "markdown",
   "id": "a4d87ec9",
   "metadata": {},
   "source": [
    "## Display best four inks"
   ]
  },
  {
   "cell_type": "code",
   "execution_count": null,
   "id": "399b1541",
   "metadata": {},
   "outputs": [],
   "source": [
    "all_inks[\"R torquay\"].plot(name=\"R torquay\")\n",
    "all_inks[\"Lamy red\"].plot(name=\"Lamy red\")\n",
    "all_inks[\"Platinum violet\"].plot(name=\"Platinum violet\")\n",
    "all_inks[\"CT Pastel Yellow\"].plot(name=\"CT Pastel Yellow\")\n",
    "plt.legend()\n",
    "plt.show()"
   ]
  },
  {
   "cell_type": "code",
   "execution_count": null,
   "id": "d5ebf2bc",
   "metadata": {},
   "outputs": [],
   "source": [
    "best_cpvy = [all_inks[\"R torquay\"], all_inks[\"Lamy red\"],all_inks[\"Platinum violet\"], all_inks[\"CT Pastel Yellow\"]]"
   ]
  },
  {
   "cell_type": "code",
   "execution_count": null,
   "id": "8d9dc53c",
   "metadata": {},
   "outputs": [],
   "source": [
    "best_cpvy_gamut = InkGamut(best_cpvy, paper=paper, illuminant=d65)"
   ]
  },
  {
   "cell_type": "code",
   "execution_count": null,
   "id": "fa58cca6",
   "metadata": {},
   "outputs": [],
   "source": [
    "best_cpvy_gamut.get_width(tetrachromat_d65, stepsize=0.05, save=\"cpvyFeb6\")"
   ]
  },
  {
   "cell_type": "markdown",
   "id": "c46e8ce0",
   "metadata": {},
   "source": [
    "## Best spot colors"
   ]
  },
  {
   "cell_type": "code",
   "execution_count": null,
   "id": "112564be",
   "metadata": {},
   "outputs": [],
   "source": [
    "spot_candidates = []\n",
    "for name, spectra in tqdm(all_inks.items(), desc=\"Finding best spot color\"):\n",
    "    cpvys = best_cpvy + [spectra]\n",
    "    gamut = InkGamut(cpvys, paper=paper, illuminant=d65)\n",
    "    width = gamut.get_width(tetrachromat_d65, stepsize=0.1, verbose=False)\n",
    "    spot_candidates.append((width, name))"
   ]
  },
  {
   "cell_type": "code",
   "execution_count": null,
   "id": "7698efdc",
   "metadata": {},
   "outputs": [],
   "source": [
    "spot_candidates.sort(reverse=True)"
   ]
  },
  {
   "cell_type": "code",
   "execution_count": null,
   "id": "2efdf436",
   "metadata": {},
   "outputs": [],
   "source": [
    "spot_candidates"
   ]
  },
  {
   "cell_type": "code",
   "execution_count": null,
   "id": "c414bb3d",
   "metadata": {},
   "outputs": [],
   "source": [
    "best_spot_inks = spot_candidates[:17]"
   ]
  },
  {
   "cell_type": "code",
   "execution_count": null,
   "id": "4d1f0080",
   "metadata": {},
   "outputs": [],
   "source": [
    "all_inks[\"Purple jade rabbit\"].plot()\n",
    "all_inks[\"R honey bee\"].plot()\n",
    "all_inks[\"W dracula\"].plot()\n",
    "all_inks[\"FWP sparkling champagne\"].plot()\n",
    "all_inks[\"T copper patina\"].plot()\n",
    "all_inks[\"V maskara \"].plot()\n"
   ]
  },
  {
   "cell_type": "markdown",
   "id": "6ceec1c8",
   "metadata": {},
   "source": [
    "## Best two spot colors"
   ]
  },
  {
   "cell_type": "code",
   "execution_count": null,
   "id": "1f405014",
   "metadata": {},
   "outputs": [],
   "source": [
    "best_cpvy"
   ]
  },
  {
   "cell_type": "code",
   "execution_count": null,
   "id": "1a90f4ce",
   "metadata": {
    "scrolled": true
   },
   "outputs": [],
   "source": [
    "spot_candidates = []\n",
    "\n",
    "# Iterate over all pairs of names and spectra in all_inks\n",
    "for i, (_, name1) in enumerate(tqdm(best_spot_inks, desc=\"All pairs\")):\n",
    "    for (_, name2) in tqdm(best_spot_inks[i+1:]):\n",
    "        # Create cpvys with the current pair of spectra added to best_cpvy\n",
    "        cpvys = best_cpvy + [all_inks[name1], all_inks[name2]]\n",
    "        gamut = InkGamut(cpvys, paper=paper, illuminant=d65)\n",
    "        width = gamut.get_width(tetrachromat_d65, stepsize=0.2, verbose=False)\n",
    "        \n",
    "        # Append the result along with the names of the ink pair\n",
    "        spot_candidates.append((width, name1, name2))"
   ]
  },
  {
   "cell_type": "code",
   "execution_count": null,
   "id": "6be14a0b",
   "metadata": {},
   "outputs": [],
   "source": [
    "spot_candidates.sort(reverse=True)"
   ]
  },
  {
   "cell_type": "code",
   "execution_count": null,
   "id": "6497771a",
   "metadata": {},
   "outputs": [],
   "source": [
    "spot_candidates"
   ]
  },
  {
   "cell_type": "code",
   "execution_count": null,
   "id": "e0fd394c",
   "metadata": {},
   "outputs": [],
   "source": [
    "for _, name1, name2 in spot_candidates[:10]:\n",
    "    cpvyjk = best_cpvy + [all_inks[name1], all_inks[name2]]\n",
    "    gamut = InkGamut(cpvyjk, paper=paper, illuminant=d65)\n",
    "    width = gamut.get_width(tetrachromat_d65, stepsize=0.1, verbose=False)\n",
    "\n",
    "    print(width, name1, name2)"
   ]
  },
  {
   "cell_type": "code",
   "execution_count": null,
   "id": "6f8e2391",
   "metadata": {},
   "outputs": [],
   "source": [
    "for _, name1, name2 in [spot_candidates[0], spot_candidates[0], spot_candidates[5], spot_candidates[8]]:\n",
    "    cpvyjk = best_cpvy + [all_inks[name1], all_inks[name2]]\n",
    "    gamut = InkGamut(cpvyjk, paper=paper, illuminant=d65)\n",
    "    width = gamut.get_width(tetrachromat_d65, stepsize=0.05, verbose=True)\n",
    "\n",
    "    print(width, name1, name2)"
   ]
  },
  {
   "cell_type": "code",
   "execution_count": null,
   "id": "c7be083b",
   "metadata": {},
   "outputs": [],
   "source": []
  }
 ],
 "metadata": {
  "kernelspec": {
   "display_name": "chromalab",
   "language": "python",
   "name": "chromalab"
  },
  "language_info": {
   "codemirror_mode": {
    "name": "ipython",
    "version": 3
   },
   "file_extension": ".py",
   "mimetype": "text/x-python",
   "name": "python",
   "nbconvert_exporter": "python",
   "pygments_lexer": "ipython3",
   "version": "3.11.6"
  },
  "toc": {
   "base_numbering": 1,
   "nav_menu": {},
   "number_sections": true,
   "sideBar": true,
   "skip_h1_title": false,
   "title_cell": "Table of Contents",
   "title_sidebar": "Contents",
   "toc_cell": false,
   "toc_position": {
    "height": "calc(100% - 180px)",
    "left": "10px",
    "top": "150px",
    "width": "345.594px"
   },
   "toc_section_display": true,
   "toc_window_display": true
  }
 },
 "nbformat": 4,
 "nbformat_minor": 5
}

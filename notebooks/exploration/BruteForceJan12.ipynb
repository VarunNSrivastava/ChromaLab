{
 "cells": [
  {
   "cell_type": "code",
   "execution_count": 47,
   "id": "40aa3e90",
   "metadata": {},
   "outputs": [],
   "source": [
    "import csv\n",
    "import numpy as np\n",
    "from spectra import Spectra, Pigment\n",
    "import matplotlib.pyplot as plt\n",
    "import numpy.typing as npt\n",
    "import torch as th"
   ]
  },
  {
   "cell_type": "code",
   "execution_count": 48,
   "id": "26f780ff",
   "metadata": {},
   "outputs": [],
   "source": [
    "wavelengths1 = np.arange(390, 701, 1)\n",
    "wavelengths10 = np.arange(400, 701, 10)"
   ]
  },
  {
   "cell_type": "code",
   "execution_count": 49,
   "id": "fa5c374a",
   "metadata": {},
   "outputs": [],
   "source": [
    "from observer import Observer, Cone\n",
    "from inks import Neugebauer, InkGamut, CellNeugebauer\n",
    "from spectra import Spectra, Pigment, Illuminant"
   ]
  },
  {
   "cell_type": "code",
   "execution_count": 50,
   "id": "7089ee29",
   "metadata": {},
   "outputs": [],
   "source": [
    "cijk = {}\n",
    "with open(f'010624.csv') as csvf:\n",
    "    spamreader = csv.reader(csvf, delimiter=';')\n",
    "    for i, row in enumerate(spamreader):\n",
    "        if i < 4: continue\n",
    "        if row[2] != \"CIJK\": continue\n",
    "            \n",
    "        name = row[4]\n",
    "        color_data = np.array(row[33:],dtype=float)\n",
    "        spectra = Spectra(data=color_data, wavelengths=wavelengths10)\n",
    "\n",
    "        cijk[name] = spectra"
   ]
  },
  {
   "cell_type": "code",
   "execution_count": 51,
   "id": "e140754f",
   "metadata": {},
   "outputs": [],
   "source": [
    "d65 = Illuminant.get(\"D65\")"
   ]
  },
  {
   "cell_type": "code",
   "execution_count": 52,
   "id": "5bd704dd",
   "metadata": {
    "scrolled": false
   },
   "outputs": [],
   "source": [
    "cijk_neug = CellNeugebauer(cijk)\n",
    "cijk_gamut_d65 = InkGamut(cijk_neug, illuminant=d65)  "
   ]
  },
  {
   "cell_type": "code",
   "execution_count": 53,
   "id": "9e209a57",
   "metadata": {},
   "outputs": [],
   "source": [
    "tetrachromat_d65 = Observer.tetrachromat(illuminant=d65)"
   ]
  },
  {
   "cell_type": "markdown",
   "id": "12f16fa6",
   "metadata": {},
   "source": [
    "## As usual, lets do Q-axis confusion points"
   ]
  },
  {
   "cell_type": "code",
   "execution_count": 55,
   "id": "1e5159b4",
   "metadata": {},
   "outputs": [
    {
     "name": "stdout",
     "output_type": "stream",
     "text": [
      "[ 5.28436807  8.21626942  8.00093046  9.58828847]\n"
     ]
    },
    {
     "name": "stderr",
     "output_type": "stream",
     "text": [
      "Generating Point Cloud: 100%|███████████| 6765201/6765201 [02:03<00:00, 54898.63it/s]\n"
     ]
    },
    {
     "name": "stdout",
     "output_type": "stream",
     "text": [
      "Point cloud generated.\n",
      "Point cloud saved to cijk_gamut_d65_02_point_cloud2.\n"
     ]
    }
   ],
   "source": [
    "cijk_gamut_d65_buckets05 = cijk_gamut_d65.get_buckets(tetrachromat_d65, save=\"cijk_gamut_d65_02\", stepsize=0.02)"
   ]
  },
  {
   "cell_type": "code",
   "execution_count": 9,
   "id": "0fc7c0cd",
   "metadata": {},
   "outputs": [
    {
     "name": "stdout",
     "output_type": "stream",
     "text": [
      "0.0399,\t['00.0', '00.0', '65.0', '100.0'],\t['25.0', '100.0', '00.0', '50.0']\n",
      "0.0384,\t['00.0', '05.0', '55.0', '95.0'],\t['20.0', '95.0', '00.0', '45.0']\n",
      "0.0381,\t['00.0', '00.0', '60.0', '80.0'],\t['25.0', '85.0', '00.0', '25.0']\n",
      "0.0379,\t['00.0', '10.0', '55.0', '80.0'],\t['20.0', '90.0', '00.0', '15.0']\n",
      "0.0373,\t['00.0', '00.0', '65.0', '90.0'],\t['25.0', '100.0', '00.0', '00.0']\n",
      "0.037,\t['00.0', '15.0', '55.0', '95.0'],\t['20.0', '100.0', '00.0', '40.0']\n",
      "0.0365,\t['00.0', '10.0', '60.0', '75.0'],\t['20.0', '90.0', '05.0', '00.0']\n",
      "0.0363,\t['05.0', '10.0', '55.0', '90.0'],\t['25.0', '90.0', '00.0', '50.0']\n",
      "0.0361,\t['00.0', '15.0', '60.0', '85.0'],\t['25.0', '95.0', '00.0', '10.0']\n",
      "0.0361,\t['00.0', '00.0', '60.0', '90.0'],\t['20.0', '90.0', '05.0', '45.0']\n",
      "0.036,\t['05.0', '00.0', '55.0', '90.0'],\t['25.0', '85.0', '00.0', '55.0']\n",
      "0.0356,\t['00.0', '05.0', '65.0', '80.0'],\t['25.0', '90.0', '05.0', '10.0']\n",
      "0.0355,\t['00.0', '10.0', '55.0', '85.0'],\t['20.0', '95.0', '00.0', '05.0']\n",
      "0.0354,\t['05.0', '00.0', '55.0', '95.0'],\t['25.0', '85.0', '00.0', '70.0']\n"
     ]
    }
   ],
   "source": [
    "for d, (a,b) in cijk_gamut_d65_buckets05[:14]:\n",
    "    print(round(d,4), end=\",\\t\")\n",
    "    print([f'{round(1000 * _a) / 10:04.1f}' for _a in a], end=\",\\t\")\n",
    "    print([f'{round(1000 * _b) / 10:04.1f}' for _b in b])"
   ]
  },
  {
   "cell_type": "code",
   "execution_count": 10,
   "id": "c5e3abdf",
   "metadata": {},
   "outputs": [
    {
     "name": "stdout",
     "output_type": "stream",
     "text": [
      "[ 5.28436807  8.21626942  8.00093046  9.58828847]\n"
     ]
    },
    {
     "name": "stderr",
     "output_type": "stream",
     "text": [
      "Generating Point Cloud: 100%|███████████████| 14641/14641 [00:00<00:00, 52095.75it/s]\n"
     ]
    },
    {
     "name": "stdout",
     "output_type": "stream",
     "text": [
      "Point cloud generated.\n"
     ]
    }
   ],
   "source": [
    "cijk_gamut_d65_buckets10 = cijk_gamut_d65.get_buckets(tetrachromat_d65, stepsize=0.1)"
   ]
  },
  {
   "cell_type": "code",
   "execution_count": 11,
   "id": "34ffe743",
   "metadata": {},
   "outputs": [
    {
     "name": "stdout",
     "output_type": "stream",
     "text": [
      "0.0292,\t['20.0', '20.0', '60.0', '100.0'],\t['40.0', '100.0', '00.0', '70.0']\n",
      "0.0292,\t['20.0', '00.0', '80.0', '100.0'],\t['40.0', '100.0', '10.0', '40.0']\n",
      "0.0292,\t['00.0', '00.0', '60.0', '80.0'],\t['20.0', '80.0', '10.0', '40.0']\n",
      "0.0284,\t['00.0', '00.0', '50.0', '70.0'],\t['20.0', '70.0', '00.0', '30.0']\n",
      "0.028,\t['30.0', '30.0', '70.0', '90.0'],\t['50.0', '100.0', '00.0', '20.0']\n",
      "0.0276,\t['00.0', '10.0', '50.0', '100.0'],\t['20.0', '90.0', '00.0', '80.0']\n",
      "0.0275,\t['10.0', '10.0', '70.0', '100.0'],\t['30.0', '100.0', '10.0', '50.0']\n",
      "0.0275,\t['30.0', '10.0', '60.0', '80.0'],\t['50.0', '80.0', '00.0', '50.0']\n",
      "0.0274,\t['20.0', '00.0', '60.0', '70.0'],\t['40.0', '80.0', '00.0', '10.0']\n"
     ]
    }
   ],
   "source": [
    "for d, (a,b) in cijk_gamut_d65_buckets10[:9]:\n",
    "    print(round(d,4), end=\",\\t\")\n",
    "    print([f'{round(1000 * _a) / 10:04.1f}' for _a in a], end=\",\\t\")\n",
    "    print([f'{round(1000 * _b) / 10:04.1f}' for _b in b])"
   ]
  },
  {
   "cell_type": "code",
   "execution_count": null,
   "id": "9067b942",
   "metadata": {},
   "outputs": [],
   "source": []
  },
  {
   "cell_type": "markdown",
   "id": "07950b31",
   "metadata": {},
   "source": [
    "## M-axis"
   ]
  },
  {
   "cell_type": "code",
   "execution_count": 12,
   "id": "408247b3",
   "metadata": {},
   "outputs": [
    {
     "name": "stdout",
     "output_type": "stream",
     "text": [
      "[ 5.28436807  8.21626942  8.00093046  9.58828847]\n"
     ]
    },
    {
     "name": "stderr",
     "output_type": "stream",
     "text": [
      "Generating Point Cloud: 100%|█████████████| 194481/194481 [00:03<00:00, 56540.78it/s]\n"
     ]
    },
    {
     "name": "stdout",
     "output_type": "stream",
     "text": [
      "Point cloud generated.\n"
     ]
    }
   ],
   "source": [
    "cijk_gamut_d65_buckets05_m_cone = cijk_gamut_d65.get_buckets(tetrachromat_d65, stepsize=0.05, axis=1)"
   ]
  },
  {
   "cell_type": "code",
   "execution_count": 29,
   "id": "97cd0692",
   "metadata": {},
   "outputs": [],
   "source": [
    "m_confusion_points = []"
   ]
  },
  {
   "cell_type": "code",
   "execution_count": 30,
   "id": "797c82b8",
   "metadata": {},
   "outputs": [
    {
     "name": "stdout",
     "output_type": "stream",
     "text": [
      "0.0759,\t['05.0', '100.0', '00.0', '00.0'],\t['05.0', '00.0', '20.0', '90.0']\n",
      "0.0754,\t['00.0', '100.0', '00.0', '15.0'],\t['00.0', '00.0', '15.0', '95.0']\n",
      "0.075,\t['00.0', '100.0', '05.0', '00.0'],\t['00.0', '00.0', '25.0', '90.0']\n",
      "0.0703,\t['05.0', '75.0', '00.0', '10.0'],\t['05.0', '00.0', '20.0', '70.0']\n",
      "0.0694,\t['00.0', '100.0', '00.0', '25.0'],\t['00.0', '05.0', '15.0', '95.0']\n",
      "0.0692,\t['10.0', '85.0', '00.0', '00.0'],\t['10.0', '00.0', '25.0', '75.0']\n",
      "0.0691,\t['00.0', '100.0', '00.0', '50.0'],\t['00.0', '00.0', '15.0', '100.0']\n",
      "0.0691,\t['05.0', '90.0', '00.0', '15.0'],\t['05.0', '00.0', '20.0', '85.0']\n",
      "0.0689,\t['05.0', '95.0', '00.0', '00.0'],\t['05.0', '05.0', '20.0', '85.0']\n",
      "0.068,\t['15.0', '90.0', '05.0', '20.0'],\t['20.0', '00.0', '25.0', '85.0']\n",
      "0.0678,\t['05.0', '100.0', '05.0', '20.0'],\t['05.0', '00.0', '25.0', '95.0']\n",
      "0.0674,\t['00.0', '95.0', '05.0', '00.0'],\t['00.0', '05.0', '25.0', '85.0']\n",
      "0.0674,\t['10.0', '90.0', '10.0', '25.0'],\t['15.0', '00.0', '30.0', '85.0']\n",
      "0.0673,\t['05.0', '100.0', '00.0', '05.0'],\t['05.0', '15.0', '15.0', '90.0']\n"
     ]
    }
   ],
   "source": [
    "for d, (a,b) in cijk_gamut_d65_buckets05_m_cone[:14]:\n",
    "    print(round(d,4), end=\",\\t\")\n",
    "    m_confusion_points.append([int(100*x) for x in a])\n",
    "    m_confusion_points.append([int(100*x) for x in b])\n",
    "    print([f'{round(1000 * _a) / 10:04.1f}' for _a in a], end=\",\\t\")\n",
    "    print([f'{round(1000 * _b) / 10:04.1f}' for _b in b])"
   ]
  },
  {
   "cell_type": "code",
   "execution_count": 22,
   "id": "50672cd3",
   "metadata": {},
   "outputs": [
    {
     "name": "stdout",
     "output_type": "stream",
     "text": [
      "[ 5.28436807  8.21626942  8.00093046  9.58828847]\n"
     ]
    },
    {
     "name": "stderr",
     "output_type": "stream",
     "text": [
      "Generating Point Cloud: 100%|███████████████| 14641/14641 [00:00<00:00, 49549.52it/s]\n"
     ]
    },
    {
     "name": "stdout",
     "output_type": "stream",
     "text": [
      "Point cloud generated.\n"
     ]
    }
   ],
   "source": [
    "cijk_gamut_d65_buckets10_m_cone = cijk_gamut_d65.get_buckets(tetrachromat_d65, stepsize=0.1, axis=1)"
   ]
  },
  {
   "cell_type": "code",
   "execution_count": 31,
   "id": "46aa01aa",
   "metadata": {},
   "outputs": [
    {
     "name": "stdout",
     "output_type": "stream",
     "text": [
      "0.0654,\t['10.0', '100.0', '00.0', '10.0'],\t['10.0', '10.0', '20.0', '90.0']\n",
      "0.0631,\t['10.0', '70.0', '00.0', '30.0'],\t['10.0', '00.0', '20.0', '70.0']\n",
      "0.0587,\t['20.0', '100.0', '00.0', '00.0'],\t['20.0', '00.0', '30.0', '90.0']\n",
      "0.0574,\t['20.0', '80.0', '00.0', '00.0'],\t['20.0', '00.0', '30.0', '70.0']\n",
      "0.0565,\t['00.0', '80.0', '10.0', '00.0'],\t['00.0', '10.0', '30.0', '70.0']\n",
      "0.0563,\t['10.0', '70.0', '00.0', '00.0'],\t['10.0', '10.0', '20.0', '60.0']\n",
      "0.0556,\t['00.0', '70.0', '10.0', '30.0'],\t['00.0', '00.0', '30.0', '70.0']\n",
      "0.0528,\t['20.0', '80.0', '00.0', '40.0'],\t['20.0', '10.0', '20.0', '80.0']\n",
      "0.0528,\t['20.0', '90.0', '00.0', '80.0'],\t['20.0', '00.0', '20.0', '100.0']\n"
     ]
    }
   ],
   "source": [
    "for d, (a,b) in cijk_gamut_d65_buckets10_m_cone[:9]:\n",
    "    print(round(d,4), end=\",\\t\")\n",
    "    m_confusion_points.append([int(100*x) for x in a])\n",
    "    m_confusion_points.append([int(100*x) for x in b])\n",
    "    print([f'{round(1000 * _a) / 10:04.1f}' for _a in a], end=\",\\t\")\n",
    "    print([f'{round(1000 * _b) / 10:04.1f}' for _b in b])"
   ]
  },
  {
   "cell_type": "code",
   "execution_count": 33,
   "id": "c0fca496",
   "metadata": {},
   "outputs": [
    {
     "data": {
      "text/plain": [
       "46"
      ]
     },
     "execution_count": 33,
     "metadata": {},
     "output_type": "execute_result"
    }
   ],
   "source": [
    "len(m_confusion_points)"
   ]
  },
  {
   "cell_type": "code",
   "execution_count": 34,
   "id": "95cd8161",
   "metadata": {},
   "outputs": [
    {
     "data": {
      "text/plain": [
       "[[5, 100, 0, 0],\n",
       " [5, 0, 20, 90],\n",
       " [0, 100, 0, 15],\n",
       " [0, 0, 15, 95],\n",
       " [0, 100, 5, 0],\n",
       " [0, 0, 25, 90],\n",
       " [5, 75, 0, 10],\n",
       " [5, 0, 20, 70],\n",
       " [0, 100, 0, 25],\n",
       " [0, 5, 15, 95],\n",
       " [10, 85, 0, 0],\n",
       " [10, 0, 25, 75],\n",
       " [0, 100, 0, 50],\n",
       " [0, 0, 15, 100],\n",
       " [5, 90, 0, 15],\n",
       " [5, 0, 20, 85],\n",
       " [5, 95, 0, 0],\n",
       " [5, 5, 20, 85],\n",
       " [15, 90, 5, 20],\n",
       " [20, 0, 25, 85],\n",
       " [5, 100, 5, 20],\n",
       " [5, 0, 25, 95],\n",
       " [0, 95, 5, 0],\n",
       " [0, 5, 25, 85],\n",
       " [10, 90, 10, 25],\n",
       " [15, 0, 30, 85],\n",
       " [5, 100, 0, 5],\n",
       " [5, 15, 15, 90],\n",
       " [10, 100, 0, 10],\n",
       " [10, 10, 20, 90],\n",
       " [10, 70, 0, 30],\n",
       " [10, 0, 20, 70],\n",
       " [20, 100, 0, 0],\n",
       " [20, 0, 30, 90],\n",
       " [20, 80, 0, 0],\n",
       " [20, 0, 30, 70],\n",
       " [0, 80, 10, 0],\n",
       " [0, 10, 30, 70],\n",
       " [10, 70, 0, 0],\n",
       " [10, 10, 20, 60],\n",
       " [0, 70, 10, 30],\n",
       " [0, 0, 30, 70],\n",
       " [20, 80, 0, 40],\n",
       " [20, 10, 20, 80],\n",
       " [20, 90, 0, 80],\n",
       " [20, 0, 20, 100]]"
      ]
     },
     "execution_count": 34,
     "metadata": {},
     "output_type": "execute_result"
    }
   ],
   "source": [
    "m_confusion_points"
   ]
  },
  {
   "cell_type": "code",
   "execution_count": null,
   "id": "8eeb84c6",
   "metadata": {},
   "outputs": [],
   "source": []
  },
  {
   "cell_type": "markdown",
   "id": "4a04d3bf",
   "metadata": {},
   "source": [
    "## L-Axis"
   ]
  },
  {
   "cell_type": "code",
   "execution_count": 35,
   "id": "4783f1a4",
   "metadata": {},
   "outputs": [
    {
     "name": "stdout",
     "output_type": "stream",
     "text": [
      "[ 5.28436807  8.21626942  8.00093046  9.58828847]\n"
     ]
    },
    {
     "name": "stderr",
     "output_type": "stream",
     "text": [
      "Generating Point Cloud: 100%|█████████████| 194481/194481 [00:03<00:00, 54312.81it/s]\n"
     ]
    },
    {
     "name": "stdout",
     "output_type": "stream",
     "text": [
      "Point cloud generated.\n"
     ]
    }
   ],
   "source": [
    "cijk_gamut_d65_buckets05_l_cone = cijk_gamut_d65.get_buckets(tetrachromat_d65, stepsize=0.05, axis=3)"
   ]
  },
  {
   "cell_type": "code",
   "execution_count": 36,
   "id": "44cb1fbe",
   "metadata": {},
   "outputs": [
    {
     "name": "stdout",
     "output_type": "stream",
     "text": [
      "[ 5.28436807  8.21626942  8.00093046  9.58828847]\n"
     ]
    },
    {
     "name": "stderr",
     "output_type": "stream",
     "text": [
      "Generating Point Cloud: 100%|███████████████| 14641/14641 [00:00<00:00, 50264.06it/s]\n"
     ]
    },
    {
     "name": "stdout",
     "output_type": "stream",
     "text": [
      "Point cloud generated.\n"
     ]
    }
   ],
   "source": [
    "cijk_gamut_d65_buckets10_l_cone = cijk_gamut_d65.get_buckets(tetrachromat_d65, stepsize=0.1, axis=3)"
   ]
  },
  {
   "cell_type": "code",
   "execution_count": 37,
   "id": "90fc2692",
   "metadata": {},
   "outputs": [],
   "source": [
    "l_confusion_points = []"
   ]
  },
  {
   "cell_type": "code",
   "execution_count": 41,
   "id": "50e0bf8b",
   "metadata": {},
   "outputs": [
    {
     "name": "stdout",
     "output_type": "stream",
     "text": [
      "0.0744,\t['70.0', '85.0', '00.0', '20.0'],\t['00.0', '00.0', '90.0', '75.0']\n",
      "0.0726,\t['70.0', '85.0', '00.0', '15.0'],\t['00.0', '40.0', '85.0', '65.0']\n",
      "0.0723,\t['75.0', '90.0', '00.0', '40.0'],\t['00.0', '05.0', '100.0', '90.0']\n",
      "0.0716,\t['70.0', '85.0', '00.0', '55.0'],\t['00.0', '15.0', '90.0', '90.0']\n",
      "0.0715,\t['65.0', '80.0', '00.0', '45.0'],\t['00.0', '00.0', '85.0', '80.0']\n",
      "0.0711,\t['75.0', '90.0', '00.0', '35.0'],\t['00.0', '00.0', '100.0', '85.0']\n",
      "0.071,\t['75.0', '85.0', '00.0', '70.0'],\t['00.0', '05.0', '100.0', '100.0']\n",
      "0.07,\t['70.0', '85.0', '05.0', '45.0'],\t['00.0', '05.0', '95.0', '85.0']\n",
      "0.0696,\t['70.0', '95.0', '05.0', '05.0'],\t['00.0', '20.0', '95.0', '80.0']\n",
      "0.0694,\t['70.0', '90.0', '15.0', '15.0'],\t['00.0', '00.0', '100.0', '75.0']\n",
      "0.0693,\t['75.0', '95.0', '05.0', '30.0'],\t['00.0', '20.0', '100.0', '85.0']\n",
      "0.0692,\t['70.0', '85.0', '05.0', '40.0'],\t['00.0', '00.0', '95.0', '80.0']\n",
      "0.069,\t['70.0', '75.0', '00.0', '70.0'],\t['05.0', '10.0', '85.0', '95.0']\n",
      "0.0689,\t['65.0', '95.0', '00.0', '15.0'],\t['00.0', '10.0', '90.0', '85.0']\n"
     ]
    }
   ],
   "source": [
    "for d, (a,b) in cijk_gamut_d65_buckets05_l_cone[:14]:\n",
    "    print(round(d,4), end=\",\\t\")\n",
    "    l_confusion_points.append([int(100*x) for x in a])\n",
    "    l_confusion_points.append([int(100*x) for x in b])\n",
    "    print([f'{round(1000 * _a) / 10:04.1f}' for _a in a], end=\",\\t\")\n",
    "    print([f'{round(1000 * _b) / 10:04.1f}' for _b in b])"
   ]
  },
  {
   "cell_type": "code",
   "execution_count": 46,
   "id": "9fda4a35",
   "metadata": {},
   "outputs": [
    {
     "name": "stdout",
     "output_type": "stream",
     "text": [
      "[ 0.18207242  0.20474878  0.22951306  0.24212171]\n",
      "[ 0.18242458  0.19721503  0.23589033  0.30864717]\n",
      "0.0658,\t['70.0', '90.0', '00.0', '30.0'],\t['00.0', '30.0', '90.0', '80.0']\n"
     ]
    }
   ],
   "source": [
    "for d, (a,b) in cijk_gamut_d65_buckets10_l_cone[:9]:\n",
    "    print(tetrachromat_d65.observe(cijk_gamut_d65.get_spectra(a)))\n",
    "    print(tetrachromat_d65.observe(cijk_gamut_d65.get_spectra(b)))\n",
    "\n",
    "    print(round(d,4), end=\",\\t\")\n",
    "    l_confusion_points.append([int(100*x) for x in a])\n",
    "    l_confusion_points.append([int(100*x) for x in b])\n",
    "    print([f'{round(1000 * _a) / 10:04.1f}' for _a in a], end=\",\\t\")\n",
    "    print([f'{round(1000 * _b) / 10:04.1f}' for _b in b])\n",
    "    break"
   ]
  },
  {
   "cell_type": "code",
   "execution_count": 43,
   "id": "6bf9b9ab",
   "metadata": {},
   "outputs": [
    {
     "data": {
      "text/plain": [
       "46"
      ]
     },
     "execution_count": 43,
     "metadata": {},
     "output_type": "execute_result"
    }
   ],
   "source": [
    "len(l_confusion_points)"
   ]
  },
  {
   "cell_type": "code",
   "execution_count": 44,
   "id": "81d84fd1",
   "metadata": {},
   "outputs": [
    {
     "data": {
      "text/plain": [
       "[[70, 85, 0, 20],\n",
       " [0, 0, 90, 75],\n",
       " [70, 85, 0, 15],\n",
       " [0, 40, 85, 65],\n",
       " [75, 90, 0, 40],\n",
       " [0, 5, 100, 90],\n",
       " [70, 85, 0, 55],\n",
       " [0, 15, 90, 90],\n",
       " [65, 80, 0, 45],\n",
       " [0, 0, 85, 80],\n",
       " [75, 90, 0, 35],\n",
       " [0, 0, 100, 85],\n",
       " [75, 85, 0, 70],\n",
       " [0, 5, 100, 100],\n",
       " [70, 85, 5, 45],\n",
       " [0, 5, 95, 85],\n",
       " [70, 95, 5, 5],\n",
       " [0, 20, 95, 80],\n",
       " [70, 90, 15, 15],\n",
       " [0, 0, 100, 75],\n",
       " [75, 95, 5, 30],\n",
       " [0, 20, 100, 85],\n",
       " [70, 85, 5, 40],\n",
       " [0, 0, 95, 80],\n",
       " [70, 75, 0, 70],\n",
       " [5, 10, 85, 95],\n",
       " [65, 95, 0, 15],\n",
       " [0, 10, 90, 85],\n",
       " [70, 90, 0, 30],\n",
       " [0, 30, 90, 80],\n",
       " [70, 100, 0, 10],\n",
       " [0, 10, 100, 90],\n",
       " [60, 80, 20, 50],\n",
       " [0, 10, 90, 80],\n",
       " [70, 90, 10, 60],\n",
       " [0, 20, 100, 100],\n",
       " [60, 90, 30, 30],\n",
       " [0, 10, 100, 80],\n",
       " [50, 100, 10, 10],\n",
       " [0, 0, 90, 90],\n",
       " [60, 60, 10, 40],\n",
       " [10, 10, 70, 60],\n",
       " [60, 90, 0, 40],\n",
       " [0, 40, 80, 80],\n",
       " [60, 100, 10, 40],\n",
       " [0, 10, 100, 100]]"
      ]
     },
     "execution_count": 44,
     "metadata": {},
     "output_type": "execute_result"
    }
   ],
   "source": [
    "l_confusion_points"
   ]
  },
  {
   "cell_type": "code",
   "execution_count": null,
   "id": "eb9fe2e7",
   "metadata": {},
   "outputs": [],
   "source": []
  }
 ],
 "metadata": {
  "kernelspec": {
   "display_name": "mixing",
   "language": "python",
   "name": "mixing"
  },
  "language_info": {
   "codemirror_mode": {
    "name": "ipython",
    "version": 3
   },
   "file_extension": ".py",
   "mimetype": "text/x-python",
   "name": "python",
   "nbconvert_exporter": "python",
   "pygments_lexer": "ipython3",
   "version": "3.11.6"
  },
  "toc": {
   "base_numbering": 1,
   "nav_menu": {},
   "number_sections": true,
   "sideBar": true,
   "skip_h1_title": false,
   "title_cell": "Table of Contents",
   "title_sidebar": "Contents",
   "toc_cell": false,
   "toc_position": {
    "height": "calc(100% - 180px)",
    "left": "10px",
    "top": "150px",
    "width": "383.993px"
   },
   "toc_section_display": true,
   "toc_window_display": true
  }
 },
 "nbformat": 4,
 "nbformat_minor": 5
}

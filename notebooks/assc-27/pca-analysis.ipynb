{
 "cells": [
  {
   "cell_type": "code",
   "execution_count": 1,
   "metadata": {},
   "outputs": [],
   "source": [
    "import numpy as np\n",
    "import matplotlib.pyplot as plt\n",
    "from tqdm import tqdm"
   ]
  },
  {
   "cell_type": "code",
   "execution_count": 2,
   "metadata": {},
   "outputs": [
    {
     "name": "stdout",
     "output_type": "stream",
     "text": [
      "Jupyter environment detected. Enabling Open3D WebVisualizer.\n",
      "[Open3D INFO] WebRTC GUI backend enabled.\n",
      "[Open3D INFO] WebRTCWindowSystem: HTTP handshake server disabled.\n"
     ]
    }
   ],
   "source": [
    "from chromalab.spectra import Spectra, Illuminant, convert_refs_to_spectras\n",
    "from chromalab.observer import Observer\n",
    "from chromalab.maxbasis import MaxBasis\n",
    "from chromalab.spectral_analysis import NTIREDataLoader, RudermanAnalysis\n",
    "from chromalab.visualizer import PSWrapper, DisplayBasisType, exportAndPlay\n"
   ]
  },
  {
   "cell_type": "code",
   "execution_count": 3,
   "metadata": {},
   "outputs": [],
   "source": [
    "%load_ext autoreload\n",
    "%autoreload 2\n",
    "%matplotlib ipympl"
   ]
  },
  {
   "cell_type": "code",
   "execution_count": 4,
   "metadata": {},
   "outputs": [
    {
     "name": "stderr",
     "output_type": "stream",
     "text": [
      "100%|██████████| 28/28 [00:00<00:00, 1362.02it/s]\n",
      "/home/jlee/ChromaLab/chromalab/spectra.py:36: UserWarning: Data has values not between 0 and 1. Clipping.\n",
      "  warnings.warn(\"Data has values not between 0 and 1. Clipping.\")\n",
      "100%|██████████| 28/28 [00:00<00:00, 77.48it/s]\n"
     ]
    },
    {
     "name": "stdout",
     "output_type": "stream",
     "text": [
      "GLFW emitted error: X11: Failed to open display localhost:11.0\n",
      "[polyscope]  [EXCEPTION] ERROR: Failed to initialize glfw\n",
      "[polyscope] Attempting automatic initialization. Could not initialize backend [openGL3_glfw]. Message: [polyscope]  [EXCEPTION] ERROR: Failed to initialize glfw\n",
      "[polyscope]  [EXCEPTION] Automatic initialization: no Polyscope backends could be initialized successfully.\n"
     ]
    },
    {
     "ename": "RuntimeError",
     "evalue": "[polyscope]  [EXCEPTION] Automatic initialization: no Polyscope backends could be initialized successfully.",
     "output_type": "error",
     "traceback": [
      "\u001b[0;31m---------------------------------------------------------------------------\u001b[0m",
      "\u001b[0;31mRuntimeError\u001b[0m                              Traceback (most recent call last)",
      "Cell \u001b[0;32mIn[4], line 10\u001b[0m\n\u001b[1;32m      8\u001b[0m tetrachromat \u001b[38;5;241m=\u001b[39m Observer\u001b[38;5;241m.\u001b[39mtetrachromat(wavelengths\u001b[38;5;241m=\u001b[39mwavelengths10, illuminant\u001b[38;5;241m=\u001b[39md65, verbose\u001b[38;5;241m=\u001b[39m\u001b[38;5;28;01mTrue\u001b[39;00m)\n\u001b[1;32m      9\u001b[0m maxbasis \u001b[38;5;241m=\u001b[39m MaxBasis(tetrachromat, verbose\u001b[38;5;241m=\u001b[39m\u001b[38;5;28;01mTrue\u001b[39;00m)\n\u001b[0;32m---> 10\u001b[0m viz \u001b[38;5;241m=\u001b[39m \u001b[43mPSWrapper\u001b[49m\u001b[43m(\u001b[49m\u001b[43mtetrachromat\u001b[49m\u001b[43m,\u001b[49m\u001b[43m \u001b[49m\u001b[43mmaxbasis\u001b[49m\u001b[43m,\u001b[49m\u001b[43m \u001b[49m\u001b[43mitemsToDisplay\u001b[49m\u001b[38;5;241;43m=\u001b[39;49m\u001b[43mPSWrapper\u001b[49m\u001b[38;5;241;43m.\u001b[39;49m\u001b[43mItemsToDisplay\u001b[49m\u001b[38;5;241;43m.\u001b[39;49m\u001b[43mMESH\u001b[49m\u001b[43m,\u001b[49m\u001b[43m \u001b[49m\u001b[43mdisplayBasis\u001b[49m\u001b[38;5;241;43m=\u001b[39;49m\u001b[43mDisplayBasisType\u001b[49m\u001b[38;5;241;43m.\u001b[39;49m\u001b[43mCONE\u001b[49m\u001b[43m,\u001b[49m\u001b[43m \u001b[49m\u001b[43mverbose\u001b[49m\u001b[38;5;241;43m=\u001b[39;49m\u001b[38;5;28;43;01mTrue\u001b[39;49;00m\u001b[43m)\u001b[49m\n",
      "File \u001b[0;32m~/ChromaLab/chromalab/visualizer.py:218\u001b[0m, in \u001b[0;36mPSWrapper.__init__\u001b[0;34m(self, observer, maxbasis, itemsToDisplay, displayBasis, verbose)\u001b[0m\n\u001b[1;32m    215\u001b[0m \u001b[38;5;28mself\u001b[39m\u001b[38;5;241m.\u001b[39mdispBasisType \u001b[38;5;241m=\u001b[39m displayBasis\n\u001b[1;32m    216\u001b[0m \u001b[38;5;28mself\u001b[39m\u001b[38;5;241m.\u001b[39mitemsToDisplay \u001b[38;5;241m=\u001b[39m itemsToDisplay\n\u001b[0;32m--> 218\u001b[0m \u001b[38;5;28;43mself\u001b[39;49m\u001b[38;5;241;43m.\u001b[39;49m\u001b[43mdefaultInitPS\u001b[49m\u001b[43m(\u001b[49m\u001b[43m)\u001b[49m\n\u001b[1;32m    220\u001b[0m \u001b[38;5;28mself\u001b[39m\u001b[38;5;241m.\u001b[39mobjects \u001b[38;5;241m=\u001b[39m []\n\u001b[1;32m    221\u001b[0m \u001b[38;5;28;01mif\u001b[39;00m itemsToDisplay \u001b[38;5;241m==\u001b[39m PSWrapper\u001b[38;5;241m.\u001b[39mItemsToDisplay\u001b[38;5;241m.\u001b[39mMESH \u001b[38;5;129;01mor\u001b[39;00m itemsToDisplay \u001b[38;5;241m==\u001b[39m PSWrapper\u001b[38;5;241m.\u001b[39mItemsToDisplay\u001b[38;5;241m.\u001b[39mBOTH:\n",
      "File \u001b[0;32m~/ChromaLab/chromalab/visualizer.py:230\u001b[0m, in \u001b[0;36mPSWrapper.defaultInitPS\u001b[0;34m(self)\u001b[0m\n\u001b[1;32m    229\u001b[0m \u001b[38;5;28;01mdef\u001b[39;00m \u001b[38;5;21mdefaultInitPS\u001b[39m(\u001b[38;5;28mself\u001b[39m):\n\u001b[0;32m--> 230\u001b[0m     \u001b[43mps\u001b[49m\u001b[38;5;241;43m.\u001b[39;49m\u001b[43minit\u001b[49m\u001b[43m(\u001b[49m\u001b[43m)\u001b[49m\n\u001b[1;32m    231\u001b[0m     ps\u001b[38;5;241m.\u001b[39mset_up_dir(\u001b[38;5;124m\"\u001b[39m\u001b[38;5;124mz_up\u001b[39m\u001b[38;5;124m\"\u001b[39m)\n\u001b[1;32m    232\u001b[0m     ps\u001b[38;5;241m.\u001b[39mset_ground_plane_mode(\u001b[38;5;124m\"\u001b[39m\u001b[38;5;124mshadow_only\u001b[39m\u001b[38;5;124m\"\u001b[39m)\n",
      "File \u001b[0;32m~/anaconda3/envs/chromalab/lib/python3.11/site-packages/polyscope/core.py:15\u001b[0m, in \u001b[0;36minit\u001b[0;34m(backend)\u001b[0m\n\u001b[1;32m     11\u001b[0m \u001b[38;5;250m\u001b[39m\u001b[38;5;124;03m\"\"\"Initialize Polyscope\"\"\"\u001b[39;00m\n\u001b[1;32m     13\u001b[0m cwd_before \u001b[38;5;241m=\u001b[39m os\u001b[38;5;241m.\u001b[39mgetcwd() \u001b[38;5;66;03m# see note below\u001b[39;00m\n\u001b[0;32m---> 15\u001b[0m \u001b[43mpsb\u001b[49m\u001b[38;5;241;43m.\u001b[39;49m\u001b[43minit\u001b[49m\u001b[43m(\u001b[49m\u001b[43mbackend\u001b[49m\u001b[43m)\u001b[49m\n\u001b[1;32m     17\u001b[0m \u001b[38;5;66;03m# NOTE: For some reason I do not understand, calling psb.init() changes the working directory, causing e.g. writes to relative file paths to write to unexpected locations afterwards.\u001b[39;00m\n\u001b[1;32m     18\u001b[0m \u001b[38;5;66;03m# As a simple workaround, we restore the CWD from before the call. Of course, this does not address the underlying cause, so there may be other subtle problems lurking.  \u001b[39;00m\n\u001b[1;32m     19\u001b[0m os\u001b[38;5;241m.\u001b[39mchdir(cwd_before)\n",
      "\u001b[0;31mRuntimeError\u001b[0m: [polyscope]  [EXCEPTION] Automatic initialization: no Polyscope backends could be initialized successfully."
     ]
    }
   ],
   "source": [
    "wavelengths10 = np.arange(400, 701, 10)\n",
    "d65 = Illuminant.get(\"D65\")\n",
    "\n",
    "trichromat = Observer.trichromat(wavelengths=wavelengths10, illuminant=d65) \n",
    "maxbasis_tri = MaxBasis(trichromat, verbose=True)\n",
    "LMS_to_RGB = maxbasis_tri.get_cone_to_maxbasis_transform()[::-1]\n",
    "\n",
    "tetrachromat = Observer.tetrachromat(wavelengths=wavelengths10, illuminant=d65, verbose=True)\n",
    "maxbasis = MaxBasis(tetrachromat, verbose=True)\n",
    "viz = PSWrapper(tetrachromat, maxbasis, itemsToDisplay=PSWrapper.ItemsToDisplay.MESH, displayBasis=DisplayBasisType.CONE, verbose=True)"
   ]
  },
  {
   "cell_type": "code",
   "execution_count": null,
   "metadata": {},
   "outputs": [],
   "source": [
    "# Process NTIRE Data\n",
    "# ntire_data_loader = NTIREDataLoader(\"/data/NTIRE_2022\", tetrachromat)\n",
    "# ntire_data_loader.getConeResponses()\n",
    "# ntire_data_loader.getSpatialConeResponses()\n",
    "# ntire_data_loader.save(\"./data/ntire_data_loader.pkl\")\n",
    "\n",
    "# Load NTIRE Data\n",
    "ntire_data_loader = NTIREDataLoader.load(\"./data/ntire_data_loader.pkl\")"
   ]
  },
  {
   "cell_type": "code",
   "execution_count": null,
   "metadata": {},
   "outputs": [],
   "source": [
    "tetrachromat_analysis = RudermanAnalysis(tetrachromat, ntire_data_loader)"
   ]
  },
  {
   "cell_type": "code",
   "execution_count": null,
   "metadata": {},
   "outputs": [],
   "source": [
    "tetrachromat_analysis.doConeResponsePCA()\n",
    "tetrachromat_analysis.plotPCA4D(viz)\n",
    "viz.ps.show()"
   ]
  },
  {
   "cell_type": "code",
   "execution_count": null,
   "metadata": {},
   "outputs": [],
   "source": [
    "tetrachromat_analysis.doSpatialPCA()\n",
    "# displays the Spatial PCA results first plotting in SML, and then in MQL space (the long wavelength cone space)\n",
    "tetrachromat_analysis.displaySpatialPCA(\"./outputs/spatial_pca.png\")"
   ]
  },
  {
   "cell_type": "code",
   "execution_count": null,
   "metadata": {},
   "outputs": [],
   "source": []
  }
 ],
 "metadata": {
  "kernelspec": {
   "display_name": "chromalab",
   "language": "python",
   "name": "python3"
  },
  "language_info": {
   "codemirror_mode": {
    "name": "ipython",
    "version": 3
   },
   "file_extension": ".py",
   "mimetype": "text/x-python",
   "name": "python",
   "nbconvert_exporter": "python",
   "pygments_lexer": "ipython3",
   "version": "3.11.9"
  }
 },
 "nbformat": 4,
 "nbformat_minor": 2
}

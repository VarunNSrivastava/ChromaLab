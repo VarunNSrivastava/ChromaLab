{
 "cells": [
  {
   "cell_type": "code",
   "execution_count": 1,
   "id": "11b36e0b",
   "metadata": {},
   "outputs": [],
   "source": [
    "import csv\n",
    "import numpy as np\n",
    "from spectra import Spectra, Pigment\n",
    "import matplotlib.pyplot as plt\n",
    "import numpy.typing as npt\n",
    "import torch as th"
   ]
  },
  {
   "cell_type": "code",
   "execution_count": 2,
   "id": "2e333c60",
   "metadata": {},
   "outputs": [],
   "source": [
    "from observer import Observer, Cone\n",
    "from inks import load_neugebauer, InkGamut, Neugebauer, km_mix, bucket_points, max_dist, sort_buckets"
   ]
  },
  {
   "cell_type": "code",
   "execution_count": 3,
   "id": "6f6312fb",
   "metadata": {},
   "outputs": [],
   "source": [
    "trichromat = Observer.trichromat()\n",
    "tetrachromat = Observer.tetrachromat()"
   ]
  },
  {
   "cell_type": "markdown",
   "id": "28a24431",
   "metadata": {},
   "source": [
    "## Finegrid Search"
   ]
  },
  {
   "cell_type": "code",
   "execution_count": 4,
   "id": "18656bb8",
   "metadata": {
    "code_folding": []
   },
   "outputs": [],
   "source": [
    "cmy_primaries_dict = {}\n",
    "wavelengths1 = np.arange(390, 701, 1)\n",
    "wavelengths10 = np.arange(400, 701, 10)\n",
    "\n",
    "primary_fns = [\n",
    "    \"000\",\n",
    "    \"001\",\n",
    "    \"010\",\n",
    "    \"100\",\n",
    "    \"011\",\n",
    "    \"110\",\n",
    "    \"101\",\n",
    "    \"111\",\n",
    "]\n",
    "\n",
    "for fn in primary_fns:\n",
    "    with open(f'PrintColors/{fn}.csv') as csvf:\n",
    "        spamreader = csv.reader(csvf, delimiter=';')\n",
    "        for i, row in enumerate(spamreader):\n",
    "            if i == 4:\n",
    "                color_data = np.array(row[33:],dtype=float)\n",
    "                spectra = Spectra(data=color_data, wavelengths=wavelengths10)\n",
    "                cmy_primaries_dict[fn] = spectra"
   ]
  },
  {
   "cell_type": "code",
   "execution_count": 5,
   "id": "bb0b1eec",
   "metadata": {},
   "outputs": [],
   "source": [
    "paper = cmy_primaries_dict[\"000\"]\n",
    "cyan = cmy_primaries_dict[\"100\"]\n",
    "magenta = cmy_primaries_dict[\"010\"]\n",
    "yellow = cmy_primaries_dict[\"001\"]"
   ]
  },
  {
   "cell_type": "code",
   "execution_count": 6,
   "id": "a4db87f2",
   "metadata": {},
   "outputs": [],
   "source": [
    "cmy_neugebauer = Neugebauer(cmy_primaries_dict)"
   ]
  },
  {
   "cell_type": "code",
   "execution_count": 7,
   "id": "bcf4262d",
   "metadata": {},
   "outputs": [],
   "source": [
    "cmy_gamut = InkGamut(cmy_neugebauer)"
   ]
  },
  {
   "cell_type": "markdown",
   "id": "001a6dc6",
   "metadata": {},
   "source": [
    "todo: figure out whitepoint shit"
   ]
  },
  {
   "cell_type": "markdown",
   "id": "b58e8066",
   "metadata": {},
   "source": [
    "mean as simple verify statistic idk"
   ]
  },
  {
   "cell_type": "code",
   "execution_count": 9,
   "id": "6a37de82",
   "metadata": {},
   "outputs": [],
   "source": [
    "cmy_gamut.whitepoint"
   ]
  },
  {
   "cell_type": "code",
   "execution_count": 10,
   "id": "f833a44b",
   "metadata": {
    "scrolled": true
   },
   "outputs": [
    {
     "name": "stderr",
     "output_type": "stream",
     "text": [
      "Generating Point Cloud: 100%|█████████████████████████████████████████████████████████████████████████████████████████| 1331/1331 [00:00<00:00, 63423.71it/s]\n"
     ]
    },
    {
     "data": {
      "text/plain": [
       "(1331, 3)"
      ]
     },
     "execution_count": 10,
     "metadata": {},
     "output_type": "execute_result"
    }
   ],
   "source": [
    "cmy_gamut.get_point_cloud(trichromat)[0].shape"
   ]
  },
  {
   "cell_type": "code",
   "execution_count": 11,
   "id": "5f7c6046",
   "metadata": {},
   "outputs": [
    {
     "name": "stderr",
     "output_type": "stream",
     "text": [
      "Generating Point Cloud: 100%|███████████████████████████████████████████████████████████████████████████████████████████████| 3/3 [00:00<00:00, 10636.44it/s]\n"
     ]
    },
    {
     "data": {
      "text/plain": [
       "(array([[0.84281343, 0.82806234, 0.82505136],\n",
       "        [0.53777441, 0.41412912, 0.4953809 ],\n",
       "        [0.4917392 , 0.36386024, 0.45414056]]),\n",
       " array([[0. , 0. , 0. ],\n",
       "        [0. , 0.5, 0. ],\n",
       "        [0. , 0.6, 0. ]]))"
      ]
     },
     "execution_count": 11,
     "metadata": {},
     "output_type": "execute_result"
    }
   ],
   "source": [
    "cmy_gamut.get_point_cloud(trichromat, grid=np.array([\n",
    "    [0, 0, 0],\n",
    "    [0, 0.5, 0],\n",
    "    [0, 0.6, 0]\n",
    "]))"
   ]
  },
  {
   "cell_type": "code",
   "execution_count": 11,
   "id": "8d741346",
   "metadata": {},
   "outputs": [
    {
     "name": "stderr",
     "output_type": "stream",
     "text": [
      "Generating Point Cloud: 100%|█████████████████████████████████████████████████████████████████████████████████████████| 1331/1331 [00:00<00:00, 65805.61it/s]"
     ]
    },
    {
     "name": "stdout",
     "output_type": "stream",
     "text": [
      "Point cloud generated.\n"
     ]
    },
    {
     "name": "stderr",
     "output_type": "stream",
     "text": [
      "\n"
     ]
    }
   ],
   "source": [
    "percentages = cmy_gamut.get_buckets(trichromat, stepsize=0.1)"
   ]
  },
  {
   "cell_type": "code",
   "execution_count": 12,
   "id": "f7b9d3d0",
   "metadata": {},
   "outputs": [
    {
     "data": {
      "text/plain": [
       "(0.1584569374583029, ((1.0, 0.0, 0.4), (0.0, 0.9, 0.2)))"
      ]
     },
     "execution_count": 12,
     "metadata": {},
     "output_type": "execute_result"
    }
   ],
   "source": [
    "percentages[0]"
   ]
  },
  {
   "cell_type": "code",
   "execution_count": 13,
   "id": "90c66c72",
   "metadata": {},
   "outputs": [
    {
     "name": "stderr",
     "output_type": "stream",
     "text": [
      "Generating Point Cloud: 100%|█████████████████████████████████████████████████████████████████████████████████████████| 1331/1331 [00:00<00:00, 52635.92it/s]\n"
     ]
    },
    {
     "name": "stdout",
     "output_type": "stream",
     "text": [
      "Point cloud generated.\n",
      "exploring [0.8 0.  0.2] to [1.  0.2 0.4] and [0.  0.7 0. ] to [0.2 0.9 0.2]\n"
     ]
    },
    {
     "name": "stderr",
     "output_type": "stream",
     "text": [
      "Generating Point Cloud: 100%|█████████████████████████████████████████████████████████████████████████████████████████| 1331/1331 [00:00<00:00, 66697.16it/s]\n",
      "Generating Point Cloud: 100%|█████████████████████████████████████████████████████████████████████████████████████████| 1331/1331 [00:00<00:00, 66982.05it/s]\n"
     ]
    },
    {
     "data": {
      "text/plain": [
       "(0.1584569374583029, ((1.0, 0.0, 0.4), (0.0, 0.9, 0.2)))"
      ]
     },
     "execution_count": 13,
     "metadata": {},
     "output_type": "execute_result"
    }
   ],
   "source": [
    "percentages_fine = cmy_gamut.get_buckets(trichromat, stepsize=0.1, refined=True)\n",
    "percentages_fine[0]"
   ]
  },
  {
   "cell_type": "code",
   "execution_count": 14,
   "id": "3832315f",
   "metadata": {},
   "outputs": [
    {
     "name": "stderr",
     "output_type": "stream",
     "text": [
      "Generating Point Cloud: 100%|█████████████████████████████████████████████████████████████████████████████████████████| 1331/1331 [00:00<00:00, 63684.18it/s]\n"
     ]
    }
   ],
   "source": [
    "pc10, perc10 = cmy_gamut.get_point_cloud(trichromat, stepsize=0.1)"
   ]
  },
  {
   "cell_type": "code",
   "execution_count": 15,
   "id": "9c4a091c",
   "metadata": {},
   "outputs": [
    {
     "data": {
      "text/plain": [
       "(0.1584569374583029, (1214, 101))"
      ]
     },
     "execution_count": 15,
     "metadata": {},
     "output_type": "execute_result"
    }
   ],
   "source": [
    "max_dist(bucket_points(pc10))"
   ]
  },
  {
   "cell_type": "code",
   "execution_count": 16,
   "id": "d7dae722",
   "metadata": {},
   "outputs": [
    {
     "data": {
      "text/plain": [
       "(array([1. , 0. , 0.4]), array([0. , 0.9, 0.2]))"
      ]
     },
     "execution_count": 16,
     "metadata": {},
     "output_type": "execute_result"
    }
   ],
   "source": [
    "perc10[1214], perc10[101]"
   ]
  },
  {
   "cell_type": "code",
   "execution_count": 17,
   "id": "e0b9d83b",
   "metadata": {
    "scrolled": true
   },
   "outputs": [
    {
     "name": "stdout",
     "output_type": "stream",
     "text": [
      "exploring [0.9 0.  0.3] to [1.  0.1 0.4] and [0.  0.8 0.1] to [0.1 0.9 0.2]\n"
     ]
    },
    {
     "name": "stderr",
     "output_type": "stream",
     "text": [
      "Generating Point Cloud: 100%|███████████████████████████████████████████████████████████████████████████████████████████| 216/216 [00:00<00:00, 59587.59it/s]\n",
      "Generating Point Cloud: 100%|███████████████████████████████████████████████████████████████████████████████████████████| 216/216 [00:00<00:00, 56104.14it/s]\n"
     ]
    }
   ],
   "source": [
    "pc_refined, perc_refined = cmy_gamut.get_refined_point_cloud(trichromat, \n",
    "                                 np.array([1, 0, 0.4]),\n",
    "                                 np.array([0, 0.9, 0.2]) )"
   ]
  },
  {
   "cell_type": "code",
   "execution_count": 18,
   "id": "94ce378e",
   "metadata": {},
   "outputs": [
    {
     "data": {
      "text/plain": [
       "(432, 3)"
      ]
     },
     "execution_count": 18,
     "metadata": {},
     "output_type": "execute_result"
    }
   ],
   "source": [
    "pc_refined.shape"
   ]
  },
  {
   "cell_type": "code",
   "execution_count": 19,
   "id": "fba527cf",
   "metadata": {},
   "outputs": [
    {
     "data": {
      "text/plain": [
       "(1331, 3)"
      ]
     },
     "execution_count": 19,
     "metadata": {},
     "output_type": "execute_result"
    }
   ],
   "source": [
    "pc10.shape"
   ]
  },
  {
   "cell_type": "code",
   "execution_count": 20,
   "id": "eb369783",
   "metadata": {},
   "outputs": [
    {
     "data": {
      "text/plain": [
       "(0.16741721520257072, (180, 234))"
      ]
     },
     "execution_count": 20,
     "metadata": {},
     "output_type": "execute_result"
    }
   ],
   "source": [
    "max_dist(bucket_points(pc_refined))"
   ]
  },
  {
   "cell_type": "code",
   "execution_count": 21,
   "id": "279db604",
   "metadata": {},
   "outputs": [
    {
     "data": {
      "text/plain": [
       "[(0.16741721520257072, (180, 234)),\n",
       " (0.1638416442910474, (193, 246)),\n",
       " (0.16359473233587876, (149, 239)),\n",
       " (0.16341496739992817, (148, 238)),\n",
       " (0.1632266717585415, (147, 237)),\n",
       " (0.1630297085806587, (146, 236)),\n",
       " (0.16290662789776916, (108, 228)),\n",
       " (0.16217779548737488, (191, 251)),\n",
       " (0.161593856796052, (190, 249)),\n",
       " (0.1612073489705659, (188, 248))]"
      ]
     },
     "execution_count": 21,
     "metadata": {},
     "output_type": "execute_result"
    }
   ],
   "source": [
    "sort_buckets(bucket_points(pc_refined))[:10]"
   ]
  },
  {
   "cell_type": "code",
   "execution_count": 22,
   "id": "266ad56f",
   "metadata": {},
   "outputs": [
    {
     "data": {
      "text/plain": [
       "(array([0.98, 0.  , 0.36]), array([0.  , 0.86, 0.18]))"
      ]
     },
     "execution_count": 22,
     "metadata": {},
     "output_type": "execute_result"
    }
   ],
   "source": [
    "perc_refined[147], perc_refined[238]"
   ]
  },
  {
   "cell_type": "markdown",
   "id": "055b8fef",
   "metadata": {},
   "source": [
    "prfect!! let us c.."
   ]
  },
  {
   "cell_type": "code",
   "execution_count": 23,
   "id": "67340db1",
   "metadata": {},
   "outputs": [
    {
     "name": "stderr",
     "output_type": "stream",
     "text": [
      "Generating Point Cloud: 100%|█████████████████████████████████████████████████████████████████████████████████████| 132651/132651 [00:01<00:00, 94102.62it/s]\n"
     ]
    }
   ],
   "source": [
    "pc2, perc2 = cmy_gamut.get_point_cloud(trichromat, stepsize=0.02)"
   ]
  },
  {
   "cell_type": "code",
   "execution_count": 24,
   "id": "0ffd16a6",
   "metadata": {},
   "outputs": [
    {
     "data": {
      "text/plain": [
       "(132651, 3)"
      ]
     },
     "execution_count": 24,
     "metadata": {},
     "output_type": "execute_result"
    }
   ],
   "source": [
    "pc2.shape"
   ]
  },
  {
   "cell_type": "code",
   "execution_count": 25,
   "id": "ecd00e19",
   "metadata": {},
   "outputs": [
    {
     "data": {
      "text/plain": [
       "(0.16741721520257133, (130065, 2198))"
      ]
     },
     "execution_count": 25,
     "metadata": {},
     "output_type": "execute_result"
    }
   ],
   "source": [
    "max_dist(bucket_points(pc2))"
   ]
  },
  {
   "cell_type": "code",
   "execution_count": 26,
   "id": "984b912b",
   "metadata": {},
   "outputs": [
    {
     "data": {
      "text/plain": [
       "(array([1. , 0. , 0.3]), array([0.  , 0.86, 0.1 ]))"
      ]
     },
     "execution_count": 26,
     "metadata": {},
     "output_type": "execute_result"
    }
   ],
   "source": [
    "perc2[130065], perc2[2198]"
   ]
  },
  {
   "cell_type": "code",
   "execution_count": 27,
   "id": "2a8555b2",
   "metadata": {},
   "outputs": [
    {
     "data": {
      "text/plain": [
       "307.0625"
      ]
     },
     "execution_count": 27,
     "metadata": {},
     "output_type": "execute_result"
    }
   ],
   "source": [
    "132651/432"
   ]
  },
  {
   "cell_type": "code",
   "execution_count": 28,
   "id": "7b44b17d",
   "metadata": {},
   "outputs": [
    {
     "name": "stderr",
     "output_type": "stream",
     "text": [
      "Generating Point Cloud: 100%|█████████████████████████████████████████████████████████████████████████████████████████| 1331/1331 [00:00<00:00, 65319.00it/s]"
     ]
    },
    {
     "name": "stdout",
     "output_type": "stream",
     "text": [
      "Point cloud generated.\n",
      "maximum distance is 0.1584569374583029 with percentages (1.0, 0.0, 0.4) and (0.0, 0.9, 0.2)\n"
     ]
    },
    {
     "name": "stderr",
     "output_type": "stream",
     "text": [
      "\n"
     ]
    },
    {
     "data": {
      "text/plain": [
       "0.1584569374583029"
      ]
     },
     "execution_count": 28,
     "metadata": {},
     "output_type": "execute_result"
    }
   ],
   "source": [
    "cmy_gamut.get_width(trichromat)"
   ]
  },
  {
   "cell_type": "code",
   "execution_count": 29,
   "id": "9818818b",
   "metadata": {},
   "outputs": [
    {
     "name": "stderr",
     "output_type": "stream",
     "text": [
      "Generating Point Cloud: 100%|█████████████████████████████████████████████████████████████████████████████████████████| 1331/1331 [00:00<00:00, 65550.62it/s]"
     ]
    },
    {
     "name": "stdout",
     "output_type": "stream",
     "text": [
      "Point cloud generated.\n"
     ]
    },
    {
     "name": "stderr",
     "output_type": "stream",
     "text": [
      "\n"
     ]
    },
    {
     "data": {
      "text/plain": [
       "[(0.1584569374583029, ((1.0, 0.0, 0.4), (0.0, 0.9, 0.2))),\n",
       " (0.15372003801075296, ((1.0, 0.1, 0.4), (0.0, 1.0, 0.2))),\n",
       " (0.1493530864617803, ((0.9, 0.1, 0.30000000000000004), (0.0, 0.9, 0.1))),\n",
       " (0.14383333848631635, ((1.0, 0.0, 1.0), (0.0, 1.0, 0.9))),\n",
       " (0.14326970763805136, ((1.0, 0.0, 0.9), (0.0, 1.0, 0.8))),\n",
       " (0.14283469270124896, ((0.9, 0.0, 1.0), (0.0, 0.9, 1.0))),\n",
       " (0.1378217567812388, ((0.8, 0.0, 1.0), (0.0, 0.8, 1.0))),\n",
       " (0.1349285822957062, ((1.0, 0.1, 0.2), (0.1, 0.9, 0.0))),\n",
       " (0.13393653238269973,\n",
       "  ((0.8, 0.30000000000000004, 0.30000000000000004), (0.0, 1.0, 0.1))),\n",
       " (0.130444312945369,\n",
       "  ((0.7000000000000001, 0.1, 0.6000000000000001), (0.0, 0.8, 0.5)))]"
      ]
     },
     "execution_count": 29,
     "metadata": {},
     "output_type": "execute_result"
    }
   ],
   "source": [
    "cmy_gamut.get_buckets(trichromat)[:10]"
   ]
  },
  {
   "cell_type": "markdown",
   "id": "6f982068",
   "metadata": {},
   "source": [
    "Exploring 432 vs 132,651 points is a 307x improvement! Very good!!"
   ]
  },
  {
   "cell_type": "markdown",
   "id": "8bbd0088",
   "metadata": {},
   "source": [
    "## Load Fountain Inks"
   ]
  },
  {
   "cell_type": "markdown",
   "id": "97caef64",
   "metadata": {},
   "source": [
    "This formulation should be useful to load the neugebauer data."
   ]
  },
  {
   "cell_type": "code",
   "execution_count": 15,
   "id": "2e42e60f",
   "metadata": {},
   "outputs": [
    {
     "data": {
      "image/png": "[encoded data removed]",
      "text/plain": [
       "<Figure size 640x480 with 1 Axes>"
      ]
     },
     "metadata": {},
     "output_type": "display_data"
    }
   ],
   "source": [
    "fountain_inks = {}\n",
    "fig, axc = plt.subplots()\n",
    "with open(f'Inks.csv') as csvf:\n",
    "    spamreader = csv.reader(csvf, delimiter=';')\n",
    "    for i, row in enumerate(spamreader):\n",
    "        if i >= 4:\n",
    "            name = row[4]\n",
    "            color_data = np.array(row[33:],dtype=float)\n",
    "            spectra = Spectra(data=color_data, wavelengths=wavelengths10)\n",
    "            spectra.plot(ax=axc)\n",
    "            \n",
    "            fountain_inks[name] = spectra\n",
    "            \n",
    "plt.show()"
   ]
  },
  {
   "cell_type": "code",
   "execution_count": 16,
   "id": "00bfdc8f",
   "metadata": {},
   "outputs": [
    {
     "data": {
      "text/plain": [
       "<spectra.Spectra at 0x14c635c50>"
      ]
     },
     "execution_count": 16,
     "metadata": {},
     "output_type": "execute_result"
    }
   ],
   "source": [
    "fountain_inks[\"Platinum violet\"]"
   ]
  },
  {
   "cell_type": "markdown",
   "id": "725dc008",
   "metadata": {},
   "source": [
    "## inks127"
   ]
  },
  {
   "cell_type": "code",
   "execution_count": 17,
   "id": "59d0027d",
   "metadata": {},
   "outputs": [
    {
     "name": "stdout",
     "output_type": "stream",
     "text": [
      "Cheshire cat.csv         Opportunity.csv          Robert oster.csv\r\n",
      "Media beliar.csv         Pineider violet.csv      Think Pink.csv\r\n",
      "North African violet.csv Purple jade rabbit.csv   Violet lion.csv\r\n"
     ]
    }
   ],
   "source": [
    "!ls inks127"
   ]
  },
  {
   "cell_type": "code",
   "execution_count": 18,
   "id": "c8a467e5",
   "metadata": {},
   "outputs": [
    {
     "data": {
      "image/png": "[encoded data removed]",
      "text/plain": [
       "<Figure size 640x480 with 1 Axes>"
      ]
     },
     "metadata": {},
     "output_type": "display_data"
    }
   ],
   "source": [
    "inks_127 = {}\n",
    "\n",
    "for fn in [\"Think Pink\", \"Opportunity\", \"Robert oster\", \"Cheshire cat\"]:\n",
    "    with open(f'inks127/{fn}.csv') as csvf:\n",
    "        spamreader = csv.reader(csvf, delimiter=';')\n",
    "        for i, row in enumerate(spamreader):\n",
    "            if i == 4:\n",
    "                color_data = np.array(row[33:],dtype=float)\n",
    "                spectra = Spectra(data=color_data, wavelengths=wavelengths10)\n",
    "                inks_127[fn] = spectra\n",
    "                spectra.plot()\n",
    "            \n",
    "plt.show()"
   ]
  },
  {
   "cell_type": "code",
   "execution_count": 19,
   "id": "518c571b",
   "metadata": {},
   "outputs": [],
   "source": [
    "inks_127[\"Platinum violet\"] = fountain_inks[\"Platinum violet\"]"
   ]
  },
  {
   "cell_type": "code",
   "execution_count": 20,
   "id": "c1585ee7",
   "metadata": {},
   "outputs": [
    {
     "name": "stderr",
     "output_type": "stream",
     "text": [
      "Generating Point Cloud:   7%|▌      | 292325/4084101 [00:02<00:38, 99382.70it/s]\n"
     ]
    },
    {
     "ename": "KeyboardInterrupt",
     "evalue": "",
     "output_type": "error",
     "traceback": [
      "\u001b[0;31m---------------------------------------------------------------------------\u001b[0m",
      "\u001b[0;31mKeyboardInterrupt\u001b[0m                         Traceback (most recent call last)",
      "Cell \u001b[0;32mIn[20], line 3\u001b[0m\n\u001b[1;32m      1\u001b[0m \u001b[38;5;28;01mfor\u001b[39;00m ink_name, purple \u001b[38;5;129;01min\u001b[39;00m inks_127\u001b[38;5;241m.\u001b[39mitems():\n\u001b[1;32m      2\u001b[0m     gamut \u001b[38;5;241m=\u001b[39m InkGamut([cyan, magenta, yellow, fountain_inks[\u001b[38;5;124m\"\u001b[39m\u001b[38;5;124mPeach haze D\u001b[39m\u001b[38;5;124m\"\u001b[39m], purple], paper)\n\u001b[0;32m----> 3\u001b[0m     dist \u001b[38;5;241m=\u001b[39m gamut\u001b[38;5;241m.\u001b[39mget_width(tetrachromat, verbose\u001b[38;5;241m=\u001b[39m\u001b[38;5;28;01mTrue\u001b[39;00m, stepsize\u001b[38;5;241m=\u001b[39m\u001b[38;5;241m0.05\u001b[39m)\n\u001b[1;32m      4\u001b[0m     \u001b[38;5;28mprint\u001b[39m(ink_name, \u001b[38;5;124m\"\u001b[39m\u001b[38;5;124mhas max dist\u001b[39m\u001b[38;5;124m\"\u001b[39m, dist)\n",
      "File \u001b[0;32m~/Documents/Python/Mixing/inks.py:316\u001b[0m, in \u001b[0;36mInkGamut.get_width\u001b[0;34m(self, observe, whitepoint, axis, stepsize, verbose, save, refined)\u001b[0m\n\u001b[1;32m    314\u001b[0m \u001b[38;5;28;01mdef\u001b[39;00m \u001b[38;5;21mget_width\u001b[39m(\u001b[38;5;28mself\u001b[39m, observe: Union[Observer, npt\u001b[38;5;241m.\u001b[39mNDArray], whitepoint: Optional[npt\u001b[38;5;241m.\u001b[39mNDArray] \u001b[38;5;241m=\u001b[39m \u001b[38;5;28;01mNone\u001b[39;00m,\n\u001b[1;32m    315\u001b[0m               axis\u001b[38;5;241m=\u001b[39m\u001b[38;5;241m2\u001b[39m, stepsize\u001b[38;5;241m=\u001b[39m\u001b[38;5;241m0.1\u001b[39m, verbose\u001b[38;5;241m=\u001b[39m\u001b[38;5;28;01mTrue\u001b[39;00m, save\u001b[38;5;241m=\u001b[39m\u001b[38;5;28;01mFalse\u001b[39;00m, refined\u001b[38;5;241m=\u001b[39m\u001b[38;5;28;01mFalse\u001b[39;00m):\n\u001b[0;32m--> 316\u001b[0m     percentages \u001b[38;5;241m=\u001b[39m \u001b[38;5;28mself\u001b[39m\u001b[38;5;241m.\u001b[39mget_buckets(observe, whitepoint\u001b[38;5;241m=\u001b[39mwhitepoint, axis\u001b[38;5;241m=\u001b[39maxis, stepsize\u001b[38;5;241m=\u001b[39mstepsize, verbose\u001b[38;5;241m=\u001b[39mverbose, save\u001b[38;5;241m=\u001b[39msave, refined\u001b[38;5;241m=\u001b[39mrefined)\n\u001b[1;32m    318\u001b[0m     dst, (pi, pj) \u001b[38;5;241m=\u001b[39m percentages[\u001b[38;5;241m0\u001b[39m]\n\u001b[1;32m    320\u001b[0m     \u001b[38;5;28;01mif\u001b[39;00m verbose \u001b[38;5;129;01mand\u001b[39;00m \u001b[38;5;129;01mnot\u001b[39;00m refined:\n",
      "File \u001b[0;32m~/Documents/Python/Mixing/inks.py:287\u001b[0m, in \u001b[0;36mInkGamut.get_buckets\u001b[0;34m(self, observe, whitepoint, axis, stepsize, verbose, save, refined)\u001b[0m\n\u001b[1;32m    285\u001b[0m \u001b[38;5;28;01mdef\u001b[39;00m \u001b[38;5;21mget_buckets\u001b[39m(\u001b[38;5;28mself\u001b[39m, observe: Union[Observer, npt\u001b[38;5;241m.\u001b[39mNDArray], whitepoint: Optional[npt\u001b[38;5;241m.\u001b[39mNDArray] \u001b[38;5;241m=\u001b[39m \u001b[38;5;28;01mNone\u001b[39;00m,\n\u001b[1;32m    286\u001b[0m               axis\u001b[38;5;241m=\u001b[39m\u001b[38;5;241m2\u001b[39m, stepsize\u001b[38;5;241m=\u001b[39m\u001b[38;5;241m0.1\u001b[39m, verbose\u001b[38;5;241m=\u001b[39m\u001b[38;5;28;01mTrue\u001b[39;00m, save\u001b[38;5;241m=\u001b[39m\u001b[38;5;28;01mFalse\u001b[39;00m, refined\u001b[38;5;241m=\u001b[39m\u001b[38;5;28;01mFalse\u001b[39;00m):\n\u001b[0;32m--> 287\u001b[0m     point_cloud, percentages \u001b[38;5;241m=\u001b[39m \u001b[38;5;28mself\u001b[39m\u001b[38;5;241m.\u001b[39mget_point_cloud(observe, whitepoint, stepsize)\n\u001b[1;32m    288\u001b[0m     \u001b[38;5;28;01mif\u001b[39;00m verbose: \u001b[38;5;28mprint\u001b[39m(\u001b[38;5;124m\"\u001b[39m\u001b[38;5;124mPoint cloud generated.\u001b[39m\u001b[38;5;124m\"\u001b[39m)\n\u001b[1;32m    290\u001b[0m     \u001b[38;5;28;01mif\u001b[39;00m save:\n",
      "File \u001b[0;32m~/Documents/Python/Mixing/inks.py:279\u001b[0m, in \u001b[0;36mInkGamut.get_point_cloud\u001b[0;34m(self, observe, whitepoint, stepsize, grid)\u001b[0m\n\u001b[1;32m    275\u001b[0m     total_combinations \u001b[38;5;241m=\u001b[39m grid\u001b[38;5;241m.\u001b[39mshape[\u001b[38;5;241m0\u001b[39m]\n\u001b[1;32m    277\u001b[0m \u001b[38;5;28;01mfor\u001b[39;00m percentages \u001b[38;5;129;01min\u001b[39;00m tqdm(grid, total\u001b[38;5;241m=\u001b[39mtotal_combinations, desc\u001b[38;5;241m=\u001b[39m\u001b[38;5;124m'\u001b[39m\u001b[38;5;124mGenerating Point Cloud\u001b[39m\u001b[38;5;124m'\u001b[39m):\n\u001b[0;32m--> 279\u001b[0m     stimulus \u001b[38;5;241m=\u001b[39m \u001b[38;5;28mself\u001b[39m\u001b[38;5;241m.\u001b[39mneugebauer\u001b[38;5;241m.\u001b[39mobserve(np\u001b[38;5;241m.\u001b[39marray(percentages), observe, whitepoint)\n\u001b[1;32m    280\u001b[0m     point_cloud\u001b[38;5;241m.\u001b[39mappend(stimulus)\n\u001b[1;32m    281\u001b[0m     _percentages\u001b[38;5;241m.\u001b[39mappend(percentages)\n",
      "File \u001b[0;32m~/Documents/Python/Mixing/inks.py:151\u001b[0m, in \u001b[0;36mNeugebauer.observe\u001b[0;34m(self, percentages, observer, whitepoint)\u001b[0m\n\u001b[1;32m    149\u001b[0m \u001b[38;5;28;01mif\u001b[39;00m whitepoint \u001b[38;5;129;01mis\u001b[39;00m \u001b[38;5;28;01mNone\u001b[39;00m:\n\u001b[1;32m    150\u001b[0m     whitepoint \u001b[38;5;241m=\u001b[39m np\u001b[38;5;241m.\u001b[39mmatmul(observer, np\u001b[38;5;241m.\u001b[39mones_like(\u001b[38;5;28mself\u001b[39m\u001b[38;5;241m.\u001b[39mwavelengths))\n\u001b[0;32m--> 151\u001b[0m \u001b[38;5;28;01mreturn\u001b[39;00m observe_spectra(\u001b[38;5;28mself\u001b[39m\u001b[38;5;241m.\u001b[39mmix(percentages), observer, whitepoint)\n",
      "File \u001b[0;32m~/Documents/Python/Mixing/inks.py:142\u001b[0m, in \u001b[0;36mNeugebauer.mix\u001b[0;34m(self, percentages)\u001b[0m\n\u001b[1;32m    140\u001b[0m \u001b[38;5;28;01mdef\u001b[39;00m \u001b[38;5;21mmix\u001b[39m(\u001b[38;5;28mself\u001b[39m, percentages: npt\u001b[38;5;241m.\u001b[39mNDArray) \u001b[38;5;241m-\u001b[39m\u001b[38;5;241m>\u001b[39m npt\u001b[38;5;241m.\u001b[39mNDArray:\n\u001b[1;32m    141\u001b[0m     w_p \u001b[38;5;241m=\u001b[39m (\u001b[38;5;28mself\u001b[39m\u001b[38;5;241m.\u001b[39mweights_array \u001b[38;5;241m*\u001b[39m percentages) \u001b[38;5;241m+\u001b[39m (\u001b[38;5;241m1\u001b[39m \u001b[38;5;241m-\u001b[39m \u001b[38;5;28mself\u001b[39m\u001b[38;5;241m.\u001b[39mweights_array) \u001b[38;5;241m*\u001b[39m (\u001b[38;5;241m1\u001b[39m \u001b[38;5;241m-\u001b[39m percentages)\n\u001b[0;32m--> 142\u001b[0m     w_p_prod \u001b[38;5;241m=\u001b[39m np\u001b[38;5;241m.\u001b[39mprod(w_p, axis\u001b[38;5;241m=\u001b[39m\u001b[38;5;241m1\u001b[39m, keepdims\u001b[38;5;241m=\u001b[39m\u001b[38;5;28;01mTrue\u001b[39;00m)\n\u001b[1;32m    144\u001b[0m     result \u001b[38;5;241m=\u001b[39m np\u001b[38;5;241m.\u001b[39mpower(np\u001b[38;5;241m.\u001b[39mmatmul(w_p_prod\u001b[38;5;241m.\u001b[39mT, \u001b[38;5;28mself\u001b[39m\u001b[38;5;241m.\u001b[39mspectras_array), \u001b[38;5;28mself\u001b[39m\u001b[38;5;241m.\u001b[39mn)\n\u001b[1;32m    146\u001b[0m     \u001b[38;5;28;01mreturn\u001b[39;00m result\n",
      "File \u001b[0;32m~/miniconda3/envs/mixing/lib/python3.11/site-packages/numpy/core/fromnumeric.py:2974\u001b[0m, in \u001b[0;36m_prod_dispatcher\u001b[0;34m(a, axis, dtype, out, keepdims, initial, where)\u001b[0m\n\u001b[1;32m   2960\u001b[0m \u001b[38;5;250m    \u001b[39m\u001b[38;5;124;03m\"\"\"\u001b[39;00m\n\u001b[1;32m   2961\u001b[0m \u001b[38;5;124;03m    Return the minimum of an array or minimum along an axis.\u001b[39;00m\n\u001b[1;32m   2962\u001b[0m \n\u001b[0;32m   (...)\u001b[0m\n\u001b[1;32m   2968\u001b[0m \u001b[38;5;124;03m    ndarray.min : equivalent method\u001b[39;00m\n\u001b[1;32m   2969\u001b[0m \u001b[38;5;124;03m    \"\"\"\u001b[39;00m\n\u001b[1;32m   2970\u001b[0m     \u001b[38;5;28;01mreturn\u001b[39;00m _wrapreduction(a, np\u001b[38;5;241m.\u001b[39mminimum, \u001b[38;5;124m'\u001b[39m\u001b[38;5;124mmin\u001b[39m\u001b[38;5;124m'\u001b[39m, axis, \u001b[38;5;28;01mNone\u001b[39;00m, out,\n\u001b[1;32m   2971\u001b[0m                           keepdims\u001b[38;5;241m=\u001b[39mkeepdims, initial\u001b[38;5;241m=\u001b[39minitial, where\u001b[38;5;241m=\u001b[39mwhere)\n\u001b[0;32m-> 2974\u001b[0m \u001b[38;5;28;01mdef\u001b[39;00m \u001b[38;5;21m_prod_dispatcher\u001b[39m(a, axis\u001b[38;5;241m=\u001b[39m\u001b[38;5;28;01mNone\u001b[39;00m, dtype\u001b[38;5;241m=\u001b[39m\u001b[38;5;28;01mNone\u001b[39;00m, out\u001b[38;5;241m=\u001b[39m\u001b[38;5;28;01mNone\u001b[39;00m, keepdims\u001b[38;5;241m=\u001b[39m\u001b[38;5;28;01mNone\u001b[39;00m,\n\u001b[1;32m   2975\u001b[0m                      initial\u001b[38;5;241m=\u001b[39m\u001b[38;5;28;01mNone\u001b[39;00m, where\u001b[38;5;241m=\u001b[39m\u001b[38;5;28;01mNone\u001b[39;00m):\n\u001b[1;32m   2976\u001b[0m     \u001b[38;5;28;01mreturn\u001b[39;00m (a, out)\n\u001b[1;32m   2979\u001b[0m \u001b[38;5;129m@array_function_dispatch\u001b[39m(_prod_dispatcher)\n\u001b[1;32m   2980\u001b[0m \u001b[38;5;28;01mdef\u001b[39;00m \u001b[38;5;21mprod\u001b[39m(a, axis\u001b[38;5;241m=\u001b[39m\u001b[38;5;28;01mNone\u001b[39;00m, dtype\u001b[38;5;241m=\u001b[39m\u001b[38;5;28;01mNone\u001b[39;00m, out\u001b[38;5;241m=\u001b[39m\u001b[38;5;28;01mNone\u001b[39;00m, keepdims\u001b[38;5;241m=\u001b[39mnp\u001b[38;5;241m.\u001b[39m_NoValue,\n\u001b[1;32m   2981\u001b[0m          initial\u001b[38;5;241m=\u001b[39mnp\u001b[38;5;241m.\u001b[39m_NoValue, where\u001b[38;5;241m=\u001b[39mnp\u001b[38;5;241m.\u001b[39m_NoValue):\n",
      "\u001b[0;31mKeyboardInterrupt\u001b[0m: "
     ]
    }
   ],
   "source": [
    "for ink_name, purple in inks_127.items():\n",
    "    gamut = InkGamut([cyan, magenta, yellow, fountain_inks[\"Peach haze D\"], purple], paper)\n",
    "    dist = gamut.get_width(tetrachromat, verbose=True, stepsize=0.05)\n",
    "    print(ink_name, \"has max dist\", dist)"
   ]
  },
  {
   "cell_type": "code",
   "execution_count": 21,
   "id": "ea338b5a",
   "metadata": {},
   "outputs": [
    {
     "name": "stdout",
     "output_type": "stream",
     "text": [
      "exploring [0.   0.   0.55 0.   0.5 ] to [0.1  0.1  0.65 0.1  0.6 ] and [0.15 0.   0.   0.75 0.  ] to [0.25 0.1  0.1  0.85 0.1 ]\n"
     ]
    },
    {
     "name": "stderr",
     "output_type": "stream",
     "text": [
      "Generating Point Cloud: 100%|████████████| 7776/7776 [00:00<00:00, 91532.89it/s]\n",
      "Generating Point Cloud: 100%|████████████| 7776/7776 [00:00<00:00, 92074.77it/s]\n"
     ]
    }
   ],
   "source": [
    "opportunity = InkGamut( [cyan, magenta, yellow, fountain_inks[\"Peach haze D\"], inks_127[\"Opportunity\"]], paper )\n",
    "opportunity_pc, opportunity_perc = opportunity.get_refined_point_cloud(tetrachromat, \n",
    "                                             np.array([0, 0.05, 0.65, 0.05, 0.6]),\n",
    "                                             np.array([0.25, 0, 0.05, 0.85, 0]))"
   ]
  },
  {
   "cell_type": "code",
   "execution_count": 22,
   "id": "c4906843",
   "metadata": {},
   "outputs": [
    {
     "data": {
      "text/plain": [
       "(0.026620299592053087, (1270, 14424))"
      ]
     },
     "execution_count": 22,
     "metadata": {},
     "output_type": "execute_result"
    }
   ],
   "source": [
    "max_dist(bucket_points(opportunity_pc))"
   ]
  },
  {
   "cell_type": "code",
   "execution_count": 23,
   "id": "e2e0aa70",
   "metadata": {},
   "outputs": [
    {
     "name": "stdout",
     "output_type": "stream",
     "text": [
      "exploring [0.   0.15 0.65 0.   0.6 ] to [0.1  0.25 0.75 0.1  0.7 ] and [0.05 0.   0.15 0.75 0.  ] to [0.15 0.1  0.25 0.85 0.1 ]\n"
     ]
    },
    {
     "name": "stderr",
     "output_type": "stream",
     "text": [
      "Generating Point Cloud: 100%|████████████| 7776/7776 [00:00<00:00, 90531.08it/s]\n",
      "Generating Point Cloud: 100%|████████████| 7776/7776 [00:00<00:00, 90304.23it/s]\n"
     ]
    }
   ],
   "source": [
    "thinkpink = InkGamut( [cyan, magenta, yellow, fountain_inks[\"Peach haze D\"], inks_127[\"Think Pink\"]], paper )\n",
    "thinkpink_pc, thinkpink_perc = thinkpink.get_refined_point_cloud(tetrachromat, \n",
    "                                 np.array([0, 0.25, 0.75, 0.0, 0.7]),\n",
    "                                 np.array([0.15, 0, 0.25, 0.85, 0]))"
   ]
  },
  {
   "cell_type": "code",
   "execution_count": 24,
   "id": "3de3204a",
   "metadata": {
    "scrolled": true
   },
   "outputs": [
    {
     "data": {
      "text/plain": [
       "(0.026581992916068442, (1265, 14466))"
      ]
     },
     "execution_count": 24,
     "metadata": {},
     "output_type": "execute_result"
    }
   ],
   "source": [
    "max_dist(bucket_points(thinkpink_pc))"
   ]
  },
  {
   "cell_type": "code",
   "execution_count": 25,
   "id": "eb62e063",
   "metadata": {},
   "outputs": [
    {
     "name": "stderr",
     "output_type": "stream",
     "text": [
      "Generating Point Cloud: 100%|████████| 161051/161051 [00:01<00:00, 97604.31it/s]\n"
     ]
    },
    {
     "name": "stdout",
     "output_type": "stream",
     "text": [
      "Point cloud generated.\n",
      "exploring [0.  0.  0.4 0.  0.4] to [0.2 0.2 0.6 0.2 0.6] and [0.  0.  0.  0.6 0. ] to [0.2 0.2 0.2 0.8 0.2]\n"
     ]
    },
    {
     "name": "stderr",
     "output_type": "stream",
     "text": [
      "Generating Point Cloud: 100%|████████| 161051/161051 [00:01<00:00, 92334.59it/s]\n",
      "Generating Point Cloud: 100%|████████| 161051/161051 [00:01<00:00, 93773.21it/s]\n"
     ]
    },
    {
     "data": {
      "text/plain": [
       "[(0.025464085034806627,\n",
       "  ((0.0, 0.14, 0.56, 0.04, 0.4800000000000001),\n",
       "   (0.2, 0.06, 0.08, 0.7000000000000001, 0.0))),\n",
       " (0.025381506088441808,\n",
       "  ((0.0, 0.2, 0.54, 0.02, 0.4000000000000001),\n",
       "   (0.2, 0.0, 0.06, 0.7000000000000001, 0.0))),\n",
       " (0.02525466427275258,\n",
       "  ((0.0, 0.14, 0.54, 0.02, 0.52),\n",
       "   (0.2, 0.04, 0.04, 0.7200000000000001, 0.04))),\n",
       " (0.025204587846316073,\n",
       "  ((0.0, 0.14, 0.5000000000000001, 0.02, 0.5000000000000001),\n",
       "   (0.2, 0.08, 0.0, 0.7000000000000001, 0.0))),\n",
       " (0.02515395767825168,\n",
       "  ((0.0, 0.2, 0.56, 0.0, 0.54), (0.2, 0.02, 0.04, 0.7400000000000001, 0.1))),\n",
       " (0.025103206876044892,\n",
       "  ((0.0, 0.1, 0.54, 0.06, 0.5000000000000001),\n",
       "   (0.2, 0.0, 0.06, 0.7200000000000001, 0.04))),\n",
       " (0.02506270851206538,\n",
       "  ((0.0, 0.18, 0.54, 0.02, 0.44000000000000006),\n",
       "   (0.2, 0.0, 0.04, 0.7200000000000001, 0.02))),\n",
       " (0.02493705372815136,\n",
       "  ((0.0, 0.1, 0.5800000000000001, 0.0, 0.5000000000000001),\n",
       "   (0.2, 0.02, 0.06, 0.7200000000000001, 0.0))),\n",
       " (0.024876049691380353,\n",
       "  ((0.0, 0.14, 0.52, 0.04, 0.54),\n",
       "   (0.2, 0.12, 0.02, 0.7000000000000001, 0.02))),\n",
       " (0.024861132870893865,\n",
       "  ((0.0, 0.18, 0.5800000000000001, 0.0, 0.5800000000000001),\n",
       "   (0.2, 0.0, 0.06, 0.7400000000000001, 0.14))),\n",
       " (0.024860614021298022,\n",
       "  ((0.0, 0.0, 0.4800000000000001, 0.02, 0.5000000000000001),\n",
       "   (0.2, 0.0, 0.04, 0.6000000000000001, 0.0))),\n",
       " (0.02478591731488261,\n",
       "  ((0.0, 0.08, 0.5800000000000001, 0.06, 0.56),\n",
       "   (0.2, 0.0, 0.08, 0.7400000000000001, 0.08))),\n",
       " (0.024748847684861852,\n",
       "  ((0.0, 0.14, 0.5800000000000001, 0.02, 0.54),\n",
       "   (0.2, 0.04, 0.08, 0.7200000000000001, 0.06))),\n",
       " (0.024741504905729295,\n",
       "  ((0.0, 0.1, 0.5000000000000001, 0.06, 0.56),\n",
       "   (0.2, 0.06, 0.0, 0.7200000000000001, 0.06))),\n",
       " (0.02472214717624155,\n",
       "  ((0.0, 0.08, 0.6000000000000001, 0.04, 0.54),\n",
       "   (0.2, 0.02, 0.12, 0.7200000000000001, 0.04))),\n",
       " (0.024662909756987095,\n",
       "  ((0.0, 0.14, 0.4600000000000001, 0.08, 0.4000000000000001),\n",
       "   (0.18, 0.0, 0.06, 0.6600000000000001, 0.02))),\n",
       " (0.024660405013486708,\n",
       "  ((0.0, 0.16, 0.56, 0.04, 0.44000000000000006),\n",
       "   (0.2, 0.02, 0.12, 0.7000000000000001, 0.0))),\n",
       " (0.024637973397243218,\n",
       "  ((0.0, 0.16, 0.6000000000000001, 0.02, 0.4200000000000001),\n",
       "   (0.18, 0.0, 0.14, 0.68, 0.02))),\n",
       " (0.024611665162972474,\n",
       "  ((0.0, 0.12, 0.52, 0.04, 0.5000000000000001),\n",
       "   (0.2, 0.0, 0.02, 0.7400000000000001, 0.04))),\n",
       " (0.02460676904642234,\n",
       "  ((0.0, 0.1, 0.54, 0.08, 0.44000000000000006), (0.2, 0.0, 0.12, 0.68, 0.0))),\n",
       " (0.024603349370279026,\n",
       "  ((0.0, 0.12, 0.6000000000000001, 0.04, 0.4600000000000001),\n",
       "   (0.2, 0.0, 0.14, 0.7200000000000001, 0.0))),\n",
       " (0.024515731747974667,\n",
       "  ((0.0, 0.04, 0.44000000000000006, 0.02, 0.5000000000000001),\n",
       "   (0.2, 0.0, 0.0, 0.6200000000000001, 0.02))),\n",
       " (0.02449277560437263,\n",
       "  ((0.0, 0.1, 0.6000000000000001, 0.04, 0.5000000000000001),\n",
       "   (0.2, 0.02, 0.14, 0.7000000000000001, 0.02))),\n",
       " (0.024477933932879614,\n",
       "  ((0.0, 0.12, 0.56, 0.04, 0.4200000000000001), (0.18, 0.0, 0.12, 0.68, 0.0))),\n",
       " (0.024471693819830664,\n",
       "  ((0.0, 0.2, 0.44000000000000006, 0.06, 0.4200000000000001),\n",
       "   (0.18, 0.04, 0.0, 0.68, 0.04))),\n",
       " (0.024458333162036383,\n",
       "  ((0.0, 0.2, 0.52, 0.02, 0.4800000000000001),\n",
       "   (0.2, 0.02, 0.02, 0.7200000000000001, 0.06))),\n",
       " (0.02439114690950983,\n",
       "  ((0.0, 0.12, 0.56, 0.04, 0.52), (0.2, 0.04, 0.1, 0.7000000000000001, 0.04))),\n",
       " (0.024315581137560716,\n",
       "  ((0.02, 0.02, 0.4800000000000001, 0.02, 0.56),\n",
       "   (0.2, 0.02, 0.04, 0.6000000000000001, 0.08))),\n",
       " (0.024304387377062753,\n",
       "  ((0.0, 0.16, 0.54, 0.02, 0.56), (0.2, 0.02, 0.0, 0.7600000000000001, 0.1))),\n",
       " (0.02426496096372288,\n",
       "  ((0.0, 0.14, 0.56, 0.02, 0.6000000000000001),\n",
       "   (0.2, 0.1, 0.04, 0.7200000000000001, 0.08))),\n",
       " (0.024255384183546058,\n",
       "  ((0.0, 0.18, 0.5000000000000001, 0.02, 0.4200000000000001),\n",
       "   (0.2, 0.0, 0.02, 0.7200000000000001, 0.0))),\n",
       " (0.024233726473704476,\n",
       "  ((0.0, 0.0, 0.4800000000000001, 0.0, 0.5800000000000001),\n",
       "   (0.2, 0.02, 0.02, 0.6000000000000001, 0.06))),\n",
       " (0.024212176306706745,\n",
       "  ((0.0, 0.0, 0.4600000000000001, 0.0, 0.56),\n",
       "   (0.2, 0.02, 0.0, 0.6000000000000001, 0.04))),\n",
       " (0.02419951301510581,\n",
       "  ((0.0, 0.16, 0.52, 0.0, 0.52), (0.2, 0.0, 0.0, 0.7200000000000001, 0.08))),\n",
       " (0.02419646695133809,\n",
       "  ((0.0, 0.14, 0.4600000000000001, 0.06, 0.54), (0.2, 0.14, 0.0, 0.68, 0.02))),\n",
       " (0.02418505563637041,\n",
       "  ((0.0, 0.12, 0.4800000000000001, 0.08, 0.4600000000000001),\n",
       "   (0.2, 0.0, 0.0, 0.7400000000000001, 0.02))),\n",
       " (0.02417194900836389,\n",
       "  ((0.0, 0.14, 0.6000000000000001, 0.04, 0.4000000000000001),\n",
       "   (0.18, 0.0, 0.18, 0.6600000000000001, 0.0))),\n",
       " (0.024080187269403974,\n",
       "  ((0.0, 0.18, 0.52, 0.02, 0.5800000000000001),\n",
       "   (0.2, 0.08, 0.02, 0.7200000000000001, 0.1))),\n",
       " (0.02405030985233242,\n",
       "  ((0.02, 0.04, 0.44000000000000006, 0.02, 0.5800000000000001),\n",
       "   (0.2, 0.04, 0.0, 0.6000000000000001, 0.1))),\n",
       " (0.024046976367152306,\n",
       "  ((0.02, 0.08, 0.5000000000000001, 0.0, 0.5000000000000001),\n",
       "   (0.2, 0.0, 0.04, 0.6200000000000001, 0.06))),\n",
       " (0.02403463689755192,\n",
       "  ((0.02, 0.04, 0.4600000000000001, 0.02, 0.5000000000000001),\n",
       "   (0.2, 0.0, 0.02, 0.6200000000000001, 0.04))),\n",
       " (0.024028317490786988,\n",
       "  ((0.02, 0.06, 0.5000000000000001, 0.0, 0.54),\n",
       "   (0.2, 0.0, 0.02, 0.6400000000000001, 0.08))),\n",
       " (0.023982713314936344,\n",
       "  ((0.0, 0.04, 0.44000000000000006, 0.0, 0.56),\n",
       "   (0.2, 0.0, 0.0, 0.6000000000000001, 0.08))),\n",
       " (0.023962223794296134,\n",
       "  ((0.0, 0.12, 0.6000000000000001, 0.06, 0.5000000000000001),\n",
       "   (0.2, 0.08, 0.14, 0.7000000000000001, 0.0))),\n",
       " (0.023910378931327414,\n",
       "  ((0.0, 0.18, 0.4800000000000001, 0.0, 0.4600000000000001),\n",
       "   (0.18, 0.08, 0.0, 0.6600000000000001, 0.02))),\n",
       " (0.023840245403793592,\n",
       "  ((0.02, 0.06, 0.5000000000000001, 0.02, 0.4800000000000001),\n",
       "   (0.2, 0.0, 0.08, 0.6000000000000001, 0.04))),\n",
       " (0.02382077473199573,\n",
       "  ((0.0, 0.16, 0.6000000000000001, 0.0, 0.56),\n",
       "   (0.2, 0.02, 0.1, 0.7200000000000001, 0.1))),\n",
       " (0.023789275865034265,\n",
       "  ((0.0, 0.18, 0.56, 0.02, 0.6000000000000001),\n",
       "   (0.2, 0.04, 0.06, 0.7400000000000001, 0.14))),\n",
       " (0.02376353792395336,\n",
       "  ((0.02, 0.0, 0.54, 0.0, 0.6000000000000001),\n",
       "   (0.2, 0.02, 0.08, 0.6000000000000001, 0.1))),\n",
       " (0.0237503072518232,\n",
       "  ((0.02, 0.14, 0.4600000000000001, 0.0, 0.44000000000000006),\n",
       "   (0.2, 0.02, 0.0, 0.6400000000000001, 0.02))),\n",
       " (0.023723941542220406,\n",
       "  ((0.0, 0.2, 0.6000000000000001, 0.0, 0.56),\n",
       "   (0.2, 0.06, 0.14, 0.7000000000000001, 0.1))),\n",
       " (0.0237153882510045,\n",
       "  ((0.02, 0.0, 0.4600000000000001, 0.04, 0.54),\n",
       "   (0.2, 0.04, 0.04, 0.6000000000000001, 0.04))),\n",
       " (0.02370910434880097,\n",
       "  ((0.02, 0.06, 0.44000000000000006, 0.02, 0.54),\n",
       "   (0.2, 0.02, 0.0, 0.6200000000000001, 0.08))),\n",
       " (0.023698553300150582,\n",
       "  ((0.02, 0.0, 0.6000000000000001, 0.0, 0.54),\n",
       "   (0.2, 0.0, 0.16, 0.6200000000000001, 0.04))),\n",
       " (0.02367571618378178,\n",
       "  ((0.02, 0.14, 0.5800000000000001, 0.1, 0.4200000000000001),\n",
       "   (0.2, 0.04, 0.16, 0.7000000000000001, 0.0))),\n",
       " (0.023618292471372093,\n",
       "  ((0.0, 0.16, 0.4000000000000001, 0.08, 0.4200000000000001),\n",
       "   (0.16, 0.0, 0.0, 0.6600000000000001, 0.08))),\n",
       " (0.023609858984162846,\n",
       "  ((0.0, 0.2, 0.5000000000000001, 0.02, 0.54),\n",
       "   (0.2, 0.14, 0.0, 0.7000000000000001, 0.04))),\n",
       " (0.023600464960146228,\n",
       "  ((0.0, 0.02, 0.4600000000000001, 0.0, 0.5000000000000001),\n",
       "   (0.2, 0.0, 0.0, 0.6200000000000001, 0.0))),\n",
       " (0.023580492275355247,\n",
       "  ((0.0, 0.2, 0.5000000000000001, 0.02, 0.6000000000000001),\n",
       "   (0.2, 0.1, 0.0, 0.7200000000000001, 0.12))),\n",
       " (0.023569678909928005,\n",
       "  ((0.0, 0.02, 0.4800000000000001, 0.0, 0.52),\n",
       "   (0.2, 0.0, 0.02, 0.6200000000000001, 0.02))),\n",
       " (0.023563639491432364,\n",
       "  ((0.02, 0.02, 0.52, 0.02, 0.4800000000000001),\n",
       "   (0.2, 0.02, 0.08, 0.6000000000000001, 0.0))),\n",
       " (0.02345247283478441,\n",
       "  ((0.0, 0.04, 0.5000000000000001, 0.0, 0.5000000000000001),\n",
       "   (0.2, 0.0, 0.06, 0.6000000000000001, 0.02))),\n",
       " (0.02342485105037917,\n",
       "  ((0.02, 0.18, 0.6000000000000001, 0.06, 0.52),\n",
       "   (0.2, 0.04, 0.16, 0.7200000000000001, 0.1))),\n",
       " (0.023422026660739614,\n",
       "  ((0.0, 0.1, 0.6000000000000001, 0.06, 0.44000000000000006),\n",
       "   (0.18, 0.0, 0.2, 0.6600000000000001, 0.02))),\n",
       " (0.02340382167632804,\n",
       "  ((0.0, 0.14, 0.6000000000000001, 0.2, 0.4200000000000001),\n",
       "   (0.18, 0.06, 0.2, 0.78, 0.0))),\n",
       " (0.023396730173026292,\n",
       "  ((0.0, 0.1, 0.4600000000000001, 0.0, 0.4200000000000001),\n",
       "   (0.18, 0.0, 0.0, 0.6200000000000001, 0.0))),\n",
       " (0.023379905080654573,\n",
       "  ((0.0, 0.16, 0.4600000000000001, 0.06, 0.4200000000000001),\n",
       "   (0.2, 0.02, 0.0, 0.7000000000000001, 0.0))),\n",
       " (0.02334762558215464,\n",
       "  ((0.02, 0.04, 0.5000000000000001, 0.0, 0.5800000000000001),\n",
       "   (0.2, 0.0, 0.06, 0.6000000000000001, 0.12))),\n",
       " (0.02334690116608429,\n",
       "  ((0.02, 0.06, 0.56, 0.0, 0.4800000000000001),\n",
       "   (0.2, 0.0, 0.08, 0.6400000000000001, 0.02))),\n",
       " (0.023343303300323526,\n",
       "  ((0.0, 0.1, 0.56, 0.06, 0.4000000000000001),\n",
       "   (0.16, 0.0, 0.18, 0.6200000000000001, 0.02))),\n",
       " (0.023331889414711537,\n",
       "  ((0.0, 0.04, 0.5000000000000001, 0.0, 0.4800000000000001),\n",
       "   (0.2, 0.0, 0.06, 0.6000000000000001, 0.0))),\n",
       " (0.02324795311648553,\n",
       "  ((0.02, 0.2, 0.5800000000000001, 0.06, 0.4800000000000001),\n",
       "   (0.2, 0.0, 0.12, 0.7400000000000001, 0.1))),\n",
       " (0.023232302064569277,\n",
       "  ((0.02, 0.08, 0.52, 0.02, 0.4600000000000001),\n",
       "   (0.2, 0.02, 0.1, 0.6000000000000001, 0.02))),\n",
       " (0.02318381814345699,\n",
       "  ((0.0, 0.2, 0.54, 0.0, 0.6000000000000001),\n",
       "   (0.2, 0.08, 0.02, 0.7400000000000001, 0.12))),\n",
       " (0.023177624524440388,\n",
       "  ((0.0, 0.08, 0.44000000000000006, 0.12, 0.4000000000000001),\n",
       "   (0.18, 0.0, 0.0, 0.68, 0.0))),\n",
       " (0.02316225108112996,\n",
       "  ((0.0, 0.14, 0.52, 0.06, 0.4000000000000001),\n",
       "   (0.18, 0.0, 0.08, 0.7000000000000001, 0.0))),\n",
       " (0.023152781958025948,\n",
       "  ((0.0, 0.1, 0.6000000000000001, 0.06, 0.54),\n",
       "   (0.2, 0.06, 0.16, 0.7000000000000001, 0.04))),\n",
       " (0.02314900323304897,\n",
       "  ((0.02, 0.08, 0.6000000000000001, 0.12, 0.5000000000000001),\n",
       "   (0.2, 0.02, 0.2, 0.7000000000000001, 0.06))),\n",
       " (0.023145018029865738,\n",
       "  ((0.0, 0.18, 0.4800000000000001, 0.02, 0.4000000000000001),\n",
       "   (0.18, 0.04, 0.02, 0.6600000000000001, 0.0))),\n",
       " (0.023144493702650537,\n",
       "  ((0.02, 0.2, 0.5800000000000001, 0.06, 0.54),\n",
       "   (0.2, 0.0, 0.06, 0.7600000000000001, 0.16))),\n",
       " (0.023134978340335177,\n",
       "  ((0.0, 0.18, 0.5000000000000001, 0.16, 0.4000000000000001),\n",
       "   (0.18, 0.06, 0.06, 0.78, 0.0))),\n",
       " (0.023099439705600078,\n",
       "  ((0.0, 0.2, 0.4600000000000001, 0.02, 0.52),\n",
       "   (0.16, 0.0, 0.02, 0.6600000000000001, 0.18))),\n",
       " (0.02309619929298451,\n",
       "  ((0.02, 0.02, 0.54, 0.0, 0.56), (0.2, 0.0, 0.08, 0.6200000000000001, 0.08))),\n",
       " (0.023046631717508925,\n",
       "  ((0.0, 0.18, 0.54, 0.2, 0.4000000000000001), (0.18, 0.02, 0.1, 0.8, 0.04))),\n",
       " (0.02301478000477042,\n",
       "  ((0.02, 0.0, 0.52, 0.02, 0.54), (0.2, 0.0, 0.1, 0.6000000000000001, 0.06))),\n",
       " (0.02294824275128521,\n",
       "  ((0.02, 0.04, 0.56, 0.02, 0.4600000000000001),\n",
       "   (0.2, 0.0, 0.12, 0.6200000000000001, 0.0))),\n",
       " (0.022937702066271326,\n",
       "  ((0.02, 0.04, 0.52, 0.0, 0.6000000000000001),\n",
       "   (0.2, 0.02, 0.06, 0.6200000000000001, 0.12))),\n",
       " (0.022908447447299085,\n",
       "  ((0.0, 0.02, 0.5000000000000001, 0.02, 0.4600000000000001),\n",
       "   (0.18, 0.0, 0.06, 0.6000000000000001, 0.0))),\n",
       " (0.022895791673945176,\n",
       "  ((0.0, 0.2, 0.5800000000000001, 0.16, 0.4000000000000001),\n",
       "   (0.18, 0.08, 0.12, 0.78, 0.0))),\n",
       " (0.022875156092379445,\n",
       "  ((0.0, 0.2, 0.52, 0.18, 0.4000000000000001), (0.18, 0.0, 0.08, 0.8, 0.06))),\n",
       " (0.022865244586017963,\n",
       "  ((0.02, 0.06, 0.4600000000000001, 0.02, 0.56),\n",
       "   (0.2, 0.0, 0.0, 0.6200000000000001, 0.12))),\n",
       " (0.0228040441238071,\n",
       "  ((0.0, 0.14, 0.5800000000000001, 0.18, 0.4600000000000001),\n",
       "   (0.18, 0.02, 0.14, 0.8, 0.06))),\n",
       " (0.022796735909393462,\n",
       "  ((0.0, 0.18, 0.44000000000000006, 0.04, 0.4200000000000001),\n",
       "   (0.18, 0.02, 0.02, 0.6600000000000001, 0.04))),\n",
       " (0.022766052429367967,\n",
       "  ((0.02, 0.1, 0.6000000000000001, 0.12, 0.4600000000000001),\n",
       "   (0.2, 0.04, 0.2, 0.7000000000000001, 0.02))),\n",
       " (0.02275992980200492,\n",
       "  ((0.0, 0.16, 0.56, 0.08, 0.4200000000000001), (0.18, 0.02, 0.04, 0.8, 0.0))),\n",
       " (0.022759509710976622,\n",
       "  ((0.0, 0.2, 0.5000000000000001, 0.0, 0.5800000000000001),\n",
       "   (0.18, 0.08, 0.0, 0.7000000000000001, 0.14))),\n",
       " (0.022748116488967574,\n",
       "  ((0.0, 0.08, 0.4000000000000001, 0.12, 0.4800000000000001),\n",
       "   (0.16, 0.02, 0.0, 0.6400000000000001, 0.1))),\n",
       " (0.022742744130349768,\n",
       "  ((0.0, 0.16, 0.5000000000000001, 0.04, 0.4000000000000001),\n",
       "   (0.18, 0.0, 0.08, 0.6600000000000001, 0.02))),\n",
       " (0.022666128586240064,\n",
       "  ((0.0, 0.12, 0.4200000000000001, 0.08, 0.4200000000000001),\n",
       "   (0.16, 0.1, 0.0, 0.6200000000000001, 0.0))),\n",
       " (0.022646631078446,\n",
       "  ((0.0, 0.2, 0.56, 0.2, 0.44000000000000006), (0.18, 0.1, 0.08, 0.8, 0.04))),\n",
       " (0.022643027826602047,\n",
       "  ((0.0, 0.1, 0.56, 0.2, 0.4000000000000001), (0.18, 0.0, 0.12, 0.8, 0.0))),\n",
       " (0.022638850224655116,\n",
       "  ((0.0, 0.2, 0.4800000000000001, 0.14, 0.4000000000000001),\n",
       "   (0.18, 0.04, 0.0, 0.8, 0.02))),\n",
       " (0.02259762983455338,\n",
       "  ((0.02, 0.08, 0.4800000000000001, 0.0, 0.5800000000000001),\n",
       "   (0.2, 0.04, 0.04, 0.6000000000000001, 0.12))),\n",
       " (0.022576812930595547,\n",
       "  ((0.0, 0.1, 0.6000000000000001, 0.2, 0.4200000000000001),\n",
       "   (0.18, 0.04, 0.14, 0.78, 0.0))),\n",
       " (0.022563152763488192,\n",
       "  ((0.0, 0.2, 0.4200000000000001, 0.02, 0.4200000000000001),\n",
       "   (0.16, 0.12, 0.0, 0.6000000000000001, 0.02))),\n",
       " (0.022551629623760616,\n",
       "  ((0.0, 0.08, 0.5000000000000001, 0.06, 0.4000000000000001),\n",
       "   (0.16, 0.0, 0.06, 0.6600000000000001, 0.0))),\n",
       " (0.022536920972360985,\n",
       "  ((0.0, 0.14, 0.44000000000000006, 0.08, 0.56),\n",
       "   (0.18, 0.08, 0.0, 0.68, 0.12))),\n",
       " (0.02253322755095777,\n",
       "  ((0.0, 0.12, 0.5800000000000001, 0.18, 0.4200000000000001),\n",
       "   (0.18, 0.04, 0.1, 0.8, 0.0))),\n",
       " (0.02252856958307342,\n",
       "  ((0.0, 0.18, 0.44000000000000006, 0.06, 0.4600000000000001),\n",
       "   (0.18, 0.06, 0.02, 0.6600000000000001, 0.06))),\n",
       " (0.022518216407782454,\n",
       "  ((0.0, 0.1, 0.4600000000000001, 0.06, 0.54),\n",
       "   (0.18, 0.1, 0.0, 0.6600000000000001, 0.06))),\n",
       " (0.022477162621647617,\n",
       "  ((0.0, 0.1, 0.4200000000000001, 0.1, 0.4000000000000001),\n",
       "   (0.16, 0.0, 0.02, 0.6400000000000001, 0.04))),\n",
       " (0.022462016918957384,\n",
       "  ((0.02, 0.12, 0.6000000000000001, 0.08, 0.5800000000000001),\n",
       "   (0.2, 0.02, 0.14, 0.7400000000000001, 0.14))),\n",
       " (0.022441261410232116,\n",
       "  ((0.02, 0.2, 0.52, 0.06, 0.5800000000000001),\n",
       "   (0.2, 0.02, 0.04, 0.7600000000000001, 0.18))),\n",
       " (0.022435085607139527,\n",
       "  ((0.0, 0.12, 0.6000000000000001, 0.2, 0.4600000000000001),\n",
       "   (0.18, 0.08, 0.16, 0.78, 0.02))),\n",
       " (0.022432038308731472,\n",
       "  ((0.02, 0.18, 0.6000000000000001, 0.06, 0.5800000000000001),\n",
       "   (0.2, 0.14, 0.14, 0.7000000000000001, 0.1))),\n",
       " (0.02234669623682306,\n",
       "  ((0.0, 0.2, 0.5000000000000001, 0.2, 0.4200000000000001),\n",
       "   (0.18, 0.1, 0.04, 0.8, 0.02))),\n",
       " (0.022337093669329844,\n",
       "  ((0.04, 0.12, 0.52, 0.02, 0.4600000000000001),\n",
       "   (0.2, 0.06, 0.1, 0.6000000000000001, 0.04))),\n",
       " (0.022325372093003226,\n",
       "  ((0.0, 0.0, 0.6000000000000001, 0.12, 0.5000000000000001),\n",
       "   (0.18, 0.02, 0.2, 0.68, 0.02))),\n",
       " (0.02230592225752709,\n",
       "  ((0.0, 0.08, 0.52, 0.06, 0.4200000000000001),\n",
       "   (0.16, 0.0, 0.08, 0.6600000000000001, 0.02))),\n",
       " (0.02230090527005435,\n",
       "  ((0.02, 0.2, 0.54, 0.08, 0.6000000000000001),\n",
       "   (0.2, 0.1, 0.06, 0.7400000000000001, 0.16))),\n",
       " (0.022299557721603802,\n",
       "  ((0.0, 0.1, 0.5000000000000001, 0.18, 0.4200000000000001),\n",
       "   (0.18, 0.0, 0.02, 0.8, 0.02))),\n",
       " (0.022288577158253164,\n",
       "  ((0.02, 0.12, 0.52, 0.0, 0.4200000000000001),\n",
       "   (0.2, 0.02, 0.1, 0.6000000000000001, 0.0))),\n",
       " (0.022284784649164724,\n",
       "  ((0.0, 0.2, 0.56, 0.18, 0.4800000000000001), (0.18, 0.14, 0.08, 0.8, 0.04))),\n",
       " (0.022283919226179283,\n",
       "  ((0.02, 0.1, 0.44000000000000006, 0.0, 0.6000000000000001),\n",
       "   (0.2, 0.06, 0.0, 0.6000000000000001, 0.14))),\n",
       " (0.022238419646645968,\n",
       "  ((0.02, 0.16, 0.6000000000000001, 0.1, 0.4000000000000001),\n",
       "   (0.2, 0.02, 0.2, 0.7200000000000001, 0.0))),\n",
       " (0.022236476227151136,\n",
       "  ((0.0, 0.02, 0.4200000000000001, 0.16, 0.4000000000000001),\n",
       "   (0.16, 0.02, 0.08, 0.6200000000000001, 0.0))),\n",
       " (0.02216754106605401,\n",
       "  ((0.04, 0.12, 0.4600000000000001, 0.02, 0.5800000000000001),\n",
       "   (0.2, 0.02, 0.04, 0.6200000000000001, 0.18))),\n",
       " (0.02215903627588106,\n",
       "  ((0.0, 0.04, 0.5000000000000001, 0.08, 0.44000000000000006),\n",
       "   (0.18, 0.0, 0.06, 0.6600000000000001, 0.0))),\n",
       " (0.022146216422681553,\n",
       "  ((0.0, 0.2, 0.4600000000000001, 0.2, 0.4000000000000001),\n",
       "   (0.18, 0.02, 0.06, 0.78, 0.06))),\n",
       " (0.02212762599696977,\n",
       "  ((0.02, 0.02, 0.56, 0.02, 0.52),\n",
       "   (0.2, 0.02, 0.14, 0.6000000000000001, 0.04))),\n",
       " (0.022127364039136288,\n",
       "  ((0.0, 0.06, 0.6000000000000001, 0.2, 0.4200000000000001),\n",
       "   (0.18, 0.0, 0.16, 0.78, 0.0))),\n",
       " (0.022125811387857908,\n",
       "  ((0.04, 0.0, 0.52, 0.06, 0.6000000000000001),\n",
       "   (0.2, 0.0, 0.12, 0.6000000000000001, 0.16))),\n",
       " (0.022103037225662647,\n",
       "  ((0.0, 0.18, 0.52, 0.2, 0.4600000000000001), (0.18, 0.08, 0.06, 0.8, 0.06))),\n",
       " (0.022098182537220623,\n",
       "  ((0.0, 0.14, 0.5800000000000001, 0.0, 0.4000000000000001),\n",
       "   (0.16, 0.02, 0.16, 0.6000000000000001, 0.02))),\n",
       " (0.022090313250277105,\n",
       "  ((0.02, 0.02, 0.6000000000000001, 0.0, 0.5000000000000001),\n",
       "   (0.2, 0.0, 0.14, 0.6200000000000001, 0.02))),\n",
       " (0.022079638521263434,\n",
       "  ((0.0, 0.2, 0.5000000000000001, 0.2, 0.4800000000000001),\n",
       "   (0.18, 0.12, 0.06, 0.8, 0.06))),\n",
       " (0.022078122197140337,\n",
       "  ((0.0, 0.12, 0.5800000000000001, 0.12, 0.4000000000000001),\n",
       "   (0.16, 0.0, 0.16, 0.7400000000000001, 0.02))),\n",
       " (0.022068279109903777,\n",
       "  ((0.04, 0.08, 0.56, 0.0, 0.6000000000000001),\n",
       "   (0.2, 0.04, 0.12, 0.6000000000000001, 0.16))),\n",
       " (0.022035661063372403,\n",
       "  ((0.0, 0.18, 0.4600000000000001, 0.04, 0.5800000000000001),\n",
       "   (0.18, 0.04, 0.0, 0.68, 0.18))),\n",
       " (0.022030740365768964,\n",
       "  ((0.0, 0.2, 0.44000000000000006, 0.04, 0.54),\n",
       "   (0.16, 0.12, 0.02, 0.6200000000000001, 0.14))),\n",
       " (0.022025882154281196,\n",
       "  ((0.02, 0.02, 0.56, 0.0, 0.5800000000000001),\n",
       "   (0.2, 0.0, 0.06, 0.6400000000000001, 0.1))),\n",
       " (0.022022626842346515,\n",
       "  ((0.0, 0.0, 0.54, 0.0, 0.5000000000000001),\n",
       "   (0.18, 0.0, 0.08, 0.6000000000000001, 0.02))),\n",
       " (0.02200392395721895,\n",
       "  ((0.0, 0.16, 0.4800000000000001, 0.0, 0.5000000000000001),\n",
       "   (0.18, 0.04, 0.0, 0.6600000000000001, 0.08))),\n",
       " (0.02199877960359986,\n",
       "  ((0.0, 0.0, 0.4200000000000001, 0.04, 0.5000000000000001),\n",
       "   (0.16, 0.0, 0.0, 0.6000000000000001, 0.06))),\n",
       " (0.021997597129107094,\n",
       "  ((0.02, 0.2, 0.4600000000000001, 0.12, 0.56),\n",
       "   (0.2, 0.1, 0.0, 0.7400000000000001, 0.14))),\n",
       " (0.021976685788270556,\n",
       "  ((0.0, 0.06, 0.44000000000000006, 0.06, 0.4000000000000001),\n",
       "   (0.16, 0.0, 0.04, 0.6200000000000001, 0.0))),\n",
       " (0.021964464650370497,\n",
       "  ((0.0, 0.06, 0.52, 0.08, 0.4000000000000001),\n",
       "   (0.16, 0.02, 0.14, 0.6000000000000001, 0.0))),\n",
       " (0.021956501877386514,\n",
       "  ((0.04, 0.1, 0.5800000000000001, 0.0, 0.5000000000000001),\n",
       "   (0.2, 0.0, 0.16, 0.6000000000000001, 0.1))),\n",
       " (0.02194040480934789,\n",
       "  ((0.04, 0.14, 0.52, 0.02, 0.4200000000000001),\n",
       "   (0.2, 0.08, 0.1, 0.6000000000000001, 0.0))),\n",
       " (0.02192613332544846,\n",
       "  ((0.0, 0.08, 0.44000000000000006, 0.0, 0.44000000000000006),\n",
       "   (0.18, 0.02, 0.0, 0.6000000000000001, 0.0))),\n",
       " (0.021925814750151262,\n",
       "  ((0.0, 0.18, 0.5800000000000001, 0.2, 0.4800000000000001),\n",
       "   (0.18, 0.2, 0.14, 0.7600000000000001, 0.0))),\n",
       " (0.0219186988625672,\n",
       "  ((0.0, 0.2, 0.56, 0.2, 0.5000000000000001), (0.18, 0.18, 0.08, 0.8, 0.04))),\n",
       " (0.021912100153020087,\n",
       "  ((0.0, 0.16, 0.52, 0.18, 0.4000000000000001),\n",
       "   (0.18, 0.02, 0.08, 0.8, 0.02))),\n",
       " (0.02190110987910454,\n",
       "  ((0.02, 0.1, 0.52, 0.02, 0.4000000000000001),\n",
       "   (0.18, 0.02, 0.1, 0.6000000000000001, 0.0))),\n",
       " (0.021899957551065108,\n",
       "  ((0.02, 0.04, 0.4600000000000001, 0.02, 0.6000000000000001),\n",
       "   (0.2, 0.02, 0.02, 0.6000000000000001, 0.14))),\n",
       " (0.021892358128181688,\n",
       "  ((0.0, 0.02, 0.44000000000000006, 0.08, 0.44000000000000006),\n",
       "   (0.16, 0.0, 0.0, 0.6400000000000001, 0.02))),\n",
       " (0.021889389487949218,\n",
       "  ((0.0, 0.2, 0.5000000000000001, 0.18, 0.4600000000000001),\n",
       "   (0.18, 0.06, 0.04, 0.8, 0.08))),\n",
       " (0.021863374421391135,\n",
       "  ((0.04, 0.2, 0.6000000000000001, 0.1, 0.4600000000000001),\n",
       "   (0.2, 0.0, 0.16, 0.7400000000000001, 0.12))),\n",
       " (0.02184450938330601,\n",
       "  ((0.04, 0.06, 0.6000000000000001, 0.0, 0.5000000000000001),\n",
       "   (0.2, 0.02, 0.16, 0.6000000000000001, 0.06))),\n",
       " (0.021844491110234232,\n",
       "  ((0.04, 0.12, 0.54, 0.0, 0.52),\n",
       "   (0.2, 0.02, 0.12, 0.6000000000000001, 0.12))),\n",
       " (0.0218383231781088,\n",
       "  ((0.02, 0.16, 0.6000000000000001, 0.1, 0.54), (0.2, 0.0, 0.12, 0.78, 0.14))),\n",
       " (0.021831272352866804,\n",
       "  ((0.04, 0.08, 0.5800000000000001, 0.0, 0.54),\n",
       "   (0.2, 0.0, 0.14, 0.6200000000000001, 0.12))),\n",
       " (0.021821039825725308,\n",
       "  ((0.02, 0.02, 0.6000000000000001, 0.0, 0.4800000000000001),\n",
       "   (0.2, 0.0, 0.14, 0.6200000000000001, 0.0))),\n",
       " (0.021809670615503596,\n",
       "  ((0.0, 0.18, 0.6000000000000001, 0.08, 0.4000000000000001),\n",
       "   (0.18, 0.02, 0.1, 0.78, 0.0))),\n",
       " (0.021753466474658867,\n",
       "  ((0.02, 0.0, 0.6000000000000001, 0.02, 0.4800000000000001),\n",
       "   (0.2, 0.0, 0.18, 0.6000000000000001, 0.0))),\n",
       " (0.021748468072789684,\n",
       "  ((0.0, 0.04, 0.4800000000000001, 0.0, 0.4600000000000001),\n",
       "   (0.18, 0.0, 0.02, 0.6200000000000001, 0.0))),\n",
       " (0.021723204567075938,\n",
       "  ((0.0, 0.08, 0.6000000000000001, 0.08, 0.4200000000000001),\n",
       "   (0.18, 0.0, 0.2, 0.6600000000000001, 0.0))),\n",
       " (0.02171545194060376,\n",
       "  ((0.02, 0.2, 0.5800000000000001, 0.06, 0.6000000000000001),\n",
       "   (0.2, 0.02, 0.1, 0.7600000000000001, 0.2))),\n",
       " (0.021707797262136175,\n",
       "  ((0.02, 0.2, 0.5800000000000001, 0.04, 0.5800000000000001),\n",
       "   (0.2, 0.08, 0.08, 0.7400000000000001, 0.14))),\n",
       " (0.021699261142256343,\n",
       "  ((0.0, 0.2, 0.5000000000000001, 0.16, 0.5000000000000001),\n",
       "   (0.18, 0.2, 0.0, 0.78, 0.02))),\n",
       " (0.021645898913647543,\n",
       "  ((0.0, 0.1, 0.4000000000000001, 0.06, 0.4000000000000001),\n",
       "   (0.16, 0.04, 0.0, 0.6200000000000001, 0.0))),\n",
       " (0.021643361099791092,\n",
       "  ((0.04, 0.08, 0.5000000000000001, 0.02, 0.6000000000000001),\n",
       "   (0.2, 0.0, 0.02, 0.6600000000000001, 0.18))),\n",
       " (0.021640096426362554,\n",
       "  ((0.0, 0.08, 0.4800000000000001, 0.2, 0.4000000000000001),\n",
       "   (0.18, 0.0, 0.04, 0.78, 0.0))),\n",
       " (0.02163877586471702,\n",
       "  ((0.04, 0.14, 0.5000000000000001, 0.0, 0.54),\n",
       "   (0.2, 0.04, 0.08, 0.6000000000000001, 0.14))),\n",
       " (0.021633044630252507,\n",
       "  ((0.04, 0.02, 0.5800000000000001, 0.04, 0.56),\n",
       "   (0.2, 0.0, 0.2, 0.6000000000000001, 0.12))),\n",
       " (0.021622554919287718,\n",
       "  ((0.02, 0.08, 0.5800000000000001, 0.14, 0.52),\n",
       "   (0.2, 0.0, 0.18, 0.7200000000000001, 0.1))),\n",
       " (0.021622065637730115,\n",
       "  ((0.0, 0.2, 0.56, 0.16, 0.52), (0.18, 0.16, 0.06, 0.8, 0.06))),\n",
       " (0.021619290952626213,\n",
       "  ((0.0, 0.1, 0.4600000000000001, 0.18, 0.4000000000000001),\n",
       "   (0.18, 0.0, 0.0, 0.8, 0.0))),\n",
       " (0.021610634646475946,\n",
       "  ((0.0, 0.12, 0.44000000000000006, 0.04, 0.54),\n",
       "   (0.16, 0.14, 0.02, 0.6000000000000001, 0.08))),\n",
       " (0.021604255064179678,\n",
       "  ((0.0, 0.18, 0.4200000000000001, 0.06, 0.52),\n",
       "   (0.18, 0.14, 0.0, 0.6200000000000001, 0.08))),\n",
       " (0.02158798167020326,\n",
       "  ((0.0, 0.1, 0.56, 0.2, 0.4800000000000001),\n",
       "   (0.18, 0.14, 0.08, 0.7600000000000001, 0.0))),\n",
       " (0.02155282165474698,\n",
       "  ((0.04, 0.08, 0.44000000000000006, 0.04, 0.6000000000000001),\n",
       "   (0.2, 0.04, 0.02, 0.6000000000000001, 0.18))),\n",
       " (0.021551625000943653,\n",
       "  ((0.04, 0.18, 0.4600000000000001, 0.0, 0.52),\n",
       "   (0.2, 0.02, 0.06, 0.6000000000000001, 0.16))),\n",
       " (0.021548339438888342,\n",
       "  ((0.04, 0.2, 0.6000000000000001, 0.12, 0.4200000000000001),\n",
       "   (0.2, 0.0, 0.18, 0.7600000000000001, 0.08))),\n",
       " (0.021519364204304003,\n",
       "  ((0.0, 0.0, 0.54, 0.0, 0.4800000000000001),\n",
       "   (0.16, 0.0, 0.1, 0.6000000000000001, 0.02))),\n",
       " (0.02151524224539636,\n",
       "  ((0.0, 0.2, 0.44000000000000006, 0.2, 0.4600000000000001),\n",
       "   (0.18, 0.2, 0.0, 0.7600000000000001, 0.0))),\n",
       " (0.02150949802818425,\n",
       "  ((0.0, 0.16, 0.6000000000000001, 0.2, 0.52), (0.18, 0.16, 0.16, 0.8, 0.04))),\n",
       " (0.021481657621946315,\n",
       "  ((0.0, 0.18, 0.44000000000000006, 0.0, 0.52),\n",
       "   (0.16, 0.12, 0.0, 0.6000000000000001, 0.1))),\n",
       " (0.021477105602848212,\n",
       "  ((0.0, 0.02, 0.5800000000000001, 0.08, 0.4200000000000001),\n",
       "   (0.16, 0.0, 0.18, 0.6200000000000001, 0.0))),\n",
       " (0.021468915829639224,\n",
       "  ((0.0, 0.16, 0.6000000000000001, 0.2, 0.4600000000000001),\n",
       "   (0.18, 0.06, 0.14, 0.8, 0.06))),\n",
       " (0.0214652078987419,\n",
       "  ((0.0, 0.2, 0.6000000000000001, 0.2, 0.4600000000000001),\n",
       "   (0.18, 0.12, 0.2, 0.78, 0.04))),\n",
       " (0.021463102553616498,\n",
       "  ((0.0, 0.06, 0.44000000000000006, 0.02, 0.4200000000000001),\n",
       "   (0.16, 0.02, 0.0, 0.6000000000000001, 0.0))),\n",
       " (0.021452863081704632,\n",
       "  ((0.0, 0.06, 0.6000000000000001, 0.1, 0.4000000000000001),\n",
       "   (0.16, 0.0, 0.2, 0.6600000000000001, 0.0))),\n",
       " (0.02142435643554197,\n",
       "  ((0.02, 0.08, 0.4200000000000001, 0.02, 0.5800000000000001),\n",
       "   (0.2, 0.0, 0.0, 0.6000000000000001, 0.16))),\n",
       " (0.021420135300886323,\n",
       "  ((0.0, 0.02, 0.6000000000000001, 0.08, 0.44000000000000006),\n",
       "   (0.16, 0.0, 0.2, 0.6200000000000001, 0.02))),\n",
       " (0.021396769974836916,\n",
       "  ((0.04, 0.12, 0.5800000000000001, 0.02, 0.4000000000000001),\n",
       "   (0.2, 0.0, 0.2, 0.6000000000000001, 0.02))),\n",
       " (0.021388747643231898,\n",
       "  ((0.0, 0.2, 0.4600000000000001, 0.16, 0.4200000000000001),\n",
       "   (0.16, 0.08, 0.0, 0.7600000000000001, 0.06))),\n",
       " (0.02138311481124977,\n",
       "  ((0.0, 0.2, 0.44000000000000006, 0.04, 0.6000000000000001),\n",
       "   (0.16, 0.1, 0.0, 0.6600000000000001, 0.2))),\n",
       " (0.02136644568602225,\n",
       "  ((0.0, 0.04, 0.4000000000000001, 0.14, 0.4000000000000001),\n",
       "   (0.16, 0.04, 0.06, 0.6000000000000001, 0.0))),\n",
       " (0.021356735982157093,\n",
       "  ((0.0, 0.14, 0.4000000000000001, 0.06, 0.4200000000000001),\n",
       "   (0.16, 0.06, 0.02, 0.6000000000000001, 0.04))),\n",
       " (0.021346279989432948,\n",
       "  ((0.02, 0.0, 0.6000000000000001, 0.02, 0.4600000000000001),\n",
       "   (0.18, 0.0, 0.14, 0.6200000000000001, 0.0))),\n",
       " (0.021338792916166027,\n",
       "  ((0.0, 0.2, 0.5000000000000001, 0.18, 0.52), (0.18, 0.14, 0.04, 0.8, 0.08))),\n",
       " (0.021333223869388462,\n",
       "  ((0.02, 0.2, 0.4800000000000001, 0.04, 0.6000000000000001),\n",
       "   (0.18, 0.08, 0.0, 0.7000000000000001, 0.2))),\n",
       " (0.021319372114648905,\n",
       "  ((0.02, 0.04, 0.5800000000000001, 0.18, 0.4200000000000001),\n",
       "   (0.2, 0.0, 0.2, 0.7000000000000001, 0.0))),\n",
       " (0.02127497899653813,\n",
       "  ((0.0, 0.2, 0.5000000000000001, 0.16, 0.44000000000000006),\n",
       "   (0.18, 0.06, 0.0, 0.8, 0.06))),\n",
       " (0.021254633677767865,\n",
       "  ((0.0, 0.18, 0.5000000000000001, 0.06, 0.4000000000000001),\n",
       "   (0.16, 0.04, 0.0, 0.7400000000000001, 0.02))),\n",
       " (0.02122587466701409,\n",
       "  ((0.0, 0.06, 0.4000000000000001, 0.12, 0.4200000000000001),\n",
       "   (0.16, 0.08, 0.02, 0.6000000000000001, 0.0))),\n",
       " (0.02122295160762122,\n",
       "  ((0.0, 0.2, 0.44000000000000006, 0.02, 0.5800000000000001),\n",
       "   (0.16, 0.14, 0.0, 0.6200000000000001, 0.16))),\n",
       " (0.021216291572323076,\n",
       "  ((0.0, 0.0, 0.54, 0.0, 0.4600000000000001),\n",
       "   (0.16, 0.0, 0.1, 0.6000000000000001, 0.0))),\n",
       " (0.021199492774702344,\n",
       "  ((0.04, 0.06, 0.52, 0.06, 0.4800000000000001),\n",
       "   (0.2, 0.0, 0.14, 0.6000000000000001, 0.08))),\n",
       " (0.02119614329434394,\n",
       "  ((0.04, 0.12, 0.6000000000000001, 0.16, 0.4000000000000001),\n",
       "   (0.2, 0.0, 0.2, 0.7200000000000001, 0.04))),\n",
       " (0.021153590854293802,\n",
       "  ((0.02, 0.18, 0.6000000000000001, 0.08, 0.6000000000000001),\n",
       "   (0.2, 0.1, 0.12, 0.7600000000000001, 0.14))),\n",
       " (0.02113559508418067,\n",
       "  ((0.0, 0.2, 0.4800000000000001, 0.02, 0.6000000000000001),\n",
       "   (0.18, 0.2, 0.0, 0.6600000000000001, 0.1))),\n",
       " (0.021135416913520277,\n",
       "  ((0.0, 0.2, 0.4200000000000001, 0.04, 0.4600000000000001),\n",
       "   (0.16, 0.08, 0.02, 0.6000000000000001, 0.1))),\n",
       " (0.021131450713083477,\n",
       "  ((0.02, 0.02, 0.6000000000000001, 0.16, 0.4200000000000001),\n",
       "   (0.18, 0.0, 0.16, 0.7200000000000001, 0.0))),\n",
       " (0.02111738698671134,\n",
       "  ((0.04, 0.04, 0.52, 0.06, 0.52), (0.2, 0.0, 0.12, 0.6200000000000001, 0.1))),\n",
       " (0.021101964683410135,\n",
       "  ((0.02, 0.1, 0.6000000000000001, 0.12, 0.6000000000000001),\n",
       "   (0.2, 0.02, 0.1, 0.78, 0.16))),\n",
       " (0.021095270799778743,\n",
       "  ((0.0, 0.0, 0.52, 0.12, 0.4000000000000001),\n",
       "   (0.14, 0.02, 0.16, 0.6000000000000001, 0.0))),\n",
       " (0.021060304710090738,\n",
       "  ((0.04, 0.04, 0.5800000000000001, 0.04, 0.52),\n",
       "   (0.2, 0.02, 0.2, 0.6000000000000001, 0.08))),\n",
       " (0.021037087260883602,\n",
       "  ((0.0, 0.04, 0.5800000000000001, 0.18, 0.4000000000000001),\n",
       "   (0.16, 0.0, 0.14, 0.7400000000000001, 0.0))),\n",
       " (0.02101461529779408,\n",
       "  ((0.04, 0.06, 0.5800000000000001, 0.0, 0.5800000000000001),\n",
       "   (0.2, 0.02, 0.16, 0.6000000000000001, 0.14))),\n",
       " (0.020983264983499283,\n",
       "  ((0.02, 0.2, 0.4800000000000001, 0.1, 0.6000000000000001),\n",
       "   (0.2, 0.16, 0.0, 0.7200000000000001, 0.14))),\n",
       " (0.020957448409888058,\n",
       "  ((0.0, 0.1, 0.4000000000000001, 0.2, 0.4000000000000001),\n",
       "   (0.16, 0.08, 0.0, 0.7200000000000001, 0.0))),\n",
       " (0.020940069834795294,\n",
       "  ((0.0, 0.16, 0.4000000000000001, 0.04, 0.44000000000000006),\n",
       "   (0.14, 0.02, 0.0, 0.6000000000000001, 0.12))),\n",
       " (0.02089974759765345,\n",
       "  ((0.04, 0.2, 0.5800000000000001, 0.12, 0.5800000000000001),\n",
       "   (0.2, 0.06, 0.12, 0.7600000000000001, 0.2))),\n",
       " (0.020899338052726923,\n",
       "  ((0.0, 0.2, 0.5000000000000001, 0.08, 0.4000000000000001),\n",
       "   (0.18, 0.02, 0.0, 0.78, 0.02))),\n",
       " (0.02089666132976753,\n",
       "  ((0.04, 0.08, 0.52, 0.02, 0.54), (0.2, 0.0, 0.1, 0.6000000000000001, 0.14))),\n",
       " (0.02082299281969635,\n",
       "  ((0.04, 0.0, 0.5800000000000001, 0.04, 0.6000000000000001),\n",
       "   (0.2, 0.04, 0.14, 0.6200000000000001, 0.12))),\n",
       " (0.020812827297508607,\n",
       "  ((0.04, 0.16, 0.6000000000000001, 0.14, 0.56),\n",
       "   (0.2, 0.02, 0.16, 0.78, 0.18))),\n",
       " (0.020811972065531703,\n",
       "  ((0.0, 0.18, 0.44000000000000006, 0.18, 0.4000000000000001),\n",
       "   (0.16, 0.1, 0.0, 0.7600000000000001, 0.02))),\n",
       " (0.020811867653921068,\n",
       "  ((0.0, 0.12, 0.5800000000000001, 0.08, 0.4200000000000001),\n",
       "   (0.18, 0.0, 0.1, 0.7600000000000001, 0.0))),\n",
       " (0.02079872075904754,\n",
       "  ((0.04, 0.12, 0.44000000000000006, 0.04, 0.6000000000000001),\n",
       "   (0.2, 0.08, 0.02, 0.6000000000000001, 0.18))),\n",
       " (0.020788767870225433,\n",
       "  ((0.0, 0.06, 0.56, 0.16, 0.4000000000000001),\n",
       "   (0.16, 0.0, 0.1, 0.7600000000000001, 0.0))),\n",
       " (0.020776028347332165,\n",
       "  ((0.04, 0.14, 0.6000000000000001, 0.16, 0.5000000000000001),\n",
       "   (0.2, 0.02, 0.2, 0.7600000000000001, 0.12))),\n",
       " (0.020769779546687794,\n",
       "  ((0.0, 0.02, 0.5000000000000001, 0.14, 0.4000000000000001),\n",
       "   (0.16, 0.02, 0.16, 0.6000000000000001, 0.0))),\n",
       " (0.020762723686965856,\n",
       "  ((0.0, 0.18, 0.4200000000000001, 0.2, 0.4200000000000001),\n",
       "   (0.16, 0.12, 0.0, 0.7400000000000001, 0.04))),\n",
       " (0.020727403180214488,\n",
       "  ((0.04, 0.1, 0.6000000000000001, 0.02, 0.4600000000000001),\n",
       "   (0.2, 0.08, 0.14, 0.6400000000000001, 0.0))),\n",
       " (0.020706416540178574,\n",
       "  ((0.0, 0.0, 0.6000000000000001, 0.1, 0.4000000000000001),\n",
       "   (0.14, 0.0, 0.2, 0.6200000000000001, 0.0))),\n",
       " (0.0206977165436652,\n",
       "  ((0.0, 0.06, 0.4800000000000001, 0.18, 0.4000000000000001),\n",
       "   (0.16, 0.02, 0.06, 0.7400000000000001, 0.0))),\n",
       " (0.02069196898801101,\n",
       "  ((0.0, 0.2, 0.4800000000000001, 0.2, 0.5800000000000001),\n",
       "   (0.16, 0.16, 0.02, 0.8, 0.16))),\n",
       " (0.02064411200454369,\n",
       "  ((0.02, 0.2, 0.4600000000000001, 0.14, 0.5800000000000001),\n",
       "   (0.2, 0.14, 0.02, 0.7400000000000001, 0.14))),\n",
       " (0.020571963249921,\n",
       "  ((0.0, 0.2, 0.56, 0.18, 0.54), (0.16, 0.12, 0.14, 0.78, 0.14))),\n",
       " (0.02056752128738376,\n",
       "  ((0.06, 0.14, 0.5800000000000001, 0.02, 0.52),\n",
       "   (0.2, 0.02, 0.2, 0.6000000000000001, 0.16))),\n",
       " (0.02056379090787691,\n",
       "  ((0.0, 0.2, 0.44000000000000006, 0.18, 0.44000000000000006),\n",
       "   (0.16, 0.08, 0.0, 0.78, 0.08))),\n",
       " (0.020562721370642745,\n",
       "  ((0.0, 0.18, 0.4200000000000001, 0.0, 0.4200000000000001),\n",
       "   (0.16, 0.04, 0.0, 0.6000000000000001, 0.06))),\n",
       " (0.020515618791795254,\n",
       "  ((0.06, 0.14, 0.52, 0.02, 0.56),\n",
       "   (0.2, 0.02, 0.14, 0.6000000000000001, 0.2))),\n",
       " (0.020493277153497025,\n",
       "  ((0.04, 0.12, 0.6000000000000001, 0.02, 0.4200000000000001),\n",
       "   (0.2, 0.02, 0.2, 0.6200000000000001, 0.02))),\n",
       " (0.020489812857468703,\n",
       "  ((0.04, 0.1, 0.5800000000000001, 0.0, 0.5800000000000001),\n",
       "   (0.2, 0.0, 0.18, 0.6000000000000001, 0.18))),\n",
       " (0.020483559293487774,\n",
       "  ((0.04, 0.1, 0.52, 0.02, 0.5800000000000001),\n",
       "   (0.2, 0.02, 0.1, 0.6000000000000001, 0.18))),\n",
       " (0.020464906943957584,\n",
       "  ((0.0, 0.2, 0.5000000000000001, 0.14, 0.54), (0.18, 0.18, 0.0, 0.8, 0.06))),\n",
       " (0.020425020313965814,\n",
       "  ((0.04, 0.14, 0.44000000000000006, 0.02, 0.54),\n",
       "   (0.2, 0.0, 0.04, 0.6000000000000001, 0.18))),\n",
       " (0.020395173426230373,\n",
       "  ((0.0, 0.06, 0.52, 0.04, 0.4000000000000001),\n",
       "   (0.16, 0.0, 0.12, 0.6000000000000001, 0.0))),\n",
       " (0.020375739030800866,\n",
       "  ((0.04, 0.12, 0.5800000000000001, 0.18, 0.4200000000000001),\n",
       "   (0.2, 0.0, 0.2, 0.7400000000000001, 0.06))),\n",
       " (0.020355974283115863,\n",
       "  ((0.0, 0.2, 0.44000000000000006, 0.1, 0.4000000000000001),\n",
       "   (0.14, 0.04, 0.0, 0.7200000000000001, 0.08))),\n",
       " (0.020354240699764325,\n",
       "  ((0.04, 0.18, 0.44000000000000006, 0.0, 0.5800000000000001),\n",
       "   (0.2, 0.06, 0.0, 0.6000000000000001, 0.2))),\n",
       " (0.020344272693370136,\n",
       "  ((0.0, 0.04, 0.54, 0.02, 0.4000000000000001),\n",
       "   (0.14, 0.0, 0.12, 0.6000000000000001, 0.0))),\n",
       " (0.020326793298074353,\n",
       "  ((0.04, 0.2, 0.52, 0.14, 0.5800000000000001),\n",
       "   (0.2, 0.14, 0.08, 0.7400000000000001, 0.16))),\n",
       " (0.020293334993490897,\n",
       "  ((0.0, 0.1, 0.4600000000000001, 0.0, 0.4000000000000001),\n",
       "   (0.16, 0.02, 0.02, 0.6000000000000001, 0.0))),\n",
       " (0.020291696098530654,\n",
       "  ((0.02, 0.08, 0.56, 0.0, 0.4200000000000001),\n",
       "   (0.18, 0.0, 0.1, 0.6400000000000001, 0.0))),\n",
       " (0.020290543726329102,\n",
       "  ((0.0, 0.0, 0.44000000000000006, 0.14, 0.4000000000000001),\n",
       "   (0.14, 0.0, 0.08, 0.6200000000000001, 0.02))),\n",
       " (0.020277114611208236,\n",
       "  ((0.0, 0.2, 0.5800000000000001, 0.2, 0.56), (0.16, 0.16, 0.16, 0.78, 0.14))),\n",
       " (0.02023872497949958,\n",
       "  ((0.04, 0.18, 0.6000000000000001, 0.16, 0.44000000000000006),\n",
       "   (0.2, 0.0, 0.18, 0.78, 0.1))),\n",
       " (0.02023490014110413,\n",
       "  ((0.06, 0.16, 0.6000000000000001, 0.02, 0.4200000000000001),\n",
       "   (0.2, 0.02, 0.2, 0.6400000000000001, 0.06))),\n",
       " (0.02020596334071001,\n",
       "  ((0.04, 0.2, 0.6000000000000001, 0.14, 0.6000000000000001),\n",
       "   (0.2, 0.12, 0.18, 0.7600000000000001, 0.18))),\n",
       " (0.020205124831322474,\n",
       "  ((0.04, 0.18, 0.6000000000000001, 0.14, 0.5800000000000001),\n",
       "   (0.2, 0.14, 0.14, 0.7600000000000001, 0.14))),\n",
       " (0.020199984943161886,\n",
       "  ((0.04, 0.1, 0.5800000000000001, 0.2, 0.54), (0.2, 0.06, 0.16, 0.78, 0.12))),\n",
       " (0.020197531568456495,\n",
       "  ((0.0, 0.06, 0.4200000000000001, 0.2, 0.4000000000000001),\n",
       "   (0.14, 0.0, 0.0, 0.7200000000000001, 0.06))),\n",
       " (0.020168340833967457,\n",
       "  ((0.0, 0.06, 0.6000000000000001, 0.06, 0.4000000000000001),\n",
       "   (0.16, 0.0, 0.2, 0.6200000000000001, 0.0))),\n",
       " (0.02013062659694198,\n",
       "  ((0.0, 0.14, 0.4000000000000001, 0.04, 0.4800000000000001),\n",
       "   (0.16, 0.08, 0.0, 0.6000000000000001, 0.08))),\n",
       " (0.020082627657776686,\n",
       "  ((0.0, 0.2, 0.6000000000000001, 0.2, 0.52), (0.18, 0.18, 0.14, 0.8, 0.06))),\n",
       " (0.020078864268119112,\n",
       "  ((0.06, 0.12, 0.54, 0.04, 0.56), (0.2, 0.0, 0.12, 0.6400000000000001, 0.2))),\n",
       " (0.020058351439790068,\n",
       "  ((0.0, 0.14, 0.44000000000000006, 0.0, 0.4200000000000001),\n",
       "   (0.16, 0.06, 0.0, 0.6000000000000001, 0.02))),\n",
       " (0.02005102340050602,\n",
       "  ((0.0, 0.2, 0.4000000000000001, 0.18, 0.4200000000000001),\n",
       "   (0.14, 0.02, 0.0, 0.7400000000000001, 0.14))),\n",
       " (0.020043003636135814,\n",
       "  ((0.0, 0.16, 0.4000000000000001, 0.04, 0.52),\n",
       "   (0.14, 0.02, 0.0, 0.6000000000000001, 0.2))),\n",
       " (0.020042225689852422,\n",
       "  ((0.0, 0.1, 0.6000000000000001, 0.14, 0.4000000000000001),\n",
       "   (0.16, 0.0, 0.18, 0.7400000000000001, 0.02))),\n",
       " (0.020003825417148513,\n",
       "  ((0.0, 0.16, 0.44000000000000006, 0.02, 0.5800000000000001),\n",
       "   (0.16, 0.12, 0.0, 0.6000000000000001, 0.16))),\n",
       " (0.020002256057849666,\n",
       "  ((0.0, 0.04, 0.4600000000000001, 0.08, 0.4000000000000001),\n",
       "   (0.16, 0.0, 0.06, 0.6200000000000001, 0.0))),\n",
       " (0.02000098202851658,\n",
       "  ((0.04, 0.0, 0.6000000000000001, 0.06, 0.4600000000000001),\n",
       "   (0.2, 0.02, 0.18, 0.6200000000000001, 0.0))),\n",
       " (0.019984466929472977,\n",
       "  ((0.06, 0.12, 0.4800000000000001, 0.06, 0.56),\n",
       "   (0.2, 0.06, 0.1, 0.6000000000000001, 0.18))),\n",
       " (0.019932352534278996,\n",
       "  ((0.0, 0.02, 0.6000000000000001, 0.2, 0.4000000000000001),\n",
       "   (0.16, 0.0, 0.2, 0.7200000000000001, 0.0))),\n",
       " (0.019925888847301843,\n",
       "  ((0.0, 0.2, 0.44000000000000006, 0.18, 0.5000000000000001),\n",
       "   (0.14, 0.04, 0.0, 0.7600000000000001, 0.2))),\n",
       " (0.01992294333733341,\n",
       "  ((0.0, 0.18, 0.44000000000000006, 0.14, 0.4200000000000001),\n",
       "   (0.16, 0.06, 0.0, 0.7400000000000001, 0.06))),\n",
       " (0.019897742060275447,\n",
       "  ((0.06, 0.18, 0.4800000000000001, 0.04, 0.56),\n",
       "   (0.2, 0.08, 0.08, 0.6000000000000001, 0.2))),\n",
       " (0.019872156769395022,\n",
       "  ((0.02, 0.08, 0.6000000000000001, 0.02, 0.4000000000000001),\n",
       "   (0.18, 0.0, 0.2, 0.6000000000000001, 0.0))),\n",
       " (0.019868153950361733,\n",
       "  ((0.06, 0.16, 0.44000000000000006, 0.06, 0.54),\n",
       "   (0.2, 0.02, 0.0, 0.6600000000000001, 0.2))),\n",
       " (0.019840854488655912,\n",
       "  ((0.0, 0.2, 0.5800000000000001, 0.16, 0.5800000000000001),\n",
       "   (0.18, 0.16, 0.1, 0.8, 0.12))),\n",
       " (0.019834628045790725,\n",
       "  ((0.0, 0.06, 0.56, 0.12, 0.4200000000000001), (0.16, 0.0, 0.06, 0.78, 0.0))),\n",
       " (0.01982145509781813,\n",
       "  ((0.04, 0.2, 0.54, 0.16, 0.6000000000000001),\n",
       "   (0.2, 0.12, 0.08, 0.7600000000000001, 0.2))),\n",
       " (0.01980048924622896,\n",
       "  ((0.0, 0.2, 0.56, 0.14, 0.56), (0.18, 0.18, 0.06, 0.8, 0.08))),\n",
       " (0.019795160337805262,\n",
       "  ((0.0, 0.18, 0.4600000000000001, 0.2, 0.5000000000000001),\n",
       "   (0.16, 0.04, 0.0, 0.8, 0.16))),\n",
       " (0.019780887516364754,\n",
       "  ((0.0, 0.2, 0.44000000000000006, 0.16, 0.4800000000000001),\n",
       "   (0.14, 0.0, 0.0, 0.7600000000000001, 0.2))),\n",
       " (0.01977861175755441,\n",
       "  ((0.04, 0.2, 0.4200000000000001, 0.18, 0.5800000000000001),\n",
       "   (0.2, 0.1, 0.0, 0.7600000000000001, 0.2))),\n",
       " (0.01977707036654025,\n",
       "  ((0.0, 0.08, 0.4600000000000001, 0.16, 0.4000000000000001),\n",
       "   (0.16, 0.0, 0.0, 0.7600000000000001, 0.02))),\n",
       " (0.019753034395610658,\n",
       "  ((0.0, 0.0, 0.44000000000000006, 0.1, 0.4000000000000001),\n",
       "   (0.14, 0.0, 0.02, 0.6400000000000001, 0.0))),\n",
       " (0.019742970882601962,\n",
       "  ((0.02, 0.2, 0.4200000000000001, 0.12, 0.6000000000000001),\n",
       "   (0.18, 0.14, 0.0, 0.68, 0.2))),\n",
       " (0.019738575292020277,\n",
       "  ((0.0, 0.04, 0.54, 0.06, 0.4000000000000001),\n",
       "   (0.14, 0.0, 0.14, 0.6000000000000001, 0.02))),\n",
       " (0.019684338733073514,\n",
       "  ((0.04, 0.1, 0.6000000000000001, 0.2, 0.6000000000000001),\n",
       "   (0.2, 0.06, 0.18, 0.78, 0.18))),\n",
       " (0.01966480514425567,\n",
       "  ((0.0, 0.1, 0.44000000000000006, 0.14, 0.4000000000000001),\n",
       "   (0.14, 0.04, 0.0, 0.7000000000000001, 0.04))),\n",
       " (0.01966325690985876,\n",
       "  ((0.06, 0.08, 0.5800000000000001, 0.04, 0.5800000000000001),\n",
       "   (0.2, 0.04, 0.18, 0.6000000000000001, 0.18))),\n",
       " (0.019645986869524457,\n",
       "  ((0.02, 0.2, 0.4200000000000001, 0.1, 0.5800000000000001),\n",
       "   (0.18, 0.14, 0.0, 0.6600000000000001, 0.18))),\n",
       " (0.01962405598573813,\n",
       "  ((0.04, 0.18, 0.4800000000000001, 0.18, 0.5800000000000001),\n",
       "   (0.2, 0.16, 0.06, 0.7200000000000001, 0.16))),\n",
       " (0.01959361959672573,\n",
       "  ((0.0, 0.16, 0.4200000000000001, 0.02, 0.5000000000000001),\n",
       "   (0.14, 0.04, 0.0, 0.6000000000000001, 0.16))),\n",
       " (0.01956217314070896,\n",
       "  ((0.0, 0.2, 0.4000000000000001, 0.04, 0.52),\n",
       "   (0.14, 0.06, 0.0, 0.6000000000000001, 0.2))),\n",
       " (0.019548710041287276,\n",
       "  ((0.06, 0.2, 0.52, 0.0, 0.56), (0.2, 0.06, 0.06, 0.6400000000000001, 0.2))),\n",
       " (0.019543768578066334,\n",
       "  ((0.06, 0.14, 0.5800000000000001, 0.02, 0.5800000000000001),\n",
       "   (0.2, 0.06, 0.16, 0.6000000000000001, 0.2))),\n",
       " (0.01952644282000071,\n",
       "  ((0.04, 0.2, 0.44000000000000006, 0.2, 0.6000000000000001),\n",
       "   (0.2, 0.18, 0.02, 0.7400000000000001, 0.18))),\n",
       " (0.01951278666068601,\n",
       "  ((0.0, 0.18, 0.4800000000000001, 0.2, 0.56), (0.18, 0.12, 0.0, 0.8, 0.14))),\n",
       " (0.019506185687607425,\n",
       "  ((0.0, 0.04, 0.4800000000000001, 0.16, 0.4000000000000001),\n",
       "   (0.16, 0.0, 0.02, 0.7400000000000001, 0.0))),\n",
       " (0.019484659150303785,\n",
       "  ((0.06, 0.18, 0.5000000000000001, 0.02, 0.6000000000000001),\n",
       "   (0.2, 0.18, 0.08, 0.6000000000000001, 0.16))),\n",
       " (0.019483085259635824,\n",
       "  ((0.04, 0.06, 0.6000000000000001, 0.06, 0.44000000000000006),\n",
       "   (0.2, 0.0, 0.18, 0.6600000000000001, 0.02))),\n",
       " (0.019476405465283897,\n",
       "  ((0.0, 0.2, 0.44000000000000006, 0.14, 0.4600000000000001),\n",
       "   (0.16, 0.04, 0.0, 0.7600000000000001, 0.12))),\n",
       " (0.019465439226816317,\n",
       "  ((0.0, 0.18, 0.4600000000000001, 0.12, 0.4000000000000001),\n",
       "   (0.14, 0.14, 0.02, 0.68, 0.02))),\n",
       " (0.01945602489747633,\n",
       "  ((0.06, 0.2, 0.5800000000000001, 0.02, 0.4200000000000001),\n",
       "   (0.2, 0.0, 0.16, 0.6600000000000001, 0.1))),\n",
       " (0.019425199050585984,\n",
       "  ((0.0, 0.18, 0.4000000000000001, 0.08, 0.6000000000000001),\n",
       "   (0.16, 0.2, 0.0, 0.6000000000000001, 0.16))),\n",
       " (0.019410255582473557,\n",
       "  ((0.0, 0.02, 0.4000000000000001, 0.08, 0.4000000000000001),\n",
       "   (0.14, 0.0, 0.0, 0.6000000000000001, 0.02))),\n",
       " (0.019404717473241018,\n",
       "  ((0.0, 0.2, 0.5000000000000001, 0.1, 0.5000000000000001),\n",
       "   (0.16, 0.04, 0.0, 0.78, 0.14))),\n",
       " (0.01940470634358138,\n",
       "  ((0.04, 0.18, 0.56, 0.18, 0.6000000000000001),\n",
       "   (0.2, 0.18, 0.16, 0.7200000000000001, 0.16))),\n",
       " (0.019401246776988734,\n",
       "  ((0.0, 0.2, 0.6000000000000001, 0.18, 0.6000000000000001),\n",
       "   (0.16, 0.18, 0.12, 0.8, 0.16))),\n",
       " (0.01938117624448743,\n",
       "  ((0.06, 0.16, 0.56, 0.0, 0.5800000000000001),\n",
       "   (0.2, 0.12, 0.14, 0.6000000000000001, 0.16))),\n",
       " (0.01937220163527298,\n",
       "  ((0.04, 0.18, 0.6000000000000001, 0.18, 0.52),\n",
       "   (0.2, 0.06, 0.2, 0.7400000000000001, 0.16))),\n",
       " (0.01936867952837107,\n",
       "  ((0.0, 0.0, 0.6000000000000001, 0.14, 0.4000000000000001),\n",
       "   (0.14, 0.0, 0.18, 0.68, 0.0))),\n",
       " (0.019337576886372276,\n",
       "  ((0.0, 0.06, 0.54, 0.12, 0.4000000000000001),\n",
       "   (0.16, 0.0, 0.08, 0.7200000000000001, 0.0))),\n",
       " (0.019328948960857628,\n",
       "  ((0.0, 0.02, 0.4200000000000001, 0.08, 0.4200000000000001),\n",
       "   (0.14, 0.0, 0.02, 0.6000000000000001, 0.04))),\n",
       " (0.019306985263262022,\n",
       "  ((0.0, 0.2, 0.44000000000000006, 0.2, 0.52),\n",
       "   (0.16, 0.16, 0.0, 0.7600000000000001, 0.12))),\n",
       " (0.01925311234973548,\n",
       "  ((0.04, 0.2, 0.4800000000000001, 0.18, 0.6000000000000001),\n",
       "   (0.2, 0.16, 0.04, 0.7600000000000001, 0.18))),\n",
       " (0.019240473376734513,\n",
       "  ((0.04, 0.02, 0.6000000000000001, 0.04, 0.5800000000000001),\n",
       "   (0.2, 0.04, 0.2, 0.6000000000000001, 0.12))),\n",
       " (0.01923424440427368,\n",
       "  ((0.0, 0.04, 0.56, 0.14, 0.4000000000000001),\n",
       "   (0.14, 0.04, 0.14, 0.68, 0.0))),\n",
       " (0.019209480431390535,\n",
       "  ((0.06, 0.2, 0.4600000000000001, 0.02, 0.56),\n",
       "   (0.2, 0.12, 0.04, 0.6000000000000001, 0.18))),\n",
       " (0.019130271995391246,\n",
       "  ((0.0, 0.0, 0.54, 0.2, 0.4000000000000001),\n",
       "   (0.14, 0.04, 0.2, 0.6600000000000001, 0.0))),\n",
       " (0.019121729976400825,\n",
       "  ((0.0, 0.2, 0.4800000000000001, 0.16, 0.6000000000000001),\n",
       "   (0.14, 0.18, 0.02, 0.7400000000000001, 0.2))),\n",
       " (0.019092634425227017,\n",
       "  ((0.06, 0.16, 0.56, 0.02, 0.6000000000000001),\n",
       "   (0.2, 0.1, 0.12, 0.6200000000000001, 0.2))),\n",
       " (0.01907644779553902,\n",
       "  ((0.0, 0.04, 0.4200000000000001, 0.18, 0.4000000000000001),\n",
       "   (0.16, 0.02, 0.0, 0.7200000000000001, 0.0))),\n",
       " (0.019073381879575635,\n",
       "  ((0.06, 0.1, 0.6000000000000001, 0.04, 0.56),\n",
       "   (0.2, 0.02, 0.2, 0.6200000000000001, 0.18))),\n",
       " (0.01906976914880515,\n",
       "  ((0.0, 0.0, 0.6000000000000001, 0.14, 0.44000000000000006),\n",
       "   (0.16, 0.02, 0.2, 0.68, 0.0))),\n",
       " (0.01906704913446816,\n",
       "  ((0.06, 0.12, 0.6000000000000001, 0.06, 0.4000000000000001),\n",
       "   (0.2, 0.04, 0.2, 0.6400000000000001, 0.02))),\n",
       " (0.019048955455337524,\n",
       "  ((0.06, 0.16, 0.6000000000000001, 0.02, 0.56),\n",
       "   (0.2, 0.04, 0.18, 0.6200000000000001, 0.2))),\n",
       " (0.019014721393415146,\n",
       "  ((0.0, 0.2, 0.5000000000000001, 0.2, 0.54), (0.18, 0.14, 0.02, 0.8, 0.12))),\n",
       " (0.018936985213021118,\n",
       "  ((0.06, 0.2, 0.52, 0.02, 0.5800000000000001),\n",
       "   (0.2, 0.12, 0.1, 0.6000000000000001, 0.2))),\n",
       " (0.018934946655659035,\n",
       "  ((0.06, 0.16, 0.6000000000000001, 0.02, 0.5000000000000001),\n",
       "   (0.2, 0.02, 0.16, 0.6600000000000001, 0.14))),\n",
       " (0.018930549798378327,\n",
       "  ((0.0, 0.0, 0.52, 0.16, 0.4000000000000001),\n",
       "   (0.14, 0.0, 0.08, 0.7200000000000001, 0.0))),\n",
       " (0.01887891799176189,\n",
       "  ((0.04, 0.2, 0.4200000000000001, 0.14, 0.6000000000000001),\n",
       "   (0.18, 0.18, 0.02, 0.68, 0.2))),\n",
       " (0.018867525298311538,\n",
       "  ((0.04, 0.02, 0.6000000000000001, 0.1, 0.4200000000000001),\n",
       "   (0.2, 0.0, 0.2, 0.6400000000000001, 0.0))),\n",
       " (0.018866910464517106,\n",
       "  ((0.0, 0.2, 0.5800000000000001, 0.12, 0.6000000000000001),\n",
       "   (0.18, 0.18, 0.04, 0.8, 0.12))),\n",
       " (0.018861628298047328,\n",
       "  ((0.0, 0.18, 0.4000000000000001, 0.14, 0.4000000000000001),\n",
       "   (0.12, 0.08, 0.02, 0.6600000000000001, 0.1))),\n",
       " (0.018846095306266297,\n",
       "  ((0.04, 0.08, 0.6000000000000001, 0.2, 0.4600000000000001),\n",
       "   (0.2, 0.08, 0.2, 0.7600000000000001, 0.02))),\n",
       " (0.01883722334488802,\n",
       "  ((0.0, 0.02, 0.5800000000000001, 0.0, 0.4200000000000001),\n",
       "   (0.14, 0.0, 0.14, 0.6000000000000001, 0.0))),\n",
       " (0.018765262374075165,\n",
       "  ((0.0, 0.02, 0.5800000000000001, 0.12, 0.4000000000000001),\n",
       "   (0.14, 0.0, 0.14, 0.7000000000000001, 0.0))),\n",
       " (0.01872760699661996,\n",
       "  ((0.02, 0.16, 0.4000000000000001, 0.12, 0.6000000000000001),\n",
       "   (0.16, 0.2, 0.0, 0.6200000000000001, 0.18))),\n",
       " (0.018716665557560963,\n",
       "  ((0.06, 0.04, 0.6000000000000001, 0.1, 0.4600000000000001),\n",
       "   (0.2, 0.0, 0.18, 0.68, 0.06))),\n",
       " (0.018703356428420637,\n",
       "  ((0.0, 0.02, 0.44000000000000006, 0.2, 0.4000000000000001),\n",
       "   (0.14, 0.04, 0.0, 0.7400000000000001, 0.0))),\n",
       " (0.018684872074140213,\n",
       "  ((0.06, 0.18, 0.4200000000000001, 0.06, 0.56),\n",
       "   (0.2, 0.1, 0.02, 0.6000000000000001, 0.2))),\n",
       " (0.018646860829691247,\n",
       "  ((0.0, 0.0, 0.6000000000000001, 0.06, 0.4200000000000001),\n",
       "   (0.14, 0.0, 0.16, 0.6400000000000001, 0.0))),\n",
       " (0.0186401970902344,\n",
       "  ((0.0, 0.0, 0.52, 0.04, 0.4200000000000001),\n",
       "   (0.14, 0.0, 0.08, 0.6200000000000001, 0.0))),\n",
       " (0.018617146673373552,\n",
       "  ((0.06, 0.06, 0.6000000000000001, 0.1, 0.4200000000000001),\n",
       "   (0.2, 0.0, 0.2, 0.6600000000000001, 0.04))),\n",
       " (0.018518751939616884,\n",
       "  ((0.06, 0.2, 0.4800000000000001, 0.0, 0.6000000000000001),\n",
       "   (0.2, 0.14, 0.04, 0.6000000000000001, 0.2))),\n",
       " (0.018471097804486636,\n",
       "  ((0.0, 0.2, 0.4200000000000001, 0.12, 0.4200000000000001),\n",
       "   (0.14, 0.0, 0.0, 0.7200000000000001, 0.14))),\n",
       " (0.018443086984233692,\n",
       "  ((0.06, 0.0, 0.6000000000000001, 0.1, 0.54),\n",
       "   (0.2, 0.0, 0.2, 0.6600000000000001, 0.12))),\n",
       " (0.018387254713175205,\n",
       "  ((0.06, 0.2, 0.6000000000000001, 0.16, 0.6000000000000001),\n",
       "   (0.2, 0.16, 0.16, 0.7400000000000001, 0.2))),\n",
       " (0.01837714266945667,\n",
       "  ((0.0, 0.0, 0.6000000000000001, 0.18, 0.4000000000000001),\n",
       "   (0.14, 0.0, 0.2, 0.68, 0.02))),\n",
       " (0.018362370003782658,\n",
       "  ((0.0, 0.2, 0.4000000000000001, 0.14, 0.44000000000000006),\n",
       "   (0.14, 0.18, 0.0, 0.6600000000000001, 0.06))),\n",
       " (0.018355643809451705,\n",
       "  ((0.0, 0.2, 0.54, 0.2, 0.6000000000000001), (0.16, 0.2, 0.06, 0.8, 0.16))),\n",
       " (0.01820359032355745,\n",
       "  ((0.0, 0.1, 0.4000000000000001, 0.16, 0.4200000000000001),\n",
       "   (0.12, 0.0, 0.0, 0.7000000000000001, 0.12))),\n",
       " (0.018174873599968666,\n",
       "  ((0.04, 0.12, 0.6000000000000001, 0.2, 0.4000000000000001),\n",
       "   (0.2, 0.04, 0.2, 0.7600000000000001, 0.02))),\n",
       " (0.018107991036930116,\n",
       "  ((0.0, 0.2, 0.44000000000000006, 0.16, 0.54),\n",
       "   (0.14, 0.2, 0.02, 0.7000000000000001, 0.14))),\n",
       " (0.018093862828018004,\n",
       "  ((0.0, 0.0, 0.4000000000000001, 0.2, 0.4200000000000001),\n",
       "   (0.12, 0.0, 0.0, 0.68, 0.08))),\n",
       " (0.018075013702163523,\n",
       "  ((0.06, 0.16, 0.6000000000000001, 0.2, 0.44000000000000006),\n",
       "   (0.2, 0.0, 0.2, 0.8, 0.12))),\n",
       " (0.01807031922723823,\n",
       "  ((0.04, 0.02, 0.6000000000000001, 0.2, 0.4200000000000001),\n",
       "   (0.2, 0.0, 0.2, 0.7600000000000001, 0.0))),\n",
       " (0.018037325612896837,\n",
       "  ((0.0, 0.2, 0.4600000000000001, 0.18, 0.56),\n",
       "   (0.16, 0.1, 0.0, 0.7600000000000001, 0.2))),\n",
       " (0.01802030205025018,\n",
       "  ((0.06, 0.18, 0.5800000000000001, 0.02, 0.5800000000000001),\n",
       "   (0.2, 0.18, 0.18, 0.6000000000000001, 0.14))),\n",
       " (0.017972270276152003,\n",
       "  ((0.04, 0.04, 0.5800000000000001, 0.08, 0.4000000000000001),\n",
       "   (0.18, 0.02, 0.2, 0.6200000000000001, 0.0))),\n",
       " (0.017921619178421666,\n",
       "  ((0.06, 0.2, 0.6000000000000001, 0.2, 0.44000000000000006),\n",
       "   (0.2, 0.0, 0.18, 0.78, 0.16))),\n",
       " (0.01791925179925824,\n",
       "  ((0.0, 0.06, 0.52, 0.0, 0.4000000000000001),\n",
       "   (0.14, 0.0, 0.04, 0.6400000000000001, 0.0))),\n",
       " (0.017894633786586844,\n",
       "  ((0.06, 0.2, 0.6000000000000001, 0.2, 0.5800000000000001),\n",
       "   (0.2, 0.16, 0.18, 0.78, 0.18))),\n",
       " (0.017884768442875676,\n",
       "  ((0.08, 0.14, 0.44000000000000006, 0.0, 0.4200000000000001),\n",
       "   (0.2, 0.0, 0.02, 0.6000000000000001, 0.1))),\n",
       " (0.017874368263804563,\n",
       "  ((0.0, 0.02, 0.4000000000000001, 0.18, 0.44000000000000006),\n",
       "   (0.14, 0.12, 0.0, 0.6600000000000001, 0.0))),\n",
       " (0.01787266597790238,\n",
       "  ((0.06, 0.18, 0.44000000000000006, 0.04, 0.6000000000000001),\n",
       "   (0.2, 0.18, 0.0, 0.6000000000000001, 0.18))),\n",
       " (0.017792646325719585,\n",
       "  ((0.06, 0.02, 0.6000000000000001, 0.1, 0.5000000000000001),\n",
       "   (0.2, 0.02, 0.2, 0.6600000000000001, 0.08))),\n",
       " (0.01779090986702686,\n",
       "  ((0.06, 0.2, 0.54, 0.18, 0.6000000000000001),\n",
       "   (0.2, 0.2, 0.12, 0.7400000000000001, 0.18))),\n",
       " (0.017788456377597295,\n",
       "  ((0.0, 0.18, 0.4000000000000001, 0.18, 0.4600000000000001),\n",
       "   (0.14, 0.14, 0.0, 0.7000000000000001, 0.1))),\n",
       " (0.017783251623597174,\n",
       "  ((0.0, 0.2, 0.4200000000000001, 0.08, 0.44000000000000006),\n",
       "   (0.12, 0.2, 0.0, 0.6200000000000001, 0.06))),\n",
       " (0.01776784700406636,\n",
       "  ((0.0, 0.2, 0.6000000000000001, 0.2, 0.4200000000000001),\n",
       "   (0.2, 0.1, 0.16, 0.8, 0.0))),\n",
       " (0.017640311962480337,\n",
       "  ((0.0, 0.2, 0.44000000000000006, 0.14, 0.52),\n",
       "   (0.14, 0.1, 0.0, 0.7200000000000001, 0.18))),\n",
       " (0.017633265725413794,\n",
       "  ((0.08, 0.2, 0.6000000000000001, 0.02, 0.54),\n",
       "   (0.2, 0.12, 0.2, 0.6000000000000001, 0.18))),\n",
       " (0.017631982813995695,\n",
       "  ((0.02, 0.0, 0.6000000000000001, 0.18, 0.4200000000000001),\n",
       "   (0.16, 0.04, 0.2, 0.7000000000000001, 0.0))),\n",
       " (0.017595444609455724,\n",
       "  ((0.06, 0.2, 0.6000000000000001, 0.2, 0.54), (0.2, 0.08, 0.18, 0.78, 0.2))),\n",
       " (0.017470320510300064,\n",
       "  ((0.0, 0.0, 0.4200000000000001, 0.1, 0.4000000000000001),\n",
       "   (0.14, 0.0, 0.02, 0.6000000000000001, 0.02))),\n",
       " (0.017468306946582968,\n",
       "  ((0.08, 0.14, 0.6000000000000001, 0.08, 0.4600000000000001),\n",
       "   (0.2, 0.04, 0.2, 0.6600000000000001, 0.12))),\n",
       " (0.017438794010612102,\n",
       "  ((0.06, 0.02, 0.6000000000000001, 0.14, 0.4000000000000001),\n",
       "   (0.2, 0.02, 0.2, 0.6600000000000001, 0.0))),\n",
       " (0.017404563091487746,\n",
       "  ((0.0, 0.18, 0.4000000000000001, 0.1, 0.4200000000000001),\n",
       "   (0.12, 0.1, 0.0, 0.6400000000000001, 0.1))),\n",
       " (0.017399181432197874,\n",
       "  ((0.08, 0.04, 0.5000000000000001, 0.02, 0.52),\n",
       "   (0.2, 0.0, 0.08, 0.6000000000000001, 0.14))),\n",
       " (0.01738375544838644,\n",
       "  ((0.08, 0.02, 0.6000000000000001, 0.14, 0.6000000000000001),\n",
       "   (0.2, 0.04, 0.2, 0.68, 0.2))),\n",
       " (0.01733243084520747,\n",
       "  ((0.08, 0.2, 0.5000000000000001, 0.08, 0.56),\n",
       "   (0.2, 0.16, 0.12, 0.6000000000000001, 0.2))),\n",
       " (0.017307416253717067,\n",
       "  ((0.0, 0.2, 0.44000000000000006, 0.12, 0.5000000000000001),\n",
       "   (0.14, 0.1, 0.0, 0.7000000000000001, 0.16))),\n",
       " (0.017285436251938457,\n",
       "  ((0.08, 0.14, 0.6000000000000001, 0.1, 0.4200000000000001),\n",
       "   (0.2, 0.0, 0.16, 0.7200000000000001, 0.1))),\n",
       " (0.017281506438832805,\n",
       "  ((0.08, 0.02, 0.5000000000000001, 0.0, 0.6000000000000001),\n",
       "   (0.2, 0.0, 0.06, 0.6000000000000001, 0.2))),\n",
       " (0.01724779725345904,\n",
       "  ((0.08, 0.1, 0.5800000000000001, 0.1, 0.54),\n",
       "   (0.2, 0.08, 0.2, 0.6400000000000001, 0.16))),\n",
       " (0.017211129081886767,\n",
       "  ((0.08, 0.02, 0.4600000000000001, 0.0, 0.5800000000000001),\n",
       "   (0.2, 0.0, 0.02, 0.6000000000000001, 0.18))),\n",
       " (0.01720666245888164,\n",
       "  ((0.0, 0.2, 0.4600000000000001, 0.14, 0.5800000000000001),\n",
       "   (0.14, 0.16, 0.0, 0.7200000000000001, 0.2))),\n",
       " (0.01717190941736285,\n",
       "  ((0.08, 0.1, 0.6000000000000001, 0.1, 0.6000000000000001),\n",
       "   (0.2, 0.14, 0.2, 0.6400000000000001, 0.18))),\n",
       " (0.017125780242016664,\n",
       "  ((0.02, 0.2, 0.6000000000000001, 0.2, 0.56), (0.16, 0.14, 0.16, 0.8, 0.18))),\n",
       " (0.017107735537451152,\n",
       "  ((0.04, 0.2, 0.4000000000000001, 0.12, 0.5800000000000001),\n",
       "   (0.18, 0.2, 0.0, 0.6400000000000001, 0.18))),\n",
       " (0.017105935645230608,\n",
       "  ((0.08, 0.2, 0.52, 0.0, 0.6000000000000001),\n",
       "   (0.2, 0.2, 0.08, 0.6000000000000001, 0.18))),\n",
       " (0.01709666100788676,\n",
       "  ((0.0, 0.2, 0.4000000000000001, 0.1, 0.4600000000000001),\n",
       "   (0.12, 0.08, 0.0, 0.6600000000000001, 0.16))),\n",
       " (0.01709022104919583,\n",
       "  ((0.08, 0.08, 0.6000000000000001, 0.1, 0.52),\n",
       "   (0.2, 0.08, 0.2, 0.6600000000000001, 0.12))),\n",
       " (0.017047819553765997,\n",
       "  ((0.08, 0.16, 0.6000000000000001, 0.06, 0.5800000000000001),\n",
       "   (0.2, 0.14, 0.2, 0.6000000000000001, 0.2))),\n",
       " (0.017016195951031154,\n",
       "  ((0.08, 0.16, 0.44000000000000006, 0.12, 0.5800000000000001),\n",
       "   (0.2, 0.18, 0.06, 0.6000000000000001, 0.2))),\n",
       " (0.017015118508189875,\n",
       "  ((0.08, 0.18, 0.6000000000000001, 0.06, 0.6000000000000001),\n",
       "   (0.2, 0.16, 0.2, 0.6400000000000001, 0.2))),\n",
       " (0.016987416766102104,\n",
       "  ((0.08, 0.2, 0.56, 0.06, 0.56), (0.2, 0.12, 0.08, 0.68, 0.2))),\n",
       " (0.016899990967389478,\n",
       "  ((0.0, 0.2, 0.52, 0.2, 0.6000000000000001), (0.16, 0.18, 0.04, 0.8, 0.18))),\n",
       " (0.016808318038285197,\n",
       "  ((0.0, 0.2, 0.44000000000000006, 0.12, 0.56), (0.12, 0.2, 0.0, 0.68, 0.18))),\n",
       " (0.01677547276038277,\n",
       "  ((0.0, 0.14, 0.4000000000000001, 0.14, 0.4000000000000001),\n",
       "   (0.12, 0.08, 0.0, 0.6600000000000001, 0.08))),\n",
       " (0.0166901558965864,\n",
       "  ((0.0, 0.0, 0.6000000000000001, 0.02, 0.4200000000000001),\n",
       "   (0.12, 0.0, 0.18, 0.6000000000000001, 0.02))),\n",
       " (0.0166795772654868,\n",
       "  ((0.0, 0.08, 0.4200000000000001, 0.04, 0.4000000000000001),\n",
       "   (0.1, 0.02, 0.0, 0.6000000000000001, 0.08))),\n",
       " (0.01661681934949083,\n",
       "  ((0.08, 0.2, 0.6000000000000001, 0.18, 0.6000000000000001),\n",
       "   (0.2, 0.2, 0.2, 0.7400000000000001, 0.2))),\n",
       " (0.01654886563632424,\n",
       "  ((0.0, 0.16, 0.44000000000000006, 0.08, 0.52),\n",
       "   (0.12, 0.08, 0.0, 0.68, 0.18))),\n",
       " (0.01648180294286916,\n",
       "  ((0.0, 0.18, 0.4200000000000001, 0.02, 0.6000000000000001),\n",
       "   (0.16, 0.12, 0.0, 0.6000000000000001, 0.2))),\n",
       " (0.016471156027151268,\n",
       "  ((0.08, 0.2, 0.4800000000000001, 0.08, 0.6000000000000001),\n",
       "   (0.2, 0.2, 0.02, 0.6600000000000001, 0.2))),\n",
       " (0.01646618847391207,\n",
       "  ((0.08, 0.06, 0.6000000000000001, 0.14, 0.54),\n",
       "   (0.2, 0.04, 0.2, 0.7000000000000001, 0.16))),\n",
       " (0.016419329862542187,\n",
       "  ((0.06, 0.2, 0.4800000000000001, 0.2, 0.6000000000000001),\n",
       "   (0.2, 0.2, 0.04, 0.7400000000000001, 0.2))),\n",
       " (0.016419210791153827,\n",
       "  ((0.04, 0.2, 0.4200000000000001, 0.2, 0.6000000000000001),\n",
       "   (0.2, 0.18, 0.0, 0.7200000000000001, 0.2))),\n",
       " (0.016403876089754577,\n",
       "  ((0.0, 0.2, 0.44000000000000006, 0.1, 0.54),\n",
       "   (0.12, 0.14, 0.02, 0.6600000000000001, 0.2))),\n",
       " (0.01633983493492064,\n",
       "  ((0.0, 0.16, 0.4000000000000001, 0.1, 0.4600000000000001),\n",
       "   (0.1, 0.06, 0.0, 0.6400000000000001, 0.18))),\n",
       " (0.016294551673929458,\n",
       "  ((0.08, 0.18, 0.4200000000000001, 0.1, 0.5800000000000001),\n",
       "   (0.2, 0.18, 0.02, 0.6200000000000001, 0.2))),\n",
       " (0.016237015910810615,\n",
       "  ((0.0, 0.0, 0.6000000000000001, 0.02, 0.4000000000000001),\n",
       "   (0.12, 0.0, 0.18, 0.6000000000000001, 0.0))),\n",
       " (0.016236997816975574,\n",
       "  ((0.06, 0.2, 0.52, 0.18, 0.6000000000000001), (0.2, 0.2, 0.04, 0.78, 0.18))),\n",
       " (0.01617950211325503,\n",
       "  ((0.08, 0.2, 0.5800000000000001, 0.04, 0.6000000000000001),\n",
       "   (0.2, 0.2, 0.16, 0.6000000000000001, 0.2))),\n",
       " (0.016174071805058865,\n",
       "  ((0.08, 0.06, 0.4600000000000001, 0.0, 0.5800000000000001),\n",
       "   (0.2, 0.02, 0.0, 0.6000000000000001, 0.2))),\n",
       " (0.01614807783584843,\n",
       "  ((0.0, 0.14, 0.4000000000000001, 0.12, 0.52),\n",
       "   (0.12, 0.2, 0.0, 0.6200000000000001, 0.12))),\n",
       " (0.016031547098570575,\n",
       "  ((0.08, 0.2, 0.52, 0.06, 0.6000000000000001),\n",
       "   (0.2, 0.2, 0.06, 0.6400000000000001, 0.2))),\n",
       " (0.015970017542837167,\n",
       "  ((0.02, 0.18, 0.4800000000000001, 0.2, 0.6000000000000001),\n",
       "   (0.16, 0.18, 0.0, 0.78, 0.2))),\n",
       " (0.015927599138849557,\n",
       "  ((0.08, 0.04, 0.6000000000000001, 0.14, 0.44000000000000006),\n",
       "   (0.2, 0.06, 0.2, 0.68, 0.04))),\n",
       " (0.015881146641747335,\n",
       "  ((0.1, 0.2, 0.6000000000000001, 0.12, 0.4000000000000001),\n",
       "   (0.2, 0.04, 0.2, 0.68, 0.14))),\n",
       " (0.015821712380380937,\n",
       "  ((0.0, 0.2, 0.44000000000000006, 0.08, 0.52),\n",
       "   (0.12, 0.2, 0.0, 0.6400000000000001, 0.14))),\n",
       " (0.01581009610753603,\n",
       "  ((0.04, 0.12, 0.4000000000000001, 0.04, 0.5800000000000001),\n",
       "   (0.2, 0.04, 0.0, 0.6000000000000001, 0.2))),\n",
       " (0.015807670580388844,\n",
       "  ((0.08, 0.2, 0.4000000000000001, 0.08, 0.5800000000000001),\n",
       "   (0.2, 0.2, 0.0, 0.6000000000000001, 0.2))),\n",
       " (0.01568506931558966,\n",
       "  ((0.0, 0.18, 0.4000000000000001, 0.14, 0.54),\n",
       "   (0.12, 0.16, 0.0, 0.6400000000000001, 0.2))),\n",
       " (0.015583310695949038,\n",
       "  ((0.0, 0.0, 0.18, 0.6000000000000001, 0.2), (0.08, 0.04, 0.02, 0.78, 0.0))),\n",
       " (0.015502173675150444,\n",
       "  ((0.08, 0.18, 0.54, 0.08, 0.6000000000000001),\n",
       "   (0.2, 0.2, 0.12, 0.6200000000000001, 0.2))),\n",
       " (0.015415893834446193,\n",
       "  ((0.1, 0.2, 0.6000000000000001, 0.1, 0.54), (0.2, 0.14, 0.18, 0.68, 0.2))),\n",
       " (0.015385737514901632,\n",
       "  ((0.0, 0.18, 0.44000000000000006, 0.2, 0.6000000000000001),\n",
       "   (0.16, 0.18, 0.0, 0.7200000000000001, 0.2))),\n",
       " (0.015240924644895348,\n",
       "  ((0.1, 0.12, 0.6000000000000001, 0.14, 0.54),\n",
       "   (0.2, 0.08, 0.18, 0.7000000000000001, 0.2))),\n",
       " (0.015208585290951204,\n",
       "  ((0.02, 0.2, 0.5800000000000001, 0.2, 0.6000000000000001),\n",
       "   (0.16, 0.2, 0.14, 0.7600000000000001, 0.2))),\n",
       " (0.01507653702218592,\n",
       "  ((0.02, 0.18, 0.16, 0.6000000000000001, 0.12),\n",
       "   (0.08, 0.04, 0.02, 0.8, 0.06))),\n",
       " (0.015067959496800898,\n",
       "  ((0.0, 0.0, 0.52, 0.04, 0.4000000000000001),\n",
       "   (0.12, 0.02, 0.1, 0.6000000000000001, 0.0))),\n",
       " (0.014992855491962831,\n",
       "  ((0.1, 0.16, 0.6000000000000001, 0.14, 0.4800000000000001),\n",
       "   (0.2, 0.18, 0.2, 0.68, 0.1))),\n",
       " (0.014829604505455674,\n",
       "  ((0.08, 0.2, 0.5800000000000001, 0.18, 0.6000000000000001),\n",
       "   (0.2, 0.2, 0.08, 0.8, 0.2))),\n",
       " (0.014763667198762598,\n",
       "  ((0.0, 0.12, 0.2, 0.6000000000000001, 0.18), (0.08, 0.1, 0.04, 0.78, 0.02))),\n",
       " (0.014717866400725865,\n",
       "  ((0.06, 0.1, 0.14, 0.6000000000000001, 0.1), (0.12, 0.0, 0.0, 0.78, 0.02))),\n",
       " (0.014670637433637668,\n",
       "  ((0.1, 0.18, 0.6000000000000001, 0.16, 0.4200000000000001),\n",
       "   (0.2, 0.0, 0.2, 0.7200000000000001, 0.18))),\n",
       " (0.014667599294601208,\n",
       "  ((0.0, 0.0, 0.16, 0.6000000000000001, 0.16),\n",
       "   (0.06, 0.04, 0.06, 0.7200000000000001, 0.0))),\n",
       " (0.014589838292610735,\n",
       "  ((0.0, 0.06, 0.2, 0.6000000000000001, 0.2), (0.1, 0.06, 0.02, 0.8, 0.0))),\n",
       " (0.01456584668758476,\n",
       "  ((0.04, 0.2, 0.4000000000000001, 0.14, 0.6000000000000001),\n",
       "   (0.2, 0.18, 0.0, 0.6600000000000001, 0.2))),\n",
       " (0.014558010184613446,\n",
       "  ((0.06, 0.16, 0.16, 0.6200000000000001, 0.2), (0.12, 0.1, 0.04, 0.8, 0.08))),\n",
       " (0.01450338998918349,\n",
       "  ((0.04, 0.18, 0.6000000000000001, 0.2, 0.5800000000000001),\n",
       "   (0.16, 0.2, 0.12, 0.8, 0.18))),\n",
       " (0.01450208208495668,\n",
       "  ((0.0, 0.08, 0.2, 0.6000000000000001, 0.16), (0.08, 0.0, 0.04, 0.8, 0.04))),\n",
       " (0.014439902813484506,\n",
       "  ((0.06, 0.1, 0.18, 0.6000000000000001, 0.14), (0.14, 0.04, 0.02, 0.8, 0.0))),\n",
       " (0.014324835878479214,\n",
       "  ((0.0, 0.06, 0.14, 0.6200000000000001, 0.2), (0.08, 0.08, 0.0, 0.78, 0.02))),\n",
       " (0.014318504348235062,\n",
       "  ((0.02, 0.2, 0.2, 0.6200000000000001, 0.14), (0.1, 0.14, 0.08, 0.8, 0.0))),\n",
       " (0.01431508785983604,\n",
       "  ((0.0, 0.2, 0.16, 0.6000000000000001, 0.18), (0.08, 0.14, 0.0, 0.8, 0.04))),\n",
       " (0.014303275828084938,\n",
       "  ((0.02, 0.14, 0.14, 0.6400000000000001, 0.16),\n",
       "   (0.08, 0.16, 0.04, 0.78, 0.0))),\n",
       " (0.014262347200379166,\n",
       "  ((0.02, 0.06, 0.2, 0.6200000000000001, 0.12), (0.08, 0.02, 0.06, 0.8, 0.0))),\n",
       " (0.014229353574007342,\n",
       "  ((0.04, 0.2, 0.54, 0.2, 0.5800000000000001), (0.16, 0.2, 0.04, 0.8, 0.2))),\n",
       " (0.014227142912872526,\n",
       "  ((0.02, 0.18, 0.14, 0.6200000000000001, 0.14),\n",
       "   (0.08, 0.08, 0.0, 0.8, 0.06))),\n",
       " (0.014186721723854434,\n",
       "  ((0.1, 0.1, 0.6000000000000001, 0.18, 0.6000000000000001),\n",
       "   (0.2, 0.2, 0.2, 0.7000000000000001, 0.18))),\n",
       " (0.014150271607884013,\n",
       "  ((0.0, 0.12, 0.1, 0.6000000000000001, 0.2),\n",
       "   (0.06, 0.18, 0.0, 0.7200000000000001, 0.02))),\n",
       " (0.014064079202392832,\n",
       "  ((0.06, 0.1, 0.16, 0.6000000000000001, 0.12),\n",
       "   (0.12, 0.0, 0.02, 0.78, 0.04))),\n",
       " (0.014053476836761336,\n",
       "  ((0.0, 0.14, 0.12, 0.6000000000000001, 0.18),\n",
       "   (0.08, 0.06, 0.0, 0.78, 0.06))),\n",
       " (0.014023635969614145,\n",
       "  ((0.0, 0.08, 0.12, 0.6000000000000001, 0.2),\n",
       "   (0.06, 0.18, 0.02, 0.7000000000000001, 0.0))),\n",
       " (0.014006257363033459,\n",
       "  ((0.04, 0.06, 0.14, 0.6000000000000001, 0.2), (0.12, 0.0, 0.0, 0.8, 0.06))),\n",
       " (0.013970996748682518,\n",
       "  ((0.04, 0.12, 0.18, 0.6000000000000001, 0.2), (0.12, 0.0, 0.04, 0.8, 0.1))),\n",
       " (0.01395103113594659,\n",
       "  ((0.0, 0.0, 0.12, 0.6200000000000001, 0.2),\n",
       "   (0.06, 0.08, 0.02, 0.7200000000000001, 0.02))),\n",
       " (0.01392386570471349,\n",
       "  ((0.0, 0.12, 0.4000000000000001, 0.12, 0.56),\n",
       "   (0.1, 0.18, 0.0, 0.6000000000000001, 0.2))),\n",
       " (0.01391563538048285,\n",
       "  ((0.08, 0.04, 0.5000000000000001, 0.0, 0.56),\n",
       "   (0.12, 0.0, 0.4000000000000001, 0.2, 0.4200000000000001))),\n",
       " (0.013900048664016451,\n",
       "  ((0.06, 0.08, 0.12, 0.6400000000000001, 0.2), (0.12, 0.04, 0.0, 0.8, 0.08))),\n",
       " (0.013876500656287594,\n",
       "  ((0.1, 0.14, 0.56, 0.18, 0.5800000000000001),\n",
       "   (0.2, 0.2, 0.2, 0.6600000000000001, 0.2))),\n",
       " (0.013869414565446936,\n",
       "  ((0.0, 0.18, 0.14, 0.6000000000000001, 0.2), (0.06, 0.04, 0.0, 0.8, 0.14))),\n",
       " (0.013855699045620895,\n",
       "  ((0.06, 0.06, 0.16, 0.6200000000000001, 0.14),\n",
       "   (0.12, 0.06, 0.04, 0.7600000000000001, 0.0))),\n",
       " (0.013852047072779872,\n",
       "  ((0.1, 0.18, 0.54, 0.14, 0.5800000000000001),\n",
       "   (0.2, 0.2, 0.12, 0.7000000000000001, 0.2))),\n",
       " (0.013815455504577079,\n",
       "  ((0.06, 0.14, 0.16, 0.6000000000000001, 0.14), (0.14, 0.08, 0.0, 0.8, 0.0))),\n",
       " (0.013789691830174866,\n",
       "  ((0.0, 0.2, 0.14, 0.6000000000000001, 0.0), (0.04, 0.0, 0.04, 0.78, 0.02))),\n",
       " (0.013765201978403196,\n",
       "  ((0.04, 0.08, 0.2, 0.6000000000000001, 0.2),\n",
       "   (0.12, 0.06, 0.04, 0.78, 0.04))),\n",
       " (0.013721451695009768,\n",
       "  ((0.0, 0.04, 0.14, 0.6000000000000001, 0.2),\n",
       "   (0.06, 0.04, 0.0, 0.7600000000000001, 0.06))),\n",
       " (0.013709787631061843,\n",
       "  ((0.08, 0.2, 0.2, 0.6200000000000001, 0.08), (0.14, 0.06, 0.1, 0.8, 0.02))),\n",
       " (0.01370336830460922,\n",
       "  ((0.02, 0.1, 0.18, 0.6200000000000001, 0.14), (0.08, 0.0, 0.06, 0.8, 0.06))),\n",
       " (0.01369745321909599,\n",
       "  ((0.02, 0.1, 0.18, 0.6400000000000001, 0.18),\n",
       "   (0.08, 0.16, 0.08, 0.7600000000000001, 0.0))),\n",
       " (0.01369443491018274,\n",
       "  ((0.06, 0.16, 0.12, 0.6000000000000001, 0.16),\n",
       "   (0.12, 0.18, 0.0, 0.7400000000000001, 0.0))),\n",
       " (0.013689500460874304,\n",
       "  ((0.06, 0.2, 0.16, 0.6000000000000001, 0.18), (0.12, 0.14, 0.0, 0.8, 0.06))),\n",
       " (0.013649168626223895,\n",
       "  ((0.06, 0.16, 0.16, 0.6000000000000001, 0.18),\n",
       "   (0.12, 0.14, 0.0, 0.78, 0.04))),\n",
       " (0.01364272942326794,\n",
       "  ((0.02, 0.18, 0.2, 0.6400000000000001, 0.2), (0.08, 0.2, 0.04, 0.8, 0.04))),\n",
       " (0.01363206796726868,\n",
       "  ((0.06, 0.14, 0.2, 0.6000000000000001, 0.16), (0.14, 0.1, 0.06, 0.8, 0.0))),\n",
       " (0.013620615568327388,\n",
       "  ((0.02, 0.02, 0.2, 0.6600000000000001, 0.2), (0.08, 0.08, 0.08, 0.8, 0.02))),\n",
       " (0.013613909960011272,\n",
       "  ((0.02, 0.1, 0.2, 0.6000000000000001, 0.1), (0.08, 0.0, 0.04, 0.8, 0.02))),\n",
       " (0.013596120223909214,\n",
       "  ((0.0, 0.2, 0.2, 0.6000000000000001, 0.2), (0.08, 0.14, 0.04, 0.8, 0.06))),\n",
       " (0.013538494201731144,\n",
       "  ((0.0, 0.16, 0.1, 0.6400000000000001, 0.02), (0.04, 0.0, 0.0, 0.8, 0.02))),\n",
       " (0.013510800593293237,\n",
       "  ((0.0, 0.06, 0.12, 0.6000000000000001, 0.12),\n",
       "   (0.08, 0.0, 0.0, 0.7600000000000001, 0.0))),\n",
       " (0.013487960045608538,\n",
       "  ((0.0, 0.16, 0.08, 0.6000000000000001, 0.2),\n",
       "   (0.04, 0.08, 0.02, 0.7200000000000001, 0.14))),\n",
       " (0.013486727083100114,\n",
       "  ((0.06, 0.02, 0.18, 0.6400000000000001, 0.18),\n",
       "   (0.12, 0.06, 0.06, 0.7600000000000001, 0.02))),\n",
       " (0.013465670070416491,\n",
       "  ((0.06, 0.04, 0.18, 0.6400000000000001, 0.14), (0.14, 0.0, 0.06, 0.8, 0.0))),\n",
       " (0.01346323527640364,\n",
       "  ((0.0, 0.16, 0.14, 0.6200000000000001, 0.0), (0.04, 0.0, 0.04, 0.78, 0.0))),\n",
       " (0.013450293848337513,\n",
       "  ((0.0, 0.0, 0.16, 0.6000000000000001, 0.18), (0.08, 0.02, 0.0, 0.78, 0.0))),\n",
       " (0.013436979124398063,\n",
       "  ((0.04, 0.0, 0.1, 0.6000000000000001, 0.18),\n",
       "   (0.1, 0.04, 0.0, 0.7200000000000001, 0.02))),\n",
       " (0.0134213464028074,\n",
       "  ((0.02, 0.14, 0.16, 0.6000000000000001, 0.1), (0.08, 0.04, 0.0, 0.8, 0.02))),\n",
       " (0.0133746094819997,\n",
       "  ((0.04, 0.18, 0.52, 0.2, 0.6000000000000001), (0.18, 0.18, 0.02, 0.8, 0.2))),\n",
       " (0.013358356236698177,\n",
       "  ((0.08, 0.0, 0.54, 0.0, 0.5800000000000001),\n",
       "   (0.12, 0.04, 0.4200000000000001, 0.18, 0.4000000000000001))),\n",
       " (0.01335360103671418,\n",
       "  ((0.1, 0.06, 0.6000000000000001, 0.2, 0.5800000000000001),\n",
       "   (0.2, 0.18, 0.2, 0.7000000000000001, 0.16))),\n",
       " (0.013331636500144073,\n",
       "  ((0.06, 0.2, 0.2, 0.6000000000000001, 0.2), (0.12, 0.14, 0.08, 0.78, 0.08))),\n",
       " (0.013310399247185689,\n",
       "  ((0.02, 0.18, 0.2, 0.6200000000000001, 0.18), (0.1, 0.18, 0.06, 0.8, 0.0))),\n",
       " (0.013292510009421554,\n",
       "  ((0.0, 0.04, 0.08, 0.6000000000000001, 0.1),\n",
       "   (0.06, 0.0, 0.0, 0.7200000000000001, 0.0))),\n",
       " (0.013287130669848102,\n",
       "  ((0.06, 0.18, 0.08, 0.6000000000000001, 0.1),\n",
       "   (0.1, 0.04, 0.0, 0.7400000000000001, 0.08))),\n",
       " (0.013284420191070012,\n",
       "  ((0.0, 0.0, 0.16, 0.6000000000000001, 0.2), (0.08, 0.02, 0.0, 0.78, 0.02))),\n",
       " (0.01325527241750174,\n",
       "  ((0.06, 0.16, 0.2, 0.6200000000000001, 0.16), (0.14, 0.1, 0.08, 0.8, 0.02))),\n",
       " (0.01324668901987941,\n",
       "  ((0.02, 0.12, 0.18, 0.6200000000000001, 0.1),\n",
       "   (0.08, 0.06, 0.06, 0.78, 0.0))),\n",
       " (0.013238331670328285,\n",
       "  ((0.0, 0.16, 0.2, 0.68, 0.1), (0.04, 0.1, 0.08, 0.8, 0.04))),\n",
       " (0.013237134448331689,\n",
       "  ((0.02, 0.2, 0.18, 0.6600000000000001, 0.18), (0.08, 0.16, 0.1, 0.8, 0.06))),\n",
       " (0.013236975744399582,\n",
       "  ((0.06, 0.2, 0.16, 0.6200000000000001, 0.2), (0.12, 0.06, 0.04, 0.8, 0.14))),\n",
       " (0.013205395759000926,\n",
       "  ((0.0, 0.08, 0.1, 0.6000000000000001, 0.18),\n",
       "   (0.06, 0.0, 0.0, 0.7400000000000001, 0.1))),\n",
       " (0.013199040983381594,\n",
       "  ((0.0, 0.02, 0.08, 0.6000000000000001, 0.18),\n",
       "   (0.04, 0.02, 0.0, 0.7000000000000001, 0.08))),\n",
       " (0.01317700164774821,\n",
       "  ((0.0, 0.2, 0.2, 0.6400000000000001, 0.04), (0.04, 0.04, 0.08, 0.8, 0.04))),\n",
       " (0.013170430675563283,\n",
       "  ((0.06, 0.2, 0.2, 0.6400000000000001, 0.18), (0.14, 0.2, 0.08, 0.8, 0.0))),\n",
       " (0.013163710561845898,\n",
       "  ((0.08, 0.04, 0.2, 0.7000000000000001, 0.16), (0.14, 0.08, 0.12, 0.8, 0.0))),\n",
       " (0.013152901680495155,\n",
       "  ((0.02, 0.18, 0.1, 0.68, 0.2), (0.08, 0.18, 0.02, 0.8, 0.06))),\n",
       " (0.0131527529501268,\n",
       "  ((0.06, 0.18, 0.18, 0.6000000000000001, 0.16),\n",
       "   (0.12, 0.06, 0.06, 0.8, 0.08))),\n",
       " (0.013143720921466151,\n",
       "  ((0.06, 0.14, 0.18, 0.6400000000000001, 0.2),\n",
       "   (0.12, 0.2, 0.1, 0.7400000000000001, 0.02))),\n",
       " (0.013141356342468435,\n",
       "  ((0.0, 0.16, 0.2, 0.6000000000000001, 0.2),\n",
       "   (0.08, 0.2, 0.06, 0.7600000000000001, 0.0))),\n",
       " (0.013123020939313002,\n",
       "  ((0.06, 0.02, 0.2, 0.6400000000000001, 0.2), (0.14, 0.06, 0.08, 0.8, 0.0))),\n",
       " (0.013121435119775537,\n",
       "  ((0.16, 0.02, 0.56, 0.0, 0.5800000000000001),\n",
       "   (0.2, 0.02, 0.4600000000000001, 0.18, 0.4200000000000001))),\n",
       " (0.01311971590282568,\n",
       "  ((0.04, 0.0, 0.12, 0.6000000000000001, 0.2),\n",
       "   (0.1, 0.04, 0.02, 0.7200000000000001, 0.04))),\n",
       " (0.013098889451572504,\n",
       "  ((0.04, 0.12, 0.2, 0.68, 0.12), (0.08, 0.08, 0.1, 0.8, 0.04))),\n",
       " (0.01307981843073408,\n",
       "  ((0.0, 0.18, 0.14, 0.6600000000000001, 0.08),\n",
       "   (0.04, 0.08, 0.04, 0.8, 0.04))),\n",
       " (0.0130699418332062,\n",
       "  ((0.0, 0.18, 0.12, 0.68, 0.1), (0.04, 0.18, 0.02, 0.78, 0.0))),\n",
       " (0.013049455599409343,\n",
       "  ((0.0, 0.2, 0.14, 0.6200000000000001, 0.2), (0.06, 0.04, 0.02, 0.8, 0.16))),\n",
       " (0.013047215032368331,\n",
       "  ((0.1, 0.02, 0.5800000000000001, 0.02, 0.5800000000000001),\n",
       "   (0.14, 0.08, 0.5000000000000001, 0.16, 0.4000000000000001))),\n",
       " (0.013039648981816865,\n",
       "  ((0.0, 0.18, 0.4000000000000001, 0.16, 0.56),\n",
       "   (0.14, 0.18, 0.0, 0.6400000000000001, 0.2))),\n",
       " (0.013026401454458325,\n",
       "  ((0.06, 0.0, 0.2, 0.6600000000000001, 0.18), (0.14, 0.0, 0.08, 0.8, 0.02))),\n",
       " (0.012991620474725796,\n",
       "  ((0.16, 0.06, 0.52, 0.0, 0.56),\n",
       "   (0.2, 0.02, 0.4000000000000001, 0.2, 0.4200000000000001))),\n",
       " (0.012961823364635194,\n",
       "  ((0.06, 0.02, 0.18, 0.6200000000000001, 0.14),\n",
       "   (0.12, 0.02, 0.08, 0.7600000000000001, 0.0))),\n",
       " (0.01294215193535575,\n",
       "  ((0.0, 0.2, 0.06, 0.6000000000000001, 0.2),\n",
       "   (0.04, 0.12, 0.0, 0.7200000000000001, 0.14))),\n",
       " (0.012916458795878882,\n",
       "  ((0.0, 0.18, 0.14, 0.6400000000000001, 0.02),\n",
       "   (0.04, 0.02, 0.04, 0.8, 0.02))),\n",
       " (0.012905725861532102,\n",
       "  ((0.0, 0.16, 0.18, 0.6600000000000001, 0.04), (0.04, 0.0, 0.12, 0.8, 0.04))),\n",
       " (0.01290315912099299,\n",
       "  ((0.04, 0.1, 0.12, 0.6000000000000001, 0.2), (0.12, 0.02, 0.0, 0.78, 0.08))),\n",
       " (0.012898495199669957,\n",
       "  ((0.04, 0.02, 0.12, 0.6000000000000001, 0.16),\n",
       "   (0.1, 0.0, 0.0, 0.7400000000000001, 0.04))),\n",
       " (0.012882126764546864,\n",
       "  ((0.0, 0.2, 0.16, 0.6000000000000001, 0.04), (0.04, 0.02, 0.04, 0.8, 0.04))),\n",
       " (0.012862788405962222,\n",
       "  ((0.0, 0.18, 0.18, 0.6200000000000001, 0.0), (0.04, 0.02, 0.08, 0.78, 0.0))),\n",
       " (0.012855939487644241,\n",
       "  ((0.0, 0.14, 0.2, 0.6400000000000001, 0.04),\n",
       "   (0.04, 0.02, 0.08, 0.78, 0.02))),\n",
       " (0.012853194535677515,\n",
       "  ((0.1, 0.06, 0.54, 0.02, 0.56),\n",
       "   (0.14, 0.08, 0.44000000000000006, 0.18, 0.4000000000000001))),\n",
       " (0.012852595791297994,\n",
       "  ((0.0, 0.14, 0.16, 0.6600000000000001, 0.06),\n",
       "   (0.04, 0.08, 0.06, 0.78, 0.0))),\n",
       " (0.012829452213852122,\n",
       "  ((0.0, 0.2, 0.04, 0.6600000000000001, 0.06),\n",
       "   (0.02, 0.06, 0.0, 0.7600000000000001, 0.08))),\n",
       " (0.01282860726723517,\n",
       "  ((0.08, 0.16, 0.14, 0.7000000000000001, 0.2), (0.12, 0.14, 0.08, 0.8, 0.1))),\n",
       " (0.01282375204943692,\n",
       "  ((0.0, 0.04, 0.1, 0.6000000000000001, 0.14),\n",
       "   (0.06, 0.02, 0.0, 0.7400000000000001, 0.02))),\n",
       " (0.012812443724661005,\n",
       "  ((0.04, 0.12, 0.2, 0.6600000000000001, 0.08), (0.1, 0.04, 0.1, 0.8, 0.0))),\n",
       " (0.012801185095015544,\n",
       "  ((0.02, 0.1, 0.18, 0.6000000000000001, 0.08),\n",
       "   (0.08, 0.02, 0.04, 0.7600000000000001, 0.0))),\n",
       " (0.012799635057844427,\n",
       "  ((0.06, 0.12, 0.16, 0.6000000000000001, 0.08),\n",
       "   (0.1, 0.06, 0.08, 0.7000000000000001, 0.02))),\n",
       " (0.012793278006919928,\n",
       "  ((0.12, 0.18, 0.52, 0.0, 0.56),\n",
       "   (0.16, 0.14, 0.4000000000000001, 0.2, 0.4200000000000001))),\n",
       " (0.0127793833354507,\n",
       "  ((0.0, 0.16, 0.06, 0.6600000000000001, 0.04),\n",
       "   (0.04, 0.04, 0.0, 0.78, 0.02))),\n",
       " (0.012766624371875757,\n",
       "  ((0.02, 0.2, 0.08, 0.6600000000000001, 0.2), (0.08, 0.2, 0.0, 0.78, 0.06))),\n",
       " (0.012762603650542437,\n",
       "  ((0.02, 0.06, 0.18, 0.6200000000000001, 0.1), (0.08, 0.0, 0.08, 0.78, 0.0))),\n",
       " (0.012736877884218123,\n",
       "  ((0.02, 0.1, 0.2, 0.6600000000000001, 0.14),\n",
       "   (0.08, 0.08, 0.12, 0.78, 0.02))),\n",
       " (0.012723746871022568,\n",
       "  ((0.06, 0.06, 0.16, 0.6000000000000001, 0.1),\n",
       "   (0.12, 0.0, 0.04, 0.7600000000000001, 0.0))),\n",
       " (0.012721685905691005,\n",
       "  ((0.02, 0.2, 0.4600000000000001, 0.18, 0.6000000000000001),\n",
       "   (0.18, 0.18, 0.02, 0.7400000000000001, 0.2))),\n",
       " (0.012713459251144976,\n",
       "  ((0.02, 0.2, 0.08, 0.6400000000000001, 0.18), (0.06, 0.02, 0.0, 0.8, 0.18))),\n",
       " (0.01267411967096399,\n",
       "  ((0.0, 0.02, 0.2, 0.7200000000000001, 0.16), (0.04, 0.06, 0.12, 0.8, 0.04))),\n",
       " (0.012647527257204083,\n",
       "  ((0.0, 0.2, 0.14, 0.6000000000000001, 0.02), (0.04, 0.0, 0.0, 0.8, 0.04))),\n",
       " (0.012631583557069559,\n",
       "  ((0.08, 0.02, 0.2, 0.7000000000000001, 0.2), (0.14, 0.12, 0.1, 0.8, 0.0))),\n",
       " (0.012623631324677309,\n",
       "  ((0.0, 0.1, 0.2, 0.6600000000000001, 0.06), (0.04, 0.0, 0.12, 0.8, 0.02))),\n",
       " (0.012621079385077727,\n",
       "  ((0.12, 0.08, 0.56, 0.04, 0.6000000000000001),\n",
       "   (0.16, 0.14, 0.4600000000000001, 0.18, 0.4200000000000001))),\n",
       " (0.01260830002375235,\n",
       "  ((0.04, 0.12, 0.18, 0.7000000000000001, 0.14),\n",
       "   (0.08, 0.12, 0.12, 0.78, 0.04))),\n",
       " (0.012604997638187954,\n",
       "  ((0.0, 0.2, 0.16, 0.7000000000000001, 0.12), (0.04, 0.2, 0.1, 0.78, 0.02))),\n",
       " (0.012598361719296569,\n",
       "  ((0.06, 0.04, 0.12, 0.6000000000000001, 0.1),\n",
       "   (0.1, 0.02, 0.02, 0.7400000000000001, 0.0))),\n",
       " (0.01257922674639117,\n",
       "  ((0.04, 0.08, 0.2, 0.68, 0.1), (0.08, 0.04, 0.12, 0.8, 0.02))),\n",
       " (0.01256800742187908,\n",
       "  ((0.0, 0.14, 0.18, 0.6400000000000001, 0.02),\n",
       "   (0.04, 0.02, 0.12, 0.7600000000000001, 0.0))),\n",
       " (0.012548367580328845,\n",
       "  ((0.04, 0.0, 0.08, 0.6000000000000001, 0.16),\n",
       "   (0.08, 0.0, 0.0, 0.7000000000000001, 0.06))),\n",
       " (0.012537543749997604,\n",
       "  ((0.0, 0.02, 0.18, 0.6000000000000001, 0.14),\n",
       "   (0.06, 0.04, 0.12, 0.7000000000000001, 0.0))),\n",
       " (0.012532755022572506,\n",
       "  ((0.1, 0.1, 0.54, 0.0, 0.6000000000000001),\n",
       "   (0.16, 0.12, 0.4200000000000001, 0.2, 0.4000000000000001))),\n",
       " (0.012519958045116464,\n",
       "  ((0.02, 0.12, 0.08, 0.6000000000000001, 0.04),\n",
       "   (0.04, 0.02, 0.04, 0.68, 0.04))),\n",
       " (0.01251558236664485,\n",
       "  ((0.0, 0.18, 0.12, 0.6600000000000001, 0.06),\n",
       "   (0.04, 0.12, 0.02, 0.78, 0.0))),\n",
       " (0.01250795155037665,\n",
       "  ((0.0, 0.12, 0.2, 0.7000000000000001, 0.12), (0.04, 0.06, 0.14, 0.8, 0.06))),\n",
       " (0.0125065256857258,\n",
       "  ((0.0, 0.18, 0.1, 0.6000000000000001, 0.18), (0.06, 0.02, 0.0, 0.78, 0.14))),\n",
       " (0.012504504981891817,\n",
       "  ((0.06, 0.14, 0.1, 0.6000000000000001, 0.1),\n",
       "   (0.12, 0.02, 0.0, 0.7600000000000001, 0.04))),\n",
       " (0.01247690694523157,\n",
       "  ((0.02, 0.08, 0.1, 0.6200000000000001, 0.1),\n",
       "   (0.06, 0.08, 0.02, 0.7200000000000001, 0.0))),\n",
       " (0.012469873031943635,\n",
       "  ((0.0, 0.2, 0.08, 0.6600000000000001, 0.1), (0.04, 0.16, 0.0, 0.78, 0.02))),\n",
       " (0.012462375894856326,\n",
       "  ((0.0, 0.18, 0.16, 0.6600000000000001, 0.1), (0.04, 0.08, 0.06, 0.8, 0.06))),\n",
       " (0.01244724360506494,\n",
       "  ((0.1, 0.08, 0.5800000000000001, 0.0, 0.52),\n",
       "   (0.14, 0.02, 0.4600000000000001, 0.2, 0.4000000000000001))),\n",
       " (0.012429054621062086,\n",
       "  ((0.1, 0.06, 0.4800000000000001, 0.04, 0.56),\n",
       "   (0.14, 0.02, 0.4000000000000001, 0.2, 0.44000000000000006))),\n",
       " (0.012425864771548834,\n",
       "  ((0.1, 0.06, 0.54, 0.0, 0.6000000000000001),\n",
       "   (0.14, 0.06, 0.4000000000000001, 0.2, 0.44000000000000006))),\n",
       " (0.012424767695736694,\n",
       "  ((0.06, 0.18, 0.08, 0.6400000000000001, 0.16),\n",
       "   (0.1, 0.04, 0.04, 0.7600000000000001, 0.14))),\n",
       " (0.012420338120857577,\n",
       "  ((0.12, 0.16, 0.5800000000000001, 0.0, 0.5000000000000001),\n",
       "   (0.16, 0.06, 0.5000000000000001, 0.2, 0.4000000000000001))),\n",
       " (0.012412985804271137,\n",
       "  ((0.06, 0.16, 0.08, 0.6000000000000001, 0.14),\n",
       "   (0.1, 0.14, 0.0, 0.7200000000000001, 0.04))),\n",
       " (0.012408063391159463,\n",
       "  ((0.06, 0.04, 0.06, 0.6200000000000001, 0.08),\n",
       "   (0.1, 0.02, 0.0, 0.7000000000000001, 0.0))),\n",
       " (0.012394658266042358,\n",
       "  ((0.0, 0.06, 0.12, 0.6600000000000001, 0.06), (0.04, 0.0, 0.0, 0.8, 0.0))),\n",
       " (0.012385522415690298,\n",
       "  ((0.0, 0.0, 0.14, 0.6000000000000001, 0.12),\n",
       "   (0.06, 0.0, 0.06, 0.7000000000000001, 0.0))),\n",
       " (0.0123839964706135,\n",
       "  ((0.08, 0.2, 0.14, 0.68, 0.18), (0.12, 0.12, 0.06, 0.8, 0.12))),\n",
       " (0.012367251778193644,\n",
       "  ((0.02, 0.16, 0.06, 0.6000000000000001, 0.08),\n",
       "   (0.06, 0.1, 0.0, 0.7000000000000001, 0.02))),\n",
       " (0.012363710657290583,\n",
       "  ((0.0, 0.12, 0.08, 0.68, 0.08),\n",
       "   (0.02, 0.02, 0.04, 0.7600000000000001, 0.08))),\n",
       " (0.012353106457271001,\n",
       "  ((0.02, 0.18, 0.2, 0.6600000000000001, 0.16),\n",
       "   (0.08, 0.16, 0.1, 0.78, 0.04))),\n",
       " (0.012349785087548082,\n",
       "  ((0.02, 0.2, 0.16, 0.68, 0.2), (0.08, 0.2, 0.08, 0.8, 0.06))),\n",
       " (0.012341178332637981,\n",
       "  ((0.0, 0.0, 0.14, 0.6000000000000001, 0.14),\n",
       "   (0.06, 0.02, 0.04, 0.7200000000000001, 0.0))),\n",
       " (0.012338633120642761,\n",
       "  ((0.0, 0.14, 0.1, 0.6400000000000001, 0.1), (0.04, 0.06, 0.0, 0.8, 0.04))),\n",
       " (0.012328979894535963,\n",
       "  ((0.16, 0.02, 0.56, 0.02, 0.54),\n",
       "   (0.2, 0.0, 0.44000000000000006, 0.2, 0.4000000000000001))),\n",
       " (0.01230457854193645,\n",
       "  ((0.1, 0.1, 0.5000000000000001, 0.0, 0.5800000000000001),\n",
       "   (0.14, 0.12, 0.4000000000000001, 0.16, 0.4200000000000001))),\n",
       " (0.012303266666391088,\n",
       "  ((0.14, 0.16, 0.6000000000000001, 0.04, 0.5800000000000001),\n",
       "   (0.18, 0.2, 0.5000000000000001, 0.2, 0.4000000000000001))),\n",
       " (0.012297710698271014,\n",
       "  ((0.06, 0.2, 0.1, 0.6400000000000001, 0.2), (0.1, 0.02, 0.0, 0.8, 0.2))),\n",
       " (0.012283684369168713,\n",
       "  ((0.04, 0.18, 0.1, 0.6000000000000001, 0.2),\n",
       "   (0.1, 0.06, 0.02, 0.7400000000000001, 0.14))),\n",
       " (0.012271532451487266,\n",
       "  ((0.1, 0.04, 0.6000000000000001, 0.02, 0.56),\n",
       "   (0.14, 0.02, 0.5000000000000001, 0.2, 0.4200000000000001))),\n",
       " (0.012269082333228598,\n",
       "  ((0.18, 0.12, 0.6000000000000001, 0.0, 0.4800000000000001),\n",
       "   (0.2, 0.06, 0.54, 0.14, 0.4000000000000001))),\n",
       " (0.012268607400762688,\n",
       "  ((0.0, 0.02, 0.06, 0.6000000000000001, 0.12),\n",
       "   (0.04, 0.0, 0.02, 0.68, 0.04))),\n",
       " (0.012266819887157054,\n",
       "  ((0.08, 0.0, 0.56, 0.0, 0.6000000000000001),\n",
       "   (0.14, 0.0, 0.44000000000000006, 0.2, 0.4200000000000001))),\n",
       " (0.01226228364507248,\n",
       "  ((0.06, 0.02, 0.14, 0.6200000000000001, 0.08),\n",
       "   (0.1, 0.0, 0.08, 0.7000000000000001, 0.0))),\n",
       " (0.012258926242801504,\n",
       "  ((0.18, 0.12, 0.52, 0.0, 0.56),\n",
       "   (0.2, 0.04, 0.4600000000000001, 0.16, 0.4800000000000001))),\n",
       " (0.01224615285217806,\n",
       "  ((0.0, 0.16, 0.2, 0.6400000000000001, 0.14), (0.04, 0.16, 0.08, 0.8, 0.02))),\n",
       " (0.01224160770019217,\n",
       "  ((0.06, 0.2, 0.04, 0.6000000000000001, 0.12),\n",
       "   (0.08, 0.04, 0.0, 0.7200000000000001, 0.14))),\n",
       " (0.012232546247992526,\n",
       "  ((0.08, 0.02, 0.56, 0.0, 0.56),\n",
       "   (0.12, 0.02, 0.44000000000000006, 0.2, 0.4000000000000001))),\n",
       " (0.012227544464842699,\n",
       "  ((0.0, 0.2, 0.4000000000000001, 0.1, 0.5800000000000001),\n",
       "   (0.14, 0.2, 0.0, 0.6200000000000001, 0.2))),\n",
       " (0.012226765397164663,\n",
       "  ((0.14, 0.04, 0.5000000000000001, 0.0, 0.54),\n",
       "   (0.18, 0.0, 0.4200000000000001, 0.16, 0.4200000000000001))),\n",
       " (0.012211576740236985,\n",
       "  ((0.08, 0.14, 0.2, 0.6600000000000001, 0.16),\n",
       "   (0.12, 0.02, 0.14, 0.8, 0.12))),\n",
       " (0.012190882723894847,\n",
       "  ((0.08, 0.0, 0.12, 0.6000000000000001, 0.14),\n",
       "   (0.14, 0.02, 0.04, 0.7000000000000001, 0.0))),\n",
       " (0.012180242775555516,\n",
       "  ((0.12, 0.14, 0.6000000000000001, 0.0, 0.54),\n",
       "   (0.16, 0.12, 0.4800000000000001, 0.18, 0.4000000000000001))),\n",
       " (0.012177996831537974,\n",
       "  ((0.0, 0.2, 0.4600000000000001, 0.1, 0.6000000000000001),\n",
       "   (0.16, 0.18, 0.02, 0.6600000000000001, 0.2))),\n",
       " (0.012173483633205362,\n",
       "  ((0.16, 0.04, 0.54, 0.0, 0.6000000000000001),\n",
       "   (0.2, 0.08, 0.4000000000000001, 0.18, 0.4200000000000001))),\n",
       " (0.012171016396993917,\n",
       "  ((0.14, 0.0, 0.54, 0.0, 0.56),\n",
       "   (0.18, 0.0, 0.4000000000000001, 0.2, 0.4000000000000001))),\n",
       " (0.012170041606997084,\n",
       "  ((0.1, 0.02, 0.56, 0.04, 0.6000000000000001),\n",
       "   (0.14, 0.1, 0.4600000000000001, 0.2, 0.4000000000000001))),\n",
       " (0.01216935646163042,\n",
       "  ((0.18, 0.16, 0.4800000000000001, 0.0, 0.54),\n",
       "   (0.2, 0.08, 0.4200000000000001, 0.16, 0.4600000000000001))),\n",
       " (0.012168985087800954,\n",
       "  ((0.06, 0.2, 0.2, 0.6600000000000001, 0.2), (0.12, 0.2, 0.1, 0.78, 0.06))),\n",
       " (0.01216339321993537,\n",
       "  ((0.12, 0.12, 0.52, 0.04, 0.5800000000000001),\n",
       "   (0.16, 0.2, 0.4600000000000001, 0.14, 0.4000000000000001))),\n",
       " (0.012144890058101876,\n",
       "  ((0.0, 0.12, 0.02, 0.7200000000000001, 0.12),\n",
       "   (0.02, 0.02, 0.02, 0.78, 0.12))),\n",
       " (0.012137512676504258,\n",
       "  ((0.0, 0.08, 0.16, 0.6600000000000001, 0.04),\n",
       "   (0.04, 0.0, 0.1, 0.7600000000000001, 0.0))),\n",
       " (0.012132544943747436,\n",
       "  ((0.04, 0.08, 0.2, 0.7000000000000001, 0.14),\n",
       "   (0.08, 0.02, 0.18, 0.78, 0.08))),\n",
       " (0.012131341386348804,\n",
       "  ((0.0, 0.16, 0.2, 0.6600000000000001, 0.06), (0.04, 0.0, 0.14, 0.8, 0.06))),\n",
       " (0.012127525955673624,\n",
       "  ((0.04, 0.16, 0.2, 0.7000000000000001, 0.16),\n",
       "   (0.08, 0.18, 0.16, 0.78, 0.04))),\n",
       " (0.01212494085575,\n",
       "  ((0.06, 0.02, 0.5000000000000001, 0.0, 0.54),\n",
       "   (0.1, 0.02, 0.4000000000000001, 0.16, 0.4000000000000001))),\n",
       " (0.01210099614326332,\n",
       "  ((0.12, 0.08, 0.6000000000000001, 0.04, 0.56),\n",
       "   (0.16, 0.1, 0.5000000000000001, 0.2, 0.4000000000000001))),\n",
       " (0.012092398050130737,\n",
       "  ((0.04, 0.04, 0.14, 0.6000000000000001, 0.14), (0.12, 0.0, 0.0, 0.78, 0.0))),\n",
       " (0.012085284359009962,\n",
       "  ((0.0, 0.2, 0.18, 0.6000000000000001, 0.06),\n",
       "   (0.04, 0.08, 0.08, 0.78, 0.02))),\n",
       " (0.012079678509403446,\n",
       "  ((0.06, 0.08, 0.18, 0.6000000000000001, 0.06),\n",
       "   (0.1, 0.02, 0.12, 0.7000000000000001, 0.0))),\n",
       " (0.012078434769347224,\n",
       "  ((0.16, 0.04, 0.5800000000000001, 0.0, 0.56),\n",
       "   (0.2, 0.0, 0.4800000000000001, 0.2, 0.4200000000000001))),\n",
       " (0.012069612232402716,\n",
       "  ((0.04, 0.06, 0.08, 0.6200000000000001, 0.2),\n",
       "   (0.1, 0.08, 0.0, 0.7200000000000001, 0.06))),\n",
       " (0.01206791116745326,\n",
       "  ((0.0, 0.06, 0.02, 0.6000000000000001, 0.14),\n",
       "   (0.02, 0.06, 0.0, 0.6400000000000001, 0.08))),\n",
       " (0.012065043077211457,\n",
       "  ((0.08, 0.0, 0.6000000000000001, 0.0, 0.54),\n",
       "   (0.12, 0.0, 0.5000000000000001, 0.16, 0.4000000000000001))),\n",
       " (0.012043421499852824,\n",
       "  ((0.12, 0.16, 0.52, 0.02, 0.5000000000000001),\n",
       "   (0.14, 0.02, 0.44000000000000006, 0.2, 0.4600000000000001))),\n",
       " (0.012040753999414788,\n",
       "  ((0.0, 0.18, 0.1, 0.6000000000000001, 0.0),\n",
       "   (0.02, 0.0, 0.0, 0.7600000000000001, 0.04))),\n",
       " (0.012036852964021183,\n",
       "  ((0.0, 0.18, 0.08, 0.6200000000000001, 0.2),\n",
       "   (0.08, 0.18, 0.0, 0.7400000000000001, 0.04))),\n",
       " (0.012023414667124754,\n",
       "  ((0.0, 0.16, 0.18, 0.7000000000000001, 0.12), (0.04, 0.18, 0.12, 0.8, 0.0))),\n",
       " (0.012018979036043875,\n",
       "  ((0.08, 0.14, 0.2, 0.7000000000000001, 0.14),\n",
       "   (0.14, 0.12, 0.14, 0.8, 0.02))),\n",
       " (0.012010132809506302,\n",
       "  ((0.0, 0.04, 0.08, 0.6000000000000001, 0.12),\n",
       "   (0.06, 0.04, 0.0, 0.7000000000000001, 0.0))),\n",
       " (0.01200061958747306,\n",
       "  ((0.0, 0.08, 0.1, 0.6000000000000001, 0.2),\n",
       "   (0.06, 0.16, 0.0, 0.7000000000000001, 0.02))),\n",
       " (0.011983243306929792,\n",
       "  ((0.04, 0.14, 0.2, 0.6000000000000001, 0.0),\n",
       "   (0.06, 0.0, 0.12, 0.7200000000000001, 0.02))),\n",
       " (0.011980074193731205,\n",
       "  ((0.14, 0.2, 0.6000000000000001, 0.0, 0.54),\n",
       "   (0.16, 0.08, 0.54, 0.18, 0.4800000000000001))),\n",
       " (0.011972722523586943,\n",
       "  ((0.12, 0.1, 0.5800000000000001, 0.04, 0.5800000000000001),\n",
       "   (0.16, 0.14, 0.52, 0.16, 0.4200000000000001))),\n",
       " (0.011963418594700737,\n",
       "  ((0.08, 0.04, 0.54, 0.0, 0.5000000000000001),\n",
       "   (0.1, 0.06, 0.5000000000000001, 0.08, 0.4000000000000001))),\n",
       " (0.01195573459206567,\n",
       "  ((0.1, 0.02, 0.5800000000000001, 0.04, 0.54),\n",
       "   (0.14, 0.0, 0.5000000000000001, 0.18, 0.4200000000000001))),\n",
       " (0.011954388383514536,\n",
       "  ((0.0, 0.2, 0.06, 0.68, 0.12), (0.02, 0.08, 0.0, 0.8, 0.12))),\n",
       " (0.011949964539348878,\n",
       "  ((0.16, 0.08, 0.5000000000000001, 0.0, 0.5800000000000001),\n",
       "   (0.2, 0.14, 0.4000000000000001, 0.14, 0.4000000000000001))),\n",
       " (0.011944333896933446,\n",
       "  ((0.1, 0.02, 0.52, 0.04, 0.5800000000000001),\n",
       "   (0.14, 0.06, 0.4200000000000001, 0.18, 0.4200000000000001))),\n",
       " (0.011928656408962679,\n",
       "  ((0.14, 0.18, 0.6000000000000001, 0.04, 0.6000000000000001),\n",
       "   (0.18, 0.16, 0.52, 0.2, 0.4600000000000001))),\n",
       " (0.011924983633537944,\n",
       "  ((0.02, 0.04, 0.14, 0.6200000000000001, 0.08),\n",
       "   (0.04, 0.0, 0.08, 0.7000000000000001, 0.04))),\n",
       " (0.011924389147483339,\n",
       "  ((0.08, 0.0, 0.4800000000000001, 0.02, 0.5800000000000001),\n",
       "   (0.1, 0.08, 0.4200000000000001, 0.1, 0.44000000000000006))),\n",
       " (0.011916135152377771,\n",
       "  ((0.0, 0.06, 0.18, 0.6400000000000001, 0.02),\n",
       "   (0.02, 0.0, 0.1, 0.7200000000000001, 0.0))),\n",
       " (0.011905043036096075,\n",
       "  ((0.0, 0.2, 0.16, 0.6600000000000001, 0.06), (0.04, 0.14, 0.06, 0.78, 0.0))),\n",
       " (0.011903786027638086,\n",
       "  ((0.1, 0.06, 0.06, 0.6000000000000001, 0.06),\n",
       "   (0.14, 0.0, 0.0, 0.7000000000000001, 0.0))),\n",
       " (0.011903542066356076,\n",
       "  ((0.16, 0.04, 0.5800000000000001, 0.02, 0.52),\n",
       "   (0.2, 0.0, 0.5000000000000001, 0.18, 0.4000000000000001))),\n",
       " (0.011897640666624354,\n",
       "  ((0.04, 0.0, 0.2, 0.6000000000000001, 0.16),\n",
       "   (0.12, 0.0, 0.1, 0.7400000000000001, 0.0))),\n",
       " (0.011894566351785707,\n",
       "  ((0.08, 0.04, 0.52, 0.0, 0.5800000000000001),\n",
       "   (0.12, 0.04, 0.4000000000000001, 0.2, 0.4200000000000001))),\n",
       " (0.011890546914932909,\n",
       "  ((0.08, 0.1, 0.2, 0.7000000000000001, 0.2), (0.12, 0.14, 0.14, 0.8, 0.06))),\n",
       " (0.011887830129447274,\n",
       "  ((0.16, 0.08, 0.5000000000000001, 0.0, 0.52),\n",
       "   (0.18, 0.0, 0.4000000000000001, 0.18, 0.44000000000000006))),\n",
       " (0.011881587867724919,\n",
       "  ((0.08, 0.18, 0.02, 0.7200000000000001, 0.2), (0.1, 0.06, 0.0, 0.8, 0.2))),\n",
       " (0.011880821450057366,\n",
       "  ((0.02, 0.04, 0.2, 0.6400000000000001, 0.1),\n",
       "   (0.08, 0.0, 0.12, 0.7600000000000001, 0.0))),\n",
       " (0.011879671377720613,\n",
       "  ((0.08, 0.0, 0.54, 0.02, 0.54),\n",
       "   (0.12, 0.0, 0.44000000000000006, 0.18, 0.4000000000000001))),\n",
       " (0.01187356540830442,\n",
       "  ((0.12, 0.18, 0.56, 0.0, 0.52),\n",
       "   (0.14, 0.0, 0.4600000000000001, 0.2, 0.5000000000000001))),\n",
       " (0.011868134469934621,\n",
       "  ((0.08, 0.2, 0.2, 0.6400000000000001, 0.04),\n",
       "   (0.12, 0.04, 0.16, 0.7600000000000001, 0.04))),\n",
       " (0.011866785259108392,\n",
       "  ((0.08, 0.08, 0.2, 0.6400000000000001, 0.06), (0.12, 0.0, 0.08, 0.8, 0.0))),\n",
       " (0.01184295395476398,\n",
       "  ((0.16, 0.02, 0.5000000000000001, 0.02, 0.5800000000000001),\n",
       "   (0.2, 0.04, 0.4000000000000001, 0.18, 0.4200000000000001))),\n",
       " (0.01184171074662349,\n",
       "  ((0.06, 0.08, 0.04, 0.6000000000000001, 0.02),\n",
       "   (0.08, 0.02, 0.0, 0.6600000000000001, 0.0))),\n",
       " (0.011829985599754955,\n",
       "  ((0.0, 0.14, 0.2, 0.7000000000000001, 0.08), (0.04, 0.12, 0.14, 0.78, 0.0))),\n",
       " (0.011829850459673052,\n",
       "  ((0.06, 0.02, 0.2, 0.6000000000000001, 0.08), (0.1, 0.0, 0.14, 0.68, 0.0))),\n",
       " (0.011805290612309505,\n",
       "  ((0.16, 0.08, 0.56, 0.0, 0.4800000000000001),\n",
       "   (0.18, 0.04, 0.5000000000000001, 0.12, 0.4000000000000001))),\n",
       " (0.011804743905687198,\n",
       "  ((0.14, 0.18, 0.56, 0.04, 0.54),\n",
       "   (0.16, 0.08, 0.4800000000000001, 0.2, 0.4800000000000001))),\n",
       " (0.011775584700484953,\n",
       "  ((0.0, 0.1, 0.08, 0.6000000000000001, 0.12),\n",
       "   (0.06, 0.06, 0.0, 0.7200000000000001, 0.02))),\n",
       " (0.011770337054025637,\n",
       "  ((0.04, 0.12, 0.2, 0.7400000000000001, 0.2), (0.08, 0.18, 0.16, 0.8, 0.06))),\n",
       " (0.011763355097433037,\n",
       "  ((0.08, 0.0, 0.5000000000000001, 0.0, 0.56),\n",
       "   (0.1, 0.0, 0.4000000000000001, 0.16, 0.44000000000000006))),\n",
       " (0.011745350113758435,\n",
       "  ((0.0, 0.1, 0.12, 0.6400000000000001, 0.0),\n",
       "   (0.02, 0.0, 0.06, 0.7400000000000001, 0.0))),\n",
       " (0.011736989289602928,\n",
       "  ((0.02, 0.1, 0.2, 0.6400000000000001, 0.1), (0.08, 0.02, 0.12, 0.78, 0.02))),\n",
       " (0.011736010148562348,\n",
       "  ((0.06, 0.1, 0.08, 0.6000000000000001, 0.04),\n",
       "   (0.08, 0.0, 0.04, 0.68, 0.04))),\n",
       " (0.011725827116913612,\n",
       "  ((0.0, 0.18, 0.08, 0.7200000000000001, 0.14),\n",
       "   (0.04, 0.18, 0.04, 0.8, 0.04))),\n",
       " (0.011725087239942866,\n",
       "  ((0.0, 0.12, 0.06, 0.6000000000000001, 0.18),\n",
       "   (0.04, 0.06, 0.0, 0.7000000000000001, 0.12))),\n",
       " (0.011724458617286937,\n",
       "  ((0.18, 0.1, 0.5000000000000001, 0.02, 0.6000000000000001),\n",
       "   (0.2, 0.02, 0.44000000000000006, 0.18, 0.52))),\n",
       " (0.011717012051769837,\n",
       "  ((0.1, 0.14, 0.5000000000000001, 0.0, 0.5800000000000001),\n",
       "   (0.14, 0.1, 0.4200000000000001, 0.16, 0.4600000000000001))),\n",
       " (0.011711244771694551,\n",
       "  ((0.0, 0.18, 0.4000000000000001, 0.1, 0.56),\n",
       "   (0.12, 0.2, 0.0, 0.6000000000000001, 0.2))),\n",
       " (0.011699987826632119,\n",
       "  ((0.12, 0.14, 0.56, 0.02, 0.6000000000000001),\n",
       "   (0.16, 0.12, 0.44000000000000006, 0.2, 0.4600000000000001))),\n",
       " (0.011695935361607013,\n",
       "  ((0.06, 0.2, 0.1, 0.6200000000000001, 0.18),\n",
       "   (0.12, 0.14, 0.0, 0.7600000000000001, 0.08))),\n",
       " (0.011695504377034982,\n",
       "  ((0.1, 0.12, 0.4800000000000001, 0.0, 0.6000000000000001),\n",
       "   (0.14, 0.08, 0.4000000000000001, 0.16, 0.4800000000000001))),\n",
       " (0.011692648738090894,\n",
       "  ((0.18, 0.0, 0.56, 0.06, 0.6000000000000001),\n",
       "   (0.2, 0.0, 0.5000000000000001, 0.16, 0.5000000000000001))),\n",
       " (0.011685464847299765,\n",
       "  ((0.0, 0.2, 0.08, 0.6200000000000001, 0.0),\n",
       "   (0.02, 0.0, 0.0, 0.7600000000000001, 0.06))),\n",
       " (0.01168524037990376,\n",
       "  ((0.14, 0.2, 0.52, 0.02, 0.5800000000000001),\n",
       "   (0.16, 0.16, 0.4200000000000001, 0.18, 0.4800000000000001))),\n",
       " (0.011684727401631623,\n",
       "  ((0.1, 0.0, 0.02, 0.6200000000000001, 0.06),\n",
       "   (0.12, 0.0, 0.0, 0.6600000000000001, 0.0))),\n",
       " (0.01166942120037584,\n",
       "  ((0.14, 0.2, 0.54, 0.04, 0.6000000000000001),\n",
       "   (0.18, 0.18, 0.4600000000000001, 0.2, 0.4600000000000001))),\n",
       " (0.01166750336207667,\n",
       "  ((0.1, 0.02, 0.14, 0.6000000000000001, 0.1), (0.14, 0.02, 0.1, 0.68, 0.0))),\n",
       " (0.011662134350109321,\n",
       "  ((0.06, 0.06, 0.14, 0.6000000000000001, 0.06),\n",
       "   (0.1, 0.0, 0.04, 0.7200000000000001, 0.0))),\n",
       " (0.011658512971222723,\n",
       "  ((0.16, 0.14, 0.4800000000000001, 0.0, 0.4800000000000001),\n",
       "   (0.18, 0.06, 0.4000000000000001, 0.14, 0.4200000000000001))),\n",
       " (0.011645732262134112,\n",
       "  ((0.12, 0.18, 0.52, 0.02, 0.5800000000000001),\n",
       "   (0.18, 0.18, 0.4200000000000001, 0.2, 0.4000000000000001))),\n",
       " (0.011644681724971406,\n",
       "  ((0.0, 0.14, 0.1, 0.7200000000000001, 0.14), (0.04, 0.12, 0.04, 0.8, 0.06))),\n",
       " (0.011639986238043853,\n",
       "  ((0.0, 0.18, 0.1, 0.7000000000000001, 0.12),\n",
       "   (0.02, 0.18, 0.06, 0.7400000000000001, 0.06))),\n",
       " (0.011637929691944271,\n",
       "  ((0.0, 0.16, 0.1, 0.6600000000000001, 0.1), (0.04, 0.06, 0.02, 0.8, 0.06))),\n",
       " (0.01163713922923526,\n",
       "  ((0.08, 0.2, 0.18, 0.68, 0.2), (0.12, 0.18, 0.08, 0.8, 0.1))),\n",
       " (0.011635192196257194,\n",
       "  ((0.04, 0.0, 0.06, 0.6200000000000001, 0.2), (0.08, 0.02, 0.0, 0.68, 0.1))),\n",
       " (0.01161869630751211,\n",
       "  ((0.04, 0.1, 0.2, 0.6200000000000001, 0.0),\n",
       "   (0.06, 0.0, 0.12, 0.7200000000000001, 0.0))),\n",
       " (0.011616229452082016,\n",
       "  ((0.06, 0.18, 0.08, 0.6200000000000001, 0.2),\n",
       "   (0.08, 0.06, 0.02, 0.7200000000000001, 0.2))),\n",
       " (0.011594839444508676,\n",
       "  ((0.08, 0.0, 0.5800000000000001, 0.0, 0.52),\n",
       "   (0.1, 0.0, 0.5000000000000001, 0.12, 0.4200000000000001))),\n",
       " (0.01159211306528568,\n",
       "  ((0.14, 0.14, 0.4600000000000001, 0.0, 0.4200000000000001),\n",
       "   (0.16, 0.0, 0.4200000000000001, 0.14, 0.4000000000000001))),\n",
       " (0.01157988524651632,\n",
       "  ((0.02, 0.08, 0.2, 0.7400000000000001, 0.06),\n",
       "   (0.04, 0.02, 0.16, 0.8, 0.04))),\n",
       " (0.011568159165678715,\n",
       "  ((0.12, 0.16, 0.5000000000000001, 0.02, 0.6000000000000001),\n",
       "   (0.16, 0.16, 0.4200000000000001, 0.16, 0.4600000000000001))),\n",
       " (0.011561668114784873,\n",
       "  ((0.16, 0.02, 0.6000000000000001, 0.0, 0.6000000000000001),\n",
       "   (0.2, 0.02, 0.54, 0.14, 0.4600000000000001))),\n",
       " (0.011561468402168706,\n",
       "  ((0.06, 0.14, 0.2, 0.7000000000000001, 0.02),\n",
       "   (0.08, 0.04, 0.16, 0.78, 0.02))),\n",
       " (0.011560125095535667,\n",
       "  ((0.04, 0.06, 0.2, 0.7400000000000001, 0.16),\n",
       "   (0.08, 0.04, 0.18, 0.8, 0.08))),\n",
       " (0.011549442283119549,\n",
       "  ((0.12, 0.14, 0.06, 0.6000000000000001, 0.0),\n",
       "   (0.14, 0.0, 0.02, 0.7000000000000001, 0.02))),\n",
       " (0.011534863020947306,\n",
       "  ((0.04, 0.0, 0.1, 0.6000000000000001, 0.2), (0.08, 0.04, 0.02, 0.68, 0.08))),\n",
       " (0.011531212898026999,\n",
       "  ((0.16, 0.18, 0.52, 0.1, 0.6000000000000001),\n",
       "   (0.18, 0.2, 0.4600000000000001, 0.2, 0.4800000000000001))),\n",
       " (0.011529113993988704,\n",
       "  ((0.08, 0.2, 0.1, 0.7200000000000001, 0.2), (0.12, 0.2, 0.06, 0.78, 0.1))),\n",
       " (0.011510383577524819,\n",
       "  ((0.04, 0.2, 0.16, 0.7200000000000001, 0.16), (0.08, 0.14, 0.12, 0.8, 0.1))),\n",
       " (0.011505216683629804,\n",
       "  ((0.08, 0.06, 0.5000000000000001, 0.02, 0.4800000000000001),\n",
       "   (0.1, 0.0, 0.4200000000000001, 0.18, 0.4000000000000001))),\n",
       " (0.011501106021054697,\n",
       "  ((0.0, 0.06, 0.04, 0.7000000000000001, 0.1),\n",
       "   (0.02, 0.1, 0.02, 0.7200000000000001, 0.02))),\n",
       " (0.011491348574822147,\n",
       "  ((0.12, 0.08, 0.6000000000000001, 0.06, 0.4600000000000001),\n",
       "   (0.14, 0.0, 0.54, 0.2, 0.4000000000000001))),\n",
       " (0.011491232113729377,\n",
       "  ((0.1, 0.08, 0.2, 0.7000000000000001, 0.08),\n",
       "   (0.14, 0.02, 0.18, 0.78, 0.02))),\n",
       " (0.011490872817347786,\n",
       "  ((0.02, 0.2, 0.12, 0.7000000000000001, 0.2),\n",
       "   (0.06, 0.14, 0.08, 0.78, 0.14))),\n",
       " (0.011484235062911297,\n",
       "  ((0.0, 0.14, 0.06, 0.6000000000000001, 0.14),\n",
       "   (0.04, 0.12, 0.0, 0.68, 0.06))),\n",
       " (0.01148365272452223,\n",
       "  ((0.0, 0.2, 0.4000000000000001, 0.12, 0.6000000000000001),\n",
       "   (0.16, 0.2, 0.0, 0.6400000000000001, 0.2))),\n",
       " (0.011477430113599585,\n",
       "  ((0.14, 0.14, 0.52, 0.06, 0.6000000000000001),\n",
       "   (0.16, 0.14, 0.44000000000000006, 0.2, 0.4800000000000001))),\n",
       " (0.011476205681180851,\n",
       "  ((0.14, 0.02, 0.54, 0.0, 0.52),\n",
       "   (0.18, 0.0, 0.4600000000000001, 0.14, 0.4000000000000001))),\n",
       " (0.01146964684353502,\n",
       "  ((0.12, 0.18, 0.6000000000000001, 0.0, 0.4800000000000001),\n",
       "   (0.14, 0.0, 0.52, 0.2, 0.4600000000000001))),\n",
       " (0.011468323065487063,\n",
       "  ((0.1, 0.14, 0.4600000000000001, 0.0, 0.56),\n",
       "   (0.12, 0.1, 0.4000000000000001, 0.12, 0.4800000000000001))),\n",
       " (0.011462372457068604,\n",
       "  ((0.1, 0.1, 0.5800000000000001, 0.0, 0.4800000000000001),\n",
       "   (0.12, 0.08, 0.52, 0.1, 0.4000000000000001))),\n",
       " (0.011459753246985671,\n",
       "  ((0.08, 0.1, 0.18, 0.6600000000000001, 0.06),\n",
       "   (0.12, 0.04, 0.12, 0.7600000000000001, 0.0))),\n",
       " (0.011458315973168987,\n",
       "  ((0.08, 0.04, 0.44000000000000006, 0.04, 0.52),\n",
       "   (0.1, 0.06, 0.4000000000000001, 0.12, 0.4200000000000001))),\n",
       " (0.011456432749458012,\n",
       "  ((0.0, 0.14, 0.12, 0.7400000000000001, 0.18),\n",
       "   (0.02, 0.2, 0.1, 0.7600000000000001, 0.08))),\n",
       " (0.011451748574194343,\n",
       "  ((0.18, 0.1, 0.6000000000000001, 0.04, 0.44000000000000006),\n",
       "   (0.2, 0.0, 0.56, 0.16, 0.4000000000000001))),\n",
       " (0.011446813461971794,\n",
       "  ((0.02, 0.02, 0.2, 0.7400000000000001, 0.06),\n",
       "   (0.04, 0.0, 0.16, 0.78, 0.02))),\n",
       " (0.011440173394168862,\n",
       "  ((0.14, 0.06, 0.6000000000000001, 0.08, 0.56),\n",
       "   (0.16, 0.08, 0.52, 0.2, 0.44000000000000006))),\n",
       " (0.011420066075827628,\n",
       "  ((0.06, 0.06, 0.16, 0.6000000000000001, 0.08), (0.1, 0.04, 0.1, 0.68, 0.0))),\n",
       " (0.011417023769723311,\n",
       "  ((0.14, 0.2, 0.56, 0.04, 0.56),\n",
       "   (0.16, 0.1, 0.4800000000000001, 0.2, 0.5000000000000001))),\n",
       " (0.011416073066267074,\n",
       "  ((0.06, 0.0, 0.54, 0.0, 0.5000000000000001),\n",
       "   (0.08, 0.04, 0.5000000000000001, 0.06, 0.4000000000000001))),\n",
       " (0.011410819784347992,\n",
       "  ((0.04, 0.02, 0.1, 0.6200000000000001, 0.2),\n",
       "   (0.08, 0.0, 0.04, 0.7000000000000001, 0.12))),\n",
       " (0.011405339586375574,\n",
       "  ((0.12, 0.02, 0.6000000000000001, 0.08, 0.52),\n",
       "   (0.14, 0.04, 0.54, 0.2, 0.4000000000000001))),\n",
       " (0.01140197628520584,\n",
       "  ((0.08, 0.06, 0.54, 0.0, 0.4600000000000001),\n",
       "   (0.1, 0.0, 0.4800000000000001, 0.12, 0.4000000000000001))),\n",
       " (0.011398348821023141,\n",
       "  ((0.18, 0.04, 0.52, 0.04, 0.56),\n",
       "   (0.2, 0.06, 0.4200000000000001, 0.2, 0.4200000000000001))),\n",
       " (0.011394128975223461,\n",
       "  ((0.0, 0.02, 0.06, 0.6000000000000001, 0.14),\n",
       "   (0.04, 0.06, 0.0, 0.68, 0.02))),\n",
       " (0.011392755334552807,\n",
       "  ((0.02, 0.1, 0.18, 0.7000000000000001, 0.0), (0.04, 0.0, 0.12, 0.8, 0.0))),\n",
       " (0.011392354205474575,\n",
       "  ((0.1, 0.14, 0.18, 0.68, 0.02), (0.14, 0.02, 0.1, 0.8, 0.0))),\n",
       " (0.011391991629401244,\n",
       "  ((0.04, 0.04, 0.08, 0.6000000000000001, 0.2),\n",
       "   (0.08, 0.04, 0.0, 0.7000000000000001, 0.1))),\n",
       " (0.011390531833503303,\n",
       "  ((0.0, 0.2, 0.14, 0.7400000000000001, 0.16), (0.02, 0.16, 0.1, 0.8, 0.12))),\n",
       " (0.011371734880605389,\n",
       "  ((0.18, 0.14, 0.54, 0.0, 0.54),\n",
       "   (0.2, 0.08, 0.4800000000000001, 0.14, 0.4600000000000001))),\n",
       " (0.01135835128600815,\n",
       "  ((0.0, 0.18, 0.16, 0.7000000000000001, 0.16), (0.04, 0.2, 0.1, 0.8, 0.04))),\n",
       " (0.011353230552409499,\n",
       "  ((0.02, 0.06, 0.16, 0.6200000000000001, 0.06),\n",
       "   (0.06, 0.0, 0.08, 0.7400000000000001, 0.0))),\n",
       " (0.011352012073661766,\n",
       "  ((0.0, 0.12, 0.2, 0.7200000000000001, 0.16), (0.04, 0.18, 0.14, 0.8, 0.02))),\n",
       " (0.011343135765831625,\n",
       "  ((0.14, 0.2, 0.5800000000000001, 0.02, 0.6000000000000001),\n",
       "   (0.18, 0.2, 0.4800000000000001, 0.2, 0.44000000000000006))),\n",
       " (0.011341641712078743,\n",
       "  ((0.0, 0.16, 0.18, 0.6600000000000001, 0.16), (0.04, 0.2, 0.06, 0.8, 0.02))),\n",
       " (0.011338918901479533,\n",
       "  ((0.14, 0.02, 0.4800000000000001, 0.0, 0.56),\n",
       "   (0.16, 0.14, 0.4200000000000001, 0.06, 0.4000000000000001))),\n",
       " (0.011335822058347433,\n",
       "  ((0.18, 0.14, 0.4600000000000001, 0.02, 0.5800000000000001),\n",
       "   (0.2, 0.02, 0.4000000000000001, 0.16, 0.54))),\n",
       " (0.011335126747894275,\n",
       "  ((0.12, 0.12, 0.4800000000000001, 0.02, 0.6000000000000001),\n",
       "   (0.14, 0.08, 0.4000000000000001, 0.18, 0.5000000000000001))),\n",
       " (0.011327161479403325,\n",
       "  ((0.18, 0.1, 0.56, 0.02, 0.52),\n",
       "   (0.2, 0.02, 0.4600000000000001, 0.2, 0.44000000000000006))),\n",
       " (0.01132495497953534,\n",
       "  ((0.0, 0.14, 0.16, 0.6000000000000001, 0.0),\n",
       "   (0.02, 0.02, 0.04, 0.7600000000000001, 0.0))),\n",
       " (0.01131889039789602,\n",
       "  ((0.1, 0.04, 0.04, 0.6000000000000001, 0.08),\n",
       "   (0.12, 0.0, 0.02, 0.6600000000000001, 0.04))),\n",
       " (0.011301678762882517,\n",
       "  ((0.16, 0.04, 0.54, 0.0, 0.54),\n",
       "   (0.18, 0.1, 0.4800000000000001, 0.1, 0.4000000000000001))),\n",
       " (0.011296286487229579,\n",
       "  ((0.08, 0.0, 0.04, 0.6000000000000001, 0.18),\n",
       "   (0.12, 0.08, 0.0, 0.6400000000000001, 0.04))),\n",
       " (0.011293387006245936,\n",
       "  ((0.04, 0.04, 0.2, 0.7400000000000001, 0.2), (0.08, 0.08, 0.16, 0.8, 0.08))),\n",
       " (0.011290345863835871,\n",
       "  ((0.14, 0.1, 0.6000000000000001, 0.1, 0.52),\n",
       "   (0.16, 0.08, 0.5800000000000001, 0.18, 0.44000000000000006))),\n",
       " (0.011285472336514168,\n",
       "  ((0.14, 0.02, 0.4800000000000001, 0.02, 0.52),\n",
       "   (0.18, 0.0, 0.4000000000000001, 0.16, 0.4000000000000001))),\n",
       " (0.011281462130181996,\n",
       "  ((0.14, 0.1, 0.6000000000000001, 0.08, 0.5000000000000001),\n",
       "   (0.16, 0.06, 0.54, 0.2, 0.4200000000000001))),\n",
       " (0.011258581357703634,\n",
       "  ((0.06, 0.02, 0.4800000000000001, 0.0, 0.52),\n",
       "   (0.08, 0.0, 0.44000000000000006, 0.1, 0.44000000000000006))),\n",
       " (0.011246300875188409,\n",
       "  ((0.06, 0.2, 0.02, 0.6200000000000001, 0.14),\n",
       "   (0.08, 0.06, 0.0, 0.7000000000000001, 0.16))),\n",
       " (0.011245005186142798,\n",
       "  ((0.0, 0.14, 0.1, 0.6200000000000001, 0.0),\n",
       "   (0.02, 0.04, 0.04, 0.7200000000000001, 0.0))),\n",
       " (0.011241888627333663,\n",
       "  ((0.04, 0.02, 0.08, 0.6000000000000001, 0.1),\n",
       "   (0.08, 0.0, 0.04, 0.68, 0.02))),\n",
       " (0.011233268568373311,\n",
       "  ((0.04, 0.02, 0.02, 0.6000000000000001, 0.18),\n",
       "   (0.06, 0.02, 0.0, 0.6400000000000001, 0.12))),\n",
       " (0.01122815321470172,\n",
       "  ((0.06, 0.08, 0.2, 0.7200000000000001, 0.08),\n",
       "   (0.08, 0.04, 0.18, 0.78, 0.04))),\n",
       " (0.011225278527532079,\n",
       "  ((0.02, 0.06, 0.04, 0.6200000000000001, 0.04),\n",
       "   (0.04, 0.02, 0.0, 0.7000000000000001, 0.0))),\n",
       " (0.011222988062572326,\n",
       "  ((0.1, 0.0, 0.1, 0.6000000000000001, 0.1),\n",
       "   (0.14, 0.0, 0.02, 0.7000000000000001, 0.0))),\n",
       " (0.011219684661888663,\n",
       "  ((0.0, 0.16, 0.04, 0.7000000000000001, 0.12),\n",
       "   (0.02, 0.06, 0.0, 0.78, 0.12))),\n",
       " (0.011212422253170318,\n",
       "  ((0.0, 0.1, 0.04, 0.6000000000000001, 0.2),\n",
       "   (0.04, 0.18, 0.0, 0.6400000000000001, 0.06))),\n",
       " (0.011207814059699894,\n",
       "  ((0.02, 0.06, 0.2, 0.7200000000000001, 0.06),\n",
       "   (0.04, 0.06, 0.14, 0.78, 0.0))),\n",
       " (0.01120044037345358,\n",
       "  ((0.0, 0.14, 0.06, 0.6400000000000001, 0.02),\n",
       "   (0.02, 0.04, 0.0, 0.7400000000000001, 0.02))),\n",
       " (0.011195382053579173,\n",
       "  ((0.0, 0.12, 0.08, 0.6000000000000001, 0.2),\n",
       "   (0.04, 0.12, 0.0, 0.7000000000000001, 0.1))),\n",
       " (0.01118990699986333,\n",
       "  ((0.1, 0.12, 0.4800000000000001, 0.0, 0.54),\n",
       "   (0.12, 0.1, 0.4000000000000001, 0.14, 0.44000000000000006))),\n",
       " (0.011185815423239431,\n",
       "  ((0.18, 0.0, 0.6000000000000001, 0.06, 0.56),\n",
       "   (0.2, 0.06, 0.54, 0.16, 0.4200000000000001))),\n",
       " (0.011185612036567483,\n",
       "  ((0.16, 0.1, 0.4800000000000001, 0.0, 0.54),\n",
       "   (0.18, 0.02, 0.4000000000000001, 0.14, 0.4800000000000001))),\n",
       " (0.011184287189785369,\n",
       "  ((0.0, 0.14, 0.08, 0.6400000000000001, 0.08),\n",
       "   (0.02, 0.02, 0.0, 0.78, 0.08))),\n",
       " (0.011183390085757083,\n",
       "  ((0.12, 0.1, 0.2, 0.7400000000000001, 0.02), (0.14, 0.0, 0.2, 0.8, 0.02))),\n",
       " (0.011174597841768663,\n",
       "  ((0.18, 0.06, 0.4600000000000001, 0.06, 0.5800000000000001),\n",
       "   (0.2, 0.06, 0.4000000000000001, 0.16, 0.4800000000000001))),\n",
       " (0.011172534634440678,\n",
       "  ((0.1, 0.02, 0.12, 0.6000000000000001, 0.08), (0.14, 0.0, 0.06, 0.68, 0.0))),\n",
       " (0.011134491712954275,\n",
       "  ((0.16, 0.06, 0.4800000000000001, 0.0, 0.6000000000000001),\n",
       "   (0.18, 0.08, 0.4000000000000001, 0.12, 0.4800000000000001))),\n",
       " (0.011134100037884731,\n",
       "  ((0.08, 0.02, 0.2, 0.7400000000000001, 0.18),\n",
       "   (0.14, 0.08, 0.16, 0.8, 0.02))),\n",
       " (0.011129870432684097,\n",
       "  ((0.0, 0.16, 0.04, 0.6000000000000001, 0.18),\n",
       "   (0.04, 0.04, 0.0, 0.7000000000000001, 0.16))),\n",
       " (0.011128313127767686,\n",
       "  ((0.02, 0.2, 0.44000000000000006, 0.18, 0.6000000000000001),\n",
       "   (0.18, 0.2, 0.0, 0.7200000000000001, 0.2))),\n",
       " (0.01111884559512083,\n",
       "  ((0.0, 0.16, 0.04, 0.7600000000000001, 0.2), (0.02, 0.16, 0.0, 0.8, 0.14))),\n",
       " (0.011112963960699218,\n",
       "  ((0.06, 0.18, 0.04, 0.6200000000000001, 0.18),\n",
       "   (0.08, 0.16, 0.02, 0.68, 0.12))),\n",
       " (0.011102148454042893,\n",
       "  ((0.14, 0.2, 0.6000000000000001, 0.04, 0.4200000000000001),\n",
       "   (0.16, 0.06, 0.56, 0.18, 0.4000000000000001))),\n",
       " (0.011101864291760799,\n",
       "  ((0.04, 0.16, 0.06, 0.7400000000000001, 0.2), (0.08, 0.2, 0.0, 0.8, 0.08))),\n",
       " (0.011100652042793202,\n",
       "  ((0.08, 0.2, 0.2, 0.7400000000000001, 0.2), (0.12, 0.2, 0.16, 0.8, 0.1))),\n",
       " (0.011090083598905454,\n",
       "  ((0.0, 0.06, 0.06, 0.6000000000000001, 0.2),\n",
       "   (0.04, 0.2, 0.0, 0.6400000000000001, 0.02))),\n",
       " (0.011089241215486378,\n",
       "  ((0.0, 0.1, 0.02, 0.7400000000000001, 0.2), (0.02, 0.06, 0.0, 0.8, 0.16))),\n",
       " (0.011089059842408655,\n",
       "  ((0.1, 0.04, 0.2, 0.7000000000000001, 0.06),\n",
       "   (0.12, 0.0, 0.18, 0.7600000000000001, 0.02))),\n",
       " (0.011085799338345526,\n",
       "  ((0.06, 0.12, 0.2, 0.68, 0.02), (0.1, 0.0, 0.14, 0.8, 0.0))),\n",
       " (0.011084611967977276,\n",
       "  ((0.06, 0.2, 0.06, 0.6000000000000001, 0.14),\n",
       "   (0.08, 0.12, 0.02, 0.68, 0.12))),\n",
       " (0.01108143423365393,\n",
       "  ((0.0, 0.1, 0.2, 0.7400000000000001, 0.14),\n",
       "   (0.04, 0.18, 0.2, 0.7600000000000001, 0.0))),\n",
       " (0.011079940883755468,\n",
       "  ((0.16, 0.04, 0.6000000000000001, 0.0, 0.5000000000000001),\n",
       "   (0.18, 0.02, 0.52, 0.14, 0.4000000000000001))),\n",
       " (0.011070821186637991,\n",
       "  ((0.16, 0.16, 0.4600000000000001, 0.02, 0.4000000000000001),\n",
       "   (0.16, 0.02, 0.44000000000000006, 0.12, 0.4200000000000001))),\n",
       " (0.011066449679553614,\n",
       "  ((0.0, 0.12, 0.14, 0.6400000000000001, 0.0),\n",
       "   (0.02, 0.0, 0.1, 0.7200000000000001, 0.02))),\n",
       " (0.011056489018553772,\n",
       "  ((0.0, 0.2, 0.0, 0.7600000000000001, 0.18), (0.02, 0.2, 0.0, 0.78, 0.12))),\n",
       " (0.011047726276594283,\n",
       "  ((0.0, 0.1, 0.2, 0.7200000000000001, 0.2), (0.02, 0.08, 0.16, 0.8, 0.14))),\n",
       " (0.011047330576408165,\n",
       "  ((0.18, 0.08, 0.56, 0.02, 0.6000000000000001),\n",
       "   (0.2, 0.02, 0.5000000000000001, 0.16, 0.52))),\n",
       " (0.011043705485803412,\n",
       "  ((0.1, 0.0, 0.2, 0.78, 0.18), (0.14, 0.14, 0.16, 0.8, 0.0))),\n",
       " (0.011034067750940901,\n",
       "  ((0.14, 0.06, 0.44000000000000006, 0.0, 0.54),\n",
       "   (0.16, 0.12, 0.4000000000000001, 0.06, 0.4200000000000001))),\n",
       " (0.011028345073640422,\n",
       "  ((0.0, 0.16, 0.02, 0.7000000000000001, 0.1),\n",
       "   (0.02, 0.04, 0.0, 0.7600000000000001, 0.12))),\n",
       " (0.01102770810754422,\n",
       "  ((0.14, 0.16, 0.44000000000000006, 0.1, 0.5800000000000001),\n",
       "   (0.16, 0.14, 0.4000000000000001, 0.18, 0.5000000000000001))),\n",
       " (0.011018685898377178,\n",
       "  ((0.06, 0.02, 0.44000000000000006, 0.02, 0.54),\n",
       "   (0.1, 0.0, 0.4000000000000001, 0.12, 0.44000000000000006))),\n",
       " (0.0110154338269417,\n",
       "  ((0.0, 0.16, 0.08, 0.7200000000000001, 0.18),\n",
       "   (0.02, 0.14, 0.04, 0.8, 0.12))),\n",
       " (0.011009856296342047,\n",
       "  ((0.16, 0.2, 0.6000000000000001, 0.08, 0.5800000000000001),\n",
       "   (0.18, 0.18, 0.54, 0.2, 0.4800000000000001))),\n",
       " (0.011006394000523168,\n",
       "  ((0.04, 0.08, 0.04, 0.6000000000000001, 0.18),\n",
       "   (0.08, 0.0, 0.0, 0.68, 0.14))),\n",
       " (0.01100189116266237,\n",
       "  ((0.12, 0.2, 0.4600000000000001, 0.02, 0.5800000000000001),\n",
       "   (0.14, 0.2, 0.4000000000000001, 0.12, 0.4800000000000001))),\n",
       " (0.010987095175181538,\n",
       "  ((0.04, 0.08, 0.2, 0.6600000000000001, 0.06),\n",
       "   (0.06, 0.02, 0.16, 0.7200000000000001, 0.04))),\n",
       " (0.010977215833964715,\n",
       "  ((0.16, 0.12, 0.6000000000000001, 0.12, 0.54),\n",
       "   (0.18, 0.2, 0.56, 0.18, 0.4000000000000001))),\n",
       " (0.01096109585786692,\n",
       "  ((0.18, 0.04, 0.6000000000000001, 0.06, 0.5000000000000001),\n",
       "   (0.2, 0.04, 0.56, 0.16, 0.4000000000000001))),\n",
       " (0.010958372383384374,\n",
       "  ((0.1, 0.04, 0.06, 0.6000000000000001, 0.1), (0.14, 0.02, 0.0, 0.68, 0.02))),\n",
       " (0.010951456492623135,\n",
       "  ((0.0, 0.2, 0.02, 0.6600000000000001, 0.04),\n",
       "   (0.0, 0.06, 0.0, 0.7200000000000001, 0.1))),\n",
       " (0.010950748980029235,\n",
       "  ((0.0, 0.1, 0.18, 0.6600000000000001, 0.02),\n",
       "   (0.02, 0.04, 0.16, 0.7200000000000001, 0.0))),\n",
       " (0.010950024995148466,\n",
       "  ((0.1, 0.0, 0.08, 0.6000000000000001, 0.08),\n",
       "   (0.12, 0.02, 0.04, 0.6600000000000001, 0.0))),\n",
       " (0.010947963489940205,\n",
       "  ((0.1, 0.02, 0.6000000000000001, 0.02, 0.52),\n",
       "   (0.12, 0.02, 0.52, 0.14, 0.4200000000000001))),\n",
       " (0.01094466828027002,\n",
       "  ((0.04, 0.16, 0.16, 0.7600000000000001, 0.2),\n",
       "   (0.06, 0.18, 0.18, 0.78, 0.12))),\n",
       " (0.01093042498415503,\n",
       "  ((0.16, 0.04, 0.54, 0.02, 0.5000000000000001),\n",
       "   (0.18, 0.02, 0.4600000000000001, 0.16, 0.4000000000000001))),\n",
       " (0.010929163499908356,\n",
       "  ((0.16, 0.08, 0.56, 0.02, 0.44000000000000006),\n",
       "   (0.18, 0.0, 0.52, 0.12, 0.4000000000000001))),\n",
       " (0.010924737071892732,\n",
       "  ((0.0, 0.2, 0.18, 0.7400000000000001, 0.18), (0.02, 0.16, 0.14, 0.8, 0.14))),\n",
       " (0.010924376779127443,\n",
       "  ((0.04, 0.02, 0.04, 0.6000000000000001, 0.2),\n",
       "   (0.06, 0.02, 0.02, 0.6400000000000001, 0.14))),\n",
       " (0.010920605861152122,\n",
       "  ((0.04, 0.2, 0.06, 0.7400000000000001, 0.2), (0.06, 0.18, 0.04, 0.8, 0.14))),\n",
       " (0.010904509409758012,\n",
       "  ((0.08, 0.0, 0.02, 0.6000000000000001, 0.16),\n",
       "   (0.1, 0.0, 0.0, 0.6400000000000001, 0.1))),\n",
       " (0.010902809899797472,\n",
       "  ((0.04, 0.18, 0.18, 0.7200000000000001, 0.2), (0.08, 0.18, 0.12, 0.8, 0.1))),\n",
       " (0.01089183866220128,\n",
       "  ((0.04, 0.08, 0.06, 0.6000000000000001, 0.2),\n",
       "   (0.08, 0.02, 0.0, 0.7000000000000001, 0.14))),\n",
       " (0.010888771426911137,\n",
       "  ((0.14, 0.08, 0.6000000000000001, 0.1, 0.6000000000000001),\n",
       "   (0.18, 0.18, 0.54, 0.18, 0.4200000000000001))),\n",
       " (0.010883529737583664,\n",
       "  ((0.0, 0.04, 0.04, 0.68, 0.04),\n",
       "   (0.02, 0.02, 0.02, 0.7200000000000001, 0.0))),\n",
       " (0.010879661029482013,\n",
       "  ((0.12, 0.1, 0.44000000000000006, 0.06, 0.6000000000000001),\n",
       "   (0.14, 0.2, 0.4000000000000001, 0.1, 0.4600000000000001))),\n",
       " (0.01086966512622134,\n",
       "  ((0.08, 0.04, 0.56, 0.0, 0.52),\n",
       "   (0.1, 0.08, 0.5000000000000001, 0.1, 0.4000000000000001))),\n",
       " (0.010863486443528136,\n",
       "  ((0.16, 0.2, 0.6000000000000001, 0.08, 0.54),\n",
       "   (0.18, 0.16, 0.5800000000000001, 0.18, 0.4600000000000001))),\n",
       " (0.010859350944198543,\n",
       "  ((0.0, 0.12, 0.2, 0.6200000000000001, 0.0),\n",
       "   (0.02, 0.02, 0.14, 0.7200000000000001, 0.0))),\n",
       " (0.010842302489423916,\n",
       "  ((0.04, 0.02, 0.1, 0.6000000000000001, 0.14),\n",
       "   (0.1, 0.04, 0.0, 0.7200000000000001, 0.0))),\n",
       " (0.010842100825530776,\n",
       "  ((0.12, 0.14, 0.18, 0.7400000000000001, 0.02),\n",
       "   (0.14, 0.04, 0.18, 0.8, 0.02))),\n",
       " (0.010840051666261674,\n",
       "  ((0.0, 0.1, 0.06, 0.6000000000000001, 0.1),\n",
       "   (0.04, 0.02, 0.0, 0.7000000000000001, 0.06))),\n",
       " (0.0108325305451214,\n",
       "  ((0.16, 0.12, 0.6000000000000001, 0.0, 0.44000000000000006),\n",
       "   (0.18, 0.04, 0.56, 0.1, 0.4000000000000001))),\n",
       " (0.010813444479633783,\n",
       "  ((0.18, 0.12, 0.4800000000000001, 0.0, 0.6000000000000001),\n",
       "   (0.2, 0.06, 0.4200000000000001, 0.14, 0.52))),\n",
       " (0.010801808260463341,\n",
       "  ((0.0, 0.16, 0.06, 0.6000000000000001, 0.2),\n",
       "   (0.04, 0.1, 0.0, 0.7000000000000001, 0.14))),\n",
       " (0.010797555142700921,\n",
       "  ((0.04, 0.2, 0.14, 0.7000000000000001, 0.2), (0.06, 0.14, 0.08, 0.8, 0.16))),\n",
       " (0.01077622415656393,\n",
       "  ((0.16, 0.14, 0.54, 0.14, 0.6000000000000001),\n",
       "   (0.18, 0.2, 0.52, 0.18, 0.4800000000000001))),\n",
       " (0.01077145284884684,\n",
       "  ((0.0, 0.2, 0.04, 0.6400000000000001, 0.0),\n",
       "   (0.02, 0.08, 0.0, 0.7200000000000001, 0.02))),\n",
       " (0.010766466268125496,\n",
       "  ((0.04, 0.0, 0.06, 0.6000000000000001, 0.12),\n",
       "   (0.08, 0.02, 0.02, 0.6600000000000001, 0.02))),\n",
       " (0.010765937374648926,\n",
       "  ((0.16, 0.12, 0.4600000000000001, 0.0, 0.5000000000000001),\n",
       "   (0.18, 0.14, 0.4000000000000001, 0.08, 0.4000000000000001))),\n",
       " (0.010762887456488013,\n",
       "  ((0.16, 0.14, 0.2, 0.7600000000000001, 0.12),\n",
       "   (0.18, 0.16, 0.2, 0.78, 0.04))),\n",
       " (0.010759748966935545,\n",
       "  ((0.1, 0.04, 0.18, 0.7000000000000001, 0.04), (0.12, 0.0, 0.12, 0.78, 0.0))),\n",
       " (0.010747575999554504,\n",
       "  ((0.08, 0.02, 0.2, 0.6400000000000001, 0.08),\n",
       "   (0.1, 0.04, 0.16, 0.7000000000000001, 0.0))),\n",
       " (0.010746733305287304,\n",
       "  ((0.08, 0.2, 0.04, 0.7200000000000001, 0.18), (0.12, 0.14, 0.0, 0.8, 0.12))),\n",
       " (0.010746277454262487,\n",
       "  ((0.04, 0.12, 0.02, 0.6000000000000001, 0.18),\n",
       "   (0.08, 0.14, 0.0, 0.6400000000000001, 0.08))),\n",
       " (0.010738254948238435,\n",
       "  ((0.0, 0.2, 0.0, 0.78, 0.2), (0.02, 0.2, 0.0, 0.8, 0.14))),\n",
       " (0.010735355853793371,\n",
       "  ((0.08, 0.2, 0.18, 0.7200000000000001, 0.18), (0.12, 0.16, 0.16, 0.8, 0.1))),\n",
       " (0.010730161351839962,\n",
       "  ((0.0, 0.2, 0.14, 0.7600000000000001, 0.18), (0.02, 0.2, 0.14, 0.78, 0.12))),\n",
       " (0.01072620798723356,\n",
       "  ((0.1, 0.04, 0.6000000000000001, 0.02, 0.4800000000000001),\n",
       "   (0.12, 0.02, 0.56, 0.12, 0.4000000000000001))),\n",
       " (0.010721185028236047,\n",
       "  ((0.08, 0.18, 0.2, 0.7200000000000001, 0.16),\n",
       "   (0.12, 0.06, 0.18, 0.8, 0.14))),\n",
       " (0.01070408159501357,\n",
       "  ((0.02, 0.18, 0.2, 0.7200000000000001, 0.04), (0.06, 0.1, 0.18, 0.8, 0.0))),\n",
       " (0.01069867057959617,\n",
       "  ((0.12, 0.04, 0.2, 0.78, 0.1), (0.14, 0.1, 0.18, 0.8, 0.0))),\n",
       " (0.010688274901683115,\n",
       "  ((0.2, 0.2, 0.56, 0.0, 0.54), (0.2, 0.0, 0.54, 0.16, 0.56))),\n",
       " (0.010685007756801368,\n",
       "  ((0.02, 0.0, 0.06, 0.6200000000000001, 0.06), (0.04, 0.0, 0.02, 0.68, 0.0))),\n",
       " (0.010678709452493607,\n",
       "  ((0.1, 0.16, 0.1, 0.8, 0.2), (0.1, 0.1, 0.16, 0.8, 0.2))),\n",
       " (0.01067807374209806,\n",
       "  ((0.0, 0.08, 0.08, 0.6400000000000001, 0.04),\n",
       "   (0.02, 0.04, 0.0, 0.7400000000000001, 0.0))),\n",
       " (0.01067027099656187,\n",
       "  ((0.14, 0.2, 0.4800000000000001, 0.06, 0.6000000000000001),\n",
       "   (0.16, 0.16, 0.4000000000000001, 0.18, 0.52))),\n",
       " (0.010664293723742169,\n",
       "  ((0.1, 0.2, 0.4000000000000001, 0.0, 0.5000000000000001),\n",
       "   (0.1, 0.14, 0.4000000000000001, 0.06, 0.4800000000000001))),\n",
       " (0.010664200208144348,\n",
       "  ((0.2, 0.2, 0.5800000000000001, 0.0, 0.5000000000000001),\n",
       "   (0.2, 0.08, 0.56, 0.1, 0.5000000000000001))),\n",
       " (0.010663002248143594,\n",
       "  ((0.12, 0.18, 0.44000000000000006, 0.02, 0.6000000000000001),\n",
       "   (0.14, 0.12, 0.4000000000000001, 0.12, 0.54))),\n",
       " (0.010660180946798659,\n",
       "  ((0.18, 0.12, 0.44000000000000006, 0.02, 0.6000000000000001),\n",
       "   (0.18, 0.0, 0.4000000000000001, 0.12, 0.6000000000000001))),\n",
       " (0.010657089574982181,\n",
       "  ((0.16, 0.14, 0.44000000000000006, 0.0, 0.52),\n",
       "   (0.18, 0.18, 0.4200000000000001, 0.04, 0.4200000000000001))),\n",
       " (0.010640481239401756,\n",
       "  ((0.06, 0.04, 0.4800000000000001, 0.0, 0.4800000000000001),\n",
       "   (0.08, 0.0, 0.4000000000000001, 0.14, 0.4000000000000001))),\n",
       " (0.010637372800727074,\n",
       "  ((0.0, 0.02, 0.18, 0.6600000000000001, 0.04),\n",
       "   (0.02, 0.0, 0.16, 0.7000000000000001, 0.0))),\n",
       " (0.01062380348646419,\n",
       "  ((0.1, 0.06, 0.2, 0.7000000000000001, 0.02),\n",
       "   (0.12, 0.0, 0.16, 0.7600000000000001, 0.0))),\n",
       " (0.010622815582832068,\n",
       "  ((0.06, 0.04, 0.5000000000000001, 0.0, 0.5000000000000001),\n",
       "   (0.1, 0.0, 0.4200000000000001, 0.14, 0.4000000000000001))),\n",
       " (0.01062238792026654,\n",
       "  ((0.18, 0.12, 0.6000000000000001, 0.0, 0.54),\n",
       "   (0.2, 0.02, 0.54, 0.16, 0.4800000000000001))),\n",
       " (0.01061849269764853,\n",
       "  ((0.08, 0.0, 0.6000000000000001, 0.18, 0.5000000000000001),\n",
       "   (0.1, 0.06, 0.6000000000000001, 0.2, 0.4000000000000001))),\n",
       " (0.010612723559243864,\n",
       "  ((0.18, 0.16, 0.6000000000000001, 0.0, 0.4200000000000001),\n",
       "   (0.18, 0.02, 0.5800000000000001, 0.1, 0.44000000000000006))),\n",
       " (0.01061231695950604,\n",
       "  ((0.12, 0.14, 0.6000000000000001, 0.02, 0.44000000000000006),\n",
       "   (0.14, 0.04, 0.52, 0.16, 0.4000000000000001))),\n",
       " (0.010606567346490903,\n",
       "  ((0.0, 0.2, 0.02, 0.7000000000000001, 0.12), (0.02, 0.04, 0.0, 0.78, 0.16))),\n",
       " (0.010598944285714396,\n",
       "  ((0.12, 0.0, 0.4600000000000001, 0.02, 0.4800000000000001),\n",
       "   (0.14, 0.0, 0.4000000000000001, 0.1, 0.4000000000000001))),\n",
       " (0.01059736637685954,\n",
       "  ((0.0, 0.02, 0.04, 0.6200000000000001, 0.2),\n",
       "   (0.02, 0.16, 0.0, 0.6200000000000001, 0.06))),\n",
       " (0.010595920683395543,\n",
       "  ((0.04, 0.0, 0.06, 0.6000000000000001, 0.14),\n",
       "   (0.08, 0.02, 0.02, 0.6600000000000001, 0.04))),\n",
       " (0.01059591578420055,\n",
       "  ((0.2, 0.08, 0.4600000000000001, 0.0, 0.4200000000000001),\n",
       "   (0.2, 0.0, 0.4200000000000001, 0.1, 0.4000000000000001))),\n",
       " (0.010590485809371164,\n",
       "  ((0.16, 0.1, 0.44000000000000006, 0.0, 0.5800000000000001),\n",
       "   (0.18, 0.2, 0.4000000000000001, 0.04, 0.44000000000000006))),\n",
       " (0.010587835730586914,\n",
       "  ((0.1, 0.06, 0.6000000000000001, 0.04, 0.4800000000000001),\n",
       "   (0.12, 0.0, 0.54, 0.16, 0.4200000000000001))),\n",
       " (0.010586170220202251,\n",
       "  ((0.08, 0.14, 0.2, 0.7400000000000001, 0.0), (0.08, 0.0, 0.18, 0.8, 0.06))),\n",
       " (0.010563456943886884,\n",
       "  ((0.0, 0.2, 0.04, 0.7200000000000001, 0.16), (0.0, 0.08, 0.02, 0.78, 0.2))),\n",
       " (0.010552981026302921,\n",
       "  ((0.06, 0.0, 0.16, 0.6000000000000001, 0.08),\n",
       "   (0.08, 0.0, 0.1, 0.6600000000000001, 0.02))),\n",
       " (0.01054749100988589,\n",
       "  ((0.18, 0.1, 0.54, 0.0, 0.6000000000000001),\n",
       "   (0.2, 0.06, 0.4600000000000001, 0.16, 0.5000000000000001))),\n",
       " (0.010545993044027036,\n",
       "  ((0.2, 0.18, 0.4800000000000001, 0.02, 0.56),\n",
       "   (0.2, 0.1, 0.4600000000000001, 0.1, 0.54))),\n",
       " (0.010545208498780712,\n",
       "  ((0.14, 0.2, 0.44000000000000006, 0.08, 0.6000000000000001),\n",
       "   (0.16, 0.18, 0.4000000000000001, 0.16, 0.52))),\n",
       " (0.010543252575884676,\n",
       "  ((0.02, 0.1, 0.04, 0.6000000000000001, 0.04),\n",
       "   (0.02, 0.0, 0.02, 0.6400000000000001, 0.08))),\n",
       " (0.010540045074088233,\n",
       "  ((0.02, 0.02, 0.1, 0.6200000000000001, 0.06),\n",
       "   (0.04, 0.0, 0.0, 0.7400000000000001, 0.0))),\n",
       " (0.010537876773139276,\n",
       "  ((0.14, 0.0, 0.5800000000000001, 0.0, 0.5000000000000001),\n",
       "   (0.16, 0.0, 0.5000000000000001, 0.12, 0.4000000000000001))),\n",
       " (0.010536572056283555,\n",
       "  ((0.1, 0.04, 0.02, 0.6000000000000001, 0.04),\n",
       "   (0.1, 0.0, 0.02, 0.6200000000000001, 0.04))),\n",
       " (0.010530884365157256,\n",
       "  ((0.06, 0.18, 0.0, 0.6200000000000001, 0.16),\n",
       "   (0.06, 0.12, 0.0, 0.6600000000000001, 0.16))),\n",
       " (0.01051820806718562,\n",
       "  ((0.2, 0.16, 0.44000000000000006, 0.06, 0.56),\n",
       "   (0.2, 0.04, 0.4000000000000001, 0.16, 0.56))),\n",
       " (0.010516439256152477,\n",
       "  ((0.1, 0.04, 0.2, 0.8, 0.2), (0.14, 0.18, 0.2, 0.8, 0.02))),\n",
       " (0.010511538729648051,\n",
       "  ((0.02, 0.0, 0.18, 0.6200000000000001, 0.08),\n",
       "   (0.04, 0.04, 0.18, 0.6400000000000001, 0.0))),\n",
       " (0.010511491065397727,\n",
       "  ((0.2, 0.14, 0.52, 0.02, 0.5800000000000001),\n",
       "   (0.2, 0.06, 0.5000000000000001, 0.1, 0.56))),\n",
       " (0.010501611300806957,\n",
       "  ((0.1, 0.12, 0.2, 0.7400000000000001, 0.14), (0.14, 0.18, 0.16, 0.8, 0.0))),\n",
       " (0.010496780986871568,\n",
       "  ((0.12, 0.14, 0.4000000000000001, 0.06, 0.5800000000000001),\n",
       "   (0.12, 0.0, 0.4000000000000001, 0.14, 0.6000000000000001))),\n",
       " (0.010489260865847394,\n",
       "  ((0.2, 0.1, 0.6000000000000001, 0.06, 0.5000000000000001),\n",
       "   (0.2, 0.08, 0.6000000000000001, 0.1, 0.4600000000000001))),\n",
       " (0.010489147822391187,\n",
       "  ((0.02, 0.2, 0.02, 0.68, 0.2), (0.04, 0.1, 0.0, 0.7400000000000001, 0.2))),\n",
       " (0.01048389554225937,\n",
       "  ((0.08, 0.08, 0.4800000000000001, 0.0, 0.56),\n",
       "   (0.12, 0.08, 0.4000000000000001, 0.12, 0.44000000000000006))),\n",
       " (0.010480859400540943,\n",
       "  ((0.04, 0.18, 0.02, 0.6000000000000001, 0.16),\n",
       "   (0.08, 0.16, 0.0, 0.6600000000000001, 0.08))),\n",
       " (0.010474124899276627,\n",
       "  ((0.14, 0.18, 0.6000000000000001, 0.2, 0.4800000000000001),\n",
       "   (0.2, 0.16, 0.2, 0.7200000000000001, 0.2))),\n",
       " (0.010470111124229131,\n",
       "  ((0.14, 0.18, 0.44000000000000006, 0.04, 0.6000000000000001),\n",
       "   (0.14, 0.04, 0.4200000000000001, 0.16, 0.6000000000000001))),\n",
       " (0.010469963865732346,\n",
       "  ((0.0, 0.08, 0.04, 0.6000000000000001, 0.12),\n",
       "   (0.04, 0.1, 0.0, 0.6600000000000001, 0.02))),\n",
       " (0.010464069607988957,\n",
       "  ((0.12, 0.0, 0.4800000000000001, 0.02, 0.5000000000000001),\n",
       "   (0.14, 0.0, 0.4200000000000001, 0.1, 0.4200000000000001))),\n",
       " (0.010456733847774125,\n",
       "  ((0.02, 0.16, 0.2, 0.7400000000000001, 0.02), (0.04, 0.04, 0.2, 0.8, 0.04))),\n",
       " (0.010453910312430204,\n",
       "  ((0.02, 0.1, 0.18, 0.8, 0.12), (0.04, 0.18, 0.18, 0.78, 0.02))),\n",
       " (0.010441864143227453,\n",
       "  ((0.06, 0.0, 0.52, 0.0, 0.4800000000000001),\n",
       "   (0.08, 0.0, 0.4800000000000001, 0.08, 0.4000000000000001))),\n",
       " (0.010436408637962802,\n",
       "  ((0.1, 0.02, 0.1, 0.6000000000000001, 0.04),\n",
       "   (0.12, 0.0, 0.06, 0.6400000000000001, 0.0))),\n",
       " (0.010434668585984352,\n",
       "  ((0.06, 0.12, 0.0, 0.6000000000000001, 0.04),\n",
       "   (0.06, 0.08, 0.0, 0.6200000000000001, 0.04))),\n",
       " (0.010428661372205494,\n",
       "  ((0.04, 0.2, 0.12, 0.78, 0.2), (0.06, 0.16, 0.16, 0.8, 0.16))),\n",
       " (0.01042772071795589,\n",
       "  ((0.1, 0.18, 0.4200000000000001, 0.0, 0.54),\n",
       "   (0.12, 0.02, 0.4000000000000001, 0.12, 0.54))),\n",
       " (0.01042735634326869,\n",
       "  ((0.14, 0.12, 0.44000000000000006, 0.0, 0.44000000000000006),\n",
       "   (0.14, 0.08, 0.44000000000000006, 0.04, 0.4200000000000001))),\n",
       " (0.010416697190934632,\n",
       "  ((0.0, 0.2, 0.14, 0.78, 0.2), (0.02, 0.2, 0.14, 0.8, 0.14))),\n",
       " (0.010415771240538052,\n",
       "  ((0.2, 0.06, 0.4200000000000001, 0.0, 0.5000000000000001),\n",
       "   (0.2, 0.06, 0.4000000000000001, 0.06, 0.44000000000000006))),\n",
       " (0.01040400694079352,\n",
       "  ((0.14, 0.0, 0.52, 0.02, 0.5000000000000001),\n",
       "   (0.16, 0.0, 0.44000000000000006, 0.14, 0.4000000000000001))),\n",
       " (0.01040349575834465,\n",
       "  ((0.06, 0.04, 0.04, 0.6200000000000001, 0.04),\n",
       "   (0.08, 0.0, 0.0, 0.7000000000000001, 0.0))),\n",
       " (0.010397031071027019,\n",
       "  ((0.2, 0.2, 0.4600000000000001, 0.0, 0.6000000000000001),\n",
       "   (0.2, 0.18, 0.4200000000000001, 0.08, 0.54))),\n",
       " (0.010396796583692525,\n",
       "  ((0.02, 0.08, 0.12, 0.6000000000000001, 0.04),\n",
       "   (0.06, 0.0, 0.02, 0.7200000000000001, 0.0))),\n",
       " (0.010396512645323819,\n",
       "  ((0.06, 0.02, 0.18, 0.6000000000000001, 0.06),\n",
       "   (0.08, 0.02, 0.12, 0.6600000000000001, 0.0))),\n",
       " (0.010391803435443658,\n",
       "  ((0.1, 0.16, 0.44000000000000006, 0.0, 0.52),\n",
       "   (0.12, 0.02, 0.4000000000000001, 0.14, 0.5000000000000001))),\n",
       " (0.01039107559561242,\n",
       "  ((0.14, 0.04, 0.6000000000000001, 0.12, 0.4600000000000001),\n",
       "   (0.16, 0.0, 0.5800000000000001, 0.2, 0.4000000000000001))),\n",
       " (0.010389736614730971,\n",
       "  ((0.04, 0.1, 0.2, 0.6600000000000001, 0.0),\n",
       "   (0.06, 0.02, 0.2, 0.7000000000000001, 0.0))),\n",
       " (0.010389736120051563,\n",
       "  ((0.06, 0.06, 0.06, 0.6200000000000001, 0.02),\n",
       "   (0.08, 0.0, 0.04, 0.68, 0.0))),\n",
       " (0.010384470194814033,\n",
       "  ((0.04, 0.16, 0.2, 0.7400000000000001, 0.14), (0.1, 0.16, 0.18, 0.8, 0.02))),\n",
       " (0.010351667320450952,\n",
       "  ((0.2, 0.16, 0.6000000000000001, 0.0, 0.56), (0.2, 0.04, 0.56, 0.14, 0.54))),\n",
       " (0.010344821457227094,\n",
       "  ((0.18, 0.16, 0.4200000000000001, 0.02, 0.54),\n",
       "   (0.18, 0.1, 0.4000000000000001, 0.08, 0.52))),\n",
       " (0.010341386636198047,\n",
       "  ((0.16, 0.16, 0.52, 0.0, 0.4000000000000001),\n",
       "   (0.16, 0.04, 0.4800000000000001, 0.12, 0.4000000000000001))),\n",
       " (0.010325533775186302,\n",
       "  ((0.02, 0.04, 0.18, 0.7600000000000001, 0.06),\n",
       "   (0.04, 0.02, 0.2, 0.78, 0.02))),\n",
       " (0.010323726563649882,\n",
       "  ((0.02, 0.04, 0.18, 0.6000000000000001, 0.06),\n",
       "   (0.06, 0.0, 0.12, 0.68, 0.0))),\n",
       " (0.010309006572534474,\n",
       "  ((0.1, 0.2, 0.0, 0.78, 0.2), (0.1, 0.14, 0.02, 0.8, 0.2))),\n",
       " (0.010308483482069974,\n",
       "  ((0.06, 0.0, 0.18, 0.78, 0.14), (0.08, 0.1, 0.18, 0.78, 0.02))),\n",
       " (0.010305609439524188,\n",
       "  ((0.12, 0.04, 0.4800000000000001, 0.0, 0.4600000000000001),\n",
       "   (0.14, 0.02, 0.4600000000000001, 0.06, 0.4000000000000001))),\n",
       " (0.010290262043372689,\n",
       "  ((0.0, 0.04, 0.2, 0.6600000000000001, 0.04),\n",
       "   (0.02, 0.02, 0.18, 0.7000000000000001, 0.0))),\n",
       " (0.010286310148253819,\n",
       "  ((0.16, 0.2, 0.6000000000000001, 0.1, 0.4600000000000001),\n",
       "   (0.18, 0.12, 0.54, 0.2, 0.4200000000000001))),\n",
       " (0.010285155435735382,\n",
       "  ((0.14, 0.02, 0.4200000000000001, 0.02, 0.56),\n",
       "   (0.16, 0.18, 0.4000000000000001, 0.02, 0.4000000000000001))),\n",
       " (0.010283614825088327,\n",
       "  ((0.02, 0.02, 0.16, 0.6000000000000001, 0.04),\n",
       "   (0.04, 0.0, 0.14, 0.6400000000000001, 0.0))),\n",
       " (0.01027959143136925,\n",
       "  ((0.06, 0.02, 0.56, 0.0, 0.4800000000000001),\n",
       "   (0.08, 0.02, 0.52, 0.08, 0.4000000000000001))),\n",
       " (0.01027745899094995,\n",
       "  ((0.08, 0.04, 0.44000000000000006, 0.02, 0.56),\n",
       "   (0.1, 0.18, 0.4000000000000001, 0.02, 0.4200000000000001))),\n",
       " (0.010257840036020316,\n",
       "  ((0.16, 0.18, 0.5800000000000001, 0.14, 0.6000000000000001),\n",
       "   (0.18, 0.14, 0.56, 0.2, 0.54))),\n",
       " (0.01024861689139761,\n",
       "  ((0.2, 0.16, 0.4800000000000001, 0.04, 0.6000000000000001),\n",
       "   (0.2, 0.06, 0.4800000000000001, 0.1, 0.6000000000000001))),\n",
       " (0.01024492066456445,\n",
       "  ((0.0, 0.04, 0.4200000000000001, 0.0, 0.54),\n",
       "   (0.02, 0.18, 0.4000000000000001, 0.0, 0.4000000000000001))),\n",
       " (0.010244042663146158,\n",
       "  ((0.1, 0.12, 0.0, 0.6000000000000001, 0.1),\n",
       "   (0.12, 0.06, 0.0, 0.6400000000000001, 0.08))),\n",
       " (0.010238617174852027,\n",
       "  ((0.0, 0.16, 0.14, 0.7600000000000001, 0.18), (0.0, 0.08, 0.16, 0.78, 0.2))),\n",
       " (0.01023421414851905,\n",
       "  ((0.0, 0.1, 0.06, 0.78, 0.02), (0.0, 0.1, 0.06, 0.78, 0.0))),\n",
       " (0.010221619684169514,\n",
       "  ((0.1, 0.2, 0.1, 0.78, 0.18), (0.12, 0.2, 0.08, 0.8, 0.12))),\n",
       " (0.010216280053087223,\n",
       "  ((0.14, 0.02, 0.4200000000000001, 0.04, 0.52),\n",
       "   (0.14, 0.04, 0.4000000000000001, 0.08, 0.4600000000000001))),\n",
       " (0.010214113551983428,\n",
       "  ((0.08, 0.02, 0.04, 0.6000000000000001, 0.14),\n",
       "   (0.14, 0.06, 0.0, 0.6600000000000001, 0.0))),\n",
       " (0.010211203647436273,\n",
       "  ((0.14, 0.02, 0.6000000000000001, 0.0, 0.4800000000000001),\n",
       "   (0.16, 0.02, 0.54, 0.08, 0.4000000000000001))),\n",
       " (0.010202540193069043,\n",
       "  ((0.0, 0.04, 0.16, 0.8, 0.06), (0.0, 0.04, 0.16, 0.8, 0.04))),\n",
       " (0.010200229365563085,\n",
       "  ((0.0, 0.2, 0.0, 0.7400000000000001, 0.16),\n",
       "   (0.0, 0.16, 0.02, 0.7400000000000001, 0.16))),\n",
       " (0.010188924960670809,\n",
       "  ((0.08, 0.06, 0.44000000000000006, 0.04, 0.4800000000000001),\n",
       "   (0.1, 0.04, 0.4200000000000001, 0.1, 0.4200000000000001))),\n",
       " (0.010187430193208502,\n",
       "  ((0.14, 0.1, 0.4800000000000001, 0.0, 0.4200000000000001),\n",
       "   (0.14, 0.04, 0.44000000000000006, 0.08, 0.4000000000000001))),\n",
       " (0.01018348119446133,\n",
       "  ((0.02, 0.02, 0.18, 0.7400000000000001, 0.04),\n",
       "   (0.04, 0.0, 0.16, 0.78, 0.0))),\n",
       " (0.010175351693251733,\n",
       "  ((0.04, 0.0, 0.5000000000000001, 0.0, 0.4800000000000001),\n",
       "   (0.06, 0.04, 0.5000000000000001, 0.02, 0.4000000000000001))),\n",
       " (0.010175312563606376,\n",
       "  ((0.16, 0.06, 0.4000000000000001, 0.06, 0.52),\n",
       "   (0.16, 0.06, 0.4000000000000001, 0.08, 0.4800000000000001))),\n",
       " (0.010173617298063542,\n",
       "  ((0.0, 0.0, 0.02, 0.6000000000000001, 0.08),\n",
       "   (0.02, 0.02, 0.0, 0.6200000000000001, 0.02))),\n",
       " (0.010168401717201347,\n",
       "  ((0.06, 0.1, 0.4600000000000001, 0.0, 0.44000000000000006),\n",
       "   (0.08, 0.0, 0.4200000000000001, 0.1, 0.4200000000000001))),\n",
       " (0.010166278806225115,\n",
       "  ((0.0, 0.12, 0.1, 0.78, 0.02), (0.0, 0.06, 0.08, 0.8, 0.04))),\n",
       " (0.010166028764280077,\n",
       "  ((0.08, 0.02, 0.18, 0.6400000000000001, 0.04),\n",
       "   (0.08, 0.02, 0.18, 0.6400000000000001, 0.02))),\n",
       " (0.010163824139272082,\n",
       "  ((0.0, 0.0, 0.02, 0.6000000000000001, 0.14),\n",
       "   (0.02, 0.1, 0.0, 0.6200000000000001, 0.02))),\n",
       " (0.010156113398175348,\n",
       "  ((0.06, 0.0, 0.56, 0.02, 0.4600000000000001),\n",
       "   (0.08, 0.0, 0.54, 0.06, 0.4000000000000001))),\n",
       " (0.010155737850894742,\n",
       "  ((0.0, 0.02, 0.08, 0.6000000000000001, 0.2),\n",
       "   (0.04, 0.0, 0.0, 0.7000000000000001, 0.12))),\n",
       " (0.01015521074737108,\n",
       "  ((0.02, 0.18, 0.16, 0.78, 0.1), (0.06, 0.2, 0.18, 0.8, 0.0))),\n",
       " (0.010152145277498081,\n",
       "  ((0.0, 0.02, 0.16, 0.6000000000000001, 0.08),\n",
       "   (0.04, 0.02, 0.1, 0.6600000000000001, 0.0))),\n",
       " (0.010148996328106785,\n",
       "  ((0.08, 0.1, 0.4200000000000001, 0.0, 0.56),\n",
       "   (0.1, 0.12, 0.4000000000000001, 0.04, 0.4800000000000001))),\n",
       " (0.010142102249779517,\n",
       "  ((0.16, 0.2, 0.4600000000000001, 0.1, 0.56),\n",
       "   (0.16, 0.16, 0.4600000000000001, 0.16, 0.52))),\n",
       " (0.010137827717460302,\n",
       "  ((0.0, 0.14, 0.02, 0.6000000000000001, 0.2),\n",
       "   (0.02, 0.14, 0.0, 0.6400000000000001, 0.14))),\n",
       " (0.01013338894166188,\n",
       "  ((0.0, 0.16, 0.14, 0.8, 0.02), (0.0, 0.1, 0.16, 0.8, 0.04))),\n",
       " (0.010130225760102585,\n",
       "  ((0.0, 0.2, 0.0, 0.6600000000000001, 0.02),\n",
       "   (0.02, 0.12, 0.0, 0.7000000000000001, 0.02))),\n",
       " (0.01012762025179903,\n",
       "  ((0.0, 0.12, 0.02, 0.6400000000000001, 0.0), (0.0, 0.02, 0.02, 0.68, 0.04))),\n",
       " (0.01012685348380099,\n",
       "  ((0.18, 0.2, 0.56, 0.16, 0.6000000000000001),\n",
       "   (0.18, 0.14, 0.56, 0.2, 0.5800000000000001))),\n",
       " (0.010119551618346767,\n",
       "  ((0.2, 0.2, 0.44000000000000006, 0.04, 0.5800000000000001),\n",
       "   (0.2, 0.04, 0.44000000000000006, 0.14, 0.6000000000000001))),\n",
       " (0.010118832228679042,\n",
       "  ((0.12, 0.16, 0.4200000000000001, 0.04, 0.54),\n",
       "   (0.12, 0.16, 0.4000000000000001, 0.1, 0.4800000000000001))),\n",
       " (0.010118085231749285,\n",
       "  ((0.12, 0.04, 0.4200000000000001, 0.02, 0.4600000000000001),\n",
       "   (0.14, 0.02, 0.4000000000000001, 0.08, 0.4000000000000001))),\n",
       " (0.010117736107106867,\n",
       "  ((0.2, 0.1, 0.4200000000000001, 0.0, 0.44000000000000006),\n",
       "   (0.2, 0.02, 0.4000000000000001, 0.06, 0.44000000000000006))),\n",
       " (0.010115379028696414,\n",
       "  ((0.0, 0.12, 0.12, 0.6000000000000001, 0.0),\n",
       "   (0.02, 0.0, 0.02, 0.7600000000000001, 0.0))),\n",
       " (0.010112286261992898,\n",
       "  ((0.0, 0.14, 0.16, 0.78, 0.18), (0.02, 0.14, 0.18, 0.8, 0.12))),\n",
       " (0.010106640354166085,\n",
       "  ((0.02, 0.06, 0.4000000000000001, 0.02, 0.6000000000000001),\n",
       "   (0.02, 0.02, 0.4000000000000001, 0.06, 0.5800000000000001))),\n",
       " (0.010096942472021586,\n",
       "  ((0.04, 0.14, 0.2, 0.78, 0.02), (0.04, 0.1, 0.2, 0.8, 0.02))),\n",
       " (0.010095828952623509,\n",
       "  ((0.16, 0.2, 0.52, 0.14, 0.6000000000000001),\n",
       "   (0.18, 0.16, 0.5000000000000001, 0.2, 0.54))),\n",
       " (0.010093316865494861,\n",
       "  ((0.16, 0.16, 0.4800000000000001, 0.14, 0.6000000000000001),\n",
       "   (0.16, 0.12, 0.4800000000000001, 0.16, 0.5800000000000001))),\n",
       " (0.010088149878353103,\n",
       "  ((0.08, 0.2, 0.08, 0.7200000000000001, 0.2), (0.12, 0.2, 0.02, 0.8, 0.1))),\n",
       " (0.01008651555559914,\n",
       "  ((0.14, 0.02, 0.54, 0.02, 0.4800000000000001),\n",
       "   (0.16, 0.02, 0.4800000000000001, 0.1, 0.4000000000000001))),\n",
       " (0.010082076793593131,\n",
       "  ((0.0, 0.2, 0.08, 0.68, 0.14), (0.02, 0.16, 0.02, 0.7600000000000001, 0.1))),\n",
       " (0.010081156186197315,\n",
       "  ((0.06, 0.2, 0.0, 0.68, 0.2), (0.08, 0.14, 0.02, 0.7000000000000001, 0.18))),\n",
       " (0.010074956637033117,\n",
       "  ((0.0, 0.14, 0.0, 0.7000000000000001, 0.14),\n",
       "   (0.0, 0.02, 0.0, 0.7600000000000001, 0.18))),\n",
       " (0.010071853079898607,\n",
       "  ((0.0, 0.14, 0.04, 0.7600000000000001, 0.0), (0.0, 0.04, 0.04, 0.8, 0.04))),\n",
       " (0.010068165797125772,\n",
       "  ((0.08, 0.04, 0.4600000000000001, 0.0, 0.54),\n",
       "   (0.1, 0.14, 0.4000000000000001, 0.06, 0.4000000000000001))),\n",
       " (0.01006381815452706,\n",
       "  ((0.08, 0.0, 0.6000000000000001, 0.02, 0.4800000000000001),\n",
       "   (0.1, 0.0, 0.56, 0.1, 0.4000000000000001))),\n",
       " (0.01005819201600422,\n",
       "  ((0.12, 0.06, 0.4200000000000001, 0.02, 0.4200000000000001),\n",
       "   (0.12, 0.04, 0.4200000000000001, 0.04, 0.4000000000000001))),\n",
       " (0.0100530574294585,\n",
       "  ((0.16, 0.2, 0.44000000000000006, 0.14, 0.5800000000000001),\n",
       "   (0.16, 0.16, 0.44000000000000006, 0.16, 0.56))),\n",
       " (0.01004672574930765,\n",
       "  ((0.02, 0.02, 0.4200000000000001, 0.04, 0.56),\n",
       "   (0.02, 0.12, 0.4000000000000001, 0.02, 0.4800000000000001))),\n",
       " (0.010042100161478162,\n",
       "  ((0.02, 0.02, 0.56, 0.04, 0.4200000000000001),\n",
       "   (0.02, 0.02, 0.56, 0.04, 0.4000000000000001))),\n",
       " ...]"
      ]
     },
     "execution_count": 25,
     "metadata": {},
     "output_type": "execute_result"
    }
   ],
   "source": [
    "opportunity.get_buckets(tetrachromat, refined=True)"
   ]
  },
  {
   "cell_type": "code",
   "execution_count": 68,
   "id": "0cf9b27c",
   "metadata": {},
   "outputs": [
    {
     "data": {
      "image/png": "[encoded data removed]",
      "text/plain": [
       "<Figure size 640x480 with 1 Axes>"
      ]
     },
     "metadata": {},
     "output_type": "display_data"
    }
   ],
   "source": [
    "inks_127[\"Think Pink\"].plot()\n",
    "inks_127[\"Opportunity\"].plot()\n",
    "inks_127[\"Platinum violet\"].plot(color=\"red\")"
   ]
  },
  {
   "cell_type": "code",
   "execution_count": null,
   "id": "a8eb19ba",
   "metadata": {},
   "outputs": [],
   "source": []
  },
  {
   "cell_type": "markdown",
   "id": "4c1a014f",
   "metadata": {},
   "source": [
    "## Cellular Neug. Helpers"
   ]
  },
  {
   "cell_type": "code",
   "execution_count": 10,
   "id": "a2be2087",
   "metadata": {},
   "outputs": [
    {
     "name": "stdout",
     "output_type": "stream",
     "text": [
      "\u001b[1m Printing reference: \u001b[0m\n",
      "index \t print: \t save as:\n",
      "0 \t [ 10,  20,  40] \t 000\n",
      "1 \t [ 10,  20,  90] \t 001\n",
      "2 \t [ 10,  70,  40] \t 010\n",
      "3 \t [ 10,  70,  90] \t 011\n",
      "4 \t [ 60,  20,  40] \t 100\n",
      "5 \t [ 60,  20,  90] \t 101\n",
      "6 \t [ 60,  70,  40] \t 110\n",
      "7 \t [ 60,  70,  90] \t 111\n",
      "Transform percentages from this cell's pointcloud to real coordinates via x -> x/2 + [0.1, 0.2, 0.4].\n"
     ]
    }
   ],
   "source": [
    "def cell_neug_guide(target, width=0.5):\n",
    "    # target is a point in ink space\n",
    "    # e.g. (0.3, 0.4, 0.6) representing a point in CMY space\n",
    "    num_inks = len(target)\n",
    "    p = np.array(target)\n",
    "    p0 = np.maximum(0, p - width / 2)\n",
    "    p1 = p0 + width / 2\n",
    "    p0 -= np.maximum(0, p1 - 1)\n",
    "\n",
    "    p0 = np.round(100 * p0).astype(int)\n",
    "    \n",
    "    print(\"\\033[1m\", \"Printing reference:\", \"\\033[0m\")\n",
    "\n",
    "    print(\"index\", \"\\t\", \"print:\", \"\\t\", \"save as:\")\n",
    "    for i in range(2 ** num_inks):\n",
    "        binary_str = format(i, f\"0{num_inks}b\")\n",
    "        vertex = 50 * np.array( list(map(int, binary_str ) ))\n",
    "        formatted_arr = \"[\" + \", \".join(f\"{num:3d}\" for num in vertex+p0) + \"]\"\n",
    "        print(i, \"\\t\", formatted_arr, \"\\t\", binary_str)\n",
    "    \n",
    "    print(f\"Transform percentages from this cell's pointcloud to real coordinates via x -> x/2 + {list(p0/100)}.\")\n",
    "        \n",
    "        \n",
    "cell_neug_guide((0.3, 0.4, 0.6), width=0.4)"
   ]
  },
  {
   "cell_type": "markdown",
   "id": "3888005a",
   "metadata": {},
   "source": [
    "## Real shit"
   ]
  },
  {
   "cell_type": "code",
   "execution_count": 19,
   "id": "d7e33756",
   "metadata": {},
   "outputs": [],
   "source": [
    "CMYPOO = {}\n",
    "with open(f'PeachHaze,Opportunity,OOO.csv') as csvf:\n",
    "    spamreader = csv.reader(csvf, delimiter=';')\n",
    "    for i, row in enumerate(spamreader):\n",
    "        if i >= 4:\n",
    "            name = row[4]\n",
    "            color_data = np.array(row[33:],dtype=float)\n",
    "            spectra = Spectra(data=color_data, wavelengths=wavelengths10)\n",
    "            \n",
    "            CMYPOO[name] = spectra"
   ]
  },
  {
   "cell_type": "code",
   "execution_count": 20,
   "id": "bc4a9e84",
   "metadata": {},
   "outputs": [
    {
     "data": {
      "image/png": "[encoded data removed]",
      "text/plain": [
       "<Figure size 640x480 with 1 Axes>"
      ]
     },
     "metadata": {},
     "output_type": "display_data"
    }
   ],
   "source": [
    "CMYPOO[\"100000\"].plot()\n",
    "CMYPOO[\"010000\"].plot()\n",
    "CMYPOO[\"001000\"].plot()\n",
    "CMYPOO[\"000100\"].plot()\n",
    "CMYPOO[\"000010\"].plot()\n",
    "CMYPOO[\"000001\"].plot()\n",
    "Cone.l_cone().plot(color='grey')\n",
    "Cone.q_cone().plot(color='red')\n",
    "Cone.m_cone().plot(color='grey')\n",
    "Cone.s_cone().plot(color='grey')"
   ]
  },
  {
   "cell_type": "code",
   "execution_count": 10,
   "id": "e3c49374",
   "metadata": {},
   "outputs": [],
   "source": [
    "cmypoo_neugebauer = Neugebauer(CMYPOO)"
   ]
  },
  {
   "cell_type": "code",
   "execution_count": 11,
   "id": "03b90671",
   "metadata": {},
   "outputs": [],
   "source": [
    "cmypoo_gamut = InkGamut(cmypoo_neugebauer, paper)"
   ]
  },
  {
   "cell_type": "code",
   "execution_count": 12,
   "id": "cbf50ba3",
   "metadata": {},
   "outputs": [
    {
     "name": "stderr",
     "output_type": "stream",
     "text": [
      "Generating Point Cloud: 100%|███████████████████████████████████████████████████████████████████████████████████| 1771561/1771561 [00:22<00:00, 77083.77it/s]\n"
     ]
    },
    {
     "name": "stdout",
     "output_type": "stream",
     "text": [
      "Point cloud generated.\n",
      "maximum distance is 1.6264579671687596e-06 with percentages (0.0, 0.0, 1.0, 1.0, 0.7000000000000001, 1.0) and (0.0, 0.0, 0.8, 1.0, 0.7000000000000001, 1.0)\n"
     ]
    },
    {
     "data": {
      "text/plain": [
       "1.6264579671687596e-06"
      ]
     },
     "execution_count": 12,
     "metadata": {},
     "output_type": "execute_result"
    }
   ],
   "source": [
    "cmypoo_gamut.get_width(tetrachromat)"
   ]
  },
  {
   "cell_type": "code",
   "execution_count": 41,
   "id": "a446568b",
   "metadata": {},
   "outputs": [
    {
     "name": "stdout",
     "output_type": "stream",
     "text": [
      "exploring [0.  0.  0.3 0.  0.4 0.7] to [0.2 0.2 0.5 0.2 0.6 0.9] and [0.  0.  0.4 0.8 0.  0.2] to [0.2 0.2 0.6 1.  0.2 0.4]\n"
     ]
    },
    {
     "name": "stderr",
     "output_type": "stream",
     "text": [
      "Generating Point Cloud: 100%|███████████████████████████████████████████████████████████████████████████████████| 1771561/1771561 [00:24<00:00, 73624.11it/s]\n",
      "Generating Point Cloud: 100%|███████████████████████████████████████████████████████████████████████████████████| 1771561/1771561 [00:24<00:00, 73345.09it/s]\n"
     ]
    }
   ],
   "source": [
    "cmypoo_pc, cmypoo_perc = cmypoo_gamut.get_refined_point_cloud(tetrachromat, \n",
    "                                 np.array([0, 0.1, 0.5, 0, 0.6, 0.9]),\n",
    "                                 np.array([0.2, 0, 0.6, 1, 0, 0.4]),\n",
    "                                    stepsize=0.2)"
   ]
  },
  {
   "cell_type": "code",
   "execution_count": 1,
   "id": "d8ce645b",
   "metadata": {},
   "outputs": [
    {
     "ename": "NameError",
     "evalue": "name 'max_dist' is not defined",
     "output_type": "error",
     "traceback": [
      "\u001b[0;31m---------------------------------------------------------------------------\u001b[0m",
      "\u001b[0;31mNameError\u001b[0m                                 Traceback (most recent call last)",
      "Cell \u001b[0;32mIn[1], line 1\u001b[0m\n\u001b[0;32m----> 1\u001b[0m max_dist(bucket_points(cmypoo_pc))\n",
      "\u001b[0;31mNameError\u001b[0m: name 'max_dist' is not defined"
     ]
    }
   ],
   "source": [
    "max_dist(bucket_points(cmypoo_pc))"
   ]
  },
  {
   "cell_type": "code",
   "execution_count": 38,
   "id": "3b4abf93",
   "metadata": {},
   "outputs": [
    {
     "data": {
      "text/plain": [
       "array([0.  , 0.12, 0.46, 0.  , 0.54, 0.88])"
      ]
     },
     "execution_count": 38,
     "metadata": {},
     "output_type": "execute_result"
    }
   ],
   "source": [
    "cmypoo_perc[98580]"
   ]
  },
  {
   "cell_type": "code",
   "execution_count": 39,
   "id": "b880246c",
   "metadata": {},
   "outputs": [
    {
     "data": {
      "text/plain": [
       "array([0.2 , 0.  , 0.56, 0.98, 0.  , 0.2 ])"
      ]
     },
     "execution_count": 39,
     "metadata": {},
     "output_type": "execute_result"
    }
   ],
   "source": [
    "cmypoo_perc[3393808]"
   ]
  },
  {
   "cell_type": "code",
   "execution_count": 46,
   "id": "6b79251c",
   "metadata": {},
   "outputs": [
    {
     "data": {
      "text/plain": [
       "3543122"
      ]
     },
     "execution_count": 46,
     "metadata": {},
     "output_type": "execute_result"
    }
   ],
   "source": [
    "len(cmypoo_pc)"
   ]
  },
  {
   "cell_type": "code",
   "execution_count": null,
   "id": "a041fc5b",
   "metadata": {},
   "outputs": [],
   "source": [
    "bucket_points(cmypoo_pc)"
   ]
  },
  {
   "cell_type": "code",
   "execution_count": 13,
   "id": "5b984edc",
   "metadata": {},
   "outputs": [
    {
     "name": "stderr",
     "output_type": "stream",
     "text": [
      "Generating Point Cloud: 100%|███████████████████████████████████████████████████████████████████████████████████| 1771561/1771561 [00:22<00:00, 78016.20it/s]\n"
     ]
    },
    {
     "name": "stdout",
     "output_type": "stream",
     "text": [
      "Point cloud generated.\n",
      "exploring [0.  0.  0.3 0.  0.4 0.7] to [0.2 0.2 0.5 0.2 0.6 0.9] and [0.  0.  0.4 0.8 0.  0.2] to [0.2 0.2 0.6 1.  0.2 0.4]\n"
     ]
    },
    {
     "name": "stderr",
     "output_type": "stream",
     "text": [
      "Generating Point Cloud: 100%|███████████████████████████████████████████████████████████████████████████████████| 1771561/1771561 [00:24<00:00, 72672.22it/s]\n",
      "Generating Point Cloud: 100%|███████████████████████████████████████████████████████████████████████████████████| 1771561/1771561 [00:24<00:00, 72710.58it/s]\n"
     ]
    },
    {
     "name": "stdout",
     "output_type": "stream",
     "text": [
      "exploring [0.  0.  0.4 0.  0.5 0.8] to [0.2 0.2 0.6 0.2 0.7 1. ] and [0.  0.  0.5 0.8 0.  0.3] to [0.2 0.2 0.7 1.  0.2 0.5]\n"
     ]
    },
    {
     "name": "stderr",
     "output_type": "stream",
     "text": [
      "Generating Point Cloud: 100%|███████████████████████████████████████████████████████████████████████████████████| 1771561/1771561 [00:24<00:00, 73567.54it/s]\n",
      "Generating Point Cloud: 100%|███████████████████████████████████████████████████████████████████████████████████| 1771561/1771561 [00:23<00:00, 73961.39it/s]\n"
     ]
    },
    {
     "name": "stdout",
     "output_type": "stream",
     "text": [
      "exploring [0.  0.  0.  0.  0.3 0.8] to [0.2 0.2 0.2 0.2 0.5 1. ] and [0.  0.  0.4 0.7 0.  0. ] to [0.2 0.2 0.6 0.9 0.2 0.2]\n"
     ]
    },
    {
     "name": "stderr",
     "output_type": "stream",
     "text": [
      "Generating Point Cloud: 100%|███████████████████████████████████████████████████████████████████████████████████| 1771561/1771561 [00:24<00:00, 73480.38it/s]\n",
      "Generating Point Cloud: 100%|███████████████████████████████████████████████████████████████████████████████████| 1771561/1771561 [00:24<00:00, 71069.51it/s]\n"
     ]
    },
    {
     "name": "stdout",
     "output_type": "stream",
     "text": [
      "exploring [0.  0.  0.4 0.  0.4 0.7] to [0.2 0.2 0.6 0.2 0.6 0.9] and [0.  0.  0.6 0.7 0.  0. ] to [0.2 0.2 0.8 0.9 0.2 0.2]\n"
     ]
    },
    {
     "name": "stderr",
     "output_type": "stream",
     "text": [
      "Generating Point Cloud: 100%|███████████████████████████████████████████████████████████████████████████████████| 1771561/1771561 [00:24<00:00, 73643.31it/s]\n",
      "Generating Point Cloud: 100%|███████████████████████████████████████████████████████████████████████████████████| 1771561/1771561 [00:23<00:00, 73863.43it/s]\n"
     ]
    },
    {
     "name": "stdout",
     "output_type": "stream",
     "text": [
      "exploring [0.  0.  0.8 0.  0.4 0. ] to [0.2 0.2 1.  0.2 0.6 0.2] and [0.  0.  0.5 0.7 0.  0. ] to [0.2 0.2 0.7 0.9 0.2 0.2]\n"
     ]
    },
    {
     "name": "stderr",
     "output_type": "stream",
     "text": [
      "Generating Point Cloud: 100%|███████████████████████████████████████████████████████████████████████████████████| 1771561/1771561 [00:24<00:00, 73570.57it/s]\n",
      "Generating Point Cloud: 100%|███████████████████████████████████████████████████████████████████████████████████| 1771561/1771561 [00:24<00:00, 73776.68it/s]\n"
     ]
    }
   ],
   "source": [
    "cmypoo_buckets = cmypoo_gamut.get_buckets(tetrachromat, refined=5)"
   ]
  },
  {
   "cell_type": "code",
   "execution_count": 14,
   "id": "786689fd",
   "metadata": {},
   "outputs": [],
   "source": [
    "cmypoo_buckets.reverse()"
   ]
  },
  {
   "cell_type": "code",
   "execution_count": 18,
   "id": "21e3da36",
   "metadata": {},
   "outputs": [
    {
     "name": "stdout",
     "output_type": "stream",
     "text": [
      "[0, 10, 46, 0, 48, 77]\t[20, 0, 68, 89, 0, 0]\n",
      "[0, 18, 8, 0, 36, 86]\t[18, 0, 50, 87, 0, 0]\n",
      "[0, 12, 44, 0, 50, 84]\t[20, 6, 78, 87, 0, 0]\n",
      "[0, 4, 58, 0, 50, 84]\t[20, 2, 80, 86, 0, 2]\n",
      "[0, 10, 42, 0, 46, 86]\t[20, 0, 74, 89, 0, 2]\n"
     ]
    }
   ],
   "source": [
    "for _, (p1, p2) in cmypoo_buckets[:5]:\n",
    "    print(([int(100*a) for a in p1]),end='\\t')\n",
    "    print(([int(100*a) for a in p2]))"
   ]
  },
  {
   "cell_type": "code",
   "execution_count": 56,
   "id": "b06e7c69",
   "metadata": {},
   "outputs": [
    {
     "ename": "NameError",
     "evalue": "name 'fountain_inks' is not defined",
     "output_type": "error",
     "traceback": [
      "\u001b[0;31m---------------------------------------------------------------------------\u001b[0m",
      "\u001b[0;31mNameError\u001b[0m                                 Traceback (most recent call last)",
      "Cell \u001b[0;32mIn[56], line 9\u001b[0m\n\u001b[1;32m      6\u001b[0m     spectra\u001b[38;5;241m.\u001b[39mplot(ax\u001b[38;5;241m=\u001b[39max3)\n\u001b[1;32m      7\u001b[0m     new_pigments\u001b[38;5;241m.\u001b[39mappend(spectra\u001b[38;5;241m.\u001b[39minterpolate_values(wavelengths10))\n\u001b[0;32m----> 9\u001b[0m new_nb \u001b[38;5;241m=\u001b[39m load_neugebauer(new_pigments\u001b[38;5;241m+\u001b[39m[fountain_inks[\u001b[38;5;124m\"\u001b[39m\u001b[38;5;124mOperation overlord orange N\u001b[39m\u001b[38;5;124m\"\u001b[39m]] \u001b[38;5;241m+\u001b[39m [magenta], paper)\n\u001b[1;32m     10\u001b[0m new_gamut \u001b[38;5;241m=\u001b[39m InkGamut(new_nb)\n",
      "\u001b[0;31mNameError\u001b[0m: name 'fountain_inks' is not defined"
     ]
    },
    {
     "data": {
      "image/png": "[encoded data removed]",
      "text/plain": [
       "<Figure size 640x480 with 1 Axes>"
      ]
     },
     "metadata": {},
     "output_type": "display_data"
    }
   ],
   "source": [
    "new_pigments = []\n",
    "\n",
    "fig, ax3 = plt.subplots()\n",
    "for pigment in np.load(\"new_pigments.npy\"):\n",
    "    spectra = Spectra(data=np.clip(pigment, 0.01, 1), wavelengths=wavelengths1)\n",
    "    spectra.plot(ax=ax3)\n",
    "    new_pigments.append(spectra.interpolate_values(wavelengths10))\n",
    "    \n",
    "new_nb = load_neugebauer(new_pigments+[fountain_inks[\"Operation overlord orange N\"]] + [magenta], paper)\n",
    "new_gamut = InkGamut(new_nb)"
   ]
  },
  {
   "cell_type": "code",
   "execution_count": 118,
   "id": "323930da",
   "metadata": {},
   "outputs": [
    {
     "name": "stderr",
     "output_type": "stream",
     "text": [
      "Generating Point Cloud: 100%|███████████████| 1771561/1771561 [00:20<00:00, 85556.85it/s]\n"
     ]
    },
    {
     "name": "stdout",
     "output_type": "stream",
     "text": [
      "Point cloud generated.\n",
      "maximum distance is 0.041394445284640646 with percentages (0.0, 0.4, 1.0, 0.0, 0.0, 0.0) and (0.6000000000000001, 0.30000000000000004, 0.0, 0.8, 0.0, 0.2)\n"
     ]
    },
    {
     "data": {
      "text/plain": [
       "0.041394445284640646"
      ]
     },
     "execution_count": 118,
     "metadata": {},
     "output_type": "execute_result"
    }
   ],
   "source": [
    "new_gamut.get_width(tetrachromat)"
   ]
  },
  {
   "cell_type": "code",
   "execution_count": 39,
   "id": "3189432a",
   "metadata": {},
   "outputs": [
    {
     "data": {
      "text/plain": [
       "[(0.027991365598729334,\n",
       "  ((0.0, 0.1, 0.5, 0.0, 0.6000000000000001, 0.9),\n",
       "   (0.2, 0.0, 0.6000000000000001, 1.0, 0.0, 0.4))),\n",
       " (0.027476290589286745,\n",
       "  ((0.0, 0.1, 0.6000000000000001, 0.0, 0.7000000000000001, 1.0),\n",
       "   (0.2, 0.1, 0.7000000000000001, 1.0, 0.0, 0.5))),\n",
       " (0.02716121038697411,\n",
       "  ((0.0, 0.0, 0.1, 0.0, 0.5, 1.0),\n",
       "   (0.2, 0.0, 0.6000000000000001, 0.9, 0.0, 0.0))),\n",
       " (0.02698322453579971,\n",
       "  ((0.0, 0.0, 0.6000000000000001, 0.0, 0.6000000000000001, 0.9),\n",
       "   (0.2, 0.1, 0.8, 0.9, 0.0, 0.0))),\n",
       " (0.026912993054363343,\n",
       "  ((0.0, 0.1, 1.0, 0.0, 0.6000000000000001, 0.2),\n",
       "   (0.2, 0.0, 0.7000000000000001, 0.9, 0.0, 0.2))),\n",
       " (0.02682387240249745,\n",
       "  ((0.0, 0.1, 0.4, 0.0, 0.6000000000000001, 0.9),\n",
       "   (0.2, 0.1, 0.6000000000000001, 1.0, 0.0, 0.0))),\n",
       " (0.026648182320326896,\n",
       "  ((0.0, 0.1, 0.8, 0.0, 0.7000000000000001, 0.5),\n",
       "   (0.2, 0.1, 0.5, 1.0, 0.0, 0.2))),\n",
       " (0.026412889481868707,\n",
       "  ((0.0, 0.30000000000000004, 0.8, 0.0, 0.30000000000000004, 0.9),\n",
       "   (0.2, 0.0, 1.0, 1.0, 0.0, 0.0))),\n",
       " (0.02636609803815848,\n",
       "  ((0.0, 0.1, 0.0, 0.0, 0.7000000000000001, 0.7000000000000001),\n",
       "   (0.2, 0.0, 0.0, 1.0, 0.1, 0.0))),\n",
       " (0.026355695269403345,\n",
       "  ((0.0, 0.0, 0.7000000000000001, 0.0, 0.6000000000000001, 0.9),\n",
       "   (0.2, 0.0, 0.7000000000000001, 0.9, 0.0, 0.4)))]"
      ]
     },
     "execution_count": 39,
     "metadata": {},
     "output_type": "execute_result"
    }
   ],
   "source": [
    "cmypoo_buckets[:10]"
   ]
  },
  {
   "cell_type": "code",
   "execution_count": 38,
   "id": "8475f0af",
   "metadata": {},
   "outputs": [
    {
     "name": "stdout",
     "output_type": "stream",
     "text": [
      "0.028 [0.65491037 0.21920855 0.10778214]\n",
      "0.027 [0.63632624 0.19514571 0.09260225]\n",
      "0.027 [0.66888204 0.26256165 0.1298973 ]\n",
      "0.027 [0.66011579 0.23431832 0.09599402]\n",
      "0.027 [0.668683   0.245392   0.09624961]\n",
      "0.027 [0.65260206 0.22110714 0.11869708]\n",
      "0.027 [0.6393636  0.21064766 0.11133832]\n",
      "0.026 [0.72212682 0.23572799 0.07360707]\n",
      "0.026 [0.62157802 0.22253746 0.23325708]\n",
      "0.026 [0.66264194 0.23176711 0.08595886]\n"
     ]
    },
    {
     "data": {
      "image/png": "[encoded data removed]",
      "text/plain": [
       "<Figure size 640x480 with 1 Axes>"
      ]
     },
     "metadata": {},
     "output_type": "display_data"
    }
   ],
   "source": [
    "fig, ax = plt.subplots()\n",
    "\n",
    "ax.set_xlim([0, 2])\n",
    "ax.set_ylim([0, 80])\n",
    "\n",
    "for i, (dst, (t, _)) in enumerate(cmypoo_buckets[:10]):\n",
    "    a = Spectra(data=cmypoo_neugebauer.mix(np.array(t)).T,wavelengths=wavelengths10)\n",
    "    print(round(dst,3), a.to_rgb())\n",
    "    rect =  plt.Rectangle((0, i), 1, 1, linewidth=1, edgecolor='none', facecolor=a.to_rgb().T)\n",
    "    ax.add_patch(rect)\n",
    "    \n",
    "plt.show()"
   ]
  },
  {
   "cell_type": "markdown",
   "id": "2941330d",
   "metadata": {},
   "source": [
    "In reality this looks pretty orangish."
   ]
  },
  {
   "cell_type": "code",
   "execution_count": null,
   "id": "e41a49f7",
   "metadata": {},
   "outputs": [],
   "source": []
  },
  {
   "cell_type": "code",
   "execution_count": 42,
   "id": "447fad1a",
   "metadata": {},
   "outputs": [],
   "source": [
    "met1 = Spectra(data=cmypoo_neugebauer.mix(cmypoo_perc[98580]).T, wavelengths=wavelengths10)\n",
    "met2 = Spectra(data=cmypoo_neugebauer.mix(cmypoo_perc[3393808]).T, wavelengths=wavelengths10)"
   ]
  },
  {
   "cell_type": "code",
   "execution_count": 43,
   "id": "f108c9b3",
   "metadata": {},
   "outputs": [
    {
     "data": {
      "image/png": "[encoded data removed]",
      "text/plain": [
       "<Figure size 640x480 with 1 Axes>"
      ]
     },
     "metadata": {},
     "output_type": "display_data"
    }
   ],
   "source": [
    "met1.plot()\n",
    "met2.plot()"
   ]
  },
  {
   "cell_type": "code",
   "execution_count": 45,
   "id": "2daa5ad2",
   "metadata": {},
   "outputs": [],
   "source": [
    "mets = []\n",
    "with open(f'ConfusionColors.csv') as csvf:\n",
    "    spamreader = csv.reader(csvf, delimiter=';')\n",
    "    for i, row in enumerate(spamreader):\n",
    "        if i >= 4:\n",
    "            name = row[4]\n",
    "            color_data = np.array(row[33:],dtype=float)\n",
    "            spectra = Spectra(data=color_data, wavelengths=wavelengths10)\n",
    "            mets.append(spectra)"
   ]
  },
  {
   "cell_type": "code",
   "execution_count": 17,
   "id": "9aec11d2",
   "metadata": {},
   "outputs": [
    {
     "ename": "NameError",
     "evalue": "name 'met2' is not defined",
     "output_type": "error",
     "traceback": [
      "\u001b[0;31m---------------------------------------------------------------------------\u001b[0m",
      "\u001b[0;31mNameError\u001b[0m                                 Traceback (most recent call last)",
      "Cell \u001b[0;32mIn[17], line 1\u001b[0m\n\u001b[0;32m----> 1\u001b[0m met2\u001b[38;5;241m.\u001b[39mplot(color\u001b[38;5;241m=\u001b[39m\u001b[38;5;124m'\u001b[39m\u001b[38;5;124mblue\u001b[39m\u001b[38;5;124m'\u001b[39m)\n\u001b[1;32m      2\u001b[0m met1\u001b[38;5;241m.\u001b[39mplot(color\u001b[38;5;241m=\u001b[39m\u001b[38;5;124m'\u001b[39m\u001b[38;5;124mblue\u001b[39m\u001b[38;5;124m'\u001b[39m)\n\u001b[1;32m      3\u001b[0m Cone\u001b[38;5;241m.\u001b[39mm_cone()\u001b[38;5;241m.\u001b[39mplot()\n",
      "\u001b[0;31mNameError\u001b[0m: name 'met2' is not defined"
     ]
    }
   ],
   "source": [
    "met2.plot(color='blue')\n",
    "met1.plot(color='blue')\n",
    "Cone.m_cone().plot()"
   ]
  },
  {
   "cell_type": "code",
   "execution_count": 86,
   "id": "cc4a33f7",
   "metadata": {},
   "outputs": [
    {
     "data": {
      "image/png": "[encoded data removed]",
      "text/plain": [
       "<Figure size 640x480 with 1 Axes>"
      ]
     },
     "metadata": {},
     "output_type": "display_data"
    }
   ],
   "source": [
    "mets[0].plot()\n",
    "# mets[1].plot()\n",
    "# met1.plot(color='blue')\n",
    "met2.plot(color='blue')\n",
    "# Cone.s_cone().plot(color='grey')\n",
    "# Cone.m_cone().plot(color='grey')\n",
    "# Cone.q_cone().plot(color='red')\n",
    "# Cone.l_cone().plot(color='grey')\n",
    "# plt.savefig(\"expected-vs-actual-metamers\")"
   ]
  },
  {
   "cell_type": "code",
   "execution_count": 102,
   "id": "0cb80caf",
   "metadata": {},
   "outputs": [
    {
     "data": {
      "text/plain": [
       "(311,)"
      ]
     },
     "execution_count": 102,
     "metadata": {},
     "output_type": "execute_result"
    }
   ],
   "source": [
    "tetrachromat.wavelengths.shape"
   ]
  },
  {
   "cell_type": "code",
   "execution_count": 99,
   "id": "087ae2fe",
   "metadata": {},
   "outputs": [
    {
     "data": {
      "text/plain": [
       "(31,)"
      ]
     },
     "execution_count": 99,
     "metadata": {},
     "output_type": "execute_result"
    }
   ],
   "source": [
    "met2.wavelengths().shape"
   ]
  },
  {
   "cell_type": "code",
   "execution_count": 92,
   "id": "791ce161",
   "metadata": {},
   "outputs": [
    {
     "name": "stdout",
     "output_type": "stream",
     "text": [
      "[0.0980423  0.25953262 0.32209291 0.34852075]\n",
      "[0.10948076 0.26449849 0.32605886 0.35496617]\n"
     ]
    }
   ],
   "source": [
    "print(tetrachromat.observe(mets[0]))\n",
    "print(tetrachromat.observe(met2))"
   ]
  },
  {
   "cell_type": "code",
   "execution_count": 87,
   "id": "07e2292c",
   "metadata": {},
   "outputs": [
    {
     "data": {
      "image/png": "[encoded data removed]",
      "text/plain": [
       "<Figure size 640x480 with 1 Axes>"
      ]
     },
     "metadata": {},
     "output_type": "display_data"
    }
   ],
   "source": [
    "mets[1].plot()\n",
    "met1.plot(color='blue')\n",
    "# Cone.s_cone().plot(color='grey')\n",
    "# Cone.m_cone().plot(color='grey')\n",
    "# Cone.q_cone().plot(color='red')\n",
    "# Cone.l_cone().plot(color='grey')\n",
    "# plt.savefig(\"expected-vs-actual-metamers\")"
   ]
  },
  {
   "cell_type": "code",
   "execution_count": null,
   "id": "052a4d3f",
   "metadata": {},
   "outputs": [],
   "source": []
  },
  {
   "cell_type": "code",
   "execution_count": 93,
   "id": "2cc89696",
   "metadata": {},
   "outputs": [
    {
     "name": "stdout",
     "output_type": "stream",
     "text": [
      "[0.08612851 0.27051228 0.31425337 0.36207647]\n"
     ]
    }
   ],
   "source": [
    "print(tetrachromat.observe(mets[1]))"
   ]
  },
  {
   "cell_type": "code",
   "execution_count": 94,
   "id": "814fd727",
   "metadata": {},
   "outputs": [
    {
     "name": "stdout",
     "output_type": "stream",
     "text": [
      "[0.10806918 0.25557611 0.29771963 0.34561519]\n"
     ]
    }
   ],
   "source": [
    "print(tetrachromat.observe(met1))"
   ]
  },
  {
   "cell_type": "markdown",
   "id": "a1f4d64d",
   "metadata": {},
   "source": [
    "Theoretical difference of metamers:"
   ]
  },
  {
   "cell_type": "code",
   "execution_count": 95,
   "id": "7fd72a16",
   "metadata": {},
   "outputs": [
    {
     "name": "stdout",
     "output_type": "stream",
     "text": [
      "[-0.00141158 -0.00892238 -0.02833923 -0.00935098]\n"
     ]
    }
   ],
   "source": [
    "print(tetrachromat.observe(met1) - tetrachromat.observe(met2))"
   ]
  },
  {
   "cell_type": "markdown",
   "id": "457440ea",
   "metadata": {},
   "source": [
    "Actual difference of metamers:"
   ]
  },
  {
   "cell_type": "code",
   "execution_count": 96,
   "id": "6b03a274",
   "metadata": {
    "scrolled": true
   },
   "outputs": [
    {
     "name": "stdout",
     "output_type": "stream",
     "text": [
      "[ 0.01191379 -0.01097966  0.00783953 -0.01355572]\n"
     ]
    }
   ],
   "source": [
    "print(tetrachromat.observe(mets[0]) - tetrachromat.observe(mets[1]))"
   ]
  },
  {
   "cell_type": "code",
   "execution_count": 58,
   "id": "10c5b119",
   "metadata": {},
   "outputs": [
    {
     "name": "stdout",
     "output_type": "stream",
     "text": [
      "[-0.00141158 -0.00892238 -0.02833923 -0.00935098]\n"
     ]
    }
   ],
   "source": [
    "print(tetrachromat.observe(met1) -tetrachromat.observe(met2))"
   ]
  },
  {
   "cell_type": "code",
   "execution_count": 76,
   "id": "bd4ea245",
   "metadata": {},
   "outputs": [
    {
     "name": "stdout",
     "output_type": "stream",
     "text": [
      "[-0.01002688  0.00395651  0.02437328  0.00290556]\n"
     ]
    }
   ],
   "source": [
    "print(tetrachromat.observe(mets[0]) -tetrachromat.observe(met1))"
   ]
  },
  {
   "cell_type": "code",
   "execution_count": 77,
   "id": "eebd8ce8",
   "metadata": {},
   "outputs": [
    {
     "name": "stdout",
     "output_type": "stream",
     "text": [
      "[-0.02335225  0.00601379 -0.01180549  0.00711031]\n"
     ]
    }
   ],
   "source": [
    "print(tetrachromat.observe(mets[1]) -tetrachromat.observe(met2))"
   ]
  },
  {
   "cell_type": "code",
   "execution_count": null,
   "id": "57e43282",
   "metadata": {},
   "outputs": [],
   "source": []
  },
  {
   "cell_type": "code",
   "execution_count": null,
   "id": "e78181f2",
   "metadata": {},
   "outputs": [],
   "source": []
  },
  {
   "cell_type": "code",
   "execution_count": 13,
   "id": "21c7fae2",
   "metadata": {},
   "outputs": [],
   "source": [
    "metamers_122423 = {}\n",
    "with open(f'122423.csv') as csvf:\n",
    "    spamreader = csv.reader(csvf, delimiter=';')\n",
    "    for i, row in enumerate(spamreader):\n",
    "        if i >= 4:\n",
    "            name = row[4]\n",
    "            color_data = np.array(row[33:],dtype=float)\n",
    "            spectra = Spectra(data=color_data, wavelengths=wavelengths10)\n",
    "            \n",
    "            metamers_122423[name] = spectra"
   ]
  },
  {
   "cell_type": "code",
   "execution_count": 48,
   "id": "728f0704",
   "metadata": {},
   "outputs": [
    {
     "data": {
      "image/png": "[encoded data removed]",
      "text/plain": [
       "<Figure size 1500x500 with 3 Axes>"
      ]
     },
     "metadata": {},
     "output_type": "display_data"
    }
   ],
   "source": [
    "fig, axs = plt.subplots(1, 3, figsize=(15, 5))\n",
    "metamers_122423[\"Opportunity\"].plot(ax=axs[0])\n",
    "CMYPOO[\"000010\"].plot(color='black',ax=axs[0])\n",
    "axs[0].set_title(\"Opportunity\")\n",
    "metamers_122423[\"PeachHaze\"].plot(ax=axs[1])\n",
    "CMYPOO[\"000100\"].plot(color='black',ax=axs[1])\n",
    "axs[1].set_title(\"Peach Haze\")\n",
    "metamers_122423[\"OperationOverlord\"].plot(ax=axs[2])\n",
    "CMYPOO[\"000001\"].plot(color='black',ax=axs[2])\n",
    "axs[2].set_title(\"Operation Overlord\")\n",
    "plt.show()"
   ]
  },
  {
   "cell_type": "code",
   "execution_count": 31,
   "id": "0a25c23e",
   "metadata": {},
   "outputs": [
    {
     "data": {
      "image/png": "[encoded data removed]",
      "text/plain": [
       "<Figure size 640x480 with 1 Axes>"
      ]
     },
     "metadata": {},
     "output_type": "display_data"
    }
   ],
   "source": []
  },
  {
   "cell_type": "code",
   "execution_count": 15,
   "id": "eaa573b3",
   "metadata": {},
   "outputs": [
    {
     "data": {
      "text/plain": [
       "array([0.14536089, 0.35436705, 0.39976806, 0.44961016])"
      ]
     },
     "execution_count": 15,
     "metadata": {},
     "output_type": "execute_result"
    }
   ],
   "source": [
    "tetrachromat.observe(metamers_122423[\"00 10 46 00 48 77\"])"
   ]
  },
  {
   "cell_type": "code",
   "execution_count": 16,
   "id": "98957867",
   "metadata": {},
   "outputs": [
    {
     "data": {
      "text/plain": [
       "array([0.14359168, 0.31932729, 0.37794416, 0.40376624])"
      ]
     },
     "execution_count": 16,
     "metadata": {},
     "output_type": "execute_result"
    }
   ],
   "source": [
    "tetrachromat.observe(metamers_122423[\"20 00 68 89 00 00\"])"
   ]
  },
  {
   "cell_type": "code",
   "execution_count": 46,
   "id": "3ef493db",
   "metadata": {},
   "outputs": [
    {
     "data": {
      "text/plain": [
       "array([0.16551391, 0.36396325, 0.40719658, 0.45271281])"
      ]
     },
     "execution_count": 46,
     "metadata": {},
     "output_type": "execute_result"
    }
   ],
   "source": [
    "tetrachromat.observe(metamers_122423[\"00 18 08 00 36 86\"])"
   ]
  },
  {
   "cell_type": "code",
   "execution_count": 47,
   "id": "aa8911f5",
   "metadata": {},
   "outputs": [
    {
     "data": {
      "text/plain": [
       "array([0.18499196, 0.33911707, 0.39802613, 0.4255518 ])"
      ]
     },
     "execution_count": 47,
     "metadata": {},
     "output_type": "execute_result"
    }
   ],
   "source": [
    "tetrachromat.observe(metamers_122423[\"18 00 50 87 00 00\"])"
   ]
  },
  {
   "cell_type": "code",
   "execution_count": null,
   "id": "5129d859",
   "metadata": {},
   "outputs": [],
   "source": []
  },
  {
   "cell_type": "markdown",
   "id": "d7fa1ab2",
   "metadata": {},
   "source": [
    "## Glossy"
   ]
  },
  {
   "cell_type": "code",
   "execution_count": 8,
   "id": "3fe46b78",
   "metadata": {},
   "outputs": [],
   "source": [
    "glossy_inks_122423 = {}\n",
    "with open(f'122623.csv') as csvf:\n",
    "    spamreader = csv.reader(csvf, delimiter=';')\n",
    "    for i, row in enumerate(spamreader):\n",
    "        if i >= 4:\n",
    "            if row[2] != \"Glossy\":\n",
    "                continue\n",
    "            name = row[4]\n",
    "            color_data = np.array(row[33:],dtype=float)\n",
    "            spectra = Spectra(data=color_data, wavelengths=wavelengths10)\n",
    "            \n",
    "            glossy_inks_122423[name] = spectra"
   ]
  },
  {
   "cell_type": "code",
   "execution_count": 9,
   "id": "2a72aab6",
   "metadata": {},
   "outputs": [
    {
     "data": {
      "text/plain": [
       "{'Paper': <spectra.Spectra at 0x107abea10>,\n",
       " 'Peach haze ': <spectra.Spectra at 0x11b5f8f50>,\n",
       " 'Opportunity': <spectra.Spectra at 0x13d353990>,\n",
       " 'Operation Overlord': <spectra.Spectra at 0x13d93c210>}"
      ]
     },
     "execution_count": 9,
     "metadata": {},
     "output_type": "execute_result"
    }
   ],
   "source": [
    "glossy_inks_122423"
   ]
  },
  {
   "cell_type": "code",
   "execution_count": 10,
   "id": "e789731f",
   "metadata": {},
   "outputs": [],
   "source": [
    "glossy_paper = glossy_inks_122423[\"Paper\"]"
   ]
  },
  {
   "cell_type": "code",
   "execution_count": 14,
   "id": "8e266dc1",
   "metadata": {},
   "outputs": [],
   "source": [
    "import colour\n",
    "colour_d50 = colour.SDS_ILLUMINANTS.get('D50')\n",
    "d50 = Spectra(data=colour_d50.values / 103.003, wavelengths=colour_d50.wavelengths)"
   ]
  },
  {
   "cell_type": "code",
   "execution_count": 22,
   "id": "e4c01206",
   "metadata": {},
   "outputs": [
    {
     "data": {
      "image/png": "[encoded data removed]",
      "text/plain": [
       "<Figure size 640x480 with 1 Axes>"
      ]
     },
     "metadata": {},
     "output_type": "display_data"
    }
   ],
   "source": [
    "d50.plot(color='black')"
   ]
  },
  {
   "cell_type": "code",
   "execution_count": 23,
   "id": "ba4dc9a5",
   "metadata": {},
   "outputs": [],
   "source": [
    "glossy_approx_gamut = InkGamut(inks=[\n",
    "    glossy_inks_122423[\"Peach haze \"],\n",
    "    glossy_inks_122423[\"Opportunity\"],\n",
    "    glossy_inks_122423[\"Operation Overlord\"],\n",
    "], paper=glossy_paper, whitepoint=d50)"
   ]
  },
  {
   "cell_type": "code",
   "execution_count": 24,
   "id": "facc3449",
   "metadata": {},
   "outputs": [
    {
     "name": "stderr",
     "output_type": "stream",
     "text": [
      "Generating Point Cloud:   0%|                                                                                                       | 0/1331 [00:00<?, ?it/s]\n"
     ]
    },
    {
     "ename": "TypeError",
     "evalue": "unsupported operand type(s) for /: 'float' and 'Spectra'",
     "output_type": "error",
     "traceback": [
      "\u001b[0;31m---------------------------------------------------------------------------\u001b[0m",
      "\u001b[0;31mTypeError\u001b[0m                                 Traceback (most recent call last)",
      "Cell \u001b[0;32mIn[24], line 1\u001b[0m\n\u001b[0;32m----> 1\u001b[0m glossy_approx_gamut\u001b[38;5;241m.\u001b[39mget_width(tetrachromat)\n",
      "File \u001b[0;32m~/Documents/Python/Mixing/inks.py:325\u001b[0m, in \u001b[0;36mInkGamut.get_width\u001b[0;34m(self, observe, axis, stepsize, verbose, save, refined)\u001b[0m\n\u001b[1;32m    323\u001b[0m \u001b[38;5;28;01mdef\u001b[39;00m \u001b[38;5;21mget_width\u001b[39m(\u001b[38;5;28mself\u001b[39m, observe: Union[Observer, npt\u001b[38;5;241m.\u001b[39mNDArray],\n\u001b[1;32m    324\u001b[0m               axis\u001b[38;5;241m=\u001b[39m\u001b[38;5;241m2\u001b[39m, stepsize\u001b[38;5;241m=\u001b[39m\u001b[38;5;241m0.1\u001b[39m, verbose\u001b[38;5;241m=\u001b[39m\u001b[38;5;28;01mTrue\u001b[39;00m, save\u001b[38;5;241m=\u001b[39m\u001b[38;5;28;01mFalse\u001b[39;00m, refined\u001b[38;5;241m=\u001b[39m\u001b[38;5;28;01mFalse\u001b[39;00m):\n\u001b[0;32m--> 325\u001b[0m     percentages \u001b[38;5;241m=\u001b[39m \u001b[38;5;28mself\u001b[39m\u001b[38;5;241m.\u001b[39mget_buckets(observe, axis\u001b[38;5;241m=\u001b[39maxis, stepsize\u001b[38;5;241m=\u001b[39mstepsize, verbose\u001b[38;5;241m=\u001b[39mverbose, save\u001b[38;5;241m=\u001b[39msave, refined\u001b[38;5;241m=\u001b[39mrefined)\n\u001b[1;32m    327\u001b[0m     dst, (pi, pj) \u001b[38;5;241m=\u001b[39m percentages[\u001b[38;5;241m0\u001b[39m]\n\u001b[1;32m    329\u001b[0m     \u001b[38;5;28;01mif\u001b[39;00m verbose \u001b[38;5;129;01mand\u001b[39;00m \u001b[38;5;129;01mnot\u001b[39;00m refined:\n",
      "File \u001b[0;32m~/Documents/Python/Mixing/inks.py:295\u001b[0m, in \u001b[0;36mInkGamut.get_buckets\u001b[0;34m(self, observe, axis, stepsize, verbose, save, refined)\u001b[0m\n\u001b[1;32m    293\u001b[0m \u001b[38;5;28;01mdef\u001b[39;00m \u001b[38;5;21mget_buckets\u001b[39m(\u001b[38;5;28mself\u001b[39m, observe: Union[Observer, npt\u001b[38;5;241m.\u001b[39mNDArray],\n\u001b[1;32m    294\u001b[0m               axis\u001b[38;5;241m=\u001b[39m\u001b[38;5;241m2\u001b[39m, stepsize\u001b[38;5;241m=\u001b[39m\u001b[38;5;241m0.1\u001b[39m, verbose\u001b[38;5;241m=\u001b[39m\u001b[38;5;28;01mTrue\u001b[39;00m, save\u001b[38;5;241m=\u001b[39m\u001b[38;5;28;01mFalse\u001b[39;00m, refined\u001b[38;5;241m=\u001b[39m\u001b[38;5;241m0\u001b[39m):\n\u001b[0;32m--> 295\u001b[0m     point_cloud, percentages \u001b[38;5;241m=\u001b[39m \u001b[38;5;28mself\u001b[39m\u001b[38;5;241m.\u001b[39mget_point_cloud(observe, stepsize)\n\u001b[1;32m    296\u001b[0m     \u001b[38;5;28;01mif\u001b[39;00m verbose: \u001b[38;5;28mprint\u001b[39m(\u001b[38;5;124m\"\u001b[39m\u001b[38;5;124mPoint cloud generated.\u001b[39m\u001b[38;5;124m\"\u001b[39m)\n\u001b[1;32m    298\u001b[0m     \u001b[38;5;28;01mif\u001b[39;00m save:\n",
      "File \u001b[0;32m~/Documents/Python/Mixing/inks.py:287\u001b[0m, in \u001b[0;36mInkGamut.get_point_cloud\u001b[0;34m(self, observe, stepsize, grid)\u001b[0m\n\u001b[1;32m    284\u001b[0m     total_combinations \u001b[38;5;241m=\u001b[39m grid\u001b[38;5;241m.\u001b[39mshape[\u001b[38;5;241m0\u001b[39m]\n\u001b[1;32m    286\u001b[0m \u001b[38;5;28;01mfor\u001b[39;00m percentages \u001b[38;5;129;01min\u001b[39;00m tqdm(grid, total\u001b[38;5;241m=\u001b[39mtotal_combinations, desc\u001b[38;5;241m=\u001b[39m\u001b[38;5;124m'\u001b[39m\u001b[38;5;124mGenerating Point Cloud\u001b[39m\u001b[38;5;124m'\u001b[39m):\n\u001b[0;32m--> 287\u001b[0m     stimulus \u001b[38;5;241m=\u001b[39m \u001b[38;5;28mself\u001b[39m\u001b[38;5;241m.\u001b[39mneugebauer\u001b[38;5;241m.\u001b[39mobserve(np\u001b[38;5;241m.\u001b[39marray(percentages), observe, whitepoint\u001b[38;5;241m=\u001b[39m\u001b[38;5;28mself\u001b[39m\u001b[38;5;241m.\u001b[39mwhitepoint)\n\u001b[1;32m    288\u001b[0m     point_cloud\u001b[38;5;241m.\u001b[39mappend(stimulus)\n\u001b[1;32m    289\u001b[0m     _percentages\u001b[38;5;241m.\u001b[39mappend(percentages)\n",
      "File \u001b[0;32m~/Documents/Python/Mixing/inks.py:150\u001b[0m, in \u001b[0;36mNeugebauer.observe\u001b[0;34m(self, percentages, observer, whitepoint)\u001b[0m\n\u001b[1;32m    148\u001b[0m \u001b[38;5;28;01mif\u001b[39;00m whitepoint \u001b[38;5;129;01mis\u001b[39;00m \u001b[38;5;28;01mNone\u001b[39;00m:\n\u001b[1;32m    149\u001b[0m     whitepoint \u001b[38;5;241m=\u001b[39m np\u001b[38;5;241m.\u001b[39mmatmul(observer, np\u001b[38;5;241m.\u001b[39mones_like(\u001b[38;5;28mself\u001b[39m\u001b[38;5;241m.\u001b[39mwavelengths))\n\u001b[0;32m--> 150\u001b[0m \u001b[38;5;28;01mreturn\u001b[39;00m observe_spectra(\u001b[38;5;28mself\u001b[39m\u001b[38;5;241m.\u001b[39mmix(percentages), observer, whitepoint)\n",
      "File \u001b[0;32m~/Documents/Python/Mixing/inks.py:114\u001b[0m, in \u001b[0;36mobserve_spectra\u001b[0;34m(spectra, observer, whitepoint)\u001b[0m\n\u001b[1;32m    113\u001b[0m \u001b[38;5;28;01mdef\u001b[39;00m \u001b[38;5;21mobserve_spectra\u001b[39m(spectra, observer, whitepoint):\n\u001b[0;32m--> 114\u001b[0m     \u001b[38;5;28;01mreturn\u001b[39;00m np\u001b[38;5;241m.\u001b[39mdivide(np\u001b[38;5;241m.\u001b[39mmatmul(observer, spectra\u001b[38;5;241m.\u001b[39mT)\u001b[38;5;241m.\u001b[39msqueeze(), whitepoint)\n",
      "\u001b[0;31mTypeError\u001b[0m: unsupported operand type(s) for /: 'float' and 'Spectra'"
     ]
    }
   ],
   "source": [
    "glossy_approx_gamut.get_width(tetrachromat)"
   ]
  },
  {
   "cell_type": "code",
   "execution_count": null,
   "id": "c2f81c8b",
   "metadata": {},
   "outputs": [],
   "source": []
  }
 ],
 "metadata": {
  "kernelspec": {
   "display_name": "mixing",
   "language": "python",
   "name": "mixing"
  },
  "language_info": {
   "codemirror_mode": {
    "name": "ipython",
    "version": 3
   },
   "file_extension": ".py",
   "mimetype": "text/x-python",
   "name": "python",
   "nbconvert_exporter": "python",
   "pygments_lexer": "ipython3",
   "version": "3.11.6"
  },
  "toc": {
   "base_numbering": 1,
   "nav_menu": {
    "height": "104px",
    "width": "241px"
   },
   "number_sections": true,
   "sideBar": true,
   "skip_h1_title": false,
   "title_cell": "Table of Contents",
   "title_sidebar": "Contents",
   "toc_cell": false,
   "toc_position": {
    "height": "calc(100% - 180px)",
    "left": "10px",
    "top": "150px",
    "width": "183px"
   },
   "toc_section_display": true,
   "toc_window_display": true
  }
 },
 "nbformat": 4,
 "nbformat_minor": 5
}

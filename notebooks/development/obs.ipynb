{
 "cells": [
  {
   "cell_type": "code",
   "execution_count": null,
   "metadata": {},
   "outputs": [],
   "source": [
    "%load_ext autoreload\n",
    "%autoreload 2"
   ]
  },
  {
   "cell_type": "code",
   "execution_count": null,
   "metadata": {},
   "outputs": [],
   "source": [
    "import numpy as np\n",
    "import matplotlib.pyplot as plt\n",
    "import glob\n",
    "\n",
    "from chromalab.observer import Observer, transformToChromaticity\n",
    "from chromalab.spectra import Illuminant\n",
    "from chromalab.maxbasis import MaxBasis\n",
    "from chromalab.cubemap import CubeMap"
   ]
  },
  {
   "cell_type": "code",
   "execution_count": null,
   "metadata": {},
   "outputs": [],
   "source": [
    "def plot_points(points, rgbs):\n",
    "    fig = plt.figure()\n",
    "    ax = fig.add_subplot(111, projection='3d')\n",
    "    ax.scatter(points[:, 0], points[:, 1], points[:, 2], c=rgbs)\n",
    "    ax.set_xlabel('X')\n",
    "    ax.set_ylabel('Y')\n",
    "    ax.set_zlabel('Z')\n",
    "    plt.show()\n",
    "\n",
    "def plotPointsDebug(points, rgbs=None):\n",
    "    fig = plt.figure()\n",
    "    ax = fig.add_subplot(111, projection='3d')\n",
    "    ax.set_xlim(-1, 1)\n",
    "    ax.set_ylim(-1, 1)\n",
    "    ax.set_zlim(-1, 1)\n",
    "    if rgbs is None:\n",
    "        ax.scatter(points[:, 0], points[:, 1], points[:, 2])\n",
    "    else:\n",
    "        ax.scatter(points[:, 0], points[:, 1], points[:, 2], c=rgbs)\n",
    "\n",
    "    plt.show()\n",
    "\n",
    "def plotAllSpectra(refs, rgbs):\n",
    "    fig, ax = plt.subplots(4, 4)\n",
    "    for idx, ref in enumerate(refs):\n",
    "        i = idx // 4\n",
    "        j = idx % 4\n",
    "        ax[i][j].plot(ref.data, c=rgbs[idx])\n",
    "        ax[i][j].set_ylim(-0.1, 1.1)\n",
    "        ax[i][j].set_title(f\"Spectra #{idx}\")\n",
    "    plt.tight_layout()\n",
    "    plt.show()\n",
    "\n",
    "def getnames(root):\n",
    "    points_filename = f\"../../../optimal-object-colors/Data/Printer-Data/{root}_ink_gamut_point_cloud2.npy\"\n",
    "    percentages_filename = f\"../../../optimal-object-colors/Data/Printer-Data/{root}_ink_gamut_percentages2.npy\"\n",
    "    reflectances_filename = f\"../../../optimal-object-colors/Data/Printer-Data/{root}_ink_gamut_reflectances2.npy\"\n",
    "    return points_filename, percentages_filename, reflectances_filename\n"
   ]
  },
  {
   "cell_type": "code",
   "execution_count": null,
   "metadata": {},
   "outputs": [],
   "source": [
    "wavelengths = np.arange(390, 700, 10)\n",
    "illuminant = Illuminant.get(\"D65\")\n",
    "\n",
    "tetrachromat = Observer.tetrachromat(wavelengths=wavelengths, illuminant=illuminant, verbose=True)\n",
    "# points, rgbs = tetrachromat.get_optimal_colors()\n",
    "# chrom_pts = transformToChromaticity(points)\n",
    "# plot_points(chrom_pts, rgbs)\n",
    "#%% \n",
    "maxbasis = MaxBasis(tetrachromat, verbose=True)\n",
    "tetra_maxbasis = maxbasis.get_max_basis_observer()\n",
    "# points, rgbs = tetra_maxbasis.get_optimal_colors()\n",
    "# chrom_pts = transformToChromaticity(points)\n",
    "# plot_points(chrom_pts, rgbs)"
   ]
  },
  {
   "cell_type": "code",
   "execution_count": null,
   "metadata": {},
   "outputs": [],
   "source": [
    "points_filename, percentages_filename, reflectances_filename = getnames(\"measured\")\n",
    "spectra_wavelengths = np.arange(400, 701, 10)\n",
    "pts = np.load(points_filename)\n",
    "refs = np.load(reflectances_filename)\n",
    "Tmat = maxbasis.get_cone_to_maxbasis_transform()\n",
    "maxbasis_pts = (Tmat @ pts.T).T\n",
    "chrom_pts = transformToChromaticity(maxbasis_pts)\n",
    "\n",
    "fig, axs = plt.subplots(1, 2)\n",
    "\n",
    "axs[0].hist(np.sum(maxbasis_pts, axis=1))\n",
    "axs[0].set_title('Sum of Points')\n",
    "axs[1].hist(np.linalg.norm(chrom_pts, axis=1))\n",
    "axs[1].set_title('Norm of Chromaticity Points')\n",
    "plt.show()"
   ]
  },
  {
   "cell_type": "code",
   "execution_count": null,
   "metadata": {},
   "outputs": [],
   "source": [
    "basepath = \"../../Data/Printer-Data/inkset\"\n",
    "volumes = []\n",
    "for i in range(4, 5):\n",
    "    filename = glob.glob(f\"{basepath}{i}/*point_cloud5.npy\")[0]\n",
    "    points = np.load(chrom_pts)\n",
    "    cubemap = CubeMap(chrom_pts, maxbasis, refs=refs.squeeze(), ref_wavelengths=spectra_wavelengths, verbose=True)\n",
    "    cubemap.display_cube_map(1.5, 0.3, 9, lum_thresh=0.5, sat_thresh=0.25)"
   ]
  },
  {
   "cell_type": "code",
   "execution_count": null,
   "metadata": {},
   "outputs": [],
   "source": []
  }
 ],
 "metadata": {
  "kernelspec": {
   "display_name": "chromalab",
   "language": "python",
   "name": "python3"
  },
  "language_info": {
   "codemirror_mode": {
    "name": "ipython",
    "version": 3
   },
   "file_extension": ".py",
   "mimetype": "text/x-python",
   "name": "python",
   "nbconvert_exporter": "python",
   "pygments_lexer": "ipython3",
   "version": "3.11.9"
  }
 },
 "nbformat": 4,
 "nbformat_minor": 2
}

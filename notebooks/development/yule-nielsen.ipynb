{
 "cells": [
  {
   "cell_type": "code",
   "execution_count": 1,
   "id": "f8b2a854",
   "metadata": {},
   "outputs": [],
   "source": [
    "import csv\n",
    "import numpy as np\n",
    "from spectra import Spectra, Pigment\n",
    "import matplotlib.pyplot as plt\n",
    "import numpy.typing as npt\n",
    "import torch as th"
   ]
  },
  {
   "cell_type": "code",
   "execution_count": 2,
   "id": "040058c7",
   "metadata": {},
   "outputs": [],
   "source": [
    "from observer import Observer, Cone\n",
    "from inks import Neugebauer, InkGamut, find_best_ns, CellNeugebauer"
   ]
  },
  {
   "cell_type": "code",
   "execution_count": 3,
   "id": "15bda90f",
   "metadata": {},
   "outputs": [],
   "source": [
    "import colour\n",
    "colour_d50 = colour.SDS_ILLUMINANTS.get('D50')\n",
    "d50 = Spectra(data=colour_d50.values / 103.003, wavelengths=colour_d50.wavelengths)"
   ]
  },
  {
   "cell_type": "code",
   "execution_count": 4,
   "id": "39481da1",
   "metadata": {},
   "outputs": [],
   "source": [
    "wavelengths1 = np.arange(390, 701, 1)\n",
    "wavelengths10 = np.arange(400, 701, 10)\n",
    "trichromat = Observer.trichromat(illuminant=d50)\n",
    "tetrachromat = Observer.tetrachromat(illuminant=d50)"
   ]
  },
  {
   "cell_type": "code",
   "execution_count": 36,
   "id": "48cf19f1",
   "metadata": {},
   "outputs": [],
   "source": [
    "import colour\n",
    "colour_d65 = colour.SDS_ILLUMINANTS.get('D65')\n",
    "d65 = Spectra(data=colour_d65.values / np.max(colour_d65.values), wavelengths=colour_d65.wavelengths)"
   ]
  },
  {
   "cell_type": "markdown",
   "id": "d271f5ab",
   "metadata": {},
   "source": [
    "## Loading cell n data"
   ]
  },
  {
   "cell_type": "code",
   "execution_count": 5,
   "id": "18b0a166",
   "metadata": {},
   "outputs": [],
   "source": [
    "cijk = {}\n",
    "with open(f'010624.csv') as csvf:\n",
    "    spamreader = csv.reader(csvf, delimiter=';')\n",
    "    for i, row in enumerate(spamreader):\n",
    "        if i < 4: continue\n",
    "        if row[2] != \"CIJK\": continue\n",
    "            \n",
    "        name = row[4]\n",
    "        color_data = np.array(row[33:],dtype=float)\n",
    "        spectra = Spectra(data=color_data, wavelengths=wavelengths10)\n",
    "\n",
    "        cijk[name] = spectra"
   ]
  },
  {
   "cell_type": "code",
   "execution_count": 6,
   "id": "3a5b6ccc",
   "metadata": {
    "scrolled": true
   },
   "outputs": [],
   "source": [
    "cijk_primaries = {}\n",
    "cijk_samples = {}\n",
    "\n",
    "for weight, spectra in cijk.items():\n",
    "    if '1' in weight:\n",
    "        key = tuple(int(char) / 2 for char in weight) \n",
    "        cijk_samples[key] = spectra\n",
    "    else:\n",
    "        key = weight.replace('2', '1')\n",
    "        cijk_primaries[key] = spectra"
   ]
  },
  {
   "cell_type": "code",
   "execution_count": 7,
   "id": "471f8d2b",
   "metadata": {},
   "outputs": [],
   "source": [
    "mets = {}\n",
    "with open(f'010624.csv') as csvf:\n",
    "    spamreader = csv.reader(csvf, delimiter=';')\n",
    "    for i, row in enumerate(spamreader):\n",
    "        if i < 4: continue\n",
    "        if row[2] != \"Mets\": continue\n",
    "            \n",
    "        name = row[4]\n",
    "        color_data = np.array(row[33:],dtype=float)\n",
    "        spectra = Spectra(data=color_data, wavelengths=wavelengths10)\n",
    "\n",
    "        mets[name] = spectra"
   ]
  },
  {
   "cell_type": "code",
   "execution_count": 8,
   "id": "24ebecca",
   "metadata": {},
   "outputs": [
    {
     "data": {
      "text/plain": [
       "16"
      ]
     },
     "execution_count": 8,
     "metadata": {},
     "output_type": "execute_result"
    }
   ],
   "source": [
    "len(cijk_primaries)"
   ]
  },
  {
   "cell_type": "code",
   "execution_count": 9,
   "id": "39b39fed",
   "metadata": {
    "scrolled": true
   },
   "outputs": [
    {
     "data": {
      "text/plain": [
       "65"
      ]
     },
     "execution_count": 9,
     "metadata": {},
     "output_type": "execute_result"
    }
   ],
   "source": [
    "len(cijk_samples)"
   ]
  },
  {
   "cell_type": "code",
   "execution_count": 10,
   "id": "1277504f",
   "metadata": {},
   "outputs": [
    {
     "name": "stdout",
     "output_type": "stream",
     "text": [
      "(0.05, 0.0, 0.6, 0.75)\n",
      "(0.5, 1.0, 0.3, 0.0)\n",
      "(0.25, 1.0, 0.0, 0.1)\n",
      "(0.0, 0.05, 0.65, 0.9)\n",
      "(0.0, 0.1, 0.5, 0.8)\n",
      "(0.2, 0.8, 0.0, 0.4)\n"
     ]
    }
   ],
   "source": [
    "for weight, spectra in mets.items():\n",
    "    key = tuple(int(char) / 100 for char in weight.split(\" \"))\n",
    "    print(key)\n",
    "    cijk_samples[key] = spectra"
   ]
  },
  {
   "cell_type": "code",
   "execution_count": 11,
   "id": "a4fb0814",
   "metadata": {},
   "outputs": [
    {
     "data": {
      "text/plain": [
       "71"
      ]
     },
     "execution_count": 11,
     "metadata": {},
     "output_type": "execute_result"
    }
   ],
   "source": [
    "len(cijk_samples)"
   ]
  },
  {
   "cell_type": "code",
   "execution_count": 12,
   "id": "46218e58",
   "metadata": {},
   "outputs": [],
   "source": [
    "best_ns = find_best_ns(cijk_primaries, cijk_samples)"
   ]
  },
  {
   "cell_type": "code",
   "execution_count": 13,
   "id": "820403f2",
   "metadata": {},
   "outputs": [
    {
     "data": {
      "text/plain": [
       "array([ 0.77426368,  1.29154967,  1.29154967,  1.29154967,  1.29154967,\n",
       "        1.29154967,  1.29154967,  0.77426368,  0.77426368,  0.46415888,\n",
       "        0.46415888,  0.27825594,  0.27825594,  0.27825594,  0.27825594,\n",
       "        0.27825594,  0.27825594,  0.16681005,  0.16681005,  0.1       ,\n",
       "        0.1       ,  0.1       ,  0.1       ,  0.1       ,  0.1       ,\n",
       "        0.1       ,  0.1       ,  0.1       ,  0.1       ,  0.1       ,\n",
       "        0.1       ])"
      ]
     },
     "execution_count": 13,
     "metadata": {},
     "output_type": "execute_result"
    }
   ],
   "source": [
    "best_ns[0]"
   ]
  },
  {
   "cell_type": "code",
   "execution_count": 14,
   "id": "0de8de50",
   "metadata": {},
   "outputs": [
    {
     "data": {
      "text/plain": [
       "array([ 0.77426368,  0.46415888,  0.27825594,  0.27825594,  0.16681005,\n",
       "        0.16681005,  0.1       ,  0.1       ,  0.1       ,  0.16681005,\n",
       "        0.16681005,  0.27825594,  0.46415888,  0.46415888,  0.77426368,\n",
       "        1.29154967,  1.29154967,  2.15443469,  2.15443469,  3.59381366,\n",
       "        3.59381366,  3.59381366,  3.59381366,  3.59381366,  2.15443469,\n",
       "        2.15443469,  2.15443469,  2.15443469,  2.15443469,  1.29154967,\n",
       "        1.29154967])"
      ]
     },
     "execution_count": 14,
     "metadata": {},
     "output_type": "execute_result"
    }
   ],
   "source": [
    "best_ns[5]"
   ]
  },
  {
   "cell_type": "code",
   "execution_count": 15,
   "id": "503545b6",
   "metadata": {},
   "outputs": [
    {
     "data": {
      "text/plain": [
       "71"
      ]
     },
     "execution_count": 15,
     "metadata": {},
     "output_type": "execute_result"
    }
   ],
   "source": [
    "len(best_ns)"
   ]
  },
  {
   "cell_type": "code",
   "execution_count": 16,
   "id": "ea3ffb37",
   "metadata": {},
   "outputs": [
    {
     "data": {
      "image/png": "[encoded data removed]",
      "text/plain": [
       "<Figure size 1000x600 with 1 Axes>"
      ]
     },
     "metadata": {},
     "output_type": "display_data"
    }
   ],
   "source": [
    "plt.figure(figsize=(10, 6))\n",
    "\n",
    "for data in best_ns:\n",
    "    plt.plot(wavelengths10, data, 'o', color='black', alpha=0.05)  # 'o' marker for dots\n",
    "\n",
    "for data in best_ns[-6:]:\n",
    "    plt.plot(wavelengths10, data,  color='red', alpha=0.5)  # 'o' marker for dots\n",
    "\n",
    "plt.yscale('log')\n",
    "plt.show()"
   ]
  },
  {
   "cell_type": "code",
   "execution_count": 17,
   "id": "d05d891c",
   "metadata": {},
   "outputs": [],
   "source": [
    "mets = {}\n",
    "with open(f'011024.csv') as csvf:\n",
    "    spamreader = csv.reader(csvf, delimiter=';')\n",
    "    for i, row in enumerate(spamreader):\n",
    "        if i < 4: continue\n",
    "        if row[2] != \"Candidates\": continue\n",
    "            \n",
    "        name = row[4]\n",
    "        color_data = np.array(row[33:],dtype=float)\n",
    "        spectra = Spectra(data=color_data, wavelengths=wavelengths10)\n",
    "\n",
    "        mets[name] = spectra"
   ]
  },
  {
   "cell_type": "code",
   "execution_count": 18,
   "id": "86e3a15e",
   "metadata": {},
   "outputs": [
    {
     "data": {
      "text/plain": [
       "{'00 00 65 100': <spectra.Spectra at 0x2a69f7510>,\n",
       " '00 05 55 95': <spectra.Spectra at 0x29072a010>,\n",
       " '00 00 60 80': <spectra.Spectra at 0x2a6c00e50>,\n",
       " '00 10 55 80': <spectra.Spectra at 0x2a69f7690>,\n",
       " '00 10 60 75': <spectra.Spectra at 0x2a6b4e0d0>,\n",
       " '05 10 55 90': <spectra.Spectra at 0x2a69f5ad0>,\n",
       " '00 00 60 90': <spectra.Spectra at 0x2a6a000d0>,\n",
       " '25 100 00 50': <spectra.Spectra at 0x2a69f7710>,\n",
       " '20 95 00 45': <spectra.Spectra at 0x2a6a00090>,\n",
       " '25 85 00 25': <spectra.Spectra at 0x2a69f7750>,\n",
       " '20 90 00 15': <spectra.Spectra at 0x2a6a00350>,\n",
       " '20 90 05 00': <spectra.Spectra at 0x2a69f77d0>,\n",
       " '25 90 00 50': <spectra.Spectra at 0x2a6a00490>,\n",
       " '20 90 05 45': <spectra.Spectra at 0x2a69f54d0>,\n",
       " '20 20 60 100': <spectra.Spectra at 0x2a6f14d50>,\n",
       " '40 100 00 70': <spectra.Spectra at 0x2a69f78d0>,\n",
       " '00 00 50 70': <spectra.Spectra at 0x2a69f7c90>,\n",
       " '20 70 00 30': <spectra.Spectra at 0x2a69f7950>,\n",
       " '10 10 50 100': <spectra.Spectra at 0x2a6a03890>,\n",
       " '20 90 00 80': <spectra.Spectra at 0x2a69f79d0>,\n",
       " '20 10 70 100': <spectra.Spectra at 0x2a6a025d0>,\n",
       " '30 100 10 50': <spectra.Spectra at 0x2a69f7a50>,\n",
       " '00 00 60 70': <spectra.Spectra at 0x2a6a03fd0>,\n",
       " '40 80 00 10': <spectra.Spectra at 0x2a69f7ad0>,\n",
       " '10 20 60 80': <spectra.Spectra at 0x2a6f14210>,\n",
       " '20 90 10 20': <spectra.Spectra at 0x2a69f7b50>,\n",
       " '00 20 80 90': <spectra.Spectra at 0x2a6f147d0>,\n",
       " '30 100 20 30': <spectra.Spectra at 0x2a69f7bd0>,\n",
       " '00 10 50 100': <spectra.Spectra at 0x2a6a00510>,\n",
       " '10 10 70 100': <spectra.Spectra at 0x2a6a02c10>,\n",
       " '20 00 60 70': <spectra.Spectra at 0x2a6f144d0>,\n",
       " '00 20 60 80': <spectra.Spectra at 0x2a69f7c50>,\n",
       " '10 20 80 90': <spectra.Spectra at 0x2a6f14590>,\n",
       " '40 80 00 70': <spectra.Spectra at 0x2a69f7d10>,\n",
       " '20 50 00 30': <spectra.Spectra at 0x2a6f15090>,\n",
       " '20 70 00 80': <spectra.Spectra at 0x2a69f7dd0>,\n",
       " '30 80 10 50': <spectra.Spectra at 0x2a6f157d0>,\n",
       " '40 60 00 10': <spectra.Spectra at 0x2a69f7e50>,\n",
       " '20 70 10 20': <spectra.Spectra at 0x2a6f15410>,\n",
       " '30 80 20 30': <spectra.Spectra at 0x2a69f7ed0>}"
      ]
     },
     "execution_count": 18,
     "metadata": {},
     "output_type": "execute_result"
    }
   ],
   "source": [
    "mets"
   ]
  },
  {
   "cell_type": "code",
   "execution_count": 19,
   "id": "602c7b18",
   "metadata": {},
   "outputs": [
    {
     "data": {
      "text/plain": [
       "81"
      ]
     },
     "execution_count": 19,
     "metadata": {},
     "output_type": "execute_result"
    }
   ],
   "source": [
    "len(cijk)"
   ]
  },
  {
   "cell_type": "code",
   "execution_count": 52,
   "id": "3da1344b",
   "metadata": {},
   "outputs": [],
   "source": [
    "cijk_neug = CellNeugebauer(cijk)\n",
    "cijk_gamut = InkGamut(cijk_neug, illuminant=d65)"
   ]
  },
  {
   "cell_type": "code",
   "execution_count": 53,
   "id": "0c975fcb",
   "metadata": {},
   "outputs": [],
   "source": [
    "def compare_spectra(spectra1: Spectra, spectra2: Spectra):\n",
    "    return np.sum((spectra1.data() - spectra2.data()) ** 2)"
   ]
  },
  {
   "cell_type": "code",
   "execution_count": 63,
   "id": "7df56c26",
   "metadata": {},
   "outputs": [],
   "source": [
    "def get_adjust(gamut:InkGamut, percentages, target_spectra):\n",
    "    point = np.array(percentages)\n",
    "    delta = 0.2\n",
    "    ranges = [np.arange(p - delta, p + delta + 0.01, 0.05) for p in point]\n",
    "\n",
    "    mesh = np.meshgrid(*ranges)\n",
    "    best_score = 100\n",
    "    best_adjust = None\n",
    "    \n",
    "    for values in zip(*[m.flatten() for m in mesh]):\n",
    "        values = np.array(values)\n",
    "        if any(values < 0) or any(values > 1): continue\n",
    "        sample_spectra = gamut.get_spectra(values)\n",
    "\n",
    "        score = compare_spectra(target_spectra, sample_spectra)\n",
    "        if score < best_score:\n",
    "            best_score = score\n",
    "            best_adjust = values\n",
    "            \n",
    "            \n",
    "#     print(best_adjust)\n",
    "    return best_adjust - point, best_score"
   ]
  },
  {
   "cell_type": "code",
   "execution_count": null,
   "id": "2cdca826",
   "metadata": {},
   "outputs": [],
   "source": []
  },
  {
   "cell_type": "code",
   "execution_count": 69,
   "id": "d3b27af0",
   "metadata": {},
   "outputs": [],
   "source": [
    "# loop thru mets\n",
    "# determine\n",
    "# 1. whether it is peach or violet dominant \n",
    "# 2. which n value is best (global, fixed n)\n",
    "# 3. what the avg adjustment is\n",
    "\n",
    "\n",
    "best_ns_violet = []\n",
    "best_ns_peach = []\n",
    "adjustments_violet = []\n",
    "adjustments_peach = []\n",
    "\n",
    "for p, s in mets.items():\n",
    "    percentage = np.array([int(c) / 100 for c in p.split(\" \")])\n",
    "    \n",
    "    best_n = None\n",
    "    best_score = 100\n",
    "    for n in np.logspace(-2, 3, num=9, base=10):\n",
    "        neug_n = CellNeugebauer(cijk, n=n)\n",
    "        result = neug_n.mix(percentage).reshape(-1)\n",
    "        score = np.sum(np.square(result - s.data()))\n",
    "        if score < best_score:\n",
    "            best_n = n\n",
    "        \n",
    "    a = get_adjust(cijk_gamut, percentage, s)\n",
    "            \n",
    "    if percentage[1] > percentage[3]:\n",
    "        # peach heavy\n",
    "        best_ns_peach.append(best_n)\n",
    "        adjustments_peach.append(a[0])\n",
    "    else:\n",
    "        best_ns_violet.append(best_n)\n",
    "        adjustments_violet.append(a[0])"
   ]
  },
  {
   "cell_type": "code",
   "execution_count": 73,
   "id": "3dcf86f9",
   "metadata": {},
   "outputs": [
    {
     "data": {
      "text/plain": [
       "array([ 0.0025, -0.1425,  0.0025, -0.1175])"
      ]
     },
     "execution_count": 73,
     "metadata": {},
     "output_type": "execute_result"
    }
   ],
   "source": [
    "np.mean(adjustments_peach,axis=0)"
   ]
  },
  {
   "cell_type": "code",
   "execution_count": 74,
   "id": "b73e90d7",
   "metadata": {},
   "outputs": [
    {
     "data": {
      "text/plain": [
       "array([ 0.045, -0.035, -0.09 , -0.17 ])"
      ]
     },
     "execution_count": 74,
     "metadata": {},
     "output_type": "execute_result"
    }
   ],
   "source": [
    "np.mean(adjustments_violet,axis=0)"
   ]
  },
  {
   "cell_type": "code",
   "execution_count": 75,
   "id": "279b9d38",
   "metadata": {},
   "outputs": [
    {
     "data": {
      "text/plain": [
       "{'0000': <spectra.Spectra at 0x1745e5fd0>,\n",
       " '0001': <spectra.Spectra at 0x2a69e6710>,\n",
       " '0010': <spectra.Spectra at 0x2a69e6850>,\n",
       " '0011': <spectra.Spectra at 0x2a69e6910>,\n",
       " '1000': <spectra.Spectra at 0x2a69e6b90>,\n",
       " '1001': <spectra.Spectra at 0x2a69e6c10>,\n",
       " '1010': <spectra.Spectra at 0x2a69e6d10>,\n",
       " '1011': <spectra.Spectra at 0x2a69e6d90>,\n",
       " '0100': <spectra.Spectra at 0x2a69f41d0>,\n",
       " '0101': <spectra.Spectra at 0x2a69f42d0>,\n",
       " '0110': <spectra.Spectra at 0x2a69f4510>,\n",
       " '0111': <spectra.Spectra at 0x2a69f4610>,\n",
       " '1100': <spectra.Spectra at 0x2a69f4b10>,\n",
       " '1101': <spectra.Spectra at 0x2a69f4c90>,\n",
       " '1110': <spectra.Spectra at 0x2a69f4e10>,\n",
       " '1111': <spectra.Spectra at 0x2a69f4f10>}"
      ]
     },
     "execution_count": 75,
     "metadata": {},
     "output_type": "execute_result"
    }
   ],
   "source": [
    "cijk_primaries\n"
   ]
  },
  {
   "cell_type": "code",
   "execution_count": 77,
   "id": "562a3624",
   "metadata": {},
   "outputs": [],
   "source": [
    "noncell_gamut = InkGamut(Neugebauer(cijk_primaries), illuminant=d65)"
   ]
  },
  {
   "cell_type": "code",
   "execution_count": 78,
   "id": "b39566fd",
   "metadata": {},
   "outputs": [
    {
     "name": "stdout",
     "output_type": "stream",
     "text": [
      "[ 0.3  1.   0.2  0.3]\n"
     ]
    }
   ],
   "source": [
    "lst = []\n",
    "for p, s in mets.items():\n",
    "    percentage = np.array([int(c) / 100 for c in p.split(\" \")])\n",
    "    s1 = cijk_gamut.get_spectra(percentage)\n",
    "    s2 = noncell_gamut.get_spectra(percentage)\n",
    "    \n",
    "    if compare_spectra(s, s1) > compare_spectra(s,s2):\n",
    "        print(percentage)\n",
    "        lst.append((s, s1, s2))\n",
    "        "
   ]
  },
  {
   "cell_type": "code",
   "execution_count": 83,
   "id": "49b9037d",
   "metadata": {},
   "outputs": [
    {
     "data": {
      "text/plain": [
       "0.091249588005637983"
      ]
     },
     "execution_count": 83,
     "metadata": {},
     "output_type": "execute_result"
    }
   ],
   "source": [
    "compare_spectra(lst[0][0], lst[0][1])"
   ]
  },
  {
   "cell_type": "code",
   "execution_count": 84,
   "id": "383ff6d9",
   "metadata": {},
   "outputs": [
    {
     "data": {
      "text/plain": [
       "0.073614287842247508"
      ]
     },
     "execution_count": 84,
     "metadata": {},
     "output_type": "execute_result"
    }
   ],
   "source": [
    "compare_spectra(lst[0][0], lst[0][2])"
   ]
  },
  {
   "cell_type": "code",
   "execution_count": 89,
   "id": "bb047689",
   "metadata": {},
   "outputs": [
    {
     "data": {
      "image/png": "[encoded data removed]",
      "text/plain": [
       "<Figure size 640x480 with 1 Axes>"
      ]
     },
     "metadata": {},
     "output_type": "display_data"
    }
   ],
   "source": [
    "lst[0][0].plot(color='black')\n",
    "cijk_gamut.get_spectra(+np.array([ 0.0025, -0.1425,  0.0025, -0.1175]) + np.array((0.3, 1, 0.2, 0.3))).plot(color=\"green\")\n",
    "lst[0][1].plot(color='red')  # cell neug \n",
    "lst[0][2].plot(color='blue')"
   ]
  },
  {
   "cell_type": "code",
   "execution_count": null,
   "id": "abaca141",
   "metadata": {},
   "outputs": [],
   "source": []
  }
 ],
 "metadata": {
  "kernelspec": {
   "display_name": "mixing",
   "language": "python",
   "name": "mixing"
  },
  "language_info": {
   "codemirror_mode": {
    "name": "ipython",
    "version": 3
   },
   "file_extension": ".py",
   "mimetype": "text/x-python",
   "name": "python",
   "nbconvert_exporter": "python",
   "pygments_lexer": "ipython3",
   "version": "3.11.6"
  },
  "toc": {
   "base_numbering": 1,
   "nav_menu": {
    "height": "142px",
    "width": "190px"
   },
   "number_sections": true,
   "sideBar": true,
   "skip_h1_title": false,
   "title_cell": "Table of Contents",
   "title_sidebar": "Contents",
   "toc_cell": false,
   "toc_position": {},
   "toc_section_display": true,
   "toc_window_display": false
  }
 },
 "nbformat": 4,
 "nbformat_minor": 5
}
